{
 "cells": [
  {
   "cell_type": "code",
   "execution_count": 2,
   "id": "07824f92-d5aa-405c-befc-1b9b95677531",
   "metadata": {},
   "outputs": [],
   "source": [
    "## define helper function, set up API\n",
    "##https://www.tng-project.org/data/docs/api/\n",
    "import requests\n",
    "\n",
    "baseUrl = 'http://www.tng-project.org/api/'\n",
    "headers = {\"api-key\":\"f3c97208f4981e63b57bb02c7135912b\"}\n",
    "\n",
    "def get(path, params=None):\n",
    "    # make HTTP GET request to path\n",
    "    r = requests.get(path, params=params, headers=headers)\n",
    "\n",
    "    # raise exception if response code is not HTTP SUCCESS (200)\n",
    "    r.raise_for_status()\n",
    "\n",
    "    if r.headers['content-type'] == 'application/json':\n",
    "        return r.json() # parse json responses automatically\n",
    "    return r"
   ]
  },
  {
   "cell_type": "code",
   "execution_count": 3,
   "id": "c56af0ce-80c7-4979-8c4a-560e59fc1e16",
   "metadata": {},
   "outputs": [],
   "source": [
    "## Issue request to API root\n",
    "r = get(baseUrl)"
   ]
  },
  {
   "cell_type": "code",
   "execution_count": 4,
   "id": "25745acf-653c-4850-b093-d778e8a2bbc7",
   "metadata": {},
   "outputs": [
    {
     "data": {
      "text/plain": [
       "dict_keys(['simulations'])"
      ]
     },
     "execution_count": 4,
     "metadata": {},
     "output_type": "execute_result"
    }
   ],
   "source": [
    "## dictionary w/ one key simulations\n",
    "r.keys()"
   ]
  },
  {
   "cell_type": "code",
   "execution_count": 5,
   "id": "c1be9d84-5a24-4c13-997b-91649e76b663",
   "metadata": {},
   "outputs": [
    {
     "data": {
      "text/plain": [
       "65"
      ]
     },
     "execution_count": 5,
     "metadata": {},
     "output_type": "execute_result"
    }
   ],
   "source": [
    "## 64 available simulations\n",
    "len(r['simulations'])"
   ]
  },
  {
   "cell_type": "code",
   "execution_count": 6,
   "id": "434cbc9c-f2ab-4c0c-8a1e-94d704c598f9",
   "metadata": {},
   "outputs": [
    {
     "data": {
      "text/plain": [
       "{'name': 'Illustris-1',\n",
       " 'num_snapshots': 134,\n",
       " 'url': 'http://www.tng-project.org/api/Illustris-1/'}"
      ]
     },
     "execution_count": 6,
     "metadata": {},
     "output_type": "execute_result"
    }
   ],
   "source": [
    "## print fields of the first sim\n",
    "r['simulations'][0]"
   ]
  },
  {
   "cell_type": "code",
   "execution_count": 7,
   "id": "7922b2a5-d7c2-43b6-bdce-0f14baf8b55b",
   "metadata": {},
   "outputs": [
    {
     "data": {
      "text/plain": [
       "['Illustris-1',\n",
       " 'Illustris-1-Dark',\n",
       " 'Illustris-2',\n",
       " 'Illustris-2-Dark',\n",
       " 'Illustris-3',\n",
       " 'Illustris-3-Dark',\n",
       " 'TNG100-1',\n",
       " 'TNG100-1-Dark',\n",
       " 'TNG100-2',\n",
       " 'TNG100-2-Dark',\n",
       " 'TNG100-3',\n",
       " 'TNG100-3-Dark',\n",
       " 'TNG300-3',\n",
       " 'TNG300-2-Dark',\n",
       " 'TNG300-2',\n",
       " 'TNG300-1-Dark',\n",
       " 'TNG300-1',\n",
       " 'TNG300-3-Dark',\n",
       " 'TNG50-1',\n",
       " 'TNG50-1-Dark',\n",
       " 'TNG50-2',\n",
       " 'TNG50-2-Dark',\n",
       " 'TNG50-3',\n",
       " 'TNG50-3-Dark',\n",
       " 'TNG50-4',\n",
       " 'TNG50-4-Dark',\n",
       " 'Illustris-1-Subbox0',\n",
       " 'Illustris-1-Subbox1',\n",
       " 'Illustris-1-Subbox2',\n",
       " 'Illustris-1-Subbox3',\n",
       " 'Illustris-2-Subbox0',\n",
       " 'Illustris-2-Subbox1',\n",
       " 'Illustris-2-Subbox2',\n",
       " 'Illustris-2-Subbox3',\n",
       " 'Illustris-3-Subbox0',\n",
       " 'Illustris-3-Subbox1',\n",
       " 'Illustris-3-Subbox2',\n",
       " 'Illustris-3-Subbox3',\n",
       " 'TNG100-1-Subbox0',\n",
       " 'TNG100-1-Subbox1',\n",
       " 'TNG100-2-Subbox0',\n",
       " 'TNG100-2-Subbox1',\n",
       " 'TNG100-3-Subbox0',\n",
       " 'TNG100-3-Subbox1',\n",
       " 'TNG300-3-Subbox1',\n",
       " 'TNG300-3-Subbox2',\n",
       " 'TNG300-3-Subbox0',\n",
       " 'TNG300-2-Subbox1',\n",
       " 'TNG300-2-Subbox2',\n",
       " 'TNG300-2-Subbox0',\n",
       " 'TNG300-1-Subbox1',\n",
       " 'TNG300-1-Subbox2',\n",
       " 'TNG300-1-Subbox0',\n",
       " 'TNG50-1-Subbox0',\n",
       " 'TNG50-1-Subbox2',\n",
       " 'TNG50-1-Subbox1',\n",
       " 'TNG50-2-Subbox0',\n",
       " 'TNG50-2-Subbox2',\n",
       " 'TNG50-2-Subbox1',\n",
       " 'TNG50-3-Subbox0',\n",
       " 'TNG50-3-Subbox2',\n",
       " 'TNG50-3-Subbox1',\n",
       " 'TNG50-4-Subbox0',\n",
       " 'TNG50-4-Subbox2',\n",
       " 'TNG50-4-Subbox1']"
      ]
     },
     "execution_count": 7,
     "metadata": {},
     "output_type": "execute_result"
    }
   ],
   "source": [
    "## print names of the rest of the sims\n",
    "names = [sim['name'] for sim in r['simulations']]\n",
    "names"
   ]
  },
  {
   "cell_type": "markdown",
   "id": "6bd0c759-fef0-42e4-b4f6-1c4a38504ed7",
   "metadata": {},
   "source": [
    "### look at Illustris-3 by finding what entry in r it is"
   ]
  },
  {
   "cell_type": "code",
   "execution_count": 8,
   "id": "dfe7042f-2d8e-42a2-a76c-18e2ad1b8105",
   "metadata": {},
   "outputs": [
    {
     "data": {
      "text/plain": [
       "4"
      ]
     },
     "execution_count": 8,
     "metadata": {},
     "output_type": "execute_result"
    }
   ],
   "source": [
    "i = names.index('Illustris-3')\n",
    "i"
   ]
  },
  {
   "cell_type": "code",
   "execution_count": 9,
   "id": "c2fc0153-2823-4abc-8662-d36ca043818b",
   "metadata": {},
   "outputs": [
    {
     "data": {
      "text/plain": [
       "dict_keys(['name', 'description', 'name_alt', 'boxsize', 'z_start', 'z_final', 'cosmology', 'omega_0', 'omega_L', 'omega_B', 'hubble', 'physics_model', 'has_cooling', 'has_starformation', 'has_winds', 'has_blackholes', 'mass_gas', 'mass_dm', 'softening_dm_comoving', 'softening_stars_comoving', 'softening_blackholes_comoving', 'softening_gas_comoving', 'softening_dm_max_phys', 'softening_stars_max_phys', 'softening_blackholes_max_phys', 'softening_gas_max_phys', 'softening_gas_factor', 'softening_gas_comoving_min', 'num_dm', 'num_tr_mc', 'num_tr_vel', 'longids', 'is_uniform', 'is_zoom', 'is_subbox', 'num_files_snapshot', 'num_files_groupcat', 'num_files_rockstar', 'num_files_lhalotree', 'num_files_sublink', 'num_files_ctrees', 'filesize_lhalotree', 'filesize_sublink', 'filesize_ctrees', 'filesize_ics', 'filesize_simulation', 'has_fof', 'has_subfind', 'has_rockstar', 'has_lhalotree', 'has_sublink', 'has_ctrees', 'permission_required', 'num_snapshots', 'url', 'parent_simulation', 'child_simulations', 'files', 'checksums', 'snapshots'])"
      ]
     },
     "execution_count": 9,
     "metadata": {},
     "output_type": "execute_result"
    }
   ],
   "source": [
    "## get the url for the entry\n",
    "sim = get( r['simulations'][i]['url'] )\n",
    "sim.keys()"
   ]
  },
  {
   "cell_type": "code",
   "execution_count": 10,
   "id": "bb4298bf-f4e8-463c-bcf8-af75286589f2",
   "metadata": {},
   "outputs": [
    {
     "data": {
      "text/plain": [
       "94196375"
      ]
     },
     "execution_count": 10,
     "metadata": {},
     "output_type": "execute_result"
    }
   ],
   "source": [
    "sim['num_dm']"
   ]
  },
  {
   "cell_type": "code",
   "execution_count": 11,
   "id": "974c02de-d0e2-4ded-b4a7-fbeec7d6345d",
   "metadata": {},
   "outputs": [
    {
     "data": {
      "text/plain": [
       "'http://www.tng-project.org/api/Illustris-3/'"
      ]
     },
     "execution_count": 11,
     "metadata": {},
     "output_type": "execute_result"
    }
   ],
   "source": [
    "sim['url']"
   ]
  },
  {
   "cell_type": "markdown",
   "id": "caa74b9f-fb85-4e12-94ca-1a145fa71a15",
   "metadata": {},
   "source": [
    "#### get snapshot listing for this sim"
   ]
  },
  {
   "cell_type": "code",
   "execution_count": 12,
   "id": "f0e5ff71-28eb-4403-a919-51df8a435afa",
   "metadata": {},
   "outputs": [
    {
     "data": {
      "text/plain": [
       "'http://www.tng-project.org/api/Illustris-3/snapshots/'"
      ]
     },
     "execution_count": 12,
     "metadata": {},
     "output_type": "execute_result"
    }
   ],
   "source": [
    "sim['snapshots']"
   ]
  },
  {
   "cell_type": "code",
   "execution_count": 13,
   "id": "90661ccf-3c14-4b6d-ba75-27f7d1c170d8",
   "metadata": {},
   "outputs": [
    {
     "data": {
      "text/plain": [
       "136"
      ]
     },
     "execution_count": 13,
     "metadata": {},
     "output_type": "execute_result"
    }
   ],
   "source": [
    "## 136 total snapshots\n",
    "snaps = get( sim['snapshots'] )\n",
    "len(snaps)"
   ]
  },
  {
   "cell_type": "code",
   "execution_count": 14,
   "id": "6af9d379-ce8e-4d52-b298-c01c045d132b",
   "metadata": {},
   "outputs": [
    {
     "data": {
      "text/plain": [
       "{'number': 135,\n",
       " 'redshift': 2.2204460492503099e-16,\n",
       " 'num_groups_subfind': 121209,\n",
       " 'url': 'http://www.tng-project.org/api/Illustris-3/snapshots/135/'}"
      ]
     },
     "execution_count": 14,
     "metadata": {},
     "output_type": "execute_result"
    }
   ],
   "source": [
    "## lets inspect one snapshot corresponding to z=0\n",
    "snaps[-1]"
   ]
  },
  {
   "cell_type": "code",
   "execution_count": 15,
   "id": "f044f476-6d05-4440-b1b0-c162d8835664",
   "metadata": {},
   "outputs": [
    {
     "data": {
      "text/plain": [
       "{'simulation': 'http://www.tng-project.org/api/Illustris-3/',\n",
       " 'number': 135,\n",
       " 'redshift': 2.2204460492503099e-16,\n",
       " 'num_gas': 87571556,\n",
       " 'num_dm': 94196375,\n",
       " 'num_trmc': 94196375,\n",
       " 'num_stars': 4388167,\n",
       " 'num_bhs': 33582,\n",
       " 'num_groups_fof': 131727,\n",
       " 'num_groups_subfind': 121209,\n",
       " 'num_groups_rockstar': 0,\n",
       " 'filesize_snapshot': 23437820660.0,\n",
       " 'filesize_groupcat': 114056740.0,\n",
       " 'filesize_rockstar': 0.0,\n",
       " 'url': 'http://www.tng-project.org/api/Illustris-3/snapshots/135/',\n",
       " 'subhalos': 'http://www.tng-project.org/api/Illustris-3/snapshots/135/subhalos/',\n",
       " 'vis': {'groupcat_sfms': 'http://www.tng-project.org/api/Illustris-3/snapshots/135/subhalos/plot.png?xQuant=mstar2_log&yQuant=ssfr&xlim=9.0%2C11.0',\n",
       "  'groupcat_sizemass': 'http://www.tng-project.org/api/Illustris-3/snapshots/135/subhalos/plot.png?xQuant=mstar2_log&yQuant=size_stars',\n",
       "  'groupcat_mz_gas': 'http://www.tng-project.org/api/Illustris-3/snapshots/135/subhalos/plot.png?xQuant=mstar2_log&yQuant=Z_gas',\n",
       "  'groupcat_mz_stars': 'http://www.tng-project.org/api/Illustris-3/snapshots/135/subhalos/plot.png?xQuant=mstar2_log&yQuant=Z_stars',\n",
       "  'groupcat_mstar_mhalo': 'http://www.tng-project.org/api/Illustris-3/snapshots/135/subhalos/plot.png?xQuant=mhalo_200_log&yQuant=mstar2_log',\n",
       "  'groupcat_smhm': 'http://www.tng-project.org/api/Illustris-3/snapshots/135/subhalos/plot.png?xQuant=mhalo_200_log&yQuant=mstar2_mhalo200_ratio&xlim=10.0%2C14.5',\n",
       "  'groupcat_halo_sizemass': 'http://www.tng-project.org/api/Illustris-3/snapshots/135/subhalos/plot.png?xQuant=mhalo_200_log&yQuant=rhalo_200&xlim=9.0%2C15.0',\n",
       "  'groupcat_fmr': 'http://www.tng-project.org/api/Illustris-3/snapshots/135/subhalos/plot.png?xQuant=mstar2_log&yQuant=delta_sfms&cQuant=Z_gas&xlim=8.5%2C11.0&ylim=-1.5%2C1.5&cRel=0.7%2C1.3'},\n",
       " 'files': {'snapshot': 'http://www.tng-project.org/api/Illustris-3/files/snapshot-135/',\n",
       "  'groupcat': 'http://www.tng-project.org/api/Illustris-3/files/groupcat-135/'}}"
      ]
     },
     "execution_count": 15,
     "metadata": {},
     "output_type": "execute_result"
    }
   ],
   "source": [
    "## get the full metadata for this snapshot\n",
    "snap = get( snaps[-1]['url'] )\n",
    "snap"
   ]
  },
  {
   "cell_type": "markdown",
   "id": "ef93a854-14ac-4ef9-979b-544983d15873",
   "metadata": {},
   "source": [
    "For above, we have numeric meta-data fielda and the url describing where the snapssht it. simulation links back to parent sim and subhalos links deeper. Files contains entries for all raw downloads."
   ]
  },
  {
   "cell_type": "code",
   "execution_count": 16,
   "id": "e16e1c1f-1477-46f2-af5a-23f53275c210",
   "metadata": {},
   "outputs": [
    {
     "data": {
      "text/plain": [
       "dict_keys(['count', 'next', 'previous', 'results'])"
      ]
     },
     "execution_count": 16,
     "metadata": {},
     "output_type": "execute_result"
    }
   ],
   "source": [
    "## request and inspect subhalos endpoint\n",
    "subs = get( snap['subhalos'] )\n",
    "subs.keys()"
   ]
  },
  {
   "cell_type": "code",
   "execution_count": 17,
   "id": "39a71d40-0310-450f-b6d5-a9769168ee0b",
   "metadata": {},
   "outputs": [
    {
     "data": {
      "text/plain": [
       "121209"
      ]
     },
     "execution_count": 17,
     "metadata": {},
     "output_type": "execute_result"
    }
   ],
   "source": [
    "subs['count'] ## all subhalos which exist at this snapshot"
   ]
  },
  {
   "cell_type": "code",
   "execution_count": 18,
   "id": "35f7047b-a434-4420-8c0f-3a35e89ad42d",
   "metadata": {},
   "outputs": [
    {
     "data": {
      "text/plain": [
       "'http://www.tng-project.org/api/Illustris-3/snapshots/135/subhalos/?limit=100&offset=100'"
      ]
     },
     "execution_count": 18,
     "metadata": {},
     "output_type": "execute_result"
    }
   ],
   "source": [
    "subs['next']"
   ]
  },
  {
   "cell_type": "code",
   "execution_count": 19,
   "id": "5248cead-754f-44d7-a821-8b8eb3d6ec11",
   "metadata": {},
   "outputs": [
    {
     "data": {
      "text/plain": [
       "100"
      ]
     },
     "execution_count": 19,
     "metadata": {},
     "output_type": "execute_result"
    }
   ],
   "source": [
    "## default page size is 100 elements \n",
    "len(subs['results'])"
   ]
  },
  {
   "cell_type": "code",
   "execution_count": 20,
   "id": "61ac6499-4b78-4bee-a72e-b2eb990d78b7",
   "metadata": {},
   "outputs": [
    {
     "data": {
      "text/plain": [
       "220"
      ]
     },
     "execution_count": 20,
     "metadata": {},
     "output_type": "execute_result"
    }
   ],
   "source": [
    "## the 100 element limit can be overwridden by specifying a limit parameter\n",
    "subs = get( snap['subhalos'], {'limit':220} )\n",
    "len(subs['results'])"
   ]
  },
  {
   "cell_type": "code",
   "execution_count": 21,
   "id": "c571a020-ba95-4a1a-b3f0-50b9a1d951a3",
   "metadata": {},
   "outputs": [
    {
     "data": {
      "text/plain": [
       "'http://www.tng-project.org/api/Illustris-3/snapshots/135/subhalos/?limit=220&offset=220'"
      ]
     },
     "execution_count": 21,
     "metadata": {},
     "output_type": "execute_result"
    }
   ],
   "source": [
    "subs['next']"
   ]
  },
  {
   "cell_type": "code",
   "execution_count": 22,
   "id": "f399325f-1f9d-4395-ad87-53d10897bf20",
   "metadata": {},
   "outputs": [
    {
     "data": {
      "text/plain": [
       "{'id': 0,\n",
       " 'sfr': 4.11098,\n",
       " 'mass_log_msun': 14.554690443287308,\n",
       " 'url': 'http://www.tng-project.org/api/Illustris-3/snapshots/135/subhalos/0/'}"
      ]
     },
     "execution_count": 22,
     "metadata": {},
     "output_type": "execute_result"
    }
   ],
   "source": [
    "## each element of results contains subhalo id, total mass (log solar units), and\n",
    "## its unique URL\n",
    "subs['results'][0]"
   ]
  },
  {
   "cell_type": "markdown",
   "id": "59492a58-9515-424d-9bd2-3b96df7d3e3d",
   "metadata": {},
   "source": [
    "### Request first 20 subhalos at this snapshot sorted by descending solar mass"
   ]
  },
  {
   "cell_type": "code",
   "execution_count": 23,
   "id": "1db08b40-ee88-48c9-8b39-6fb51b49ff80",
   "metadata": {},
   "outputs": [
    {
     "data": {
      "text/plain": [
       "20"
      ]
     },
     "execution_count": 23,
     "metadata": {},
     "output_type": "execute_result"
    }
   ],
   "source": [
    "subs = get( snap['subhalos'], {'limit':20, 'order_by':'-mass_stars'} )\n",
    "len(subs['results'])"
   ]
  },
  {
   "cell_type": "code",
   "execution_count": 24,
   "id": "5f6cfb3c-f378-4fe1-a227-9d8c1807c52c",
   "metadata": {},
   "outputs": [
    {
     "data": {
      "text/plain": [
       "[0, 1030, 2074, 2302, 2843]"
      ]
     },
     "execution_count": 24,
     "metadata": {},
     "output_type": "execute_result"
    }
   ],
   "source": [
    "## print out subhalo Id's for the first five\n",
    "[ subs['results'][i]['id'] for i in range(5) ]"
   ]
  },
  {
   "cell_type": "markdown",
   "id": "bc1b5d02-1358-41ac-8ede-0ffa317a4c8a",
   "metadata": {},
   "source": [
    "Just to be clear, the full URL which was just requested was:\n",
    "www.tng-project.org/api/Illustris-3/snapshots/135/subhalos/?limit=20&order_by=-mass_stars"
   ]
  },
  {
   "cell_type": "markdown",
   "id": "0bd2fe3a-6cc8-48f9-ad76-5b7a3a69e9c2",
   "metadata": {},
   "source": [
    "B/c subhalos w/in each halo are ordered roughly by decreasing total mass, the most massive subhalo ID=0 has the most stars. The next ID 1030 is probably a central subhalo w/ FoF halo"
   ]
  },
  {
   "cell_type": "markdown",
   "id": "c98065a4-123f-4d1c-bdbf-9ab51a2a45e0",
   "metadata": {},
   "source": [
    "### get the full subhalo information for ID 1030"
   ]
  },
  {
   "cell_type": "code",
   "execution_count": 25,
   "id": "3ccd43f7-1dac-4d2b-9161-afacde913605",
   "metadata": {},
   "outputs": [
    {
     "data": {
      "text/plain": [
       "{'snap': 135,\n",
       " 'id': 1030,\n",
       " 'bhmdot': 0.199144,\n",
       " 'cm_x': 10992.8,\n",
       " 'cm_y': 50807.7,\n",
       " 'cm_z': 47671.3,\n",
       " 'gasmetallicity': 0.00787963,\n",
       " 'gasmetallicityhalfrad': 0.0167215,\n",
       " 'gasmetallicitymaxrad': 0.053106,\n",
       " 'gasmetallicitysfr': 0.0510764,\n",
       " 'gasmetallicitysfrweighted': 0.0518217,\n",
       " 'pos_x': 10908.2,\n",
       " 'pos_y': 50865.5,\n",
       " 'pos_z': 47651.8,\n",
       " 'halfmassrad': 527.237,\n",
       " 'halfmassrad_gas': 660.879,\n",
       " 'halfmassrad_dm': 510.476,\n",
       " 'halfmassrad_stars': 50.759,\n",
       " 'halfmassrad_bhs': 0.0,\n",
       " 'len': 1113373,\n",
       " 'len_gas': 448911,\n",
       " 'len_dm': 624445,\n",
       " 'len_stars': 39946,\n",
       " 'len_bhs': 71,\n",
       " 'mass': 20463.1,\n",
       " 'mass_gas': 2678.49,\n",
       " 'mass_dm': 17620.2,\n",
       " 'mass_stars': 158.333,\n",
       " 'mass_bhs': 6.04079,\n",
       " 'massinhalfrad': 496.772,\n",
       " 'massinhalfrad_gas': 5.39936,\n",
       " 'massinhalfrad_dm': 406.895,\n",
       " 'massinhalfrad_stars': 79.1619,\n",
       " 'massinhalfrad_bhs': 5.31633,\n",
       " 'massinmaxrad': 5.28624,\n",
       " 'massinmaxrad_gas': 0.007397,\n",
       " 'massinmaxrad_dm': 0.0,\n",
       " 'massinmaxrad_stars': 0.015315,\n",
       " 'massinmaxrad_bhs': 5.26353,\n",
       " 'massinrad': 1352.77,\n",
       " 'massinrad_gas': 28.3612,\n",
       " 'massinrad_dm': 1217.89,\n",
       " 'massinrad_stars': 100.954,\n",
       " 'massinrad_bhs': 5.56788,\n",
       " 'sfr': 5.53373,\n",
       " 'sfrinhalfrad': 5.53373,\n",
       " 'sfrinmaxrad': 0.181456,\n",
       " 'sfrinrad': 5.53373,\n",
       " 'spin_x': 11334.7,\n",
       " 'spin_y': -6038.99,\n",
       " 'spin_z': -57340.1,\n",
       " 'starmetallicity': 0.0265244,\n",
       " 'starmetallicityhalfrad': 0.0295919,\n",
       " 'starmetallicitymaxrad': 0.050617,\n",
       " 'stellarphotometrics_u': -23.5693,\n",
       " 'stellarphotometrics_b': -23.9747,\n",
       " 'stellarphotometrics_v': -24.8368,\n",
       " 'stellarphotometrics_k': -27.7757,\n",
       " 'stellarphotometrics_g': -24.4276,\n",
       " 'stellarphotometrics_r': -25.1773,\n",
       " 'stellarphotometrics_i': -25.5364,\n",
       " 'stellarphotometrics_z': -25.7921,\n",
       " 'stellarphotometricsmassinrad': 66.8636,\n",
       " 'stellarphotometricsrad': 28.5133,\n",
       " 'vel_x': 245.727,\n",
       " 'vel_y': -93.7855,\n",
       " 'vel_z': 70.685,\n",
       " 'veldisp': 541.908,\n",
       " 'vmax': 1057.54,\n",
       " 'vmaxrad': 0.2035,\n",
       " 'windmass': 0.169171,\n",
       " 'prog_snap': 134,\n",
       " 'prog_sfid': 1004,\n",
       " 'desc_snap': -1,\n",
       " 'desc_sfid': -1,\n",
       " 'parent': 0,\n",
       " 'grnr': 2,\n",
       " 'primary_flag': 1,\n",
       " 'mass_log_msun': 14.463398767443746,\n",
       " 'related': {'sublink_progenitor': 'http://www.tng-project.org/api/Illustris-3/snapshots/134/subhalos/1004/',\n",
       "  'sublink_descendant': None,\n",
       "  'parent_halo': 'http://www.tng-project.org/api/Illustris-3/snapshots/135/halos/2/'},\n",
       " 'cutouts': {'subhalo': 'http://www.tng-project.org/api/Illustris-3/snapshots/135/subhalos/1030/cutout.hdf5',\n",
       "  'parent_halo': 'http://www.tng-project.org/api/Illustris-3/snapshots/135/halos/2/cutout.hdf5'},\n",
       " 'trees': {'sublink': 'http://www.tng-project.org/api/Illustris-3/snapshots/135/subhalos/1030/sublink/full.hdf5',\n",
       "  'sublink_mpb': 'http://www.tng-project.org/api/Illustris-3/snapshots/135/subhalos/1030/sublink/mpb.hdf5',\n",
       "  'sublink_mdb': 'http://www.tng-project.org/api/Illustris-3/snapshots/135/subhalos/1030/sublink/mdb.hdf5',\n",
       "  'sublink_simple': 'http://www.tng-project.org/api/Illustris-3/snapshots/135/subhalos/1030/sublink/simple.json',\n",
       "  'lhalotree': 'http://www.tng-project.org/api/Illustris-3/snapshots/135/subhalos/1030/lhalotree/full.hdf5',\n",
       "  'lhalotree_mpb': 'http://www.tng-project.org/api/Illustris-3/snapshots/135/subhalos/1030/lhalotree/mpb.hdf5'},\n",
       " 'supplementary_data': {},\n",
       " 'vis': {'mergertree_sublink': 'http://www.tng-project.org/api/Illustris-3/snapshots/135/subhalos/1030/sublink/tree.png',\n",
       "  'halo_gas_dens': 'http://www.tng-project.org/api/Illustris-3/snapshots/135/subhalos/1030/vis.png?partType=gas',\n",
       "  'halo_gas_temp': 'http://www.tng-project.org/api/Illustris-3/snapshots/135/subhalos/1030/vis.png?partType=gas&partField=temp',\n",
       "  'halo_dm_dens': 'http://www.tng-project.org/api/Illustris-3/snapshots/135/subhalos/1030/vis.png?partType=dm',\n",
       "  'halo_stellar_dens': 'http://www.tng-project.org/api/Illustris-3/snapshots/135/subhalos/1030/vis.png?partType=stars',\n",
       "  'galaxy_gas_dens': 'http://www.tng-project.org/api/Illustris-3/snapshots/135/subhalos/1030/vis.png?partType=gas&size=5.0&sizeType=rHalfMassStars',\n",
       "  'galaxy_gas_dens_faceon': 'http://www.tng-project.org/api/Illustris-3/snapshots/135/subhalos/1030/vis.png?partType=gas&size=5.0&sizeType=rHalfMassStars&rotation=face-on',\n",
       "  'galaxy_stellar_light': 'http://www.tng-project.org/api/Illustris-3/snapshots/135/subhalos/1030/vis.png?partType=stars&partField=stellarComp-jwst_f200w-jwst_f115w-jwst_f070w&size=5.0&sizeType=rHalfMassStars',\n",
       "  'galaxy_stellar_light_faceon': 'http://www.tng-project.org/api/Illustris-3/snapshots/135/subhalos/1030/vis.png?partType=stars&partField=stellarComp-jwst_f200w-jwst_f115w-jwst_f070w&size=5.0&sizeType=rHalfMassStars&rotation=face-on'},\n",
       " 'meta': {'url': 'http://www.tng-project.org/api/Illustris-3/snapshots/135/subhalos/1030/',\n",
       "  'snapshot': 'http://www.tng-project.org/api/Illustris-3/snapshots/135/',\n",
       "  'simulation': 'http://www.tng-project.org/api/Illustris-3/',\n",
       "  'info': 'http://www.tng-project.org/api/Illustris-3/snapshots/135/subhalos/1030/info.json'}}"
      ]
     },
     "execution_count": 25,
     "metadata": {},
     "output_type": "execute_result"
    }
   ],
   "source": [
    "sub = get( subs['results'][1]['url'] )\n",
    "sub"
   ]
  },
  {
   "cell_type": "markdown",
   "id": "df5f0c53-96ae-4707-8683-8d9b860b9b48",
   "metadata": {},
   "source": [
    "as a result we get numeric fields and links to related objects and more"
   ]
  },
  {
   "cell_type": "markdown",
   "id": "ceeae853-0b85-4153-a760-b328c73bfd54",
   "metadata": {},
   "source": [
    "desc_sfid = -1 and desc_snap = -1 means subhalo has no descendant in sublink trees as expected because we're at z=0"
   ]
  },
  {
   "cell_type": "markdown",
   "id": "5ee2c1c7-e2c1-4c42-a8de-2bdcb2614a6d",
   "metadata": {},
   "source": [
    "primary_flag = 1 indicates this is a cenral, most massive or primary, subhalo of this FoF halo"
   ]
  },
  {
   "cell_type": "markdown",
   "id": "2f387e88-c2c5-48e0-a58d-12f1e0cca24b",
   "metadata": {},
   "source": [
    "### directly request a group catalog field dump of the parent FoF halo"
   ]
  },
  {
   "cell_type": "code",
   "execution_count": 26,
   "id": "e18a12eb-24ee-4def-81da-4e4b0e163366",
   "metadata": {},
   "outputs": [
    {
     "data": {
      "text/plain": [
       "'http://www.tng-project.org/api/Illustris-3/snapshots/135/halos/2/info.json'"
      ]
     },
     "execution_count": 26,
     "metadata": {},
     "output_type": "execute_result"
    }
   ],
   "source": [
    "url = sub['related']['parent_halo'] + \"info.json\"\n",
    "url"
   ]
  },
  {
   "cell_type": "code",
   "execution_count": 27,
   "id": "0ce59137-50ce-43e8-9709-b71b286a5803",
   "metadata": {},
   "outputs": [
    {
     "data": {
      "text/plain": [
       "dict_keys(['SimulationName', 'SnapshotNumber', 'InfoType', 'InfoID', 'GroupBHMass', 'GroupBHMdot', 'GroupCM', 'GroupFirstSub', 'GroupFuzzOffsetType', 'GroupGasMetalFractions', 'GroupGasMetallicity', 'GroupLen', 'GroupLenType', 'GroupMass', 'GroupMassType', 'GroupNsubs', 'GroupPos', 'GroupSFR', 'GroupStarMetalFractions', 'GroupStarMetallicity', 'GroupVel', 'GroupWindMass', 'Group_M_Crit200', 'Group_M_Crit500', 'Group_M_Mean200', 'Group_M_TopHat200', 'Group_R_Crit200', 'Group_R_Crit500', 'Group_R_Mean200', 'Group_R_TopHat200', 'StellarMasses', 'TracerLength', 'TracerOffset'])"
      ]
     },
     "execution_count": 27,
     "metadata": {},
     "output_type": "execute_result"
    }
   ],
   "source": [
    "parent_fof = get(url)\n",
    "parent_fof.keys()"
   ]
  },
  {
   "cell_type": "code",
   "execution_count": 28,
   "id": "7934435a-acc7-421a-8b32-9f6790d9908f",
   "metadata": {},
   "outputs": [
    {
     "data": {
      "text/plain": [
       "366"
      ]
     },
     "execution_count": 28,
     "metadata": {},
     "output_type": "execute_result"
    }
   ],
   "source": [
    "parent_fof['GroupNsubs']"
   ]
  },
  {
   "cell_type": "code",
   "execution_count": 29,
   "id": "b0b34ba8-0335-4ca6-9374-5847bb949ea1",
   "metadata": {},
   "outputs": [
    {
     "data": {
      "text/plain": [
       "1030"
      ]
     },
     "execution_count": 29,
     "metadata": {},
     "output_type": "execute_result"
    }
   ],
   "source": [
    "parent_fof['GroupFirstSub']"
   ]
  },
  {
   "cell_type": "code",
   "execution_count": 30,
   "id": "83560192-ee53-4bbd-a443-ef5104ba203a",
   "metadata": {},
   "outputs": [
    {
     "data": {
      "text/plain": [
       "[10908.2392578125, 50865.515625, 47651.7890625]"
      ]
     },
     "execution_count": 30,
     "metadata": {},
     "output_type": "execute_result"
    }
   ],
   "source": [
    "parent_fof['GroupPos']"
   ]
  },
  {
   "cell_type": "markdown",
   "id": "17629d08-a93f-46e5-b6c3-f9b1adef166f",
   "metadata": {},
   "source": [
    "We see that subhalo 1030 is the central for FoF 2 which has 366 total subhalos"
   ]
  },
  {
   "cell_type": "markdown",
   "id": "e1d5a987-eff6-4d05-8683-b0a117fa10c5",
   "metadata": {},
   "source": [
    "## Look at subhalo and ask for HDF5 data"
   ]
  },
  {
   "cell_type": "code",
   "execution_count": 31,
   "id": "02e767eb-41ab-4eec-8fd0-50fa823021c3",
   "metadata": {},
   "outputs": [],
   "source": [
    "## use function from beginning but make it so that if it recieves a binary response, \n",
    "## it saves it to a file w/ approp name in pwd\n",
    "def get(path, params=None):\n",
    "    # make HTTP GET request to path\n",
    "    r = requests.get(path, params=params, headers=headers)\n",
    "\n",
    "    # raise exception if response code is not HTTP SUCCESS (200)\n",
    "    r.raise_for_status()\n",
    "\n",
    "    if r.headers['content-type'] == 'application/json':\n",
    "        return r.json() # parse json responses automatically\n",
    "\n",
    "    if 'content-disposition' in r.headers:\n",
    "        filename = r.headers['content-disposition'].split(\"filename=\")[1]\n",
    "        with open(filename, 'wb') as f:\n",
    "            f.write(r.content)\n",
    "        return filename # return the filename string\n",
    "\n",
    "    return r"
   ]
  },
  {
   "cell_type": "markdown",
   "id": "82c304ba-fa00-48b5-91a0-884c143a4c80",
   "metadata": {},
   "source": [
    "### request the main progenitor branch from the SubLink merger trees of this subhalo."
   ]
  },
  {
   "cell_type": "code",
   "execution_count": 32,
   "id": "aea3e7c0-568d-4d28-98e2-f9caff4a1961",
   "metadata": {},
   "outputs": [
    {
     "name": "stdout",
     "output_type": "stream",
     "text": [
      "<KeysViewHDF5 ['DescendantID', 'FirstProgenitorID', 'FirstSubhaloInFOFGroupID', 'Group_M_Crit200', 'Group_M_Mean200', 'Group_M_TopHat200', 'LastProgenitorID', 'MainLeafProgenitorID', 'Mass', 'MassHistory', 'NextProgenitorID', 'NextSubhaloInFOFGroupID', 'NumParticles', 'RootDescendantID', 'SnapNum', 'SubfindID', 'SubhaloBHMass', 'SubhaloBHMdot', 'SubhaloCM', 'SubhaloGasMetallicity', 'SubhaloGasMetallicityHalfRad', 'SubhaloGasMetallicityMaxRad', 'SubhaloGasMetallicitySfr', 'SubhaloGasMetallicitySfrWeighted', 'SubhaloGrNr', 'SubhaloHalfmassRad', 'SubhaloHalfmassRadType', 'SubhaloID', 'SubhaloIDMostbound', 'SubhaloIDRaw', 'SubhaloLen', 'SubhaloLenType', 'SubhaloMass', 'SubhaloMassInHalfRad', 'SubhaloMassInHalfRadType', 'SubhaloMassInMaxRad', 'SubhaloMassInMaxRadType', 'SubhaloMassInRad', 'SubhaloMassInRadType', 'SubhaloMassType', 'SubhaloParent', 'SubhaloPos', 'SubhaloSFR', 'SubhaloSFRinHalfRad', 'SubhaloSFRinMaxRad', 'SubhaloSFRinRad', 'SubhaloSpin', 'SubhaloStarMetallicity', 'SubhaloStarMetallicityHalfRad', 'SubhaloStarMetallicityMaxRad', 'SubhaloStellarPhotometrics', 'SubhaloStellarPhotometricsMassInRad', 'SubhaloStellarPhotometricsRad', 'SubhaloVel', 'SubhaloVelDisp', 'SubhaloVmax', 'SubhaloVmaxRad', 'SubhaloWindMass', 'TreeID']>\n",
      "104\n",
      "[135 134 133 132 131 130 129 128 127 126 125 124 123 122 121 120 119 118\n",
      " 117 116 115 114 113 112 111 110 109 108 107 106 105 104 103 102 101 100\n",
      "  99  98  97  96  95  94  93  92  91  90  89  88  87  86  85  84  83  82\n",
      "  81  80  79  78  77  76  75  74  73  72  71  70  69  68  67  66  65  64\n",
      "  63  62  61  60  59  58  57  56  55  54  53  52  51  50  49  48  47  46\n",
      "  45  44  43  42  41  40  39  38  37  36  35  34  33  32]\n"
     ]
    }
   ],
   "source": [
    "import h5py\n",
    "\n",
    "mpb1 = get( sub['trees']['sublink_mpb'] ) # file saved, mpb1 contains the filename\n",
    "\n",
    "f = h5py.File(mpb1,'r')\n",
    "print(f.keys())\n",
    "\n",
    "print(len(f['SnapNum']))\n",
    "print(f['SnapNum'][:])"
   ]
  },
  {
   "cell_type": "code",
   "execution_count": 33,
   "id": "946e8d7f-166b-459d-bb56-1b2b4e7b471f",
   "metadata": {},
   "outputs": [],
   "source": [
    "f.close()"
   ]
  },
  {
   "cell_type": "markdown",
   "id": "af175691-07bd-43c7-a4f6-836043d64cdd",
   "metadata": {},
   "source": [
    "above from snap num we see that the subhalo was traced back to snapshot 32 in the sublink tree"
   ]
  },
  {
   "cell_type": "markdown",
   "id": "9b53c3fe-271f-461e-be2b-7b5739e8b6d9",
   "metadata": {},
   "source": [
    "### For comparison, get the main progenitor branch from the LHaloTree."
   ]
  },
  {
   "cell_type": "code",
   "execution_count": 34,
   "id": "03c6bdb8-6ae9-4511-9f10-82a1474be28a",
   "metadata": {},
   "outputs": [
    {
     "name": "stdout",
     "output_type": "stream",
     "text": [
      "104\n"
     ]
    }
   ],
   "source": [
    "mpb2 = get( sub['trees']['lhalotree_mpb'] ) # file saved, mpb2 contains the filename\n",
    "\n",
    "with h5py.File(mpb2,'r') as f:\n",
    "    print(len(f['SnapNum']))"
   ]
  },
  {
   "cell_type": "markdown",
   "id": "8cd3aab6-5bf2-40d2-be7c-81e629064c29",
   "metadata": {},
   "source": [
    "LHaloTree goes back to the same snapshot. If we looked further we would see that the tracking is similar where z=0 descendant but not identical"
   ]
  },
  {
   "cell_type": "markdown",
   "id": "73589d35-1450-44f8-bad9-48931be30233",
   "metadata": {},
   "source": [
    "## Plot the evolution of the subhalo position along each coord axis back in time"
   ]
  },
  {
   "cell_type": "code",
   "execution_count": 35,
   "id": "0c1825bb-be81-46ae-92b8-dfca031b2800",
   "metadata": {},
   "outputs": [
    {
     "data": {
      "image/png": "[encoded data removed]",
      "text/plain": [
       "<Figure size 432x288 with 1 Axes>"
      ]
     },
     "metadata": {
      "needs_background": "light"
     },
     "output_type": "display_data"
    }
   ],
   "source": [
    "import matplotlib.pyplot as plt\n",
    "\n",
    "with h5py.File(mpb2,'r') as f:\n",
    "    pos = f['SubhaloPos'][:]\n",
    "    snapnum = f['SnapNum'][:]\n",
    "    subid = f['SubhaloNumber'][:]\n",
    "\n",
    "for i in range(3):\n",
    "    plt.plot(snapnum,pos[:,i] - pos[0,i], label=['x','y','z'][i])\n",
    "plt.legend()\n",
    "plt.xlabel('Snapshot Number')\n",
    "plt.ylabel('Pos$_{x,y,z}$(z) - Pos(z=0)');"
   ]
  },
  {
   "cell_type": "markdown",
   "id": "6aaebdde-e099-48dc-8b28-b74ad336045d",
   "metadata": {},
   "source": [
    "## Get a cutout of snapshot data"
   ]
  },
  {
   "cell_type": "markdown",
   "id": "3af3dc95-3870-4ef3-ac31-a6ef1b81e56d",
   "metadata": {},
   "source": [
    "goal is an image of gas density around z=1 progenitor of subhalo"
   ]
  },
  {
   "cell_type": "code",
   "execution_count": 36,
   "id": "2b9d056c-6365-41f1-ba4e-7cf720bc00cb",
   "metadata": {},
   "outputs": [
    {
     "data": {
      "text/plain": [
       "'http://www.tng-project.org/api/Illustris-3/snapshots/z=1/'"
      ]
     },
     "execution_count": 36,
     "metadata": {},
     "output_type": "execute_result"
    }
   ],
   "source": [
    "## First, what snapshot are we looking for?\n",
    "url = sim['snapshots'] + \"z=1/\"\n",
    "url"
   ]
  },
  {
   "cell_type": "code",
   "execution_count": 37,
   "id": "43eb232f-aed9-40d4-b48d-dc722790e9c7",
   "metadata": {},
   "outputs": [
    {
     "data": {
      "text/plain": [
       "(85, 0.9972942257819399)"
      ]
     },
     "execution_count": 37,
     "metadata": {},
     "output_type": "execute_result"
    }
   ],
   "source": [
    "snap = get(url)\n",
    "snap['number'], snap['redshift'] "
   ]
  },
  {
   "cell_type": "markdown",
   "id": "c2f074d0-592e-48b2-b978-76c9799b99b9",
   "metadata": {},
   "source": [
    "### Find the target Subfind ID at snapshot 85 using the Sublink tree"
   ]
  },
  {
   "cell_type": "code",
   "execution_count": 38,
   "id": "7cd7bfa7-6a93-43e8-890e-e936d5962ae6",
   "metadata": {},
   "outputs": [
    {
     "data": {
      "text/plain": [
       "array([185], dtype=int32)"
      ]
     },
     "execution_count": 38,
     "metadata": {},
     "output_type": "execute_result"
    }
   ],
   "source": [
    "import numpy as np\n",
    "\n",
    "i = np.where(snapnum == 85)\n",
    "subid[i]"
   ]
  },
  {
   "cell_type": "markdown",
   "id": "4d29e98a-0c6f-4d51-a549-9ec8f0cd4b11",
   "metadata": {},
   "source": [
    "### Request subhalo details and a snapshot cutout of only gas fields"
   ]
  },
  {
   "cell_type": "code",
   "execution_count": 39,
   "id": "8e763cf7-4e8e-4f2b-8b09-53edfc2c05a7",
   "metadata": {},
   "outputs": [
    {
     "data": {
      "text/plain": [
       "(11013.3, 51469.6)"
      ]
     },
     "execution_count": 39,
     "metadata": {},
     "output_type": "execute_result"
    }
   ],
   "source": [
    "sub_prog_url = \"http://www.tng-project.org/api/Illustris-3/snapshots/85/subhalos/185/\"\n",
    "sub_prog = get(sub_prog_url)\n",
    "sub_prog['pos_x'], sub_prog['pos_y']"
   ]
  },
  {
   "cell_type": "code",
   "execution_count": 40,
   "id": "f91135b9-fc19-45e9-8e0f-78c47da18163",
   "metadata": {},
   "outputs": [],
   "source": [
    "cutout_request = {'gas':'Coordinates,Masses'}\n",
    "cutout = get(sub_prog_url+\"cutout.hdf5\", cutout_request)"
   ]
  },
  {
   "cell_type": "markdown",
   "id": "ae45f916-299a-47c5-9efb-08bc8bfa6e0b",
   "metadata": {},
   "source": [
    "### Make a 2d histogram of the distrubution of gas bound to subhalo weighted by thelog of gas cell mass w/ position relative to subhalo center"
   ]
  },
  {
   "cell_type": "code",
   "execution_count": 41,
   "id": "dc1d68c7-b28e-47d9-a80b-d0716141434c",
   "metadata": {},
   "outputs": [
    {
     "data": {
      "image/png": "[encoded data removed]",
      "text/plain": [
       "<Figure size 432x288 with 1 Axes>"
      ]
     },
     "metadata": {
      "needs_background": "light"
     },
     "output_type": "display_data"
    }
   ],
   "source": [
    "with h5py.File(cutout,'r') as f:\n",
    "    x = f['PartType0']['Coordinates'][:,0] - sub_prog['pos_x']\n",
    "    y = f['PartType0']['Coordinates'][:,1] - sub_prog['pos_y']\n",
    "    dens = np.log10(f['PartType0']['Masses'][:])\n",
    "\n",
    "plt.hist2d(x,y,weights=dens,bins=[150,100])\n",
    "plt.xlabel('$\\Delta x$ [ckpc/h]')\n",
    "plt.ylabel('$\\Delta y$ [ckpc/h]');"
   ]
  },
  {
   "cell_type": "markdown",
   "id": "ea67cfd6-a4ba-4433-8c06-0d96b9b14f14",
   "metadata": {},
   "source": [
    "# Ex 1"
   ]
  },
  {
   "cell_type": "markdown",
   "id": "ade7c5bc-21b1-4f14-9b31-c8afb728ae20",
   "metadata": {},
   "source": [
    "for Illustris-1 at z=0, get all the fields available for the subhalo with id=0 and print its total mass and stellar half mass radius."
   ]
  },
  {
   "cell_type": "code",
   "execution_count": 42,
   "id": "69957461-d8f5-459e-ac07-2065185e2365",
   "metadata": {},
   "outputs": [
    {
     "name": "stdout",
     "output_type": "stream",
     "text": [
      "22174.8\n",
      "72.0388\n"
     ]
    }
   ],
   "source": [
    "url = \"http://www.tng-project.org/api/Illustris-1/snapshots/135/subhalos/0/\"\n",
    "r = get(url)\n",
    "print(r['mass'])\n",
    "print(r['halfmassrad_stars'])"
   ]
  },
  {
   "cell_type": "markdown",
   "id": "cd21d5db-7381-4400-bc1f-e39c7bbc01a5",
   "metadata": {},
   "source": [
    "# Ex 2"
   ]
  },
  {
   "cell_type": "markdown",
   "id": "26913231-2a68-47aa-be24-e0603916642f",
   "metadata": {},
   "source": [
    "for Illustris-1 at z=2, search for all subhalos with total mass $10^{11.9}M⊙<M<10^{12.1}M⊙$, print the number returned, and the Subfind IDs of the first five results (arbitrarily ordered, you may get different ids)."
   ]
  },
  {
   "cell_type": "code",
   "execution_count": 43,
   "id": "18d91bde-dc95-482f-b6e4-5bab30fd2532",
   "metadata": {},
   "outputs": [],
   "source": [
    "## convert log solar masses into group catalog units\n",
    "mass_min = 10**(11.9) / 1e10 * 0.704 ## minimum mass 10^(11.9) solar masses\n",
    "mass_max = 10**(12.1) / 1e10 * 0.704 ## maximum mass "
   ]
  },
  {
   "cell_type": "code",
   "execution_count": 44,
   "id": "19b6718a-a1a0-4c05-8d8c-c4a7cdff04f4",
   "metadata": {},
   "outputs": [
    {
     "data": {
      "text/plain": [
       "'?mass__gt=55.920707724589455&mass__lt=88.6283489903093'"
      ]
     },
     "execution_count": 44,
     "metadata": {},
     "output_type": "execute_result"
    }
   ],
   "source": [
    "# form the search_query string by hand for once\n",
    "search_query = \"?mass__gt=\" + str(mass_min) + \"&mass__lt=\" + str(mass_max)\n",
    "search_query"
   ]
  },
  {
   "cell_type": "code",
   "execution_count": 45,
   "id": "e86be362-ecb1-4327-a142-2324d843bdb4",
   "metadata": {},
   "outputs": [
    {
     "data": {
      "text/plain": [
       "550"
      ]
     },
     "execution_count": 45,
     "metadata": {},
     "output_type": "execute_result"
    }
   ],
   "source": [
    "## form the url and make the request\n",
    "url = \"http://www.tng-project.org/api/Illustris-1/snapshots/z=2/subhalos/\" + search_query\n",
    "subhalos = get(url)\n",
    "subhalos['count']"
   ]
  },
  {
   "cell_type": "code",
   "execution_count": 46,
   "id": "63e4a70d-f7aa-4e26-b8e4-d8c9671afaf8",
   "metadata": {},
   "outputs": [
    {
     "data": {
      "text/plain": [
       "[1, 1352, 5525, 6574, 12718]"
      ]
     },
     "execution_count": 46,
     "metadata": {},
     "output_type": "execute_result"
    }
   ],
   "source": [
    "ids = [ subhalos['results'][i]['id'] for i in range(5) ] ## first five results\n",
    "ids"
   ]
  },
  {
   "cell_type": "markdown",
   "id": "f2b131ce-ca83-4a6f-aa33-3d43774f8531",
   "metadata": {},
   "source": [
    "# Ex 3"
   ]
  },
  {
   "cell_type": "markdown",
   "id": "6bda6443-c598-455d-93ab-e1fe190c89cb",
   "metadata": {},
   "source": [
    "for Illustris-1 at z=2, retrieve all fields for five specific Subfind IDs (from above: 109974, 110822, 123175, 107743, 95711), print the stellar mass and number of star particles in each."
   ]
  },
  {
   "cell_type": "code",
   "execution_count": 47,
   "id": "422374cf-762d-4faf-bbfe-4afc8c2dfe55",
   "metadata": {},
   "outputs": [],
   "source": [
    "ids = [1, 1352, 5525, 6574, 12718]"
   ]
  },
  {
   "cell_type": "code",
   "execution_count": 48,
   "id": "e446dfc1-a515-4f6d-8a33-71a30bc6d4f2",
   "metadata": {},
   "outputs": [
    {
     "name": "stdout",
     "output_type": "stream",
     "text": [
      "1 3.44785 54286\n",
      "1352 3.14618 47648\n",
      "5525 2.93244 45252\n",
      "6574 3.73319 58277\n",
      "12718 3.77762 57532\n"
     ]
    }
   ],
   "source": [
    "for id in ids:\n",
    "    url = \"http://www.tng-project.org/api/Illustris-1/snapshots/z=2/subhalos/\" + str(id)\n",
    "    subhalo = get(url)\n",
    "    print(id, subhalo['mass_stars'], subhalo['len_stars'])"
   ]
  },
  {
   "cell_type": "markdown",
   "id": "8fcee176-9772-4e5e-b0be-38b180cc9123",
   "metadata": {},
   "source": [
    "# Ex 4"
   ]
  },
  {
   "cell_type": "markdown",
   "id": "70a5d5ec-9e8d-4870-89df-cc9d8c1e4d80",
   "metadata": {},
   "source": [
    "for Illustris-1 at z=2, for five specific Subfind IDs (from above: 109974, 110822, 123175, 107743, 95711), extract and save full cutouts from the snapshot (HDF5 format)."
   ]
  },
  {
   "cell_type": "code",
   "execution_count": 49,
   "id": "6506e164-0431-4901-9662-5ebf61e63b9f",
   "metadata": {},
   "outputs": [],
   "source": [
    "import h5py \n",
    "\n",
    "def get(path, params=None):\n",
    "    # make HTTP GET request to path\n",
    "    r = requests.get(path, params=params, headers=headers)\n",
    "\n",
    "    # raise exception if response code is not HTTP SUCCESS (200)\n",
    "    r.raise_for_status()\n",
    "\n",
    "    if r.headers['content-type'] == 'application/json':\n",
    "        return r.json() # parse json responses automatically\n",
    "\n",
    "    if 'content-disposition' in r.headers:\n",
    "        filename = r.headers['content-disposition'].split(\"filename=\")[1]\n",
    "        with open(filename, 'wb') as f:\n",
    "            f.write(r.content)\n",
    "        return filename # return the filename string\n",
    "\n",
    "    return r"
   ]
  },
  {
   "cell_type": "code",
   "execution_count": 50,
   "id": "44699774-37ed-4142-b8c3-ccad580d31ca",
   "metadata": {},
   "outputs": [],
   "source": [
    "ids = [1, 1352, 5525, 6574, 12718]"
   ]
  },
  {
   "cell_type": "code",
   "execution_count": 51,
   "id": "2967c8cd-3e86-4092-b5f8-cc97eaf11729",
   "metadata": {},
   "outputs": [
    {
     "name": "stdout",
     "output_type": "stream",
     "text": [
      "1 cutout_1.hdf5\n",
      "1352 cutout_1352.hdf5\n",
      "5525 cutout_5525.hdf5\n",
      "6574 cutout_6574.hdf5\n",
      "12718 cutout_12718.hdf5\n"
     ]
    }
   ],
   "source": [
    "for id in ids:\n",
    "    url = \"http://www.tng-project.org/api/Illustris-1/snapshots/z=2/subhalos/\" + str(id) + \"/cutout.hdf5\"\n",
    "    saved_filename = get(url)\n",
    "    print(id, saved_filename)"
   ]
  },
  {
   "cell_type": "markdown",
   "id": "beb04b30-dab8-40e0-a2dc-1ba77bbe5374",
   "metadata": {},
   "source": [
    "# Ex 5"
   ]
  },
  {
   "cell_type": "markdown",
   "id": "7037f6b6-337c-4d0d-a758-a4487883540a",
   "metadata": {},
   "source": [
    "for Illustris-1 at z=2, for five specific Subfind IDs (from above: 109974, 110822, 123175, 107743, 95711), extract and save only star particles from the parent FoF halo of each subhalo."
   ]
  },
  {
   "cell_type": "code",
   "execution_count": 52,
   "id": "d3b14630-ffac-41d8-9e56-5d3f9815add2",
   "metadata": {},
   "outputs": [
    {
     "name": "stdout",
     "output_type": "stream",
     "text": [
      "1 0 cutout_0.hdf5\n",
      "1352 1 cutout_1.hdf5\n",
      "5525 5 cutout_5.hdf5\n",
      "6574 6 cutout_6.hdf5\n"
     ]
    },
    {
     "ename": "KeyboardInterrupt",
     "evalue": "",
     "output_type": "error",
     "traceback": [
      "\u001b[0;31m---------------------------------------------------------------------------\u001b[0m",
      "\u001b[0;31mKeyboardInterrupt\u001b[0m                         Traceback (most recent call last)",
      "\u001b[0;32m/scratch/local/14066368/ipykernel_3700/2723541848.py\u001b[0m in \u001b[0;36m<module>\u001b[0;34m\u001b[0m\n\u001b[1;32m      3\u001b[0m \u001b[0;32mfor\u001b[0m \u001b[0mid\u001b[0m \u001b[0;32min\u001b[0m \u001b[0mids\u001b[0m\u001b[0;34m:\u001b[0m\u001b[0;34m\u001b[0m\u001b[0;34m\u001b[0m\u001b[0m\n\u001b[1;32m      4\u001b[0m     \u001b[0murl\u001b[0m \u001b[0;34m=\u001b[0m \u001b[0;34m\"http://www.tng-project.org/api/Illustris-1/snapshots/z=2/subhalos/\"\u001b[0m \u001b[0;34m+\u001b[0m \u001b[0mstr\u001b[0m\u001b[0;34m(\u001b[0m\u001b[0mid\u001b[0m\u001b[0;34m)\u001b[0m\u001b[0;34m\u001b[0m\u001b[0;34m\u001b[0m\u001b[0m\n\u001b[0;32m----> 5\u001b[0;31m     \u001b[0msub\u001b[0m \u001b[0;34m=\u001b[0m \u001b[0mget\u001b[0m\u001b[0;34m(\u001b[0m\u001b[0murl\u001b[0m\u001b[0;34m)\u001b[0m\u001b[0;34m\u001b[0m\u001b[0;34m\u001b[0m\u001b[0m\n\u001b[0m\u001b[1;32m      6\u001b[0m     \u001b[0msaved_filename\u001b[0m \u001b[0;34m=\u001b[0m \u001b[0mget\u001b[0m\u001b[0;34m(\u001b[0m\u001b[0msub\u001b[0m\u001b[0;34m[\u001b[0m\u001b[0;34m'cutouts'\u001b[0m\u001b[0;34m]\u001b[0m\u001b[0;34m[\u001b[0m\u001b[0;34m'parent_halo'\u001b[0m\u001b[0;34m]\u001b[0m\u001b[0;34m,\u001b[0m\u001b[0mparams\u001b[0m\u001b[0;34m)\u001b[0m\u001b[0;34m\u001b[0m\u001b[0;34m\u001b[0m\u001b[0m\n\u001b[1;32m      7\u001b[0m     \u001b[0mprint\u001b[0m\u001b[0;34m(\u001b[0m\u001b[0msub\u001b[0m\u001b[0;34m[\u001b[0m\u001b[0;34m'id'\u001b[0m\u001b[0;34m]\u001b[0m\u001b[0;34m,\u001b[0m \u001b[0msub\u001b[0m\u001b[0;34m[\u001b[0m\u001b[0;34m'grnr'\u001b[0m\u001b[0;34m]\u001b[0m\u001b[0;34m,\u001b[0m \u001b[0msaved_filename\u001b[0m\u001b[0;34m)\u001b[0m\u001b[0;34m\u001b[0m\u001b[0;34m\u001b[0m\u001b[0m\n",
      "\u001b[0;32m/scratch/local/14066368/ipykernel_3700/1727307857.py\u001b[0m in \u001b[0;36mget\u001b[0;34m(path, params)\u001b[0m\n\u001b[1;32m      3\u001b[0m \u001b[0;32mdef\u001b[0m \u001b[0mget\u001b[0m\u001b[0;34m(\u001b[0m\u001b[0mpath\u001b[0m\u001b[0;34m,\u001b[0m \u001b[0mparams\u001b[0m\u001b[0;34m=\u001b[0m\u001b[0;32mNone\u001b[0m\u001b[0;34m)\u001b[0m\u001b[0;34m:\u001b[0m\u001b[0;34m\u001b[0m\u001b[0;34m\u001b[0m\u001b[0m\n\u001b[1;32m      4\u001b[0m     \u001b[0;31m# make HTTP GET request to path\u001b[0m\u001b[0;34m\u001b[0m\u001b[0;34m\u001b[0m\u001b[0;34m\u001b[0m\u001b[0m\n\u001b[0;32m----> 5\u001b[0;31m     \u001b[0mr\u001b[0m \u001b[0;34m=\u001b[0m \u001b[0mrequests\u001b[0m\u001b[0;34m.\u001b[0m\u001b[0mget\u001b[0m\u001b[0;34m(\u001b[0m\u001b[0mpath\u001b[0m\u001b[0;34m,\u001b[0m \u001b[0mparams\u001b[0m\u001b[0;34m=\u001b[0m\u001b[0mparams\u001b[0m\u001b[0;34m,\u001b[0m \u001b[0mheaders\u001b[0m\u001b[0;34m=\u001b[0m\u001b[0mheaders\u001b[0m\u001b[0;34m)\u001b[0m\u001b[0;34m\u001b[0m\u001b[0;34m\u001b[0m\u001b[0m\n\u001b[0m\u001b[1;32m      6\u001b[0m \u001b[0;34m\u001b[0m\u001b[0m\n\u001b[1;32m      7\u001b[0m     \u001b[0;31m# raise exception if response code is not HTTP SUCCESS (200)\u001b[0m\u001b[0;34m\u001b[0m\u001b[0;34m\u001b[0m\u001b[0;34m\u001b[0m\u001b[0m\n",
      "\u001b[0;32m/apps/jupyterhub/1.1.0/lib/python3.8/site-packages/requests/api.py\u001b[0m in \u001b[0;36mget\u001b[0;34m(url, params, **kwargs)\u001b[0m\n\u001b[1;32m     73\u001b[0m \u001b[0;34m\u001b[0m\u001b[0m\n\u001b[1;32m     74\u001b[0m     \u001b[0mkwargs\u001b[0m\u001b[0;34m.\u001b[0m\u001b[0msetdefault\u001b[0m\u001b[0;34m(\u001b[0m\u001b[0;34m'allow_redirects'\u001b[0m\u001b[0;34m,\u001b[0m \u001b[0;32mTrue\u001b[0m\u001b[0;34m)\u001b[0m\u001b[0;34m\u001b[0m\u001b[0;34m\u001b[0m\u001b[0m\n\u001b[0;32m---> 75\u001b[0;31m     \u001b[0;32mreturn\u001b[0m \u001b[0mrequest\u001b[0m\u001b[0;34m(\u001b[0m\u001b[0;34m'get'\u001b[0m\u001b[0;34m,\u001b[0m \u001b[0murl\u001b[0m\u001b[0;34m,\u001b[0m \u001b[0mparams\u001b[0m\u001b[0;34m=\u001b[0m\u001b[0mparams\u001b[0m\u001b[0;34m,\u001b[0m \u001b[0;34m**\u001b[0m\u001b[0mkwargs\u001b[0m\u001b[0;34m)\u001b[0m\u001b[0;34m\u001b[0m\u001b[0;34m\u001b[0m\u001b[0m\n\u001b[0m\u001b[1;32m     76\u001b[0m \u001b[0;34m\u001b[0m\u001b[0m\n\u001b[1;32m     77\u001b[0m \u001b[0;34m\u001b[0m\u001b[0m\n",
      "\u001b[0;32m/apps/jupyterhub/1.1.0/lib/python3.8/site-packages/requests/api.py\u001b[0m in \u001b[0;36mrequest\u001b[0;34m(method, url, **kwargs)\u001b[0m\n\u001b[1;32m     58\u001b[0m     \u001b[0;31m# cases, and look like a memory leak in others.\u001b[0m\u001b[0;34m\u001b[0m\u001b[0;34m\u001b[0m\u001b[0;34m\u001b[0m\u001b[0m\n\u001b[1;32m     59\u001b[0m     \u001b[0;32mwith\u001b[0m \u001b[0msessions\u001b[0m\u001b[0;34m.\u001b[0m\u001b[0mSession\u001b[0m\u001b[0;34m(\u001b[0m\u001b[0;34m)\u001b[0m \u001b[0;32mas\u001b[0m \u001b[0msession\u001b[0m\u001b[0;34m:\u001b[0m\u001b[0;34m\u001b[0m\u001b[0;34m\u001b[0m\u001b[0m\n\u001b[0;32m---> 60\u001b[0;31m         \u001b[0;32mreturn\u001b[0m \u001b[0msession\u001b[0m\u001b[0;34m.\u001b[0m\u001b[0mrequest\u001b[0m\u001b[0;34m(\u001b[0m\u001b[0mmethod\u001b[0m\u001b[0;34m=\u001b[0m\u001b[0mmethod\u001b[0m\u001b[0;34m,\u001b[0m \u001b[0murl\u001b[0m\u001b[0;34m=\u001b[0m\u001b[0murl\u001b[0m\u001b[0;34m,\u001b[0m \u001b[0;34m**\u001b[0m\u001b[0mkwargs\u001b[0m\u001b[0;34m)\u001b[0m\u001b[0;34m\u001b[0m\u001b[0;34m\u001b[0m\u001b[0m\n\u001b[0m\u001b[1;32m     61\u001b[0m \u001b[0;34m\u001b[0m\u001b[0m\n\u001b[1;32m     62\u001b[0m \u001b[0;34m\u001b[0m\u001b[0m\n",
      "\u001b[0;32m/apps/jupyterhub/1.1.0/lib/python3.8/site-packages/requests/sessions.py\u001b[0m in \u001b[0;36mrequest\u001b[0;34m(self, method, url, params, data, headers, cookies, files, auth, timeout, allow_redirects, proxies, hooks, stream, verify, cert, json)\u001b[0m\n\u001b[1;32m    531\u001b[0m         }\n\u001b[1;32m    532\u001b[0m         \u001b[0msend_kwargs\u001b[0m\u001b[0;34m.\u001b[0m\u001b[0mupdate\u001b[0m\u001b[0;34m(\u001b[0m\u001b[0msettings\u001b[0m\u001b[0;34m)\u001b[0m\u001b[0;34m\u001b[0m\u001b[0;34m\u001b[0m\u001b[0m\n\u001b[0;32m--> 533\u001b[0;31m         \u001b[0mresp\u001b[0m \u001b[0;34m=\u001b[0m \u001b[0mself\u001b[0m\u001b[0;34m.\u001b[0m\u001b[0msend\u001b[0m\u001b[0;34m(\u001b[0m\u001b[0mprep\u001b[0m\u001b[0;34m,\u001b[0m \u001b[0;34m**\u001b[0m\u001b[0msend_kwargs\u001b[0m\u001b[0;34m)\u001b[0m\u001b[0;34m\u001b[0m\u001b[0;34m\u001b[0m\u001b[0m\n\u001b[0m\u001b[1;32m    534\u001b[0m \u001b[0;34m\u001b[0m\u001b[0m\n\u001b[1;32m    535\u001b[0m         \u001b[0;32mreturn\u001b[0m \u001b[0mresp\u001b[0m\u001b[0;34m\u001b[0m\u001b[0;34m\u001b[0m\u001b[0m\n",
      "\u001b[0;32m/apps/jupyterhub/1.1.0/lib/python3.8/site-packages/requests/sessions.py\u001b[0m in \u001b[0;36msend\u001b[0;34m(self, request, **kwargs)\u001b[0m\n\u001b[1;32m    666\u001b[0m \u001b[0;34m\u001b[0m\u001b[0m\n\u001b[1;32m    667\u001b[0m         \u001b[0;31m# Resolve redirects if allowed.\u001b[0m\u001b[0;34m\u001b[0m\u001b[0;34m\u001b[0m\u001b[0;34m\u001b[0m\u001b[0m\n\u001b[0;32m--> 668\u001b[0;31m         \u001b[0mhistory\u001b[0m \u001b[0;34m=\u001b[0m \u001b[0;34m[\u001b[0m\u001b[0mresp\u001b[0m \u001b[0;32mfor\u001b[0m \u001b[0mresp\u001b[0m \u001b[0;32min\u001b[0m \u001b[0mgen\u001b[0m\u001b[0;34m]\u001b[0m \u001b[0;32mif\u001b[0m \u001b[0mallow_redirects\u001b[0m \u001b[0;32melse\u001b[0m \u001b[0;34m[\u001b[0m\u001b[0;34m]\u001b[0m\u001b[0;34m\u001b[0m\u001b[0;34m\u001b[0m\u001b[0m\n\u001b[0m\u001b[1;32m    669\u001b[0m \u001b[0;34m\u001b[0m\u001b[0m\n\u001b[1;32m    670\u001b[0m         \u001b[0;31m# Shuffle things around if there's history.\u001b[0m\u001b[0;34m\u001b[0m\u001b[0;34m\u001b[0m\u001b[0;34m\u001b[0m\u001b[0m\n",
      "\u001b[0;32m/apps/jupyterhub/1.1.0/lib/python3.8/site-packages/requests/sessions.py\u001b[0m in \u001b[0;36m<listcomp>\u001b[0;34m(.0)\u001b[0m\n\u001b[1;32m    666\u001b[0m \u001b[0;34m\u001b[0m\u001b[0m\n\u001b[1;32m    667\u001b[0m         \u001b[0;31m# Resolve redirects if allowed.\u001b[0m\u001b[0;34m\u001b[0m\u001b[0;34m\u001b[0m\u001b[0;34m\u001b[0m\u001b[0m\n\u001b[0;32m--> 668\u001b[0;31m         \u001b[0mhistory\u001b[0m \u001b[0;34m=\u001b[0m \u001b[0;34m[\u001b[0m\u001b[0mresp\u001b[0m \u001b[0;32mfor\u001b[0m \u001b[0mresp\u001b[0m \u001b[0;32min\u001b[0m \u001b[0mgen\u001b[0m\u001b[0;34m]\u001b[0m \u001b[0;32mif\u001b[0m \u001b[0mallow_redirects\u001b[0m \u001b[0;32melse\u001b[0m \u001b[0;34m[\u001b[0m\u001b[0;34m]\u001b[0m\u001b[0;34m\u001b[0m\u001b[0;34m\u001b[0m\u001b[0m\n\u001b[0m\u001b[1;32m    669\u001b[0m \u001b[0;34m\u001b[0m\u001b[0m\n\u001b[1;32m    670\u001b[0m         \u001b[0;31m# Shuffle things around if there's history.\u001b[0m\u001b[0;34m\u001b[0m\u001b[0;34m\u001b[0m\u001b[0;34m\u001b[0m\u001b[0m\n",
      "\u001b[0;32m/apps/jupyterhub/1.1.0/lib/python3.8/site-packages/requests/sessions.py\u001b[0m in \u001b[0;36mresolve_redirects\u001b[0;34m(self, resp, req, stream, timeout, verify, cert, proxies, yield_requests, **adapter_kwargs)\u001b[0m\n\u001b[1;32m    237\u001b[0m             \u001b[0;32melse\u001b[0m\u001b[0;34m:\u001b[0m\u001b[0;34m\u001b[0m\u001b[0;34m\u001b[0m\u001b[0m\n\u001b[1;32m    238\u001b[0m \u001b[0;34m\u001b[0m\u001b[0m\n\u001b[0;32m--> 239\u001b[0;31m                 resp = self.send(\n\u001b[0m\u001b[1;32m    240\u001b[0m                     \u001b[0mreq\u001b[0m\u001b[0;34m,\u001b[0m\u001b[0;34m\u001b[0m\u001b[0;34m\u001b[0m\u001b[0m\n\u001b[1;32m    241\u001b[0m                     \u001b[0mstream\u001b[0m\u001b[0;34m=\u001b[0m\u001b[0mstream\u001b[0m\u001b[0;34m,\u001b[0m\u001b[0;34m\u001b[0m\u001b[0;34m\u001b[0m\u001b[0m\n",
      "\u001b[0;32m/apps/jupyterhub/1.1.0/lib/python3.8/site-packages/requests/sessions.py\u001b[0m in \u001b[0;36msend\u001b[0;34m(self, request, **kwargs)\u001b[0m\n\u001b[1;32m    644\u001b[0m \u001b[0;34m\u001b[0m\u001b[0m\n\u001b[1;32m    645\u001b[0m         \u001b[0;31m# Send the request\u001b[0m\u001b[0;34m\u001b[0m\u001b[0;34m\u001b[0m\u001b[0;34m\u001b[0m\u001b[0m\n\u001b[0;32m--> 646\u001b[0;31m         \u001b[0mr\u001b[0m \u001b[0;34m=\u001b[0m \u001b[0madapter\u001b[0m\u001b[0;34m.\u001b[0m\u001b[0msend\u001b[0m\u001b[0;34m(\u001b[0m\u001b[0mrequest\u001b[0m\u001b[0;34m,\u001b[0m \u001b[0;34m**\u001b[0m\u001b[0mkwargs\u001b[0m\u001b[0;34m)\u001b[0m\u001b[0;34m\u001b[0m\u001b[0;34m\u001b[0m\u001b[0m\n\u001b[0m\u001b[1;32m    647\u001b[0m \u001b[0;34m\u001b[0m\u001b[0m\n\u001b[1;32m    648\u001b[0m         \u001b[0;31m# Total elapsed time of the request (approximately)\u001b[0m\u001b[0;34m\u001b[0m\u001b[0;34m\u001b[0m\u001b[0;34m\u001b[0m\u001b[0m\n",
      "\u001b[0;32m/apps/jupyterhub/1.1.0/lib/python3.8/site-packages/requests/adapters.py\u001b[0m in \u001b[0;36msend\u001b[0;34m(self, request, stream, timeout, verify, cert, proxies)\u001b[0m\n\u001b[1;32m    437\u001b[0m         \u001b[0;32mtry\u001b[0m\u001b[0;34m:\u001b[0m\u001b[0;34m\u001b[0m\u001b[0;34m\u001b[0m\u001b[0m\n\u001b[1;32m    438\u001b[0m             \u001b[0;32mif\u001b[0m \u001b[0;32mnot\u001b[0m \u001b[0mchunked\u001b[0m\u001b[0;34m:\u001b[0m\u001b[0;34m\u001b[0m\u001b[0;34m\u001b[0m\u001b[0m\n\u001b[0;32m--> 439\u001b[0;31m                 resp = conn.urlopen(\n\u001b[0m\u001b[1;32m    440\u001b[0m                     \u001b[0mmethod\u001b[0m\u001b[0;34m=\u001b[0m\u001b[0mrequest\u001b[0m\u001b[0;34m.\u001b[0m\u001b[0mmethod\u001b[0m\u001b[0;34m,\u001b[0m\u001b[0;34m\u001b[0m\u001b[0;34m\u001b[0m\u001b[0m\n\u001b[1;32m    441\u001b[0m                     \u001b[0murl\u001b[0m\u001b[0;34m=\u001b[0m\u001b[0murl\u001b[0m\u001b[0;34m,\u001b[0m\u001b[0;34m\u001b[0m\u001b[0;34m\u001b[0m\u001b[0m\n",
      "\u001b[0;32m/apps/jupyterhub/1.1.0/lib/python3.8/site-packages/urllib3/connectionpool.py\u001b[0m in \u001b[0;36murlopen\u001b[0;34m(self, method, url, body, headers, retries, redirect, assert_same_host, timeout, pool_timeout, release_conn, chunked, body_pos, **response_kw)\u001b[0m\n\u001b[1;32m    663\u001b[0m \u001b[0;34m\u001b[0m\u001b[0m\n\u001b[1;32m    664\u001b[0m             \u001b[0;31m# Make the request on the httplib connection object.\u001b[0m\u001b[0;34m\u001b[0m\u001b[0;34m\u001b[0m\u001b[0;34m\u001b[0m\u001b[0m\n\u001b[0;32m--> 665\u001b[0;31m             httplib_response = self._make_request(\n\u001b[0m\u001b[1;32m    666\u001b[0m                 \u001b[0mconn\u001b[0m\u001b[0;34m,\u001b[0m\u001b[0;34m\u001b[0m\u001b[0;34m\u001b[0m\u001b[0m\n\u001b[1;32m    667\u001b[0m                 \u001b[0mmethod\u001b[0m\u001b[0;34m,\u001b[0m\u001b[0;34m\u001b[0m\u001b[0;34m\u001b[0m\u001b[0m\n",
      "\u001b[0;32m/apps/jupyterhub/1.1.0/lib/python3.8/site-packages/urllib3/connectionpool.py\u001b[0m in \u001b[0;36m_make_request\u001b[0;34m(self, conn, method, url, timeout, chunked, **httplib_request_kw)\u001b[0m\n\u001b[1;32m    374\u001b[0m         \u001b[0;31m# Trigger any extra validation we need to do.\u001b[0m\u001b[0;34m\u001b[0m\u001b[0;34m\u001b[0m\u001b[0;34m\u001b[0m\u001b[0m\n\u001b[1;32m    375\u001b[0m         \u001b[0;32mtry\u001b[0m\u001b[0;34m:\u001b[0m\u001b[0;34m\u001b[0m\u001b[0;34m\u001b[0m\u001b[0m\n\u001b[0;32m--> 376\u001b[0;31m             \u001b[0mself\u001b[0m\u001b[0;34m.\u001b[0m\u001b[0m_validate_conn\u001b[0m\u001b[0;34m(\u001b[0m\u001b[0mconn\u001b[0m\u001b[0;34m)\u001b[0m\u001b[0;34m\u001b[0m\u001b[0;34m\u001b[0m\u001b[0m\n\u001b[0m\u001b[1;32m    377\u001b[0m         \u001b[0;32mexcept\u001b[0m \u001b[0;34m(\u001b[0m\u001b[0mSocketTimeout\u001b[0m\u001b[0;34m,\u001b[0m \u001b[0mBaseSSLError\u001b[0m\u001b[0;34m)\u001b[0m \u001b[0;32mas\u001b[0m \u001b[0me\u001b[0m\u001b[0;34m:\u001b[0m\u001b[0;34m\u001b[0m\u001b[0;34m\u001b[0m\u001b[0m\n\u001b[1;32m    378\u001b[0m             \u001b[0;31m# Py2 raises this as a BaseSSLError, Py3 raises it as socket timeout.\u001b[0m\u001b[0;34m\u001b[0m\u001b[0;34m\u001b[0m\u001b[0;34m\u001b[0m\u001b[0m\n",
      "\u001b[0;32m/apps/jupyterhub/1.1.0/lib/python3.8/site-packages/urllib3/connectionpool.py\u001b[0m in \u001b[0;36m_validate_conn\u001b[0;34m(self, conn)\u001b[0m\n\u001b[1;32m    992\u001b[0m         \u001b[0;31m# Force connect early to allow us to validate the connection.\u001b[0m\u001b[0;34m\u001b[0m\u001b[0;34m\u001b[0m\u001b[0;34m\u001b[0m\u001b[0m\n\u001b[1;32m    993\u001b[0m         \u001b[0;32mif\u001b[0m \u001b[0;32mnot\u001b[0m \u001b[0mgetattr\u001b[0m\u001b[0;34m(\u001b[0m\u001b[0mconn\u001b[0m\u001b[0;34m,\u001b[0m \u001b[0;34m\"sock\"\u001b[0m\u001b[0;34m,\u001b[0m \u001b[0;32mNone\u001b[0m\u001b[0;34m)\u001b[0m\u001b[0;34m:\u001b[0m  \u001b[0;31m# AppEngine might not have  `.sock`\u001b[0m\u001b[0;34m\u001b[0m\u001b[0;34m\u001b[0m\u001b[0m\n\u001b[0;32m--> 994\u001b[0;31m             \u001b[0mconn\u001b[0m\u001b[0;34m.\u001b[0m\u001b[0mconnect\u001b[0m\u001b[0;34m(\u001b[0m\u001b[0;34m)\u001b[0m\u001b[0;34m\u001b[0m\u001b[0;34m\u001b[0m\u001b[0m\n\u001b[0m\u001b[1;32m    995\u001b[0m \u001b[0;34m\u001b[0m\u001b[0m\n\u001b[1;32m    996\u001b[0m         \u001b[0;32mif\u001b[0m \u001b[0;32mnot\u001b[0m \u001b[0mconn\u001b[0m\u001b[0;34m.\u001b[0m\u001b[0mis_verified\u001b[0m\u001b[0;34m:\u001b[0m\u001b[0;34m\u001b[0m\u001b[0;34m\u001b[0m\u001b[0m\n",
      "\u001b[0;32m/apps/jupyterhub/1.1.0/lib/python3.8/site-packages/urllib3/connection.py\u001b[0m in \u001b[0;36mconnect\u001b[0;34m(self)\u001b[0m\n\u001b[1;32m    384\u001b[0m             \u001b[0mcontext\u001b[0m\u001b[0;34m.\u001b[0m\u001b[0mload_default_certs\u001b[0m\u001b[0;34m(\u001b[0m\u001b[0;34m)\u001b[0m\u001b[0;34m\u001b[0m\u001b[0;34m\u001b[0m\u001b[0m\n\u001b[1;32m    385\u001b[0m \u001b[0;34m\u001b[0m\u001b[0m\n\u001b[0;32m--> 386\u001b[0;31m         self.sock = ssl_wrap_socket(\n\u001b[0m\u001b[1;32m    387\u001b[0m             \u001b[0msock\u001b[0m\u001b[0;34m=\u001b[0m\u001b[0mconn\u001b[0m\u001b[0;34m,\u001b[0m\u001b[0;34m\u001b[0m\u001b[0;34m\u001b[0m\u001b[0m\n\u001b[1;32m    388\u001b[0m             \u001b[0mkeyfile\u001b[0m\u001b[0;34m=\u001b[0m\u001b[0mself\u001b[0m\u001b[0;34m.\u001b[0m\u001b[0mkey_file\u001b[0m\u001b[0;34m,\u001b[0m\u001b[0;34m\u001b[0m\u001b[0;34m\u001b[0m\u001b[0m\n",
      "\u001b[0;32m/apps/jupyterhub/1.1.0/lib/python3.8/site-packages/urllib3/util/ssl_.py\u001b[0m in \u001b[0;36mssl_wrap_socket\u001b[0;34m(sock, keyfile, certfile, cert_reqs, ca_certs, server_hostname, ssl_version, ciphers, ssl_context, ca_cert_dir, key_password)\u001b[0m\n\u001b[1;32m    368\u001b[0m     ) or IS_SECURETRANSPORT:\n\u001b[1;32m    369\u001b[0m         \u001b[0;32mif\u001b[0m \u001b[0mHAS_SNI\u001b[0m \u001b[0;32mand\u001b[0m \u001b[0mserver_hostname\u001b[0m \u001b[0;32mis\u001b[0m \u001b[0;32mnot\u001b[0m \u001b[0;32mNone\u001b[0m\u001b[0;34m:\u001b[0m\u001b[0;34m\u001b[0m\u001b[0;34m\u001b[0m\u001b[0m\n\u001b[0;32m--> 370\u001b[0;31m             \u001b[0;32mreturn\u001b[0m \u001b[0mcontext\u001b[0m\u001b[0;34m.\u001b[0m\u001b[0mwrap_socket\u001b[0m\u001b[0;34m(\u001b[0m\u001b[0msock\u001b[0m\u001b[0;34m,\u001b[0m \u001b[0mserver_hostname\u001b[0m\u001b[0;34m=\u001b[0m\u001b[0mserver_hostname\u001b[0m\u001b[0;34m)\u001b[0m\u001b[0;34m\u001b[0m\u001b[0;34m\u001b[0m\u001b[0m\n\u001b[0m\u001b[1;32m    371\u001b[0m \u001b[0;34m\u001b[0m\u001b[0m\n\u001b[1;32m    372\u001b[0m         warnings.warn(\n",
      "\u001b[0;32m/apps/jupyterhub/1.1.0/lib/python3.8/site-packages/urllib3/contrib/pyopenssl.py\u001b[0m in \u001b[0;36mwrap_socket\u001b[0;34m(self, sock, server_side, do_handshake_on_connect, suppress_ragged_eofs, server_hostname)\u001b[0m\n\u001b[1;32m    483\u001b[0m         \u001b[0;32mwhile\u001b[0m \u001b[0;32mTrue\u001b[0m\u001b[0;34m:\u001b[0m\u001b[0;34m\u001b[0m\u001b[0;34m\u001b[0m\u001b[0m\n\u001b[1;32m    484\u001b[0m             \u001b[0;32mtry\u001b[0m\u001b[0;34m:\u001b[0m\u001b[0;34m\u001b[0m\u001b[0;34m\u001b[0m\u001b[0m\n\u001b[0;32m--> 485\u001b[0;31m                 \u001b[0mcnx\u001b[0m\u001b[0;34m.\u001b[0m\u001b[0mdo_handshake\u001b[0m\u001b[0;34m(\u001b[0m\u001b[0;34m)\u001b[0m\u001b[0;34m\u001b[0m\u001b[0;34m\u001b[0m\u001b[0m\n\u001b[0m\u001b[1;32m    486\u001b[0m             \u001b[0;32mexcept\u001b[0m \u001b[0mOpenSSL\u001b[0m\u001b[0;34m.\u001b[0m\u001b[0mSSL\u001b[0m\u001b[0;34m.\u001b[0m\u001b[0mWantReadError\u001b[0m\u001b[0;34m:\u001b[0m\u001b[0;34m\u001b[0m\u001b[0;34m\u001b[0m\u001b[0m\n\u001b[1;32m    487\u001b[0m                 \u001b[0;32mif\u001b[0m \u001b[0;32mnot\u001b[0m \u001b[0mutil\u001b[0m\u001b[0;34m.\u001b[0m\u001b[0mwait_for_read\u001b[0m\u001b[0;34m(\u001b[0m\u001b[0msock\u001b[0m\u001b[0;34m,\u001b[0m \u001b[0msock\u001b[0m\u001b[0;34m.\u001b[0m\u001b[0mgettimeout\u001b[0m\u001b[0;34m(\u001b[0m\u001b[0;34m)\u001b[0m\u001b[0;34m)\u001b[0m\u001b[0;34m:\u001b[0m\u001b[0;34m\u001b[0m\u001b[0;34m\u001b[0m\u001b[0m\n",
      "\u001b[0;32m/apps/jupyterhub/1.1.0/lib/python3.8/site-packages/OpenSSL/SSL.py\u001b[0m in \u001b[0;36mdo_handshake\u001b[0;34m(self)\u001b[0m\n\u001b[1;32m   1931\u001b[0m         \u001b[0;34m:\u001b[0m\u001b[0;32mreturn\u001b[0m\u001b[0;34m:\u001b[0m \u001b[0;32mNone\u001b[0m\u001b[0;34m.\u001b[0m\u001b[0;34m\u001b[0m\u001b[0;34m\u001b[0m\u001b[0m\n\u001b[1;32m   1932\u001b[0m         \"\"\"\n\u001b[0;32m-> 1933\u001b[0;31m         \u001b[0mresult\u001b[0m \u001b[0;34m=\u001b[0m \u001b[0m_lib\u001b[0m\u001b[0;34m.\u001b[0m\u001b[0mSSL_do_handshake\u001b[0m\u001b[0;34m(\u001b[0m\u001b[0mself\u001b[0m\u001b[0;34m.\u001b[0m\u001b[0m_ssl\u001b[0m\u001b[0;34m)\u001b[0m\u001b[0;34m\u001b[0m\u001b[0;34m\u001b[0m\u001b[0m\n\u001b[0m\u001b[1;32m   1934\u001b[0m         \u001b[0mself\u001b[0m\u001b[0;34m.\u001b[0m\u001b[0m_raise_ssl_error\u001b[0m\u001b[0;34m(\u001b[0m\u001b[0mself\u001b[0m\u001b[0;34m.\u001b[0m\u001b[0m_ssl\u001b[0m\u001b[0;34m,\u001b[0m \u001b[0mresult\u001b[0m\u001b[0;34m)\u001b[0m\u001b[0;34m\u001b[0m\u001b[0;34m\u001b[0m\u001b[0m\n\u001b[1;32m   1935\u001b[0m \u001b[0;34m\u001b[0m\u001b[0m\n",
      "\u001b[0;31mKeyboardInterrupt\u001b[0m: "
     ]
    }
   ],
   "source": [
    "params = {'stars':'all'}\n",
    "\n",
    "for id in ids:\n",
    "    url = \"http://www.tng-project.org/api/Illustris-1/snapshots/z=2/subhalos/\" + str(id)\n",
    "    sub = get(url)\n",
    "    saved_filename = get(sub['cutouts']['parent_halo'],params)\n",
    "    print(sub['id'], sub['grnr'], saved_filename)"
   ]
  },
  {
   "cell_type": "markdown",
   "id": "4243a91f-de2e-4eab-8af0-c09a400640c1",
   "metadata": {},
   "source": [
    "# Ex 6"
   ]
  },
  {
   "cell_type": "markdown",
   "id": "d2b0fcbc-202a-4668-b168-729f9f41f9bc",
   "metadata": {},
   "source": [
    "for Illustris-1 at z=2 for Subfind ID 109974, get a cutout including only the positions and metallicities of stars, and calculate the mean stellar metallicity in solar units within the annuli 3kpc<r<5kpc (proper) centered on the fiducial subhalo position."
   ]
  },
  {
   "cell_type": "code",
   "execution_count": 53,
   "id": "c82c3439-06e2-4eab-bc62-13458afab4a2",
   "metadata": {},
   "outputs": [],
   "source": [
    "import h5py\n",
    "import numpy as np\n",
    "\n",
    "id = 109974\n",
    "\n",
    "redshift = 2.0\n",
    "params = {'stars':'Coordinates,GFM_Metallicity'}\n",
    "\n",
    "scale_factor = 1.0 / (1+redshift)\n",
    "little_h = 0.704\n",
    "solar_Z = 0.0127\n",
    "\n",
    "url = \"http://www.tng-project.org/api/Illustris-1/snapshots/z=\" + str(redshift) + \"/subhalos/\" + str(id)\n",
    "sub = get(url) # get json response of subhalo properties\n",
    "saved_filename = get(url + \"/cutout.hdf5\",params) # get and save HDF5 cutout file"
   ]
  },
  {
   "cell_type": "code",
   "execution_count": 54,
   "id": "6dfc68bb-2b64-44cd-a6ee-0ab4e1cc3b52",
   "metadata": {},
   "outputs": [
    {
     "name": "stdout",
     "output_type": "stream",
     "text": [
      "0.24839260388077714\n"
     ]
    }
   ],
   "source": [
    "# NOTE! If the subhalo is near the edge of the box, you must take the periodic boundary\n",
    "# into account! (we ignore it here)\n",
    "\n",
    "with h5py.File(saved_filename) as f:\n",
    "    dx = f['PartType4']['Coordinates'][:,0] - sub['pos_x']\n",
    "    dy = f['PartType4']['Coordinates'][:,1] - sub['pos_y']\n",
    "    dz = f['PartType4']['Coordinates'][:,2] - sub['pos_z']\n",
    "    metals = f['PartType4']['GFM_Metallicity'][:]\n",
    "\n",
    "    rr = np.sqrt(dx**2 + dy**2 + dz**2)\n",
    "    rr *= scale_factor/little_h # ckpc/h -> physical kpc\n",
    "\n",
    "    w = np.where( (rr >= 3.0) & (rr < 5.0) )    \n",
    "    print(np.mean( metals[w] ) / solar_Z)"
   ]
  },
  {
   "cell_type": "markdown",
   "id": "156c6481-2c72-4ef5-be68-5a2517ea8d5b",
   "metadata": {},
   "source": [
    "# Ex 7"
   ]
  },
  {
   "cell_type": "markdown",
   "id": "21077b4d-8f3f-4ddc-867d-baa3fc7ae300",
   "metadata": {},
   "source": [
    "for Illustris-1 at z=2, for five specific Subfind IDs (from above: 109974, 110822, 123175, 107743, 95711), locate the z=0 descendant of each by using the API to walk down the SubLink descendant links."
   ]
  },
  {
   "cell_type": "code",
   "execution_count": 55,
   "id": "621f8432-3d40-415e-93f0-c60009282208",
   "metadata": {},
   "outputs": [
    {
     "name": "stdout",
     "output_type": "stream",
     "text": [
      "Descendant of 109974 at z=0 is 41092\n",
      "Descendant of 110822 at z=0 is 338375\n",
      "Descendant of 123175 at z=0 is 257378\n",
      "Descendant of 107743 at z=0 is 110568\n",
      "Descendant of 95711 at z=0 is 260067\n"
     ]
    }
   ],
   "source": [
    "ids = [109974, 110822, 123175, 107743, 95711]\n",
    "z0_descendant_ids = [-1]*len(ids)\n",
    "\n",
    "for i,id in enumerate(ids):\n",
    "    start_url = \"http://www.tng-project.org/api/Illustris-1/snapshots/68/subhalos/\" + str(id)\n",
    "    sub = get(start_url)\n",
    "    \n",
    "    ## request full subhalo details of descendant by following sublink URL\n",
    "    while sub['desc_sfid'] != -1:\n",
    "        sub = get(sub['related']['sublink_descendant']) \n",
    "        if sub['snap'] == 135:\n",
    "            z0_descendant_ids[i] = sub['id']\n",
    "    \n",
    "    if z0_descendant_ids[i] >= 0:\n",
    "        print('Descendant of ' + str(id) + ' at z=0 is ' + str(z0_descendant_ids[i]))\n",
    "    else:\n",
    "        print('Descendant of ' + str(id) + ' not followed to z=0!')"
   ]
  },
  {
   "cell_type": "markdown",
   "id": "1445c952-e404-49c9-ad6c-b428764c16fa",
   "metadata": {},
   "source": [
    "# Ex 8"
   ]
  },
  {
   "cell_type": "markdown",
   "id": "dc74ec36-1593-44b0-8fc3-bda196698ff7",
   "metadata": {},
   "source": [
    "for Illustris-1 at z=2 track Subfind ID 109974 to z=0, using the API to walk down the SubLink descendant links, and plot the mass evolution of each component (gas, dark matter, stars, and black holes)."
   ]
  },
  {
   "cell_type": "code",
   "execution_count": 93,
   "id": "d102b405-f4d6-4d69-a2d4-50f4d0eb7d77",
   "metadata": {},
   "outputs": [
    {
     "name": "stderr",
     "output_type": "stream",
     "text": [
      "/scratch/local/12799909/ipykernel_13864/2236232332.py:21: RuntimeWarning: divide by zero encountered in log10\n",
      "  mass_logmsun = np.log10(np.array(r['mass_'+partType])*1e10/0.704)\n"
     ]
    },
    {
     "data": {
      "text/plain": [
       "<matplotlib.legend.Legend at 0x2b7fc724d460>"
      ]
     },
     "execution_count": 93,
     "metadata": {},
     "output_type": "execute_result"
    },
    {
     "data": {
      "image/png": "[encoded data removed]",
      "text/plain": [
       "<Figure size 432x288 with 1 Axes>"
      ]
     },
     "metadata": {
      "needs_background": "light"
     },
     "output_type": "display_data"
    }
   ],
   "source": [
    "id = 109974\n",
    "url = \"http://www.tng-project.org/api/Illustris-1/snapshots/68/subhalos/\" + str(id)\n",
    "sub = get(url) # get json response of subhalo properties\n",
    "\n",
    "## prepare dict to hole result arrays\n",
    "fields = ['snap', 'id', 'mass_gas', 'mass_stars', 'mass_dm', 'mass_bhs']\n",
    "r = {}\n",
    "\n",
    "for field in fields:\n",
    "    r[field] = []\n",
    "    \n",
    "while sub['desc_sfid'] != -1:\n",
    "    for field in fields:\n",
    "        r[field].append(sub[field])\n",
    "    \n",
    "    ## request full subhalo details of descendant\n",
    "    sub = get(sub['related']['sublink_descendant'])\n",
    "\n",
    "## make a plot, subhalo falls into a more massive halo around snapshot 105\n",
    "for partType in ['gas','dm','stars','bhs']:\n",
    "    mass_logmsun = np.log10(np.array(r['mass_'+partType])*1e10/0.704)\n",
    "    plt.plot(r['snap'],mass_logmsun,label=partType)\n",
    "\n",
    "plt.xlabel('Snapshot Number')\n",
    "plt.ylabel('Mass [log $M_\\odot$]')\n",
    "plt.legend(loc = 'lower right')"
   ]
  },
  {
   "cell_type": "markdown",
   "id": "87d9eaf3-3dfa-4a16-bf2f-c324b6f4c60e",
   "metadata": {},
   "source": [
    "# Ex 9"
   ]
  },
  {
   "cell_type": "markdown",
   "id": "ee79f755-ac71-41de-a512-81d2c0c4d075",
   "metadata": {},
   "source": [
    "for Illustris-1 at z=0, check if pre-rendered mock stellar images exist for five specific Subfind IDs (the descendants from above: 41092, 338375, 257378, 110568, 260067). If so, download and display the PNGs."
   ]
  },
  {
   "cell_type": "code",
   "execution_count": 94,
   "id": "c530df72-61d1-47ea-8401-e6273dc3a4ca",
   "metadata": {},
   "outputs": [
    {
     "data": {
      "image/png": "[encoded data removed]",
      "text/plain": [
       "<Figure size 1080x216 with 5 Axes>"
      ]
     },
     "metadata": {},
     "output_type": "display_data"
    }
   ],
   "source": [
    "import matplotlib.image as mpimg\n",
    "from io import BytesIO\n",
    "\n",
    "ids = [41092,338375,257378,110568,260067]\n",
    "\n",
    "sub_count = 1\n",
    "plt.figure(figsize = [15,3])\n",
    "\n",
    "for id in ids:\n",
    "    url = \"http://www.tng-project.org/api/Illustris-1/snapshots/135/subhalos/\" + str(id)\n",
    "    sub = get(url)\n",
    "    \n",
    "    ## possible data doesn't exist for all subhalos so\n",
    "    if 'stellar_mocks' in sub['supplementary_data']:\n",
    "        ## download PNG image version w/ all stars in FoF halo\n",
    "        png_url = sub['supplementary_data']['stellar_mocks']['image_fof']\n",
    "        response = get(png_url)\n",
    "        \n",
    "        plt.subplot(1,len(ids),sub_count)\n",
    "        plt.text(0,-20,\"ID=\"+str(id),color='blue')\n",
    "        plt.gca().axes.get_xaxis().set_ticks([])\n",
    "        plt.gca().axes.get_yaxis().set_ticks([])\n",
    "        sub_count += 1\n",
    "                                                            \n",
    "        file_object = BytesIO(response.content)\n",
    "        plt.imshow(mpimg.imread(file_object))                                    "
   ]
  },
  {
   "cell_type": "markdown",
   "id": "61163a18-e0fc-41f1-b627-35495bb93cbb",
   "metadata": {},
   "source": [
    "# Ex 10"
   ]
  },
  {
   "cell_type": "markdown",
   "id": "3f606602-449c-4f0d-a692-33028db4dfd3",
   "metadata": {},
   "source": [
    "download the entire Illustris-1 z=0 snapshot including only the positions, masses, and metallicities of stars (in the form of 512 HDF5 files)."
   ]
  },
  {
   "cell_type": "code",
   "execution_count": 95,
   "id": "a11b8feb-ab42-4856-8fb9-c1ab90a8abc3",
   "metadata": {},
   "outputs": [
    {
     "data": {
      "text/plain": [
       "'/home/odonnells/ast490'"
      ]
     },
     "execution_count": 95,
     "metadata": {},
     "output_type": "execute_result"
    }
   ],
   "source": []
  },
  {
   "cell_type": "code",
   "execution_count": 1,
   "id": "35fec771-f9d8-4a8e-a384-20a33322da85",
   "metadata": {},
   "outputs": [
    {
     "ename": "NameError",
     "evalue": "name 'get' is not defined",
     "output_type": "error",
     "traceback": [
      "\u001b[0;31m---------------------------------------------------------------------------\u001b[0m",
      "\u001b[0;31mNameError\u001b[0m                                 Traceback (most recent call last)",
      "\u001b[0;32m/scratch/local/14066368/ipykernel_3700/2236232332.py\u001b[0m in \u001b[0;36m<module>\u001b[0;34m\u001b[0m\n\u001b[1;32m      1\u001b[0m \u001b[0mid\u001b[0m \u001b[0;34m=\u001b[0m \u001b[0;36m109974\u001b[0m\u001b[0;34m\u001b[0m\u001b[0;34m\u001b[0m\u001b[0m\n\u001b[1;32m      2\u001b[0m \u001b[0murl\u001b[0m \u001b[0;34m=\u001b[0m \u001b[0;34m\"http://www.tng-project.org/api/Illustris-1/snapshots/68/subhalos/\"\u001b[0m \u001b[0;34m+\u001b[0m \u001b[0mstr\u001b[0m\u001b[0;34m(\u001b[0m\u001b[0mid\u001b[0m\u001b[0;34m)\u001b[0m\u001b[0;34m\u001b[0m\u001b[0;34m\u001b[0m\u001b[0m\n\u001b[0;32m----> 3\u001b[0;31m \u001b[0msub\u001b[0m \u001b[0;34m=\u001b[0m \u001b[0mget\u001b[0m\u001b[0;34m(\u001b[0m\u001b[0murl\u001b[0m\u001b[0;34m)\u001b[0m \u001b[0;31m# get json response of subhalo properties\u001b[0m\u001b[0;34m\u001b[0m\u001b[0;34m\u001b[0m\u001b[0m\n\u001b[0m\u001b[1;32m      4\u001b[0m \u001b[0;34m\u001b[0m\u001b[0m\n\u001b[1;32m      5\u001b[0m \u001b[0;31m## prepare dict to hole result arrays\u001b[0m\u001b[0;34m\u001b[0m\u001b[0;34m\u001b[0m\u001b[0;34m\u001b[0m\u001b[0m\n",
      "\u001b[0;31mNameError\u001b[0m: name 'get' is not defined"
     ]
    }
   ],
   "source": []
  },
  {
   "cell_type": "code",
   "execution_count": null,
   "id": "90d26b3a-ef81-4770-9ce1-8c7adeca827f",
   "metadata": {},
   "outputs": [],
   "source": []
  }
 ],
 "metadata": {
  "kernelspec": {
   "display_name": "Python 3 (ipykernel)",
   "language": "python",
   "name": "python3"
  },
  "language_info": {
   "codemirror_mode": {
    "name": "ipython",
    "version": 3
   },
   "file_extension": ".py",
   "mimetype": "text/x-python",
   "name": "python",
   "nbconvert_exporter": "python",
   "pygments_lexer": "ipython3",
   "version": "3.8.1"
  }
 },
 "nbformat": 4,
 "nbformat_minor": 5
}
