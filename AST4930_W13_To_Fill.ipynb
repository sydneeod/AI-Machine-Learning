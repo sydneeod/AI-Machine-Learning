{
 "cells": [
  {
   "cell_type": "markdown",
   "metadata": {},
   "source": [
    "### Deep Neural Networks"
   ]
  },
  {
   "cell_type": "code",
   "execution_count": 1,
   "metadata": {},
   "outputs": [
    {
     "data": {
      "text/plain": [
       "<matplotlib.collections.PathCollection at 0x2afe72f33700>"
      ]
     },
     "execution_count": 1,
     "metadata": {},
     "output_type": "execute_result"
    },
    {
     "data": {
      "image/png": "[encoded data removed]",
      "text/plain": [
       "<Figure size 432x288 with 1 Axes>"
      ]
     },
     "metadata": {
      "needs_background": "light"
     },
     "output_type": "display_data"
    }
   ],
   "source": [
    "from sklearn.datasets import load_iris\n",
    "import numpy as np\n",
    "import matplotlib.pyplot as plt \n",
    "\n",
    "iris = load_iris()\n",
    "X = iris.data[:, (2, 3)]  # petal length, petal width\n",
    "y = iris.target\n",
    "\n",
    "plt.scatter(X[:,0],X[:,1],c=y)"
   ]
  },
  {
   "cell_type": "code",
   "execution_count": 2,
   "metadata": {},
   "outputs": [],
   "source": [
    "from sklearn.model_selection import train_test_split\n",
    "\n",
    "X_train, X_test, y_train, y_test = train_test_split(X, y, test_size=0.2, random_state=0)"
   ]
  },
  {
   "cell_type": "markdown",
   "metadata": {},
   "source": [
    "### Let's build our first neural network. You will have to choose a Tensorflow kernel on OOD.\n",
    "\n",
    "We will use Keras implemented onto Tensorflow.\n",
    "\n",
    "Keras: https://keras.io/\n",
    "\n",
    "Tensorflow: https://www.tensorflow.org/"
   ]
  },
  {
   "cell_type": "code",
   "execution_count": 3,
   "metadata": {},
   "outputs": [
    {
     "name": "stderr",
     "output_type": "stream",
     "text": [
      "2021-11-18 11:58:51.930713: W tensorflow/stream_executor/platform/default/dso_loader.cc:64] Could not load dynamic library 'libcuda.so.1'; dlerror: libcuda.so.1: cannot open shared object file: No such file or directory; LD_LIBRARY_PATH: /opt/slurm/lib64:/opt/slurm/lib64:\n",
      "2021-11-18 11:58:51.930761: W tensorflow/stream_executor/cuda/cuda_driver.cc:269] failed call to cuInit: UNKNOWN ERROR (303)\n",
      "2021-11-18 11:58:51.930786: I tensorflow/stream_executor/cuda/cuda_diagnostics.cc:156] kernel driver does not appear to be running on this host (c0704a-s7.ufhpc): /proc/driver/nvidia/version does not exist\n",
      "2021-11-18 11:58:51.931030: I tensorflow/core/platform/cpu_feature_guard.cc:142] This TensorFlow binary is optimized with oneAPI Deep Neural Network Library (oneDNN) to use the following CPU instructions in performance-critical operations:  SSE4.1 SSE4.2 AVX AVX2 FMA\n",
      "To enable them in other operations, rebuild TensorFlow with the appropriate compiler flags.\n"
     ]
    }
   ],
   "source": [
    "import tensorflow.keras as keras\n",
    "\n",
    "# Initialize a model.\n",
    "model = keras.models.Sequential()\n",
    "\n",
    "# Add the input layer and specifying its shape.\n",
    "model.add(keras.layers.Input(shape=X_train.shape[1])) ## add a layer, need input layer first. We have 2 features so need x1 and x2. X_train.shape[1] will give us 2\n",
    "\n",
    "# Add the first hidden layer with 1000 neurons and the ReLU activation function.\n",
    "model.add(keras.layers.Dense(1000, activation='relu')) ## add a hidden layer, call it dense. 1000 neurons using relu\n",
    "\n",
    "# Add the second hidden layer with 1000 neurons and the ReLU activation function.\n",
    "model.add(keras.layers.Dense(1000, activation='relu')) ## another hidden layer\n",
    "\n",
    "# Add the output layer\n",
    "model.add(keras.layers.Dense(np.unique(y).shape[0], activation='softmax'))\n",
    "## output layer, how many features are there"
   ]
  },
  {
   "cell_type": "code",
   "execution_count": 4,
   "metadata": {},
   "outputs": [
    {
     "data": {
      "text/plain": [
       "3"
      ]
     },
     "execution_count": 4,
     "metadata": {},
     "output_type": "execute_result"
    }
   ],
   "source": [
    "np.unique(y).shape[0]"
   ]
  },
  {
   "cell_type": "markdown",
   "metadata": {},
   "source": [
    "3 features all connected "
   ]
  },
  {
   "cell_type": "markdown",
   "metadata": {},
   "source": [
    "### We can use the following syntax instead."
   ]
  },
  {
   "cell_type": "code",
   "execution_count": 5,
   "metadata": {},
   "outputs": [],
   "source": [
    "model = keras.models.Sequential()\n",
    "\n",
    "# This line combines the input layer and the first hidden layer.\n",
    "model.add(keras.layers.Dense(1000, input_dim=X_train.shape[1], activation='relu')) ## can combine first hidden layer with input layer\n",
    "## can also use input dimension instead of what we did above\n",
    "model.add(keras.layers.Dense(1000, activation='relu'))\n",
    "model.add(keras.layers.Dense(np.unique(y).shape[0], activation='softmax'))"
   ]
  },
  {
   "cell_type": "markdown",
   "metadata": {},
   "source": [
    "### We can also use the following syntax."
   ]
  },
  {
   "cell_type": "code",
   "execution_count": 6,
   "metadata": {},
   "outputs": [],
   "source": [
    "model = keras.models.Sequential([\n",
    "    keras.layers.Input(shape=X_train.shape[1]),\n",
    "    keras.layers.Dense(1000, activation='relu'),\n",
    "    keras.layers.Dense(1000, activation='relu',),\n",
    "    keras.layers.Dense(np.unique(y).shape[0], activation='softmax')\n",
    "])\n",
    "## can also put evrything in same bracket, all works"
   ]
  },
  {
   "cell_type": "markdown",
   "metadata": {},
   "source": [
    "### Let's check the \"architecture\" of our neural network. Note that the input layer does not show up here."
   ]
  },
  {
   "cell_type": "code",
   "execution_count": 7,
   "metadata": {},
   "outputs": [
    {
     "name": "stdout",
     "output_type": "stream",
     "text": [
      "Model: \"sequential_2\"\n",
      "_________________________________________________________________\n",
      "Layer (type)                 Output Shape              Param #   \n",
      "=================================================================\n",
      "dense_6 (Dense)              (None, 1000)              3000      \n",
      "_________________________________________________________________\n",
      "dense_7 (Dense)              (None, 1000)              1001000   \n",
      "_________________________________________________________________\n",
      "dense_8 (Dense)              (None, 3)                 3003      \n",
      "=================================================================\n",
      "Total params: 1,007,003\n",
      "Trainable params: 1,007,003\n",
      "Non-trainable params: 0\n",
      "_________________________________________________________________\n"
     ]
    }
   ],
   "source": [
    "model.summary()"
   ]
  },
  {
   "cell_type": "markdown",
   "metadata": {},
   "source": [
    "1st hidden layer 1000 neurons\n",
    "\n",
    "2nd hidden 1000 neurons\n",
    "\n",
    "output layer 3 neurons \n",
    "\n",
    "total ~1 million parameters "
   ]
  },
  {
   "cell_type": "markdown",
   "metadata": {},
   "source": [
    "### We can also have a look at the weights."
   ]
  },
  {
   "cell_type": "code",
   "execution_count": 7,
   "metadata": {
    "collapsed": true,
    "jupyter": {
     "outputs_hidden": true
    },
    "tags": []
   },
   "outputs": [
    {
     "data": {
      "text/plain": [
       "[<tf.Variable 'dense_6/kernel:0' shape=(2, 1000) dtype=float32, numpy=\n",
       " array([[ 0.0061527 ,  0.06774743, -0.07542983, ..., -0.01343764,\n",
       "         -0.00240877,  0.03150436],\n",
       "        [-0.03755854,  0.0462527 , -0.01792387, ..., -0.058469  ,\n",
       "         -0.03261517, -0.01701734]], dtype=float32)>,\n",
       " <tf.Variable 'dense_6/bias:0' shape=(1000,) dtype=float32, numpy=\n",
       " array([0., 0., 0., 0., 0., 0., 0., 0., 0., 0., 0., 0., 0., 0., 0., 0., 0.,\n",
       "        0., 0., 0., 0., 0., 0., 0., 0., 0., 0., 0., 0., 0., 0., 0., 0., 0.,\n",
       "        0., 0., 0., 0., 0., 0., 0., 0., 0., 0., 0., 0., 0., 0., 0., 0., 0.,\n",
       "        0., 0., 0., 0., 0., 0., 0., 0., 0., 0., 0., 0., 0., 0., 0., 0., 0.,\n",
       "        0., 0., 0., 0., 0., 0., 0., 0., 0., 0., 0., 0., 0., 0., 0., 0., 0.,\n",
       "        0., 0., 0., 0., 0., 0., 0., 0., 0., 0., 0., 0., 0., 0., 0., 0., 0.,\n",
       "        0., 0., 0., 0., 0., 0., 0., 0., 0., 0., 0., 0., 0., 0., 0., 0., 0.,\n",
       "        0., 0., 0., 0., 0., 0., 0., 0., 0., 0., 0., 0., 0., 0., 0., 0., 0.,\n",
       "        0., 0., 0., 0., 0., 0., 0., 0., 0., 0., 0., 0., 0., 0., 0., 0., 0.,\n",
       "        0., 0., 0., 0., 0., 0., 0., 0., 0., 0., 0., 0., 0., 0., 0., 0., 0.,\n",
       "        0., 0., 0., 0., 0., 0., 0., 0., 0., 0., 0., 0., 0., 0., 0., 0., 0.,\n",
       "        0., 0., 0., 0., 0., 0., 0., 0., 0., 0., 0., 0., 0., 0., 0., 0., 0.,\n",
       "        0., 0., 0., 0., 0., 0., 0., 0., 0., 0., 0., 0., 0., 0., 0., 0., 0.,\n",
       "        0., 0., 0., 0., 0., 0., 0., 0., 0., 0., 0., 0., 0., 0., 0., 0., 0.,\n",
       "        0., 0., 0., 0., 0., 0., 0., 0., 0., 0., 0., 0., 0., 0., 0., 0., 0.,\n",
       "        0., 0., 0., 0., 0., 0., 0., 0., 0., 0., 0., 0., 0., 0., 0., 0., 0.,\n",
       "        0., 0., 0., 0., 0., 0., 0., 0., 0., 0., 0., 0., 0., 0., 0., 0., 0.,\n",
       "        0., 0., 0., 0., 0., 0., 0., 0., 0., 0., 0., 0., 0., 0., 0., 0., 0.,\n",
       "        0., 0., 0., 0., 0., 0., 0., 0., 0., 0., 0., 0., 0., 0., 0., 0., 0.,\n",
       "        0., 0., 0., 0., 0., 0., 0., 0., 0., 0., 0., 0., 0., 0., 0., 0., 0.,\n",
       "        0., 0., 0., 0., 0., 0., 0., 0., 0., 0., 0., 0., 0., 0., 0., 0., 0.,\n",
       "        0., 0., 0., 0., 0., 0., 0., 0., 0., 0., 0., 0., 0., 0., 0., 0., 0.,\n",
       "        0., 0., 0., 0., 0., 0., 0., 0., 0., 0., 0., 0., 0., 0., 0., 0., 0.,\n",
       "        0., 0., 0., 0., 0., 0., 0., 0., 0., 0., 0., 0., 0., 0., 0., 0., 0.,\n",
       "        0., 0., 0., 0., 0., 0., 0., 0., 0., 0., 0., 0., 0., 0., 0., 0., 0.,\n",
       "        0., 0., 0., 0., 0., 0., 0., 0., 0., 0., 0., 0., 0., 0., 0., 0., 0.,\n",
       "        0., 0., 0., 0., 0., 0., 0., 0., 0., 0., 0., 0., 0., 0., 0., 0., 0.,\n",
       "        0., 0., 0., 0., 0., 0., 0., 0., 0., 0., 0., 0., 0., 0., 0., 0., 0.,\n",
       "        0., 0., 0., 0., 0., 0., 0., 0., 0., 0., 0., 0., 0., 0., 0., 0., 0.,\n",
       "        0., 0., 0., 0., 0., 0., 0., 0., 0., 0., 0., 0., 0., 0., 0., 0., 0.,\n",
       "        0., 0., 0., 0., 0., 0., 0., 0., 0., 0., 0., 0., 0., 0., 0., 0., 0.,\n",
       "        0., 0., 0., 0., 0., 0., 0., 0., 0., 0., 0., 0., 0., 0., 0., 0., 0.,\n",
       "        0., 0., 0., 0., 0., 0., 0., 0., 0., 0., 0., 0., 0., 0., 0., 0., 0.,\n",
       "        0., 0., 0., 0., 0., 0., 0., 0., 0., 0., 0., 0., 0., 0., 0., 0., 0.,\n",
       "        0., 0., 0., 0., 0., 0., 0., 0., 0., 0., 0., 0., 0., 0., 0., 0., 0.,\n",
       "        0., 0., 0., 0., 0., 0., 0., 0., 0., 0., 0., 0., 0., 0., 0., 0., 0.,\n",
       "        0., 0., 0., 0., 0., 0., 0., 0., 0., 0., 0., 0., 0., 0., 0., 0., 0.,\n",
       "        0., 0., 0., 0., 0., 0., 0., 0., 0., 0., 0., 0., 0., 0., 0., 0., 0.,\n",
       "        0., 0., 0., 0., 0., 0., 0., 0., 0., 0., 0., 0., 0., 0., 0., 0., 0.,\n",
       "        0., 0., 0., 0., 0., 0., 0., 0., 0., 0., 0., 0., 0., 0., 0., 0., 0.,\n",
       "        0., 0., 0., 0., 0., 0., 0., 0., 0., 0., 0., 0., 0., 0., 0., 0., 0.,\n",
       "        0., 0., 0., 0., 0., 0., 0., 0., 0., 0., 0., 0., 0., 0., 0., 0., 0.,\n",
       "        0., 0., 0., 0., 0., 0., 0., 0., 0., 0., 0., 0., 0., 0., 0., 0., 0.,\n",
       "        0., 0., 0., 0., 0., 0., 0., 0., 0., 0., 0., 0., 0., 0., 0., 0., 0.,\n",
       "        0., 0., 0., 0., 0., 0., 0., 0., 0., 0., 0., 0., 0., 0., 0., 0., 0.,\n",
       "        0., 0., 0., 0., 0., 0., 0., 0., 0., 0., 0., 0., 0., 0., 0., 0., 0.,\n",
       "        0., 0., 0., 0., 0., 0., 0., 0., 0., 0., 0., 0., 0., 0., 0., 0., 0.,\n",
       "        0., 0., 0., 0., 0., 0., 0., 0., 0., 0., 0., 0., 0., 0., 0., 0., 0.,\n",
       "        0., 0., 0., 0., 0., 0., 0., 0., 0., 0., 0., 0., 0., 0., 0., 0., 0.,\n",
       "        0., 0., 0., 0., 0., 0., 0., 0., 0., 0., 0., 0., 0., 0., 0., 0., 0.,\n",
       "        0., 0., 0., 0., 0., 0., 0., 0., 0., 0., 0., 0., 0., 0., 0., 0., 0.,\n",
       "        0., 0., 0., 0., 0., 0., 0., 0., 0., 0., 0., 0., 0., 0., 0., 0., 0.,\n",
       "        0., 0., 0., 0., 0., 0., 0., 0., 0., 0., 0., 0., 0., 0., 0., 0., 0.,\n",
       "        0., 0., 0., 0., 0., 0., 0., 0., 0., 0., 0., 0., 0., 0., 0., 0., 0.,\n",
       "        0., 0., 0., 0., 0., 0., 0., 0., 0., 0., 0., 0., 0., 0., 0., 0., 0.,\n",
       "        0., 0., 0., 0., 0., 0., 0., 0., 0., 0., 0., 0., 0., 0., 0., 0., 0.,\n",
       "        0., 0., 0., 0., 0., 0., 0., 0., 0., 0., 0., 0., 0., 0., 0., 0., 0.,\n",
       "        0., 0., 0., 0., 0., 0., 0., 0., 0., 0., 0., 0., 0., 0., 0., 0., 0.,\n",
       "        0., 0., 0., 0., 0., 0., 0., 0., 0., 0., 0., 0., 0., 0.],\n",
       "       dtype=float32)>,\n",
       " <tf.Variable 'dense_7/kernel:0' shape=(1000, 1000) dtype=float32, numpy=\n",
       " array([[-0.00560249,  0.02487553,  0.00156048, ..., -0.05373225,\n",
       "          0.02867492,  0.04390101],\n",
       "        [ 0.00939515,  0.04058075,  0.04958786, ...,  0.0120432 ,\n",
       "          0.00652124, -0.03673306],\n",
       "        [ 0.02930793, -0.01901624, -0.05063776, ..., -0.02354753,\n",
       "         -0.0352375 ,  0.00263099],\n",
       "        ...,\n",
       "        [ 0.00394921,  0.02620187,  0.01790932, ...,  0.01619292,\n",
       "         -0.0401828 , -0.02751042],\n",
       "        [-0.04800862,  0.05311244,  0.01782594, ...,  0.0380203 ,\n",
       "          0.03475033, -0.04937063],\n",
       "        [-0.04495797, -0.01708069, -0.01291577, ..., -0.03172532,\n",
       "          0.03202554, -0.02885513]], dtype=float32)>,\n",
       " <tf.Variable 'dense_7/bias:0' shape=(1000,) dtype=float32, numpy=\n",
       " array([0., 0., 0., 0., 0., 0., 0., 0., 0., 0., 0., 0., 0., 0., 0., 0., 0.,\n",
       "        0., 0., 0., 0., 0., 0., 0., 0., 0., 0., 0., 0., 0., 0., 0., 0., 0.,\n",
       "        0., 0., 0., 0., 0., 0., 0., 0., 0., 0., 0., 0., 0., 0., 0., 0., 0.,\n",
       "        0., 0., 0., 0., 0., 0., 0., 0., 0., 0., 0., 0., 0., 0., 0., 0., 0.,\n",
       "        0., 0., 0., 0., 0., 0., 0., 0., 0., 0., 0., 0., 0., 0., 0., 0., 0.,\n",
       "        0., 0., 0., 0., 0., 0., 0., 0., 0., 0., 0., 0., 0., 0., 0., 0., 0.,\n",
       "        0., 0., 0., 0., 0., 0., 0., 0., 0., 0., 0., 0., 0., 0., 0., 0., 0.,\n",
       "        0., 0., 0., 0., 0., 0., 0., 0., 0., 0., 0., 0., 0., 0., 0., 0., 0.,\n",
       "        0., 0., 0., 0., 0., 0., 0., 0., 0., 0., 0., 0., 0., 0., 0., 0., 0.,\n",
       "        0., 0., 0., 0., 0., 0., 0., 0., 0., 0., 0., 0., 0., 0., 0., 0., 0.,\n",
       "        0., 0., 0., 0., 0., 0., 0., 0., 0., 0., 0., 0., 0., 0., 0., 0., 0.,\n",
       "        0., 0., 0., 0., 0., 0., 0., 0., 0., 0., 0., 0., 0., 0., 0., 0., 0.,\n",
       "        0., 0., 0., 0., 0., 0., 0., 0., 0., 0., 0., 0., 0., 0., 0., 0., 0.,\n",
       "        0., 0., 0., 0., 0., 0., 0., 0., 0., 0., 0., 0., 0., 0., 0., 0., 0.,\n",
       "        0., 0., 0., 0., 0., 0., 0., 0., 0., 0., 0., 0., 0., 0., 0., 0., 0.,\n",
       "        0., 0., 0., 0., 0., 0., 0., 0., 0., 0., 0., 0., 0., 0., 0., 0., 0.,\n",
       "        0., 0., 0., 0., 0., 0., 0., 0., 0., 0., 0., 0., 0., 0., 0., 0., 0.,\n",
       "        0., 0., 0., 0., 0., 0., 0., 0., 0., 0., 0., 0., 0., 0., 0., 0., 0.,\n",
       "        0., 0., 0., 0., 0., 0., 0., 0., 0., 0., 0., 0., 0., 0., 0., 0., 0.,\n",
       "        0., 0., 0., 0., 0., 0., 0., 0., 0., 0., 0., 0., 0., 0., 0., 0., 0.,\n",
       "        0., 0., 0., 0., 0., 0., 0., 0., 0., 0., 0., 0., 0., 0., 0., 0., 0.,\n",
       "        0., 0., 0., 0., 0., 0., 0., 0., 0., 0., 0., 0., 0., 0., 0., 0., 0.,\n",
       "        0., 0., 0., 0., 0., 0., 0., 0., 0., 0., 0., 0., 0., 0., 0., 0., 0.,\n",
       "        0., 0., 0., 0., 0., 0., 0., 0., 0., 0., 0., 0., 0., 0., 0., 0., 0.,\n",
       "        0., 0., 0., 0., 0., 0., 0., 0., 0., 0., 0., 0., 0., 0., 0., 0., 0.,\n",
       "        0., 0., 0., 0., 0., 0., 0., 0., 0., 0., 0., 0., 0., 0., 0., 0., 0.,\n",
       "        0., 0., 0., 0., 0., 0., 0., 0., 0., 0., 0., 0., 0., 0., 0., 0., 0.,\n",
       "        0., 0., 0., 0., 0., 0., 0., 0., 0., 0., 0., 0., 0., 0., 0., 0., 0.,\n",
       "        0., 0., 0., 0., 0., 0., 0., 0., 0., 0., 0., 0., 0., 0., 0., 0., 0.,\n",
       "        0., 0., 0., 0., 0., 0., 0., 0., 0., 0., 0., 0., 0., 0., 0., 0., 0.,\n",
       "        0., 0., 0., 0., 0., 0., 0., 0., 0., 0., 0., 0., 0., 0., 0., 0., 0.,\n",
       "        0., 0., 0., 0., 0., 0., 0., 0., 0., 0., 0., 0., 0., 0., 0., 0., 0.,\n",
       "        0., 0., 0., 0., 0., 0., 0., 0., 0., 0., 0., 0., 0., 0., 0., 0., 0.,\n",
       "        0., 0., 0., 0., 0., 0., 0., 0., 0., 0., 0., 0., 0., 0., 0., 0., 0.,\n",
       "        0., 0., 0., 0., 0., 0., 0., 0., 0., 0., 0., 0., 0., 0., 0., 0., 0.,\n",
       "        0., 0., 0., 0., 0., 0., 0., 0., 0., 0., 0., 0., 0., 0., 0., 0., 0.,\n",
       "        0., 0., 0., 0., 0., 0., 0., 0., 0., 0., 0., 0., 0., 0., 0., 0., 0.,\n",
       "        0., 0., 0., 0., 0., 0., 0., 0., 0., 0., 0., 0., 0., 0., 0., 0., 0.,\n",
       "        0., 0., 0., 0., 0., 0., 0., 0., 0., 0., 0., 0., 0., 0., 0., 0., 0.,\n",
       "        0., 0., 0., 0., 0., 0., 0., 0., 0., 0., 0., 0., 0., 0., 0., 0., 0.,\n",
       "        0., 0., 0., 0., 0., 0., 0., 0., 0., 0., 0., 0., 0., 0., 0., 0., 0.,\n",
       "        0., 0., 0., 0., 0., 0., 0., 0., 0., 0., 0., 0., 0., 0., 0., 0., 0.,\n",
       "        0., 0., 0., 0., 0., 0., 0., 0., 0., 0., 0., 0., 0., 0., 0., 0., 0.,\n",
       "        0., 0., 0., 0., 0., 0., 0., 0., 0., 0., 0., 0., 0., 0., 0., 0., 0.,\n",
       "        0., 0., 0., 0., 0., 0., 0., 0., 0., 0., 0., 0., 0., 0., 0., 0., 0.,\n",
       "        0., 0., 0., 0., 0., 0., 0., 0., 0., 0., 0., 0., 0., 0., 0., 0., 0.,\n",
       "        0., 0., 0., 0., 0., 0., 0., 0., 0., 0., 0., 0., 0., 0., 0., 0., 0.,\n",
       "        0., 0., 0., 0., 0., 0., 0., 0., 0., 0., 0., 0., 0., 0., 0., 0., 0.,\n",
       "        0., 0., 0., 0., 0., 0., 0., 0., 0., 0., 0., 0., 0., 0., 0., 0., 0.,\n",
       "        0., 0., 0., 0., 0., 0., 0., 0., 0., 0., 0., 0., 0., 0., 0., 0., 0.,\n",
       "        0., 0., 0., 0., 0., 0., 0., 0., 0., 0., 0., 0., 0., 0., 0., 0., 0.,\n",
       "        0., 0., 0., 0., 0., 0., 0., 0., 0., 0., 0., 0., 0., 0., 0., 0., 0.,\n",
       "        0., 0., 0., 0., 0., 0., 0., 0., 0., 0., 0., 0., 0., 0., 0., 0., 0.,\n",
       "        0., 0., 0., 0., 0., 0., 0., 0., 0., 0., 0., 0., 0., 0., 0., 0., 0.,\n",
       "        0., 0., 0., 0., 0., 0., 0., 0., 0., 0., 0., 0., 0., 0., 0., 0., 0.,\n",
       "        0., 0., 0., 0., 0., 0., 0., 0., 0., 0., 0., 0., 0., 0., 0., 0., 0.,\n",
       "        0., 0., 0., 0., 0., 0., 0., 0., 0., 0., 0., 0., 0., 0., 0., 0., 0.,\n",
       "        0., 0., 0., 0., 0., 0., 0., 0., 0., 0., 0., 0., 0., 0., 0., 0., 0.,\n",
       "        0., 0., 0., 0., 0., 0., 0., 0., 0., 0., 0., 0., 0., 0.],\n",
       "       dtype=float32)>,\n",
       " <tf.Variable 'dense_8/kernel:0' shape=(1000, 3) dtype=float32, numpy=\n",
       " array([[ 0.05135069,  0.05488379,  0.05696812],\n",
       "        [-0.05809121,  0.00171425,  0.01983015],\n",
       "        [ 0.04329138,  0.07422731, -0.02785279],\n",
       "        ...,\n",
       "        [ 0.00692432, -0.06078099, -0.03735285],\n",
       "        [ 0.0289898 ,  0.02953168, -0.06305423],\n",
       "        [ 0.04948128, -0.07590844, -0.04639816]], dtype=float32)>,\n",
       " <tf.Variable 'dense_8/bias:0' shape=(3,) dtype=float32, numpy=array([0., 0., 0.], dtype=float32)>]"
      ]
     },
     "execution_count": 7,
     "metadata": {},
     "output_type": "execute_result"
    }
   ],
   "source": [
    "model.weights ## shape=(2,1000) 2 features 1000 neurons "
   ]
  },
  {
   "cell_type": "markdown",
   "metadata": {},
   "source": [
    "### Now, we need to \"compile\" the model before we fit to the data."
   ]
  },
  {
   "cell_type": "markdown",
   "metadata": {},
   "source": [
    "Some useful links\n",
    "\n",
    "Loss functions: https://keras.io/api/losses/ \n",
    "\n",
    "Optimizers: https://keras.io/api/optimizers/ \n",
    "\n",
    "Metrics: https://keras.io/api/metrics/"
   ]
  },
  {
   "cell_type": "code",
   "execution_count": 9,
   "metadata": {},
   "outputs": [],
   "source": [
    "## now need to complie the model\n",
    "## specify what kind of loss function - here sparse categorical \n",
    "## optimizer, how learning rate changes \n",
    "## use accuracy for this \n",
    "model.compile(loss='sparse_categorical_crossentropy',\n",
    "              optimizer='adam',\n",
    "              metrics='accuracy')"
   ]
  },
  {
   "cell_type": "markdown",
   "metadata": {},
   "source": [
    "### We are ready to train our first neural network. Let's start training!"
   ]
  },
  {
   "cell_type": "code",
   "execution_count": 10,
   "metadata": {
    "collapsed": true,
    "jupyter": {
     "outputs_hidden": true
    },
    "tags": []
   },
   "outputs": [
    {
     "name": "stderr",
     "output_type": "stream",
     "text": [
      "2021-11-18 12:03:36.710683: I tensorflow/compiler/mlir/mlir_graph_optimization_pass.cc:185] None of the MLIR Optimization Passes are enabled (registered 2)\n"
     ]
    },
    {
     "name": "stdout",
     "output_type": "stream",
     "text": [
      "Epoch 1/100\n",
      "3/3 [==============================] - 0s 67ms/step - loss: 1.1828 - accuracy: 0.3438 - val_loss: 1.1745 - val_accuracy: 0.2917\n",
      "Epoch 2/100\n",
      "3/3 [==============================] - 0s 15ms/step - loss: 1.0892 - accuracy: 0.3854 - val_loss: 1.3594 - val_accuracy: 0.2917\n",
      "Epoch 3/100\n",
      "3/3 [==============================] - 0s 16ms/step - loss: 1.0042 - accuracy: 0.4479 - val_loss: 1.0152 - val_accuracy: 0.5000\n",
      "Epoch 4/100\n",
      "3/3 [==============================] - 0s 17ms/step - loss: 0.8898 - accuracy: 0.6875 - val_loss: 0.8516 - val_accuracy: 0.8333\n",
      "Epoch 5/100\n",
      "3/3 [==============================] - 0s 16ms/step - loss: 0.8645 - accuracy: 0.7188 - val_loss: 0.8109 - val_accuracy: 0.5417\n",
      "Epoch 6/100\n",
      "3/3 [==============================] - 0s 16ms/step - loss: 0.7954 - accuracy: 0.6250 - val_loss: 0.8269 - val_accuracy: 0.5000\n",
      "Epoch 7/100\n",
      "3/3 [==============================] - 0s 17ms/step - loss: 0.7427 - accuracy: 0.6979 - val_loss: 0.8331 - val_accuracy: 0.5417\n",
      "Epoch 8/100\n",
      "3/3 [==============================] - 0s 16ms/step - loss: 0.6960 - accuracy: 0.7188 - val_loss: 0.7760 - val_accuracy: 0.5417\n",
      "Epoch 9/100\n",
      "3/3 [==============================] - 0s 16ms/step - loss: 0.6454 - accuracy: 0.7292 - val_loss: 0.6838 - val_accuracy: 0.6250\n",
      "Epoch 10/100\n",
      "3/3 [==============================] - 0s 16ms/step - loss: 0.5865 - accuracy: 0.7188 - val_loss: 0.6193 - val_accuracy: 0.6250\n",
      "Epoch 11/100\n",
      "3/3 [==============================] - 0s 16ms/step - loss: 0.5362 - accuracy: 0.7604 - val_loss: 0.5298 - val_accuracy: 0.7917\n",
      "Epoch 12/100\n",
      "3/3 [==============================] - 0s 18ms/step - loss: 0.4929 - accuracy: 0.8333 - val_loss: 0.4972 - val_accuracy: 0.7917\n",
      "Epoch 13/100\n",
      "3/3 [==============================] - 0s 17ms/step - loss: 0.4356 - accuracy: 0.8229 - val_loss: 0.5191 - val_accuracy: 0.6667\n",
      "Epoch 14/100\n",
      "3/3 [==============================] - 0s 18ms/step - loss: 0.4079 - accuracy: 0.7604 - val_loss: 0.5114 - val_accuracy: 0.6667\n",
      "Epoch 15/100\n",
      "3/3 [==============================] - 0s 16ms/step - loss: 0.3798 - accuracy: 0.8333 - val_loss: 0.4167 - val_accuracy: 0.9167\n",
      "Epoch 16/100\n",
      "3/3 [==============================] - 0s 17ms/step - loss: 0.3480 - accuracy: 0.8333 - val_loss: 0.3964 - val_accuracy: 0.8750\n",
      "Epoch 17/100\n",
      "3/3 [==============================] - 0s 17ms/step - loss: 0.3168 - accuracy: 0.8646 - val_loss: 0.3414 - val_accuracy: 0.9167\n",
      "Epoch 18/100\n",
      "3/3 [==============================] - 0s 18ms/step - loss: 0.3007 - accuracy: 0.8854 - val_loss: 0.3243 - val_accuracy: 0.9167\n",
      "Epoch 19/100\n",
      "3/3 [==============================] - 0s 16ms/step - loss: 0.2862 - accuracy: 0.8854 - val_loss: 0.2987 - val_accuracy: 0.9167\n",
      "Epoch 20/100\n",
      "3/3 [==============================] - 0s 17ms/step - loss: 0.2622 - accuracy: 0.9167 - val_loss: 0.2548 - val_accuracy: 0.9167\n",
      "Epoch 21/100\n",
      "3/3 [==============================] - 0s 17ms/step - loss: 0.2712 - accuracy: 0.8750 - val_loss: 0.3163 - val_accuracy: 0.9167\n",
      "Epoch 22/100\n",
      "3/3 [==============================] - 0s 16ms/step - loss: 0.2397 - accuracy: 0.8854 - val_loss: 0.2532 - val_accuracy: 0.9167\n",
      "Epoch 23/100\n",
      "3/3 [==============================] - 0s 17ms/step - loss: 0.2525 - accuracy: 0.9062 - val_loss: 0.2401 - val_accuracy: 0.9167\n",
      "Epoch 24/100\n",
      "3/3 [==============================] - 0s 17ms/step - loss: 0.2065 - accuracy: 0.9167 - val_loss: 0.3417 - val_accuracy: 0.8750\n",
      "Epoch 25/100\n",
      "3/3 [==============================] - 0s 17ms/step - loss: 0.2300 - accuracy: 0.8542 - val_loss: 0.2421 - val_accuracy: 0.9167\n",
      "Epoch 26/100\n",
      "3/3 [==============================] - 0s 16ms/step - loss: 0.2062 - accuracy: 0.9167 - val_loss: 0.2062 - val_accuracy: 0.9167\n",
      "Epoch 27/100\n",
      "3/3 [==============================] - 0s 18ms/step - loss: 0.2016 - accuracy: 0.9271 - val_loss: 0.2852 - val_accuracy: 0.9167\n",
      "Epoch 28/100\n",
      "3/3 [==============================] - 0s 17ms/step - loss: 0.1903 - accuracy: 0.9167 - val_loss: 0.2140 - val_accuracy: 0.9167\n",
      "Epoch 29/100\n",
      "3/3 [==============================] - 0s 16ms/step - loss: 0.2016 - accuracy: 0.9375 - val_loss: 0.2236 - val_accuracy: 0.9167\n",
      "Epoch 30/100\n",
      "3/3 [==============================] - 0s 16ms/step - loss: 0.1813 - accuracy: 0.9167 - val_loss: 0.2679 - val_accuracy: 0.9167\n",
      "Epoch 31/100\n",
      "3/3 [==============================] - 0s 17ms/step - loss: 0.1752 - accuracy: 0.9167 - val_loss: 0.1812 - val_accuracy: 0.9167\n",
      "Epoch 32/100\n",
      "3/3 [==============================] - 0s 18ms/step - loss: 0.1789 - accuracy: 0.9375 - val_loss: 0.2274 - val_accuracy: 0.9167\n",
      "Epoch 33/100\n",
      "3/3 [==============================] - 0s 17ms/step - loss: 0.1638 - accuracy: 0.9271 - val_loss: 0.2062 - val_accuracy: 0.9167\n",
      "Epoch 34/100\n",
      "3/3 [==============================] - 0s 17ms/step - loss: 0.1597 - accuracy: 0.9479 - val_loss: 0.1996 - val_accuracy: 0.9167\n",
      "Epoch 35/100\n",
      "3/3 [==============================] - 0s 17ms/step - loss: 0.1555 - accuracy: 0.9479 - val_loss: 0.2470 - val_accuracy: 0.9167\n",
      "Epoch 36/100\n",
      "3/3 [==============================] - 0s 17ms/step - loss: 0.1579 - accuracy: 0.9167 - val_loss: 0.2125 - val_accuracy: 0.9167\n",
      "Epoch 37/100\n",
      "3/3 [==============================] - 0s 16ms/step - loss: 0.1604 - accuracy: 0.9583 - val_loss: 0.1840 - val_accuracy: 0.9167\n",
      "Epoch 38/100\n",
      "3/3 [==============================] - 0s 17ms/step - loss: 0.1488 - accuracy: 0.9271 - val_loss: 0.2898 - val_accuracy: 0.9167\n",
      "Epoch 39/100\n",
      "3/3 [==============================] - 0s 14ms/step - loss: 0.1489 - accuracy: 0.9375 - val_loss: 0.1786 - val_accuracy: 0.9167\n",
      "Epoch 40/100\n",
      "3/3 [==============================] - 0s 17ms/step - loss: 0.1443 - accuracy: 0.9583 - val_loss: 0.2225 - val_accuracy: 0.9167\n",
      "Epoch 41/100\n",
      "3/3 [==============================] - 0s 17ms/step - loss: 0.1461 - accuracy: 0.9271 - val_loss: 0.2344 - val_accuracy: 0.9167\n",
      "Epoch 42/100\n",
      "3/3 [==============================] - 0s 17ms/step - loss: 0.1446 - accuracy: 0.9479 - val_loss: 0.1534 - val_accuracy: 0.9167\n",
      "Epoch 43/100\n",
      "3/3 [==============================] - 0s 17ms/step - loss: 0.1559 - accuracy: 0.9375 - val_loss: 0.2981 - val_accuracy: 0.9167\n",
      "Epoch 44/100\n",
      "3/3 [==============================] - 0s 18ms/step - loss: 0.1353 - accuracy: 0.9271 - val_loss: 0.1582 - val_accuracy: 0.9167\n",
      "Epoch 45/100\n",
      "3/3 [==============================] - 0s 17ms/step - loss: 0.1403 - accuracy: 0.9688 - val_loss: 0.2017 - val_accuracy: 0.9167\n",
      "Epoch 46/100\n",
      "3/3 [==============================] - 0s 17ms/step - loss: 0.1504 - accuracy: 0.9271 - val_loss: 0.2584 - val_accuracy: 0.9167\n",
      "Epoch 47/100\n",
      "3/3 [==============================] - 0s 17ms/step - loss: 0.1219 - accuracy: 0.9479 - val_loss: 0.1490 - val_accuracy: 0.9167\n",
      "Epoch 48/100\n",
      "3/3 [==============================] - 0s 19ms/step - loss: 0.1277 - accuracy: 0.9583 - val_loss: 0.2232 - val_accuracy: 0.9167\n",
      "Epoch 49/100\n",
      "3/3 [==============================] - 0s 16ms/step - loss: 0.1235 - accuracy: 0.9167 - val_loss: 0.2463 - val_accuracy: 0.9167\n",
      "Epoch 50/100\n",
      "3/3 [==============================] - 0s 18ms/step - loss: 0.1530 - accuracy: 0.9583 - val_loss: 0.1610 - val_accuracy: 0.9167\n",
      "Epoch 51/100\n",
      "3/3 [==============================] - 0s 17ms/step - loss: 0.1300 - accuracy: 0.9167 - val_loss: 0.3231 - val_accuracy: 0.8750\n",
      "Epoch 52/100\n",
      "3/3 [==============================] - 0s 17ms/step - loss: 0.1271 - accuracy: 0.9167 - val_loss: 0.1635 - val_accuracy: 0.9167\n",
      "Epoch 53/100\n",
      "3/3 [==============================] - 0s 18ms/step - loss: 0.1383 - accuracy: 0.9688 - val_loss: 0.2039 - val_accuracy: 0.9167\n",
      "Epoch 54/100\n",
      "3/3 [==============================] - 0s 17ms/step - loss: 0.1082 - accuracy: 0.9479 - val_loss: 0.2552 - val_accuracy: 0.9167\n",
      "Epoch 55/100\n",
      "3/3 [==============================] - 0s 17ms/step - loss: 0.1465 - accuracy: 0.9062 - val_loss: 0.2186 - val_accuracy: 0.9167\n",
      "Epoch 56/100\n",
      "3/3 [==============================] - 0s 17ms/step - loss: 0.1476 - accuracy: 0.9688 - val_loss: 0.1216 - val_accuracy: 0.9583\n",
      "Epoch 57/100\n",
      "3/3 [==============================] - 0s 17ms/step - loss: 0.1352 - accuracy: 0.9583 - val_loss: 0.4301 - val_accuracy: 0.8750\n",
      "Epoch 58/100\n",
      "3/3 [==============================] - 0s 17ms/step - loss: 0.1793 - accuracy: 0.9271 - val_loss: 0.1961 - val_accuracy: 0.9167\n",
      "Epoch 59/100\n",
      "3/3 [==============================] - 0s 19ms/step - loss: 0.1253 - accuracy: 0.9375 - val_loss: 0.1095 - val_accuracy: 0.9583\n",
      "Epoch 60/100\n",
      "3/3 [==============================] - 0s 18ms/step - loss: 0.1189 - accuracy: 0.9583 - val_loss: 0.2834 - val_accuracy: 0.9167\n",
      "Epoch 61/100\n",
      "3/3 [==============================] - 0s 17ms/step - loss: 0.1355 - accuracy: 0.9479 - val_loss: 0.3187 - val_accuracy: 0.8750\n",
      "Epoch 62/100\n",
      "3/3 [==============================] - 0s 18ms/step - loss: 0.1296 - accuracy: 0.9375 - val_loss: 0.1264 - val_accuracy: 0.9167\n",
      "Epoch 63/100\n",
      "3/3 [==============================] - 0s 17ms/step - loss: 0.1168 - accuracy: 0.9688 - val_loss: 0.2029 - val_accuracy: 0.9167\n",
      "Epoch 64/100\n",
      "3/3 [==============================] - 0s 18ms/step - loss: 0.1172 - accuracy: 0.9271 - val_loss: 0.2894 - val_accuracy: 0.9167\n",
      "Epoch 65/100\n",
      "3/3 [==============================] - 0s 17ms/step - loss: 0.1052 - accuracy: 0.9583 - val_loss: 0.1357 - val_accuracy: 0.9167\n",
      "Epoch 66/100\n",
      "3/3 [==============================] - 0s 17ms/step - loss: 0.1111 - accuracy: 0.9688 - val_loss: 0.1910 - val_accuracy: 0.9167\n",
      "Epoch 67/100\n",
      "3/3 [==============================] - 0s 18ms/step - loss: 0.0956 - accuracy: 0.9479 - val_loss: 0.2737 - val_accuracy: 0.9167\n",
      "Epoch 68/100\n",
      "3/3 [==============================] - 0s 18ms/step - loss: 0.1083 - accuracy: 0.9479 - val_loss: 0.1708 - val_accuracy: 0.9167\n",
      "Epoch 69/100\n",
      "3/3 [==============================] - 0s 15ms/step - loss: 0.1021 - accuracy: 0.9688 - val_loss: 0.1951 - val_accuracy: 0.9167\n",
      "Epoch 70/100\n",
      "3/3 [==============================] - 0s 18ms/step - loss: 0.1116 - accuracy: 0.9375 - val_loss: 0.2793 - val_accuracy: 0.9167\n",
      "Epoch 71/100\n",
      "3/3 [==============================] - 0s 17ms/step - loss: 0.0952 - accuracy: 0.9479 - val_loss: 0.1444 - val_accuracy: 0.9167\n",
      "Epoch 72/100\n",
      "3/3 [==============================] - 0s 17ms/step - loss: 0.1048 - accuracy: 0.9688 - val_loss: 0.1766 - val_accuracy: 0.9167\n",
      "Epoch 73/100\n",
      "3/3 [==============================] - 0s 16ms/step - loss: 0.0892 - accuracy: 0.9479 - val_loss: 0.2682 - val_accuracy: 0.9167\n",
      "Epoch 74/100\n",
      "3/3 [==============================] - 0s 16ms/step - loss: 0.0937 - accuracy: 0.9479 - val_loss: 0.1964 - val_accuracy: 0.9167\n",
      "Epoch 75/100\n",
      "3/3 [==============================] - 0s 16ms/step - loss: 0.1028 - accuracy: 0.9583 - val_loss: 0.1562 - val_accuracy: 0.9167\n",
      "Epoch 76/100\n",
      "3/3 [==============================] - 0s 18ms/step - loss: 0.1003 - accuracy: 0.9479 - val_loss: 0.3107 - val_accuracy: 0.9167\n",
      "Epoch 77/100\n",
      "3/3 [==============================] - 0s 18ms/step - loss: 0.1135 - accuracy: 0.9375 - val_loss: 0.1862 - val_accuracy: 0.9167\n",
      "Epoch 78/100\n",
      "3/3 [==============================] - 0s 17ms/step - loss: 0.1696 - accuracy: 0.9583 - val_loss: 0.1190 - val_accuracy: 0.9167\n",
      "Epoch 79/100\n",
      "3/3 [==============================] - 0s 17ms/step - loss: 0.0739 - accuracy: 0.9792 - val_loss: 0.4628 - val_accuracy: 0.8750\n",
      "Epoch 80/100\n",
      "3/3 [==============================] - 0s 18ms/step - loss: 0.1582 - accuracy: 0.9271 - val_loss: 0.2407 - val_accuracy: 0.9167\n",
      "Epoch 81/100\n",
      "3/3 [==============================] - 0s 16ms/step - loss: 0.0877 - accuracy: 0.9583 - val_loss: 0.1017 - val_accuracy: 0.9583\n",
      "Epoch 82/100\n",
      "3/3 [==============================] - 0s 17ms/step - loss: 0.1164 - accuracy: 0.9583 - val_loss: 0.2333 - val_accuracy: 0.9167\n",
      "Epoch 83/100\n",
      "3/3 [==============================] - 0s 18ms/step - loss: 0.1187 - accuracy: 0.9583 - val_loss: 0.3243 - val_accuracy: 0.8750\n",
      "Epoch 84/100\n",
      "3/3 [==============================] - 0s 17ms/step - loss: 0.1054 - accuracy: 0.9479 - val_loss: 0.1020 - val_accuracy: 0.9583\n",
      "Epoch 85/100\n",
      "3/3 [==============================] - 0s 17ms/step - loss: 0.1225 - accuracy: 0.9583 - val_loss: 0.1831 - val_accuracy: 0.9167\n",
      "Epoch 86/100\n",
      "3/3 [==============================] - 0s 17ms/step - loss: 0.0959 - accuracy: 0.9479 - val_loss: 0.3612 - val_accuracy: 0.8750\n",
      "Epoch 87/100\n",
      "3/3 [==============================] - 0s 17ms/step - loss: 0.1191 - accuracy: 0.9375 - val_loss: 0.1327 - val_accuracy: 0.9167\n",
      "Epoch 88/100\n",
      "3/3 [==============================] - 0s 17ms/step - loss: 0.0986 - accuracy: 0.9688 - val_loss: 0.1612 - val_accuracy: 0.9167\n",
      "Epoch 89/100\n",
      "3/3 [==============================] - 0s 18ms/step - loss: 0.1066 - accuracy: 0.9375 - val_loss: 0.3191 - val_accuracy: 0.8750\n",
      "Epoch 90/100\n",
      "3/3 [==============================] - 0s 18ms/step - loss: 0.0923 - accuracy: 0.9688 - val_loss: 0.1679 - val_accuracy: 0.9167\n",
      "Epoch 91/100\n",
      "3/3 [==============================] - 0s 17ms/step - loss: 0.0911 - accuracy: 0.9688 - val_loss: 0.1332 - val_accuracy: 0.9167\n",
      "Epoch 92/100\n",
      "3/3 [==============================] - 0s 17ms/step - loss: 0.0854 - accuracy: 0.9792 - val_loss: 0.2547 - val_accuracy: 0.9167\n",
      "Epoch 93/100\n",
      "3/3 [==============================] - 0s 17ms/step - loss: 0.0840 - accuracy: 0.9479 - val_loss: 0.2461 - val_accuracy: 0.9167\n",
      "Epoch 94/100\n",
      "3/3 [==============================] - 0s 17ms/step - loss: 0.0808 - accuracy: 0.9479 - val_loss: 0.1842 - val_accuracy: 0.9167\n",
      "Epoch 95/100\n",
      "3/3 [==============================] - 0s 17ms/step - loss: 0.0906 - accuracy: 0.9688 - val_loss: 0.1440 - val_accuracy: 0.9167\n",
      "Epoch 96/100\n",
      "3/3 [==============================] - 0s 16ms/step - loss: 0.0771 - accuracy: 0.9792 - val_loss: 0.2388 - val_accuracy: 0.9167\n",
      "Epoch 97/100\n",
      "3/3 [==============================] - 0s 18ms/step - loss: 0.0822 - accuracy: 0.9479 - val_loss: 0.2788 - val_accuracy: 0.9167\n",
      "Epoch 98/100\n",
      "3/3 [==============================] - 0s 18ms/step - loss: 0.0874 - accuracy: 0.9583 - val_loss: 0.1689 - val_accuracy: 0.9167\n",
      "Epoch 99/100\n",
      "3/3 [==============================] - 0s 17ms/step - loss: 0.1021 - accuracy: 0.9583 - val_loss: 0.1703 - val_accuracy: 0.9167\n",
      "Epoch 100/100\n",
      "3/3 [==============================] - 0s 16ms/step - loss: 0.1058 - accuracy: 0.9583 - val_loss: 0.3534 - val_accuracy: 0.8750\n"
     ]
    }
   ],
   "source": [
    "# history will record the loss, accuracy, etc. \n",
    "# validation_split will split the training dataset into training + validation datasets. \n",
    "\n",
    "## train the data seets for 100 epochs. Leave test data seet for training at very end when model is built and we're satisfied\n",
    "## need so sepparate training set again so we can validate with other half, we pu 20% of training data set into validation\n",
    "history = model.fit(X_train, y_train, epochs=100, validation_split=0.2)"
   ]
  },
  {
   "cell_type": "markdown",
   "metadata": {},
   "source": [
    "### Let's evlauate the model using the test dataset."
   ]
  },
  {
   "cell_type": "code",
   "execution_count": 11,
   "metadata": {},
   "outputs": [
    {
     "name": "stdout",
     "output_type": "stream",
     "text": [
      "Test loss: 0.16453972458839417\n",
      "Test accuracy: 0.8999999761581421\n"
     ]
    }
   ],
   "source": [
    "loss, accuracy = model.evaluate(X_test, y_test, verbose=0)\n",
    "print('Test loss:', loss)\n",
    "print('Test accuracy:', accuracy)"
   ]
  },
  {
   "cell_type": "markdown",
   "metadata": {},
   "source": [
    "### Let's check how loss and validation loss evolved over epoch."
   ]
  },
  {
   "cell_type": "code",
   "execution_count": 12,
   "metadata": {},
   "outputs": [
    {
     "data": {
      "text/plain": [
       "Text(0, 0.5, 'loss, validation loss')"
      ]
     },
     "execution_count": 12,
     "metadata": {},
     "output_type": "execute_result"
    },
    {
     "data": {
      "image/png": "[encoded data removed]",
      "text/plain": [
       "<Figure size 432x288 with 1 Axes>"
      ]
     },
     "metadata": {
      "needs_background": "light"
     },
     "output_type": "display_data"
    }
   ],
   "source": [
    "plt.plot(history.epoch, history.history['loss'],'.-')\n",
    "plt.plot(history.epoch, history.history['val_loss'],'.-')\n",
    "plt.xlabel('epoch')\n",
    "plt.ylabel('loss, validation loss')"
   ]
  },
  {
   "cell_type": "markdown",
   "metadata": {},
   "source": [
    "### Let's check how accuracy and validation accuracy evolved over epoch."
   ]
  },
  {
   "cell_type": "code",
   "execution_count": 13,
   "metadata": {},
   "outputs": [
    {
     "data": {
      "text/plain": [
       "Text(0, 0.5, 'accuracy, validation accuracy')"
      ]
     },
     "execution_count": 13,
     "metadata": {},
     "output_type": "execute_result"
    },
    {
     "data": {
      "image/png": "[encoded data removed]",
      "text/plain": [
       "<Figure size 432x288 with 1 Axes>"
      ]
     },
     "metadata": {
      "needs_background": "light"
     },
     "output_type": "display_data"
    }
   ],
   "source": [
    "plt.plot(history.epoch, history.history['accuracy'],'.-')\n",
    "plt.plot(history.epoch, history.history['val_accuracy'],'.-')\n",
    "plt.ylim(0.8,1)\n",
    "plt.xlabel('epoch')\n",
    "plt.ylabel('accuracy, validation accuracy')"
   ]
  },
  {
   "cell_type": "markdown",
   "metadata": {},
   "source": [
    "### Let's check out weights and biases."
   ]
  },
  {
   "cell_type": "code",
   "execution_count": 14,
   "metadata": {},
   "outputs": [
    {
     "data": {
      "text/plain": [
       "[<keras.layers.core.Dense at 0x2afe730b9d60>,\n",
       " <keras.layers.core.Dense at 0x2afeb5a2c0d0>,\n",
       " <keras.layers.core.Dense at 0x2afeb5a148e0>]"
      ]
     },
     "execution_count": 14,
     "metadata": {},
     "output_type": "execute_result"
    }
   ],
   "source": [
    "model.layers"
   ]
  },
  {
   "cell_type": "code",
   "execution_count": 15,
   "metadata": {},
   "outputs": [],
   "source": [
    "hidden1 = model.layers[0] ## choose one of the layers, hidden1 is the first hidden layer "
   ]
  },
  {
   "cell_type": "code",
   "execution_count": 16,
   "metadata": {},
   "outputs": [
    {
     "data": {
      "text/plain": [
       "'dense_6'"
      ]
     },
     "execution_count": 16,
     "metadata": {},
     "output_type": "execute_result"
    }
   ],
   "source": [
    "hidden1.name ## can also call the layer, look back at model summary "
   ]
  },
  {
   "cell_type": "markdown",
   "metadata": {},
   "source": [
    "### Let's put weights and biases of the first hidden layer in w1 and b1."
   ]
  },
  {
   "cell_type": "code",
   "execution_count": 17,
   "metadata": {},
   "outputs": [],
   "source": [
    "w1, b1 = hidden1.get_weights()"
   ]
  },
  {
   "cell_type": "code",
   "execution_count": 18,
   "metadata": {},
   "outputs": [
    {
     "data": {
      "text/plain": [
       "array([[-0.00690275,  0.0264358 , -0.02882715, ...,  0.03434878,\n",
       "         0.01585696,  0.03244706],\n",
       "       [ 0.08173316,  0.02892908, -0.03079562, ..., -0.02884352,\n",
       "        -0.06876779,  0.02762419]], dtype=float32)"
      ]
     },
     "execution_count": 18,
     "metadata": {},
     "output_type": "execute_result"
    }
   ],
   "source": [
    "w1"
   ]
  },
  {
   "cell_type": "code",
   "execution_count": 19,
   "metadata": {},
   "outputs": [
    {
     "data": {
      "text/plain": [
       "(2, 1000)"
      ]
     },
     "execution_count": 19,
     "metadata": {},
     "output_type": "execute_result"
    }
   ],
   "source": [
    "w1.shape"
   ]
  },
  {
   "cell_type": "code",
   "execution_count": 20,
   "metadata": {
    "collapsed": true,
    "jupyter": {
     "outputs_hidden": true
    },
    "tags": []
   },
   "outputs": [
    {
     "data": {
      "text/plain": [
       "array([-6.42053857e-02, -7.91952759e-02,  0.00000000e+00,  0.00000000e+00,\n",
       "        7.57031888e-02, -6.85660839e-02,  3.49648632e-02,  0.00000000e+00,\n",
       "       -6.57209754e-02, -7.50431567e-02,  0.00000000e+00, -8.11794214e-03,\n",
       "        0.00000000e+00,  9.51500535e-02,  7.69609138e-02,  6.44110888e-02,\n",
       "        5.68806157e-02,  0.00000000e+00,  8.33069086e-02, -5.97795751e-03,\n",
       "        8.62846896e-02,  0.00000000e+00, -8.63486677e-02,  4.98026572e-02,\n",
       "       -6.88573420e-02, -6.68022260e-02,  6.96844757e-02, -6.72746822e-02,\n",
       "       -7.74189383e-02, -7.35073835e-02,  0.00000000e+00,  0.00000000e+00,\n",
       "        0.00000000e+00,  6.71087280e-02, -8.46973807e-02,  0.00000000e+00,\n",
       "       -7.18375966e-02,  4.52582836e-02, -4.15758900e-02,  0.00000000e+00,\n",
       "       -5.90747148e-02,  6.86749816e-02,  0.00000000e+00,  8.73807073e-02,\n",
       "        0.00000000e+00,  0.00000000e+00,  9.58880559e-02,  0.00000000e+00,\n",
       "        0.00000000e+00,  0.00000000e+00,  0.00000000e+00, -7.78683275e-02,\n",
       "        0.00000000e+00,  3.88281532e-02,  0.00000000e+00,  0.00000000e+00,\n",
       "        0.00000000e+00,  0.00000000e+00,  8.68189186e-02,  9.80725586e-02,\n",
       "        4.27407622e-02, -8.34834874e-02,  0.00000000e+00, -1.71445906e-02,\n",
       "       -7.43608549e-02,  2.34363005e-02,  7.16504082e-02, -6.49267286e-02,\n",
       "        0.00000000e+00,  9.27265510e-02,  0.00000000e+00,  0.00000000e+00,\n",
       "        9.66364592e-02,  0.00000000e+00,  0.00000000e+00,  0.00000000e+00,\n",
       "        0.00000000e+00,  0.00000000e+00, -3.61718424e-02,  0.00000000e+00,\n",
       "        0.00000000e+00,  7.67470300e-02,  0.00000000e+00, -5.41371992e-03,\n",
       "       -7.54676834e-02,  0.00000000e+00,  0.00000000e+00,  5.70077822e-02,\n",
       "        8.67361128e-02, -7.34274387e-02, -6.52914643e-02, -6.19091764e-02,\n",
       "        0.00000000e+00, -7.39652365e-02, -3.50987688e-02,  0.00000000e+00,\n",
       "       -7.25102574e-02,  0.00000000e+00,  0.00000000e+00,  0.00000000e+00,\n",
       "       -7.04528093e-02, -1.84568148e-02, -6.78359270e-02, -6.15117177e-02,\n",
       "        0.00000000e+00, -2.88333721e-03,  8.56829137e-02, -3.42784636e-02,\n",
       "        3.58798951e-02, -2.35873014e-02,  5.54586016e-02, -7.26527870e-02,\n",
       "       -6.43921942e-02,  0.00000000e+00,  0.00000000e+00, -5.61110452e-02,\n",
       "        0.00000000e+00,  0.00000000e+00,  0.00000000e+00,  0.00000000e+00,\n",
       "       -7.63905793e-02,  0.00000000e+00,  7.60365278e-02,  0.00000000e+00,\n",
       "        0.00000000e+00,  0.00000000e+00,  9.75852311e-02,  0.00000000e+00,\n",
       "       -7.53275454e-02,  0.00000000e+00, -5.63342422e-02,  0.00000000e+00,\n",
       "       -5.78899384e-02, -7.92367011e-02, -8.29256326e-02,  0.00000000e+00,\n",
       "        0.00000000e+00, -8.57778788e-02, -1.26054622e-02, -7.30480328e-02,\n",
       "       -3.78600359e-02, -6.67823255e-02,  0.00000000e+00,  8.89823213e-02,\n",
       "        0.00000000e+00,  8.93517956e-02, -8.05921331e-02,  0.00000000e+00,\n",
       "       -7.91199431e-02,  0.00000000e+00, -6.68685231e-03, -7.44836032e-02,\n",
       "       -4.03140411e-02, -7.48136491e-02, -3.60508002e-02,  6.87168092e-02,\n",
       "        0.00000000e+00, -5.08489124e-02,  0.00000000e+00,  0.00000000e+00,\n",
       "        7.05164298e-02,  8.19001943e-02,  7.23101571e-02, -6.97165951e-02,\n",
       "        0.00000000e+00,  0.00000000e+00,  0.00000000e+00,  0.00000000e+00,\n",
       "       -7.80874416e-02, -8.64356682e-02, -7.86538981e-03, -6.10276982e-02,\n",
       "        0.00000000e+00,  8.51714313e-02,  0.00000000e+00,  0.00000000e+00,\n",
       "       -5.42007461e-02, -4.85776439e-02, -2.91367881e-02, -7.29362890e-02,\n",
       "        7.30088353e-02, -6.86823130e-02,  9.41962227e-02,  9.22256038e-02,\n",
       "        0.00000000e+00,  0.00000000e+00,  0.00000000e+00,  0.00000000e+00,\n",
       "        0.00000000e+00,  0.00000000e+00,  0.00000000e+00,  2.90250611e-02,\n",
       "        0.00000000e+00,  0.00000000e+00,  0.00000000e+00,  0.00000000e+00,\n",
       "       -5.67288473e-02, -4.38767895e-02,  0.00000000e+00,  0.00000000e+00,\n",
       "        2.07562540e-02,  0.00000000e+00, -6.75936341e-02,  0.00000000e+00,\n",
       "        9.64299589e-02, -5.33812167e-03,  3.67493927e-02,  0.00000000e+00,\n",
       "        0.00000000e+00, -6.91687614e-02, -8.20712745e-02, -8.15607086e-02,\n",
       "       -4.56178300e-02,  0.00000000e+00, -6.10599294e-02,  0.00000000e+00,\n",
       "        0.00000000e+00, -5.11033386e-02,  7.27242678e-02,  8.73299390e-02,\n",
       "        0.00000000e+00, -3.59247252e-02,  0.00000000e+00,  0.00000000e+00,\n",
       "        9.54073668e-02,  0.00000000e+00, -7.74418041e-02,  0.00000000e+00,\n",
       "       -6.57077432e-02,  9.82569531e-02,  9.43810493e-02,  7.08865374e-02,\n",
       "        0.00000000e+00, -7.29100928e-02,  9.22959745e-02, -6.87477216e-02,\n",
       "        1.03678487e-01, -9.79389530e-03, -5.88097759e-02,  7.30054229e-02,\n",
       "        0.00000000e+00,  0.00000000e+00,  6.42495006e-02,  0.00000000e+00,\n",
       "        0.00000000e+00,  0.00000000e+00,  8.72659683e-02,  0.00000000e+00,\n",
       "        6.82268217e-02,  9.14702341e-02, -1.41726555e-02, -8.65974352e-02,\n",
       "       -8.17212388e-02, -6.69476166e-02, -6.35275245e-02,  8.30971077e-03,\n",
       "        0.00000000e+00,  9.22005698e-02,  0.00000000e+00,  9.34971720e-02,\n",
       "        0.00000000e+00,  0.00000000e+00,  0.00000000e+00,  1.79299470e-02,\n",
       "       -8.90717469e-03,  6.73186928e-02,  0.00000000e+00,  7.20029101e-02,\n",
       "       -6.77778572e-02,  0.00000000e+00,  0.00000000e+00,  9.53168496e-02,\n",
       "        0.00000000e+00,  0.00000000e+00,  0.00000000e+00,  0.00000000e+00,\n",
       "        0.00000000e+00,  0.00000000e+00,  0.00000000e+00, -5.96404634e-03,\n",
       "        0.00000000e+00, -8.02168846e-02, -4.32786047e-02,  0.00000000e+00,\n",
       "        1.71281230e-02, -2.65159514e-02,  0.00000000e+00,  0.00000000e+00,\n",
       "        0.00000000e+00,  0.00000000e+00,  5.71904741e-02, -6.23862594e-02,\n",
       "       -6.32010475e-02, -6.38882220e-02,  0.00000000e+00, -8.20658579e-02,\n",
       "        8.26638937e-02, -7.22196102e-02, -7.56018907e-02,  0.00000000e+00,\n",
       "       -8.47212598e-03,  0.00000000e+00, -6.31240457e-02,  0.00000000e+00,\n",
       "        8.35372433e-02, -1.50523856e-02, -7.65151754e-02,  0.00000000e+00,\n",
       "        0.00000000e+00,  3.77265066e-02,  0.00000000e+00,  0.00000000e+00,\n",
       "        9.29984897e-02,  4.93740216e-02,  9.52629000e-02,  7.20065087e-02,\n",
       "        6.60132393e-02,  0.00000000e+00,  0.00000000e+00,  0.00000000e+00,\n",
       "        0.00000000e+00,  0.00000000e+00,  0.00000000e+00, -6.80690557e-02,\n",
       "        9.70964357e-02,  0.00000000e+00,  8.05631205e-02,  0.00000000e+00,\n",
       "       -6.88044354e-02,  8.00546035e-02,  0.00000000e+00, -6.34094700e-02,\n",
       "        0.00000000e+00,  0.00000000e+00,  0.00000000e+00, -6.59364313e-02,\n",
       "        0.00000000e+00,  8.96689147e-02,  0.00000000e+00, -6.75427914e-02,\n",
       "       -8.31296220e-02, -6.00417564e-03,  0.00000000e+00,  9.92543101e-02,\n",
       "        0.00000000e+00,  0.00000000e+00,  0.00000000e+00,  1.50165688e-02,\n",
       "       -4.69127633e-02, -3.51959169e-02,  9.63106155e-02, -7.91500136e-02,\n",
       "        0.00000000e+00,  0.00000000e+00,  0.00000000e+00,  0.00000000e+00,\n",
       "        0.00000000e+00, -9.01640952e-02,  0.00000000e+00,  0.00000000e+00,\n",
       "        0.00000000e+00,  0.00000000e+00, -6.12829104e-02,  0.00000000e+00,\n",
       "        0.00000000e+00, -6.26039654e-02,  8.81261528e-02,  9.84263569e-02,\n",
       "        0.00000000e+00,  0.00000000e+00,  0.00000000e+00,  0.00000000e+00,\n",
       "        0.00000000e+00, -7.57746994e-02,  0.00000000e+00,  8.09725076e-02,\n",
       "        6.74876869e-02,  0.00000000e+00, -7.22953305e-02,  9.23688784e-02,\n",
       "        0.00000000e+00, -7.94844031e-02, -2.69283317e-02, -8.22564363e-02,\n",
       "       -3.42194922e-02, -3.18133533e-02, -6.50475472e-02, -6.38041347e-02,\n",
       "        0.00000000e+00, -5.84346503e-02,  8.86106938e-02,  0.00000000e+00,\n",
       "        0.00000000e+00, -7.43986815e-02,  0.00000000e+00,  9.50325355e-02,\n",
       "        0.00000000e+00,  0.00000000e+00, -2.73586046e-02,  9.50715691e-02,\n",
       "        4.21535484e-02,  0.00000000e+00,  0.00000000e+00,  0.00000000e+00,\n",
       "        9.81101319e-02,  5.02304733e-02,  0.00000000e+00,  7.08518326e-02,\n",
       "        0.00000000e+00,  0.00000000e+00,  0.00000000e+00,  0.00000000e+00,\n",
       "       -4.25206125e-02, -7.20651671e-02, -7.39788115e-02,  1.00110203e-01,\n",
       "       -6.95018321e-02,  0.00000000e+00, -2.07744781e-02, -7.86551237e-02,\n",
       "       -7.84962997e-02, -3.91277559e-02,  0.00000000e+00,  9.07195061e-02,\n",
       "       -7.39971921e-02,  0.00000000e+00,  0.00000000e+00,  1.78469848e-02,\n",
       "       -7.04039037e-02, -3.91456448e-02,  0.00000000e+00,  0.00000000e+00,\n",
       "        1.66756113e-03,  7.69556686e-02,  7.84978569e-02,  0.00000000e+00,\n",
       "        0.00000000e+00,  8.04568306e-02,  6.28891513e-02,  0.00000000e+00,\n",
       "       -6.45550862e-02,  0.00000000e+00,  7.02895448e-02,  0.00000000e+00,\n",
       "       -5.14383726e-02,  0.00000000e+00, -9.02251806e-03, -9.11185592e-02,\n",
       "       -6.75979182e-02,  3.94249558e-02, -3.32062915e-02, -7.36265481e-02,\n",
       "        9.42162275e-02,  0.00000000e+00,  0.00000000e+00,  0.00000000e+00,\n",
       "        9.57363173e-02, -7.42469281e-02,  8.39744285e-02,  9.94886905e-02,\n",
       "       -4.46582884e-02,  0.00000000e+00,  0.00000000e+00, -5.11535741e-02,\n",
       "        0.00000000e+00,  6.81512803e-02, -1.72163220e-03,  7.67367855e-02,\n",
       "       -6.10399880e-02, -6.94723800e-02, -7.53070340e-02, -1.47308484e-02,\n",
       "        0.00000000e+00, -7.48397261e-02, -7.65471458e-02,  0.00000000e+00,\n",
       "       -5.95727190e-03,  0.00000000e+00,  0.00000000e+00,  7.85359740e-02,\n",
       "        8.11893344e-02,  0.00000000e+00, -5.40353730e-02,  0.00000000e+00,\n",
       "       -7.14017600e-02,  0.00000000e+00, -4.77979966e-02,  9.41775218e-02,\n",
       "        0.00000000e+00, -7.26903379e-02,  2.19652038e-02,  9.44551602e-02,\n",
       "       -7.77341127e-02,  4.14020270e-02,  0.00000000e+00,  0.00000000e+00,\n",
       "        8.76698196e-02,  4.75683920e-02, -7.97578245e-02, -3.29328887e-02,\n",
       "        0.00000000e+00,  0.00000000e+00, -6.65213168e-02,  0.00000000e+00,\n",
       "       -7.70454779e-02,  8.89141262e-02,  1.84087642e-02, -1.02274315e-02,\n",
       "       -6.32793233e-02,  0.00000000e+00, -7.16806054e-02, -7.83720240e-02,\n",
       "        8.36027339e-02,  0.00000000e+00,  0.00000000e+00,  0.00000000e+00,\n",
       "       -3.76897641e-02,  9.32000577e-02, -7.56182894e-02, -7.70708844e-02,\n",
       "        0.00000000e+00, -6.73877150e-02, -7.52445906e-02, -8.01874995e-02,\n",
       "        0.00000000e+00,  0.00000000e+00, -8.43275785e-02, -8.39786530e-02,\n",
       "        0.00000000e+00,  0.00000000e+00, -6.09707832e-02, -8.43318328e-02,\n",
       "       -8.01506341e-02, -7.43887946e-02,  0.00000000e+00,  0.00000000e+00,\n",
       "        3.25360000e-02,  0.00000000e+00, -6.71613440e-02,  0.00000000e+00,\n",
       "       -9.36863571e-02, -6.66118637e-02,  0.00000000e+00,  0.00000000e+00,\n",
       "        8.85310844e-02,  9.05972421e-02,  7.91745186e-02,  0.00000000e+00,\n",
       "        0.00000000e+00, -8.50930512e-02, -8.16051364e-02,  0.00000000e+00,\n",
       "       -6.05098251e-03,  0.00000000e+00, -7.53417909e-02, -6.45775124e-02,\n",
       "        8.27242583e-02, -7.50101954e-02,  0.00000000e+00, -6.15714267e-02,\n",
       "       -6.08831411e-03,  0.00000000e+00, -1.60604455e-02,  9.53761190e-02,\n",
       "        0.00000000e+00, -5.03169373e-03, -8.85646231e-03,  8.92352965e-03,\n",
       "        1.00735359e-01, -8.45668614e-02,  0.00000000e+00,  0.00000000e+00,\n",
       "        6.03037216e-02,  9.20156091e-02,  0.00000000e+00,  0.00000000e+00,\n",
       "        0.00000000e+00, -5.06603345e-02,  6.44539744e-02,  9.58939195e-02,\n",
       "       -8.59711599e-03,  0.00000000e+00,  0.00000000e+00,  0.00000000e+00,\n",
       "       -4.87482622e-02,  0.00000000e+00,  0.00000000e+00, -5.54101840e-02,\n",
       "       -2.75922213e-02,  0.00000000e+00, -5.73830120e-02, -8.57359543e-02,\n",
       "        0.00000000e+00, -6.83719665e-02,  0.00000000e+00,  0.00000000e+00,\n",
       "        9.28508937e-02,  0.00000000e+00,  9.54196230e-02, -6.79084584e-02,\n",
       "        0.00000000e+00,  0.00000000e+00,  9.09129977e-02, -4.86843698e-02,\n",
       "        8.50272030e-02,  0.00000000e+00,  0.00000000e+00, -6.95481077e-02,\n",
       "        4.85984012e-02,  0.00000000e+00, -8.81633461e-02, -2.11619772e-03,\n",
       "       -7.05255866e-02,  0.00000000e+00, -6.59381747e-02,  0.00000000e+00,\n",
       "        0.00000000e+00,  5.90561442e-02,  0.00000000e+00,  6.66724592e-02,\n",
       "        9.02850926e-02,  8.63869265e-02,  0.00000000e+00, -3.73281687e-02,\n",
       "        0.00000000e+00,  0.00000000e+00,  2.14355420e-02,  0.00000000e+00,\n",
       "       -6.95468634e-02,  0.00000000e+00, -6.69232458e-02,  0.00000000e+00,\n",
       "        0.00000000e+00, -8.24148655e-02, -7.34727876e-03,  0.00000000e+00,\n",
       "       -5.72687350e-02,  0.00000000e+00,  8.75094756e-02,  0.00000000e+00,\n",
       "        0.00000000e+00,  3.96221690e-02,  7.79509619e-02, -4.92913239e-02,\n",
       "        0.00000000e+00,  0.00000000e+00,  7.72858551e-03,  0.00000000e+00,\n",
       "       -1.32770874e-02,  0.00000000e+00,  9.40212160e-02,  0.00000000e+00,\n",
       "       -8.52075145e-02, -8.55961666e-02, -5.55010093e-03,  7.97874331e-02,\n",
       "        0.00000000e+00,  0.00000000e+00, -8.63736197e-02, -8.11707079e-02,\n",
       "        0.00000000e+00, -2.14292835e-02,  0.00000000e+00,  0.00000000e+00,\n",
       "        0.00000000e+00,  0.00000000e+00,  6.90269098e-02, -3.46472003e-02,\n",
       "        0.00000000e+00, -8.16729590e-02,  0.00000000e+00, -7.02184513e-02,\n",
       "        0.00000000e+00,  0.00000000e+00,  0.00000000e+00, -4.88888174e-02,\n",
       "        0.00000000e+00, -7.52590597e-02, -7.11876824e-02,  0.00000000e+00,\n",
       "        0.00000000e+00,  9.39592421e-02, -7.08190128e-02,  7.74205476e-02,\n",
       "        0.00000000e+00,  0.00000000e+00,  9.96012762e-02,  9.62787941e-02,\n",
       "        0.00000000e+00,  0.00000000e+00, -8.12275782e-02,  9.02863070e-02,\n",
       "        0.00000000e+00, -7.01643899e-02,  0.00000000e+00, -6.65889382e-02,\n",
       "       -7.23996013e-02,  0.00000000e+00,  0.00000000e+00, -3.93992290e-02,\n",
       "        0.00000000e+00, -6.80627227e-02, -3.70148979e-02, -6.78429976e-02,\n",
       "       -5.21848761e-02, -6.70380667e-02,  9.87303928e-02,  0.00000000e+00,\n",
       "        9.37267914e-02,  2.24978328e-02,  7.09209144e-02, -3.92609052e-02,\n",
       "       -6.80411309e-02, -8.41516815e-03,  0.00000000e+00, -6.87595084e-02,\n",
       "        1.06304027e-02, -6.89333677e-02,  0.00000000e+00,  7.21482337e-02,\n",
       "        0.00000000e+00, -4.81035709e-02,  0.00000000e+00,  0.00000000e+00,\n",
       "       -3.83321494e-02, -7.35019566e-03, -5.53843156e-02, -6.69852719e-02,\n",
       "        0.00000000e+00,  0.00000000e+00,  0.00000000e+00,  0.00000000e+00,\n",
       "       -7.44151324e-02,  0.00000000e+00,  0.00000000e+00,  0.00000000e+00,\n",
       "        0.00000000e+00,  1.94741301e-02, -8.33594278e-02, -2.05776468e-02,\n",
       "       -8.07355940e-02,  0.00000000e+00,  3.56676951e-02,  0.00000000e+00,\n",
       "        0.00000000e+00,  0.00000000e+00,  0.00000000e+00,  0.00000000e+00,\n",
       "        0.00000000e+00,  1.86462905e-02, -7.99641758e-02, -7.74401650e-02,\n",
       "       -8.06107298e-02,  0.00000000e+00,  0.00000000e+00,  0.00000000e+00,\n",
       "       -8.56895298e-02,  9.99249816e-02, -8.16872530e-03,  0.00000000e+00,\n",
       "        0.00000000e+00,  6.65619597e-02,  8.29824060e-02, -8.27089697e-02,\n",
       "       -8.21754783e-02,  7.56302848e-02,  0.00000000e+00, -6.51517510e-02,\n",
       "        0.00000000e+00,  0.00000000e+00, -7.82888234e-02,  0.00000000e+00,\n",
       "        2.24998614e-04,  9.42803547e-02,  0.00000000e+00,  0.00000000e+00,\n",
       "        0.00000000e+00, -6.53284639e-02,  9.66920853e-02,  0.00000000e+00,\n",
       "       -2.64598876e-02,  0.00000000e+00,  0.00000000e+00, -6.92029819e-02,\n",
       "       -5.68529814e-02, -5.98146580e-03,  0.00000000e+00,  0.00000000e+00,\n",
       "        9.60851759e-02,  0.00000000e+00, -7.77883008e-02,  0.00000000e+00,\n",
       "        6.69055060e-02,  0.00000000e+00, -5.29894009e-02,  0.00000000e+00,\n",
       "        8.64389315e-02,  1.07230842e-01, -7.07128868e-02,  2.31732242e-02,\n",
       "       -6.92158565e-02, -6.54976591e-02,  0.00000000e+00,  0.00000000e+00,\n",
       "        7.19684809e-02,  0.00000000e+00,  0.00000000e+00,  0.00000000e+00,\n",
       "       -7.73129612e-02,  8.47175941e-02,  9.16617811e-02,  0.00000000e+00,\n",
       "        3.97510380e-02,  0.00000000e+00,  0.00000000e+00,  0.00000000e+00,\n",
       "       -6.58057779e-02,  0.00000000e+00, -8.61739218e-02,  0.00000000e+00,\n",
       "        0.00000000e+00, -8.60383138e-02,  0.00000000e+00,  0.00000000e+00,\n",
       "        9.67777818e-02,  0.00000000e+00,  0.00000000e+00,  5.09398431e-02,\n",
       "        0.00000000e+00,  0.00000000e+00,  0.00000000e+00,  3.55679579e-02,\n",
       "       -7.13532977e-03,  0.00000000e+00,  0.00000000e+00, -7.33748674e-02,\n",
       "        8.59922320e-02,  0.00000000e+00,  7.12342709e-02,  0.00000000e+00,\n",
       "       -6.50112629e-02, -7.93906227e-02,  9.77241024e-02,  0.00000000e+00,\n",
       "        0.00000000e+00,  9.72223580e-02,  8.47883001e-02, -8.73772427e-02,\n",
       "       -6.19353764e-02,  4.33430262e-02,  0.00000000e+00,  1.01139151e-01,\n",
       "       -1.14763649e-02,  0.00000000e+00, -2.38921531e-02, -8.17187577e-02,\n",
       "       -5.49317673e-02, -6.98722526e-02, -7.02895522e-02, -8.77401382e-02,\n",
       "       -5.17630391e-02,  0.00000000e+00,  1.05650567e-01, -5.96116297e-02,\n",
       "        0.00000000e+00, -6.96380138e-02,  0.00000000e+00,  5.76668978e-03,\n",
       "        0.00000000e+00, -7.51533434e-02, -6.30413815e-02,  0.00000000e+00,\n",
       "        1.01746164e-01, -6.53130338e-02,  0.00000000e+00,  0.00000000e+00,\n",
       "       -4.20154333e-02,  8.52470398e-02,  9.06390026e-02,  0.00000000e+00,\n",
       "        0.00000000e+00,  0.00000000e+00,  7.84056932e-02,  0.00000000e+00,\n",
       "        9.84398350e-02, -5.29028662e-02,  0.00000000e+00,  0.00000000e+00,\n",
       "        1.00499779e-01, -5.06112203e-02,  0.00000000e+00, -7.71025345e-02,\n",
       "        0.00000000e+00,  0.00000000e+00, -3.44660617e-02,  0.00000000e+00,\n",
       "        8.32668543e-02,  0.00000000e+00, -3.22611332e-02,  0.00000000e+00,\n",
       "        4.69265319e-02,  0.00000000e+00,  0.00000000e+00,  0.00000000e+00,\n",
       "        8.15133825e-02,  0.00000000e+00,  0.00000000e+00, -8.40844288e-02,\n",
       "        0.00000000e+00,  9.78438854e-02,  0.00000000e+00, -8.04944485e-02,\n",
       "        9.90191847e-02,  0.00000000e+00,  8.34879354e-02,  7.11890608e-02,\n",
       "        6.99755698e-02,  0.00000000e+00,  7.40046203e-02,  0.00000000e+00,\n",
       "        0.00000000e+00, -6.17504157e-02,  0.00000000e+00,  0.00000000e+00,\n",
       "        0.00000000e+00,  1.01834662e-01,  0.00000000e+00,  9.69926715e-02,\n",
       "        0.00000000e+00, -6.85625672e-02, -7.01910406e-02,  0.00000000e+00,\n",
       "        2.42712740e-02,  0.00000000e+00,  0.00000000e+00, -6.72260150e-02,\n",
       "        9.11242738e-02,  0.00000000e+00,  9.17543322e-02,  0.00000000e+00,\n",
       "       -8.24962109e-02, -8.71346612e-03,  0.00000000e+00,  6.14505894e-02,\n",
       "       -4.70024385e-02,  0.00000000e+00,  0.00000000e+00,  0.00000000e+00,\n",
       "       -6.57155514e-02,  0.00000000e+00,  0.00000000e+00,  8.89160931e-02,\n",
       "        8.23172107e-02,  8.87932405e-02, -6.00458831e-02,  0.00000000e+00,\n",
       "        7.89496973e-02, -7.27123469e-02,  6.57165438e-05,  0.00000000e+00,\n",
       "        8.92706439e-02, -7.30677769e-02, -8.20006505e-02,  0.00000000e+00,\n",
       "        8.46026689e-02,  0.00000000e+00,  9.11596790e-02,  8.08707327e-02,\n",
       "        5.06756380e-02, -6.28520474e-02,  0.00000000e+00, -6.44254535e-02,\n",
       "       -1.44875329e-02,  0.00000000e+00, -5.75101413e-02, -6.41440228e-02,\n",
       "        7.10323825e-02,  0.00000000e+00, -3.60735282e-02,  9.21650305e-02,\n",
       "        0.00000000e+00,  0.00000000e+00,  0.00000000e+00,  0.00000000e+00,\n",
       "        8.68765190e-02,  0.00000000e+00, -6.19224645e-02,  8.84412676e-02,\n",
       "        0.00000000e+00, -6.74328804e-02,  2.23764665e-02, -6.27943575e-02,\n",
       "       -6.58820719e-02,  8.55518728e-02, -5.02720550e-02,  7.76514336e-02,\n",
       "       -6.39006421e-02,  8.55197757e-02,  9.70909894e-02, -8.54554102e-02],\n",
       "      dtype=float32)"
      ]
     },
     "execution_count": 20,
     "metadata": {},
     "output_type": "execute_result"
    }
   ],
   "source": [
    "b1"
   ]
  },
  {
   "cell_type": "code",
   "execution_count": 21,
   "metadata": {},
   "outputs": [
    {
     "data": {
      "text/plain": [
       "(1000,)"
      ]
     },
     "execution_count": 21,
     "metadata": {},
     "output_type": "execute_result"
    }
   ],
   "source": [
    "b1.shape"
   ]
  },
  {
   "cell_type": "markdown",
   "metadata": {},
   "source": [
    "### We can save the model and then load it as needed."
   ]
  },
  {
   "cell_type": "code",
   "execution_count": 22,
   "metadata": {},
   "outputs": [],
   "source": [
    "model.save(\"iris_model_final.h5\") ## makes a file named whatever"
   ]
  },
  {
   "cell_type": "code",
   "execution_count": 23,
   "metadata": {},
   "outputs": [],
   "source": [
    "model_new = keras.models.load_model(\"iris_model_final.h5\") ## we can load back our model"
   ]
  },
  {
   "cell_type": "code",
   "execution_count": 24,
   "metadata": {},
   "outputs": [
    {
     "name": "stdout",
     "output_type": "stream",
     "text": [
      "Model: \"sequential_2\"\n",
      "_________________________________________________________________\n",
      "Layer (type)                 Output Shape              Param #   \n",
      "=================================================================\n",
      "dense_6 (Dense)              (None, 1000)              3000      \n",
      "_________________________________________________________________\n",
      "dense_7 (Dense)              (None, 1000)              1001000   \n",
      "_________________________________________________________________\n",
      "dense_8 (Dense)              (None, 3)                 3003      \n",
      "=================================================================\n",
      "Total params: 1,007,003\n",
      "Trainable params: 1,007,003\n",
      "Non-trainable params: 0\n",
      "_________________________________________________________________\n"
     ]
    }
   ],
   "source": [
    "model_new.summary() ## same summary as before "
   ]
  },
  {
   "cell_type": "markdown",
   "metadata": {},
   "source": [
    "### Let's try a larger dataset = the MNIST dataset."
   ]
  },
  {
   "cell_type": "code",
   "execution_count": 37,
   "metadata": {},
   "outputs": [],
   "source": [
    "import tensorflow.keras as keras\n",
    "\n",
    "(X_train, y_train), (X_test, y_test) = keras.datasets.mnist.load_data()"
   ]
  },
  {
   "cell_type": "markdown",
   "metadata": {},
   "source": [
    "### Scale the images to 0 - 1."
   ]
  },
  {
   "cell_type": "code",
   "execution_count": 38,
   "metadata": {},
   "outputs": [],
   "source": [
    "X_train = X_train / 255.\n",
    "X_test = X_test / 255."
   ]
  },
  {
   "cell_type": "markdown",
   "metadata": {},
   "source": [
    "### For now, let's use 10% of the data."
   ]
  },
  {
   "cell_type": "code",
   "execution_count": 39,
   "metadata": {},
   "outputs": [],
   "source": [
    "X_train = X_train[::10]\n",
    "X_test = X_test[::10]\n",
    "\n",
    "y_train = y_train[::10]\n",
    "y_test = y_test[::10]"
   ]
  },
  {
   "cell_type": "code",
   "execution_count": 40,
   "metadata": {},
   "outputs": [
    {
     "data": {
      "image/png": "[encoded data removed]",
      "text/plain": [
       "<Figure size 432x288 with 1 Axes>"
      ]
     },
     "metadata": {
      "needs_background": "light"
     },
     "output_type": "display_data"
    }
   ],
   "source": [
    "import matplotlib.pyplot as plt \n",
    "\n",
    "plt.imshow(X_train[0], cmap=\"binary\")\n",
    "plt.axis('off')\n",
    "plt.show()"
   ]
  },
  {
   "cell_type": "markdown",
   "metadata": {},
   "source": [
    "### TODO: Let's build a NN."
   ]
  },
  {
   "cell_type": "code",
   "execution_count": 51,
   "metadata": {},
   "outputs": [],
   "source": [
    "model = keras.models.Sequential()\n",
    "\n",
    "# We need to flatten the 2d input arrays to 1d arrays.\n",
    "# Add a hidden layer having 1000 neurons and ReLU.\n",
    "# Add another hidden layer having 1000 neurons and ReLU.\n",
    "# Add an output layer having \"softmax\" activation function. How many neurons do you need for this layer? 10\n",
    "\n",
    "model = keras.models.Sequential([\n",
    "    keras.layers.Flatten(input_shape=[28, 28]),\n",
    "    keras.layers.Input(shape=X_train.shape[1]),\n",
    "    keras.layers.Dense(1000, activation='relu'),\n",
    "    keras.layers.Dense(1000, activation='relu',),\n",
    "    keras.layers.Dense(np.unique(y_train).shape[0], activation='softmax')\n",
    "])"
   ]
  },
  {
   "cell_type": "markdown",
   "metadata": {},
   "source": [
    "### TODO: Print out the model summary and make sure things are correctly set up."
   ]
  },
  {
   "cell_type": "code",
   "execution_count": 52,
   "metadata": {},
   "outputs": [
    {
     "data": {
      "text/plain": [
       "10"
      ]
     },
     "execution_count": 52,
     "metadata": {},
     "output_type": "execute_result"
    }
   ],
   "source": [
    "np.unique(y_train).shape[0]"
   ]
  },
  {
   "cell_type": "code",
   "execution_count": 53,
   "metadata": {},
   "outputs": [
    {
     "name": "stdout",
     "output_type": "stream",
     "text": [
      "Model: \"sequential_12\"\n",
      "_________________________________________________________________\n",
      "Layer (type)                 Output Shape              Param #   \n",
      "=================================================================\n",
      "flatten_4 (Flatten)          (None, 784)               0         \n",
      "_________________________________________________________________\n",
      "input_7 (InputLayer)         multiple                  0         \n",
      "_________________________________________________________________\n",
      "dense_21 (Dense)             (None, 1000)              785000    \n",
      "_________________________________________________________________\n",
      "dense_22 (Dense)             (None, 1000)              1001000   \n",
      "_________________________________________________________________\n",
      "dense_23 (Dense)             (None, 10)                10010     \n",
      "=================================================================\n",
      "Total params: 1,796,010\n",
      "Trainable params: 1,796,010\n",
      "Non-trainable params: 0\n",
      "_________________________________________________________________\n"
     ]
    }
   ],
   "source": [
    "model.summary()"
   ]
  },
  {
   "cell_type": "markdown",
   "metadata": {},
   "source": [
    "### Compile the model. Let's first try Stochastic Gradient Descent with learning rate of 1.0e-3."
   ]
  },
  {
   "cell_type": "code",
   "execution_count": 54,
   "metadata": {},
   "outputs": [],
   "source": [
    "model.compile(loss=\"sparse_categorical_crossentropy\",\n",
    "              optimizer=keras.optimizers.SGD(learning_rate=1e-3),\n",
    "              metrics=[\"accuracy\"])"
   ]
  },
  {
   "cell_type": "markdown",
   "metadata": {},
   "source": [
    "### TODO: Train the model using 100 epochs and 20 % of the data in the validation dataset."
   ]
  },
  {
   "cell_type": "code",
   "execution_count": 55,
   "metadata": {
    "collapsed": true,
    "jupyter": {
     "outputs_hidden": true
    },
    "tags": []
   },
   "outputs": [
    {
     "name": "stdout",
     "output_type": "stream",
     "text": [
      "Epoch 1/100\n",
      "150/150 [==============================] - 2s 12ms/step - loss: 2.2567 - accuracy: 0.2096 - val_loss: 2.2038 - val_accuracy: 0.2883\n",
      "Epoch 2/100\n",
      "150/150 [==============================] - 2s 12ms/step - loss: 2.1305 - accuracy: 0.4269 - val_loss: 2.0865 - val_accuracy: 0.4808\n",
      "Epoch 3/100\n",
      "150/150 [==============================] - 2s 11ms/step - loss: 2.0135 - accuracy: 0.5627 - val_loss: 1.9742 - val_accuracy: 0.5683\n",
      "Epoch 4/100\n",
      "150/150 [==============================] - 2s 12ms/step - loss: 1.8989 - accuracy: 0.6319 - val_loss: 1.8627 - val_accuracy: 0.6250\n",
      "Epoch 5/100\n",
      "150/150 [==============================] - 2s 11ms/step - loss: 1.7847 - accuracy: 0.6781 - val_loss: 1.7527 - val_accuracy: 0.6708\n",
      "Epoch 6/100\n",
      "150/150 [==============================] - 2s 12ms/step - loss: 1.6715 - accuracy: 0.7119 - val_loss: 1.6430 - val_accuracy: 0.7117\n",
      "Epoch 7/100\n",
      "150/150 [==============================] - 2s 11ms/step - loss: 1.5611 - accuracy: 0.7373 - val_loss: 1.5372 - val_accuracy: 0.7242\n",
      "Epoch 8/100\n",
      "150/150 [==============================] - 2s 12ms/step - loss: 1.4551 - accuracy: 0.7583 - val_loss: 1.4365 - val_accuracy: 0.7458\n",
      "Epoch 9/100\n",
      "150/150 [==============================] - 2s 12ms/step - loss: 1.3555 - accuracy: 0.7706 - val_loss: 1.3429 - val_accuracy: 0.7592\n",
      "Epoch 10/100\n",
      "150/150 [==============================] - 2s 12ms/step - loss: 1.2642 - accuracy: 0.7850 - val_loss: 1.2557 - val_accuracy: 0.7717\n",
      "Epoch 11/100\n",
      "150/150 [==============================] - 2s 12ms/step - loss: 1.1815 - accuracy: 0.7971 - val_loss: 1.1773 - val_accuracy: 0.7808\n",
      "Epoch 12/100\n",
      "150/150 [==============================] - 2s 14ms/step - loss: 1.1072 - accuracy: 0.8002 - val_loss: 1.1065 - val_accuracy: 0.7917\n",
      "Epoch 13/100\n",
      "150/150 [==============================] - 2s 12ms/step - loss: 1.0414 - accuracy: 0.8125 - val_loss: 1.0454 - val_accuracy: 0.7983\n",
      "Epoch 14/100\n",
      "150/150 [==============================] - 2s 12ms/step - loss: 0.9830 - accuracy: 0.8167 - val_loss: 0.9902 - val_accuracy: 0.8083\n",
      "Epoch 15/100\n",
      "150/150 [==============================] - 2s 12ms/step - loss: 0.9317 - accuracy: 0.8219 - val_loss: 0.9413 - val_accuracy: 0.8167\n",
      "Epoch 16/100\n",
      "150/150 [==============================] - 2s 12ms/step - loss: 0.8863 - accuracy: 0.8265 - val_loss: 0.8980 - val_accuracy: 0.8192\n",
      "Epoch 17/100\n",
      "150/150 [==============================] - 2s 12ms/step - loss: 0.8459 - accuracy: 0.8306 - val_loss: 0.8597 - val_accuracy: 0.8200\n",
      "Epoch 18/100\n",
      "150/150 [==============================] - 2s 11ms/step - loss: 0.8103 - accuracy: 0.8371 - val_loss: 0.8246 - val_accuracy: 0.8267\n",
      "Epoch 19/100\n",
      "150/150 [==============================] - 2s 12ms/step - loss: 0.7784 - accuracy: 0.8373 - val_loss: 0.7935 - val_accuracy: 0.8292\n",
      "Epoch 20/100\n",
      "150/150 [==============================] - 2s 12ms/step - loss: 0.7497 - accuracy: 0.8435 - val_loss: 0.7660 - val_accuracy: 0.8300\n",
      "Epoch 21/100\n",
      "150/150 [==============================] - 2s 12ms/step - loss: 0.7240 - accuracy: 0.8444 - val_loss: 0.7416 - val_accuracy: 0.8333\n",
      "Epoch 22/100\n",
      "150/150 [==============================] - 2s 12ms/step - loss: 0.7009 - accuracy: 0.8477 - val_loss: 0.7188 - val_accuracy: 0.8342\n",
      "Epoch 23/100\n",
      "150/150 [==============================] - 2s 11ms/step - loss: 0.6795 - accuracy: 0.8508 - val_loss: 0.6987 - val_accuracy: 0.8358\n",
      "Epoch 24/100\n",
      "150/150 [==============================] - 2s 11ms/step - loss: 0.6605 - accuracy: 0.8540 - val_loss: 0.6780 - val_accuracy: 0.8400\n",
      "Epoch 25/100\n",
      "150/150 [==============================] - 2s 11ms/step - loss: 0.6428 - accuracy: 0.8558 - val_loss: 0.6620 - val_accuracy: 0.8408\n",
      "Epoch 26/100\n",
      "150/150 [==============================] - 2s 11ms/step - loss: 0.6264 - accuracy: 0.8606 - val_loss: 0.6461 - val_accuracy: 0.8442\n",
      "Epoch 27/100\n",
      "150/150 [==============================] - 2s 11ms/step - loss: 0.6115 - accuracy: 0.8602 - val_loss: 0.6312 - val_accuracy: 0.8458\n",
      "Epoch 28/100\n",
      "150/150 [==============================] - 2s 11ms/step - loss: 0.5977 - accuracy: 0.8621 - val_loss: 0.6168 - val_accuracy: 0.8483\n",
      "Epoch 29/100\n",
      "150/150 [==============================] - 2s 11ms/step - loss: 0.5844 - accuracy: 0.8652 - val_loss: 0.6034 - val_accuracy: 0.8542\n",
      "Epoch 30/100\n",
      "150/150 [==============================] - 2s 11ms/step - loss: 0.5726 - accuracy: 0.8660 - val_loss: 0.5927 - val_accuracy: 0.8558\n",
      "Epoch 31/100\n",
      "150/150 [==============================] - 2s 11ms/step - loss: 0.5612 - accuracy: 0.8706 - val_loss: 0.5806 - val_accuracy: 0.8575\n",
      "Epoch 32/100\n",
      "150/150 [==============================] - 2s 12ms/step - loss: 0.5506 - accuracy: 0.8719 - val_loss: 0.5697 - val_accuracy: 0.8600\n",
      "Epoch 33/100\n",
      "150/150 [==============================] - 2s 12ms/step - loss: 0.5408 - accuracy: 0.8715 - val_loss: 0.5601 - val_accuracy: 0.8608\n",
      "Epoch 34/100\n",
      "150/150 [==============================] - 2s 12ms/step - loss: 0.5313 - accuracy: 0.8729 - val_loss: 0.5523 - val_accuracy: 0.8592\n",
      "Epoch 35/100\n",
      "150/150 [==============================] - 2s 11ms/step - loss: 0.5226 - accuracy: 0.8754 - val_loss: 0.5433 - val_accuracy: 0.8592\n",
      "Epoch 36/100\n",
      "150/150 [==============================] - 2s 11ms/step - loss: 0.5141 - accuracy: 0.8763 - val_loss: 0.5344 - val_accuracy: 0.8608\n",
      "Epoch 37/100\n",
      "150/150 [==============================] - 2s 12ms/step - loss: 0.5060 - accuracy: 0.8785 - val_loss: 0.5268 - val_accuracy: 0.8658\n",
      "Epoch 38/100\n",
      "150/150 [==============================] - 2s 11ms/step - loss: 0.4986 - accuracy: 0.8783 - val_loss: 0.5202 - val_accuracy: 0.8633\n",
      "Epoch 39/100\n",
      "150/150 [==============================] - 2s 11ms/step - loss: 0.4914 - accuracy: 0.8800 - val_loss: 0.5131 - val_accuracy: 0.8625\n",
      "Epoch 40/100\n",
      "150/150 [==============================] - 2s 11ms/step - loss: 0.4845 - accuracy: 0.8829 - val_loss: 0.5056 - val_accuracy: 0.8658\n",
      "Epoch 41/100\n",
      "150/150 [==============================] - 2s 12ms/step - loss: 0.4781 - accuracy: 0.8831 - val_loss: 0.4998 - val_accuracy: 0.8667\n",
      "Epoch 42/100\n",
      "150/150 [==============================] - 2s 12ms/step - loss: 0.4718 - accuracy: 0.8835 - val_loss: 0.4940 - val_accuracy: 0.8683\n",
      "Epoch 43/100\n",
      "150/150 [==============================] - 2s 12ms/step - loss: 0.4655 - accuracy: 0.8856 - val_loss: 0.4894 - val_accuracy: 0.8675\n",
      "Epoch 44/100\n",
      "150/150 [==============================] - 2s 12ms/step - loss: 0.4602 - accuracy: 0.8877 - val_loss: 0.4826 - val_accuracy: 0.8708\n",
      "Epoch 45/100\n",
      "150/150 [==============================] - 2s 12ms/step - loss: 0.4544 - accuracy: 0.8881 - val_loss: 0.4775 - val_accuracy: 0.8708\n",
      "Epoch 46/100\n",
      "150/150 [==============================] - 2s 12ms/step - loss: 0.4492 - accuracy: 0.8890 - val_loss: 0.4727 - val_accuracy: 0.8725\n",
      "Epoch 47/100\n",
      "150/150 [==============================] - 2s 12ms/step - loss: 0.4442 - accuracy: 0.8898 - val_loss: 0.4680 - val_accuracy: 0.8742\n",
      "Epoch 48/100\n",
      "150/150 [==============================] - 2s 12ms/step - loss: 0.4392 - accuracy: 0.8908 - val_loss: 0.4627 - val_accuracy: 0.8767\n",
      "Epoch 49/100\n",
      "150/150 [==============================] - 2s 11ms/step - loss: 0.4345 - accuracy: 0.8923 - val_loss: 0.4591 - val_accuracy: 0.8750\n",
      "Epoch 50/100\n",
      "150/150 [==============================] - 2s 12ms/step - loss: 0.4301 - accuracy: 0.8940 - val_loss: 0.4545 - val_accuracy: 0.8767\n",
      "Epoch 51/100\n",
      "150/150 [==============================] - 2s 12ms/step - loss: 0.4256 - accuracy: 0.8946 - val_loss: 0.4508 - val_accuracy: 0.8783\n",
      "Epoch 52/100\n",
      "150/150 [==============================] - 2s 12ms/step - loss: 0.4214 - accuracy: 0.8967 - val_loss: 0.4470 - val_accuracy: 0.8783\n",
      "Epoch 53/100\n",
      "150/150 [==============================] - 2s 11ms/step - loss: 0.4174 - accuracy: 0.8954 - val_loss: 0.4429 - val_accuracy: 0.8800\n",
      "Epoch 54/100\n",
      "150/150 [==============================] - 2s 11ms/step - loss: 0.4135 - accuracy: 0.8967 - val_loss: 0.4396 - val_accuracy: 0.8800\n",
      "Epoch 55/100\n",
      "150/150 [==============================] - 2s 12ms/step - loss: 0.4095 - accuracy: 0.8977 - val_loss: 0.4364 - val_accuracy: 0.8800\n",
      "Epoch 56/100\n",
      "150/150 [==============================] - 2s 12ms/step - loss: 0.4058 - accuracy: 0.8973 - val_loss: 0.4328 - val_accuracy: 0.8825\n",
      "Epoch 57/100\n",
      "150/150 [==============================] - 2s 11ms/step - loss: 0.4019 - accuracy: 0.8990 - val_loss: 0.4303 - val_accuracy: 0.8808\n",
      "Epoch 58/100\n",
      "150/150 [==============================] - 2s 12ms/step - loss: 0.3986 - accuracy: 0.8985 - val_loss: 0.4265 - val_accuracy: 0.8825\n",
      "Epoch 59/100\n",
      "150/150 [==============================] - 2s 12ms/step - loss: 0.3952 - accuracy: 0.8996 - val_loss: 0.4233 - val_accuracy: 0.8825\n",
      "Epoch 60/100\n",
      "150/150 [==============================] - 2s 12ms/step - loss: 0.3918 - accuracy: 0.9015 - val_loss: 0.4202 - val_accuracy: 0.8825\n",
      "Epoch 61/100\n",
      "150/150 [==============================] - 2s 12ms/step - loss: 0.3886 - accuracy: 0.9021 - val_loss: 0.4174 - val_accuracy: 0.8842\n",
      "Epoch 62/100\n",
      "150/150 [==============================] - 2s 12ms/step - loss: 0.3855 - accuracy: 0.9021 - val_loss: 0.4142 - val_accuracy: 0.8858\n",
      "Epoch 63/100\n",
      "150/150 [==============================] - 2s 12ms/step - loss: 0.3824 - accuracy: 0.9035 - val_loss: 0.4120 - val_accuracy: 0.8850\n",
      "Epoch 64/100\n",
      "150/150 [==============================] - 2s 12ms/step - loss: 0.3794 - accuracy: 0.9042 - val_loss: 0.4107 - val_accuracy: 0.8842\n",
      "Epoch 65/100\n",
      "150/150 [==============================] - 2s 12ms/step - loss: 0.3766 - accuracy: 0.9048 - val_loss: 0.4080 - val_accuracy: 0.8850\n",
      "Epoch 66/100\n",
      "150/150 [==============================] - 2s 12ms/step - loss: 0.3736 - accuracy: 0.9067 - val_loss: 0.4047 - val_accuracy: 0.8842\n",
      "Epoch 67/100\n",
      "150/150 [==============================] - 2s 12ms/step - loss: 0.3709 - accuracy: 0.9058 - val_loss: 0.4030 - val_accuracy: 0.8850\n",
      "Epoch 68/100\n",
      "150/150 [==============================] - 2s 12ms/step - loss: 0.3682 - accuracy: 0.9081 - val_loss: 0.3998 - val_accuracy: 0.8833\n",
      "Epoch 69/100\n",
      "150/150 [==============================] - 2s 12ms/step - loss: 0.3653 - accuracy: 0.9085 - val_loss: 0.3986 - val_accuracy: 0.8850\n",
      "Epoch 70/100\n",
      "150/150 [==============================] - 2s 11ms/step - loss: 0.3629 - accuracy: 0.9079 - val_loss: 0.3962 - val_accuracy: 0.8842\n",
      "Epoch 71/100\n",
      "150/150 [==============================] - 2s 11ms/step - loss: 0.3603 - accuracy: 0.9090 - val_loss: 0.3938 - val_accuracy: 0.8833\n",
      "Epoch 72/100\n",
      "150/150 [==============================] - 2s 12ms/step - loss: 0.3580 - accuracy: 0.9096 - val_loss: 0.3918 - val_accuracy: 0.8850\n",
      "Epoch 73/100\n",
      "150/150 [==============================] - 2s 11ms/step - loss: 0.3555 - accuracy: 0.9085 - val_loss: 0.3892 - val_accuracy: 0.8842\n",
      "Epoch 74/100\n",
      "150/150 [==============================] - 2s 12ms/step - loss: 0.3530 - accuracy: 0.9102 - val_loss: 0.3877 - val_accuracy: 0.8850\n",
      "Epoch 75/100\n",
      "150/150 [==============================] - 2s 12ms/step - loss: 0.3508 - accuracy: 0.9115 - val_loss: 0.3865 - val_accuracy: 0.8850\n",
      "Epoch 76/100\n",
      "150/150 [==============================] - 2s 12ms/step - loss: 0.3484 - accuracy: 0.9121 - val_loss: 0.3844 - val_accuracy: 0.8892\n",
      "Epoch 77/100\n",
      "150/150 [==============================] - 2s 12ms/step - loss: 0.3462 - accuracy: 0.9131 - val_loss: 0.3825 - val_accuracy: 0.8875\n",
      "Epoch 78/100\n",
      "150/150 [==============================] - 2s 12ms/step - loss: 0.3439 - accuracy: 0.9129 - val_loss: 0.3810 - val_accuracy: 0.8867\n",
      "Epoch 79/100\n",
      "150/150 [==============================] - 2s 12ms/step - loss: 0.3420 - accuracy: 0.9137 - val_loss: 0.3792 - val_accuracy: 0.8892\n",
      "Epoch 80/100\n",
      "150/150 [==============================] - 2s 12ms/step - loss: 0.3397 - accuracy: 0.9148 - val_loss: 0.3776 - val_accuracy: 0.8892\n",
      "Epoch 81/100\n",
      "150/150 [==============================] - 2s 11ms/step - loss: 0.3376 - accuracy: 0.9152 - val_loss: 0.3764 - val_accuracy: 0.8883\n",
      "Epoch 82/100\n",
      "150/150 [==============================] - 2s 12ms/step - loss: 0.3356 - accuracy: 0.9150 - val_loss: 0.3747 - val_accuracy: 0.8883\n",
      "Epoch 83/100\n",
      "150/150 [==============================] - 2s 11ms/step - loss: 0.3336 - accuracy: 0.9165 - val_loss: 0.3728 - val_accuracy: 0.8908\n",
      "Epoch 84/100\n",
      "150/150 [==============================] - 2s 12ms/step - loss: 0.3317 - accuracy: 0.9162 - val_loss: 0.3712 - val_accuracy: 0.8900\n",
      "Epoch 85/100\n",
      "150/150 [==============================] - 2s 11ms/step - loss: 0.3296 - accuracy: 0.9175 - val_loss: 0.3705 - val_accuracy: 0.8883\n",
      "Epoch 86/100\n",
      "150/150 [==============================] - 2s 12ms/step - loss: 0.3278 - accuracy: 0.9169 - val_loss: 0.3688 - val_accuracy: 0.8908\n",
      "Epoch 87/100\n",
      "150/150 [==============================] - 2s 12ms/step - loss: 0.3259 - accuracy: 0.9167 - val_loss: 0.3670 - val_accuracy: 0.8942\n",
      "Epoch 88/100\n",
      "150/150 [==============================] - 2s 12ms/step - loss: 0.3241 - accuracy: 0.9185 - val_loss: 0.3655 - val_accuracy: 0.8925\n",
      "Epoch 89/100\n",
      "150/150 [==============================] - 2s 12ms/step - loss: 0.3222 - accuracy: 0.9181 - val_loss: 0.3647 - val_accuracy: 0.8925\n",
      "Epoch 90/100\n",
      "150/150 [==============================] - 2s 12ms/step - loss: 0.3205 - accuracy: 0.9190 - val_loss: 0.3640 - val_accuracy: 0.8908\n",
      "Epoch 91/100\n",
      "150/150 [==============================] - 2s 12ms/step - loss: 0.3187 - accuracy: 0.9181 - val_loss: 0.3627 - val_accuracy: 0.8917\n",
      "Epoch 92/100\n",
      "150/150 [==============================] - 2s 12ms/step - loss: 0.3170 - accuracy: 0.9177 - val_loss: 0.3605 - val_accuracy: 0.8950\n",
      "Epoch 93/100\n",
      "150/150 [==============================] - 2s 12ms/step - loss: 0.3153 - accuracy: 0.9198 - val_loss: 0.3590 - val_accuracy: 0.8942\n",
      "Epoch 94/100\n",
      "150/150 [==============================] - 2s 12ms/step - loss: 0.3135 - accuracy: 0.9198 - val_loss: 0.3582 - val_accuracy: 0.8958\n",
      "Epoch 95/100\n",
      "150/150 [==============================] - 2s 12ms/step - loss: 0.3119 - accuracy: 0.9212 - val_loss: 0.3576 - val_accuracy: 0.8933\n",
      "Epoch 96/100\n",
      "150/150 [==============================] - 2s 12ms/step - loss: 0.3103 - accuracy: 0.9212 - val_loss: 0.3563 - val_accuracy: 0.8950\n",
      "Epoch 97/100\n",
      "150/150 [==============================] - 2s 12ms/step - loss: 0.3088 - accuracy: 0.9200 - val_loss: 0.3553 - val_accuracy: 0.8942\n",
      "Epoch 98/100\n",
      "150/150 [==============================] - 2s 12ms/step - loss: 0.3071 - accuracy: 0.9217 - val_loss: 0.3535 - val_accuracy: 0.8942\n",
      "Epoch 99/100\n",
      "150/150 [==============================] - 2s 12ms/step - loss: 0.3055 - accuracy: 0.9219 - val_loss: 0.3529 - val_accuracy: 0.8958\n",
      "Epoch 100/100\n",
      "150/150 [==============================] - 2s 12ms/step - loss: 0.3040 - accuracy: 0.9221 - val_loss: 0.3513 - val_accuracy: 0.8950\n"
     ]
    }
   ],
   "source": [
    "history = model.fit(X_train, y_train, epochs=100, validation_split=0.2)"
   ]
  },
  {
   "cell_type": "markdown",
   "metadata": {},
   "source": [
    "### Note that in each epoch, there are 150 steps (= mini batches)"
   ]
  },
  {
   "cell_type": "code",
   "execution_count": 56,
   "metadata": {},
   "outputs": [
    {
     "data": {
      "text/plain": [
       "(6000, 28, 28)"
      ]
     },
     "execution_count": 56,
     "metadata": {},
     "output_type": "execute_result"
    }
   ],
   "source": [
    "X_train.shape"
   ]
  },
  {
   "cell_type": "code",
   "execution_count": 57,
   "metadata": {},
   "outputs": [
    {
     "data": {
      "text/plain": [
       "150.0"
      ]
     },
     "execution_count": 57,
     "metadata": {},
     "output_type": "execute_result"
    }
   ],
   "source": [
    "X_train.shape[0]*0.8/32"
   ]
  },
  {
   "cell_type": "markdown",
   "metadata": {},
   "source": [
    "### TODO: Evaluate the model using the test dataset."
   ]
  },
  {
   "cell_type": "code",
   "execution_count": 58,
   "metadata": {},
   "outputs": [
    {
     "name": "stdout",
     "output_type": "stream",
     "text": [
      "Test loss: 0.3940042555332184\n",
      "Test accuracy: 0.8830000162124634\n"
     ]
    }
   ],
   "source": [
    "loss, accuracy = model.evaluate(X_test, y_test, verbose=0)\n",
    "print('Test loss:', loss)\n",
    "print('Test accuracy:', accuracy)"
   ]
  },
  {
   "cell_type": "markdown",
   "metadata": {},
   "source": [
    "### Let's check some of the results."
   ]
  },
  {
   "cell_type": "code",
   "execution_count": 59,
   "metadata": {},
   "outputs": [
    {
     "data": {
      "text/plain": [
       "array([[0.   , 0.   , 0.   , 0.001, 0.   , 0.   , 0.   , 0.994, 0.   ,\n",
       "        0.004]], dtype=float32)"
      ]
     },
     "execution_count": 59,
     "metadata": {},
     "output_type": "execute_result"
    },
    {
     "data": {
      "image/png": "[encoded data removed]",
      "text/plain": [
       "<Figure size 432x288 with 1 Axes>"
      ]
     },
     "metadata": {
      "needs_background": "light"
     },
     "output_type": "display_data"
    }
   ],
   "source": [
    "n = 0\n",
    "\n",
    "# Display the image.\n",
    "plt.imshow(X_test[n])\n",
    "\n",
    "# Model prediction: probability for each class.\n",
    "y_prob = model.predict(np.expand_dims(X_test[n], axis=0))\n",
    "y_prob.round(3)"
   ]
  },
  {
   "cell_type": "markdown",
   "metadata": {},
   "source": [
    "### The evaluation score is 88.8%, which is okay but not very impressive. Why? Can we improve the performance?"
   ]
  },
  {
   "cell_type": "markdown",
   "metadata": {},
   "source": [
    "### Let's check how loss and accuracy have evolved over the training."
   ]
  },
  {
   "cell_type": "code",
   "execution_count": 60,
   "metadata": {},
   "outputs": [
    {
     "data": {
      "text/plain": [
       "Text(0, 0.5, 'loss, validation loss')"
      ]
     },
     "execution_count": 60,
     "metadata": {},
     "output_type": "execute_result"
    },
    {
     "data": {
      "image/png": "[encoded data removed]",
      "text/plain": [
       "<Figure size 432x288 with 1 Axes>"
      ]
     },
     "metadata": {
      "needs_background": "light"
     },
     "output_type": "display_data"
    }
   ],
   "source": [
    "plt.plot(history.epoch, history.history['loss'],'.-')\n",
    "plt.plot(history.epoch, history.history['val_loss'],'.-')\n",
    "plt.xlabel('epoch')\n",
    "plt.ylabel('loss, validation loss')"
   ]
  },
  {
   "cell_type": "code",
   "execution_count": 61,
   "metadata": {},
   "outputs": [
    {
     "data": {
      "text/plain": [
       "Text(0, 0.5, 'accuracy, validation accuracy')"
      ]
     },
     "execution_count": 61,
     "metadata": {},
     "output_type": "execute_result"
    },
    {
     "data": {
      "image/png": "[encoded data removed]",
      "text/plain": [
       "<Figure size 432x288 with 1 Axes>"
      ]
     },
     "metadata": {
      "needs_background": "light"
     },
     "output_type": "display_data"
    }
   ],
   "source": [
    "plt.plot(history.epoch, history.history['accuracy'],'.-')\n",
    "plt.plot(history.epoch, history.history['val_accuracy'],'.-')\n",
    "plt.ylim(0.7,1)\n",
    "plt.xlabel('epoch')\n",
    "plt.ylabel('accuracy, validation accuracy')"
   ]
  },
  {
   "cell_type": "markdown",
   "metadata": {},
   "source": [
    "### It seems like the model is still underfitting. We can increase the number of epochs, but we can try to use the \"adam\" optimizer which will monitor and adjust the learning rate as the training proceeds."
   ]
  },
  {
   "cell_type": "code",
   "execution_count": 62,
   "metadata": {},
   "outputs": [],
   "source": [
    "model2 = keras.models.Sequential([\n",
    "    keras.layers.Flatten(input_shape=[28, 28]),\n",
    "    keras.layers.Dense(1000, activation=\"relu\"),\n",
    "    keras.layers.Dense(1000, activation=\"relu\"),\n",
    "    keras.layers.Dense(10, activation=\"softmax\")\n",
    "])"
   ]
  },
  {
   "cell_type": "code",
   "execution_count": 63,
   "metadata": {},
   "outputs": [
    {
     "name": "stdout",
     "output_type": "stream",
     "text": [
      "Model: \"sequential_13\"\n",
      "_________________________________________________________________\n",
      "Layer (type)                 Output Shape              Param #   \n",
      "=================================================================\n",
      "flatten_5 (Flatten)          (None, 784)               0         \n",
      "_________________________________________________________________\n",
      "dense_24 (Dense)             (None, 1000)              785000    \n",
      "_________________________________________________________________\n",
      "dense_25 (Dense)             (None, 1000)              1001000   \n",
      "_________________________________________________________________\n",
      "dense_26 (Dense)             (None, 10)                10010     \n",
      "=================================================================\n",
      "Total params: 1,796,010\n",
      "Trainable params: 1,796,010\n",
      "Non-trainable params: 0\n",
      "_________________________________________________________________\n"
     ]
    }
   ],
   "source": [
    "model2.summary()"
   ]
  },
  {
   "cell_type": "code",
   "execution_count": 64,
   "metadata": {},
   "outputs": [],
   "source": [
    "model2.compile(loss=\"sparse_categorical_crossentropy\",\n",
    "              optimizer=keras.optimizers.Adam(learning_rate=1e-3),\n",
    "              metrics=[\"accuracy\"])"
   ]
  },
  {
   "cell_type": "code",
   "execution_count": 65,
   "metadata": {
    "collapsed": true,
    "jupyter": {
     "outputs_hidden": true
    },
    "tags": []
   },
   "outputs": [
    {
     "name": "stdout",
     "output_type": "stream",
     "text": [
      "Epoch 1/100\n",
      "150/150 [==============================] - 2s 13ms/step - loss: 0.5046 - accuracy: 0.8375 - val_loss: 0.2799 - val_accuracy: 0.9075\n",
      "Epoch 2/100\n",
      "150/150 [==============================] - 2s 13ms/step - loss: 0.1862 - accuracy: 0.9413 - val_loss: 0.2343 - val_accuracy: 0.9308\n",
      "Epoch 3/100\n",
      "150/150 [==============================] - 2s 13ms/step - loss: 0.0936 - accuracy: 0.9704 - val_loss: 0.2413 - val_accuracy: 0.9308\n",
      "Epoch 4/100\n",
      "150/150 [==============================] - 2s 12ms/step - loss: 0.0625 - accuracy: 0.9806 - val_loss: 0.2730 - val_accuracy: 0.9233\n",
      "Epoch 5/100\n",
      "150/150 [==============================] - 2s 12ms/step - loss: 0.0589 - accuracy: 0.9829 - val_loss: 0.2718 - val_accuracy: 0.9308\n",
      "Epoch 6/100\n",
      "150/150 [==============================] - 2s 12ms/step - loss: 0.0335 - accuracy: 0.9877 - val_loss: 0.3172 - val_accuracy: 0.9258\n",
      "Epoch 7/100\n",
      "150/150 [==============================] - 2s 12ms/step - loss: 0.0577 - accuracy: 0.9819 - val_loss: 0.2641 - val_accuracy: 0.9392\n",
      "Epoch 8/100\n",
      "150/150 [==============================] - 2s 12ms/step - loss: 0.0390 - accuracy: 0.9875 - val_loss: 0.3182 - val_accuracy: 0.9400\n",
      "Epoch 9/100\n",
      "150/150 [==============================] - 2s 12ms/step - loss: 0.0323 - accuracy: 0.9919 - val_loss: 0.3308 - val_accuracy: 0.9225\n",
      "Epoch 10/100\n",
      "150/150 [==============================] - 2s 13ms/step - loss: 0.0276 - accuracy: 0.9904 - val_loss: 0.3404 - val_accuracy: 0.9317\n",
      "Epoch 11/100\n",
      "150/150 [==============================] - 2s 13ms/step - loss: 0.0125 - accuracy: 0.9962 - val_loss: 0.2740 - val_accuracy: 0.9458\n",
      "Epoch 12/100\n",
      "150/150 [==============================] - 2s 13ms/step - loss: 0.0018 - accuracy: 0.9996 - val_loss: 0.2678 - val_accuracy: 0.9500\n",
      "Epoch 13/100\n",
      "150/150 [==============================] - 2s 13ms/step - loss: 7.7238e-04 - accuracy: 0.9998 - val_loss: 0.2858 - val_accuracy: 0.9483\n",
      "Epoch 14/100\n",
      "150/150 [==============================] - 2s 13ms/step - loss: 0.0027 - accuracy: 0.9990 - val_loss: 0.3918 - val_accuracy: 0.9308\n",
      "Epoch 15/100\n",
      "150/150 [==============================] - 2s 13ms/step - loss: 0.0421 - accuracy: 0.9867 - val_loss: 0.3510 - val_accuracy: 0.9333\n",
      "Epoch 16/100\n",
      "150/150 [==============================] - 2s 13ms/step - loss: 0.0521 - accuracy: 0.9842 - val_loss: 0.3691 - val_accuracy: 0.9275\n",
      "Epoch 17/100\n",
      "150/150 [==============================] - 2s 13ms/step - loss: 0.0496 - accuracy: 0.9827 - val_loss: 0.3566 - val_accuracy: 0.9283\n",
      "Epoch 18/100\n",
      "150/150 [==============================] - 2s 13ms/step - loss: 0.0226 - accuracy: 0.9944 - val_loss: 0.4159 - val_accuracy: 0.9300\n",
      "Epoch 19/100\n",
      "150/150 [==============================] - 2s 13ms/step - loss: 0.0235 - accuracy: 0.9946 - val_loss: 0.3176 - val_accuracy: 0.9375\n",
      "Epoch 20/100\n",
      "150/150 [==============================] - 2s 13ms/step - loss: 0.0077 - accuracy: 0.9981 - val_loss: 0.3114 - val_accuracy: 0.9450\n",
      "Epoch 21/100\n",
      "150/150 [==============================] - 2s 13ms/step - loss: 0.0028 - accuracy: 0.9992 - val_loss: 0.3102 - val_accuracy: 0.9442\n",
      "Epoch 22/100\n",
      "150/150 [==============================] - 2s 13ms/step - loss: 3.3929e-04 - accuracy: 1.0000 - val_loss: 0.3217 - val_accuracy: 0.9433\n",
      "Epoch 23/100\n",
      "150/150 [==============================] - 2s 13ms/step - loss: 9.7347e-05 - accuracy: 1.0000 - val_loss: 0.3242 - val_accuracy: 0.9433\n",
      "Epoch 24/100\n",
      "150/150 [==============================] - 2s 13ms/step - loss: 7.3899e-05 - accuracy: 1.0000 - val_loss: 0.3251 - val_accuracy: 0.9433\n",
      "Epoch 25/100\n",
      "150/150 [==============================] - 2s 13ms/step - loss: 6.0367e-05 - accuracy: 1.0000 - val_loss: 0.3271 - val_accuracy: 0.9442\n",
      "Epoch 26/100\n",
      "150/150 [==============================] - 2s 13ms/step - loss: 4.8659e-05 - accuracy: 1.0000 - val_loss: 0.3345 - val_accuracy: 0.9458\n",
      "Epoch 27/100\n",
      "150/150 [==============================] - 2s 13ms/step - loss: 2.7890e-05 - accuracy: 1.0000 - val_loss: 0.3624 - val_accuracy: 0.9458\n",
      "Epoch 28/100\n",
      "150/150 [==============================] - 2s 13ms/step - loss: 1.2823e-05 - accuracy: 1.0000 - val_loss: 0.3893 - val_accuracy: 0.9450\n",
      "Epoch 29/100\n",
      "150/150 [==============================] - 2s 13ms/step - loss: 7.5096e-06 - accuracy: 1.0000 - val_loss: 0.4053 - val_accuracy: 0.9475\n",
      "Epoch 30/100\n",
      "150/150 [==============================] - 2s 13ms/step - loss: 5.3758e-06 - accuracy: 1.0000 - val_loss: 0.4172 - val_accuracy: 0.9467\n",
      "Epoch 31/100\n",
      "150/150 [==============================] - 2s 13ms/step - loss: 4.2326e-06 - accuracy: 1.0000 - val_loss: 0.4259 - val_accuracy: 0.9467\n",
      "Epoch 32/100\n",
      "150/150 [==============================] - 2s 13ms/step - loss: 3.4338e-06 - accuracy: 1.0000 - val_loss: 0.4331 - val_accuracy: 0.9467\n",
      "Epoch 33/100\n",
      "150/150 [==============================] - 2s 13ms/step - loss: 2.9383e-06 - accuracy: 1.0000 - val_loss: 0.4414 - val_accuracy: 0.9467\n",
      "Epoch 34/100\n",
      "150/150 [==============================] - 2s 13ms/step - loss: 2.5459e-06 - accuracy: 1.0000 - val_loss: 0.4450 - val_accuracy: 0.9475\n",
      "Epoch 35/100\n",
      "150/150 [==============================] - 2s 13ms/step - loss: 2.2217e-06 - accuracy: 1.0000 - val_loss: 0.4516 - val_accuracy: 0.9483\n",
      "Epoch 36/100\n",
      "150/150 [==============================] - 2s 13ms/step - loss: 1.9914e-06 - accuracy: 1.0000 - val_loss: 0.4529 - val_accuracy: 0.9475\n",
      "Epoch 37/100\n",
      "150/150 [==============================] - 2s 13ms/step - loss: 1.8290e-06 - accuracy: 1.0000 - val_loss: 0.4593 - val_accuracy: 0.9475\n",
      "Epoch 38/100\n",
      "150/150 [==============================] - 2s 13ms/step - loss: 1.6617e-06 - accuracy: 1.0000 - val_loss: 0.4625 - val_accuracy: 0.9475\n",
      "Epoch 39/100\n",
      "150/150 [==============================] - 2s 13ms/step - loss: 1.5156e-06 - accuracy: 1.0000 - val_loss: 0.4619 - val_accuracy: 0.9475\n",
      "Epoch 40/100\n",
      "150/150 [==============================] - 2s 13ms/step - loss: 1.4015e-06 - accuracy: 1.0000 - val_loss: 0.4640 - val_accuracy: 0.9483\n",
      "Epoch 41/100\n",
      "150/150 [==============================] - 2s 13ms/step - loss: 1.3234e-06 - accuracy: 1.0000 - val_loss: 0.4677 - val_accuracy: 0.9475\n",
      "Epoch 42/100\n",
      "150/150 [==============================] - 2s 13ms/step - loss: 1.2159e-06 - accuracy: 1.0000 - val_loss: 0.4694 - val_accuracy: 0.9483\n",
      "Epoch 43/100\n",
      "150/150 [==============================] - 2s 13ms/step - loss: 1.1123e-06 - accuracy: 1.0000 - val_loss: 0.4716 - val_accuracy: 0.9492\n",
      "Epoch 44/100\n",
      "150/150 [==============================] - 2s 13ms/step - loss: 1.0432e-06 - accuracy: 1.0000 - val_loss: 0.4788 - val_accuracy: 0.9492\n",
      "Epoch 45/100\n",
      "150/150 [==============================] - 2s 13ms/step - loss: 9.6222e-07 - accuracy: 1.0000 - val_loss: 0.4734 - val_accuracy: 0.9483\n",
      "Epoch 46/100\n",
      "150/150 [==============================] - 2s 13ms/step - loss: 9.0962e-07 - accuracy: 1.0000 - val_loss: 0.4741 - val_accuracy: 0.9483\n",
      "Epoch 47/100\n",
      "150/150 [==============================] - 2s 13ms/step - loss: 8.3035e-07 - accuracy: 1.0000 - val_loss: 0.4832 - val_accuracy: 0.9492\n",
      "Epoch 48/100\n",
      "150/150 [==============================] - 2s 13ms/step - loss: 8.2218e-07 - accuracy: 1.0000 - val_loss: 0.4802 - val_accuracy: 0.9492\n",
      "Epoch 49/100\n",
      "150/150 [==============================] - 2s 13ms/step - loss: 7.6931e-07 - accuracy: 1.0000 - val_loss: 0.4849 - val_accuracy: 0.9492\n",
      "Epoch 50/100\n",
      "150/150 [==============================] - 2s 13ms/step - loss: 7.0499e-07 - accuracy: 1.0000 - val_loss: 0.4854 - val_accuracy: 0.9483\n",
      "Epoch 51/100\n",
      "150/150 [==============================] - 2s 13ms/step - loss: 6.6329e-07 - accuracy: 1.0000 - val_loss: 0.4877 - val_accuracy: 0.9475\n",
      "Epoch 52/100\n",
      "150/150 [==============================] - 2s 13ms/step - loss: 6.2929e-07 - accuracy: 1.0000 - val_loss: 0.4878 - val_accuracy: 0.9492\n",
      "Epoch 53/100\n",
      "150/150 [==============================] - 2s 13ms/step - loss: 6.0250e-07 - accuracy: 1.0000 - val_loss: 0.4896 - val_accuracy: 0.9492\n",
      "Epoch 54/100\n",
      "150/150 [==============================] - 2s 13ms/step - loss: 5.5012e-07 - accuracy: 1.0000 - val_loss: 0.4910 - val_accuracy: 0.9492\n",
      "Epoch 55/100\n",
      "150/150 [==============================] - 2s 13ms/step - loss: 5.1207e-07 - accuracy: 1.0000 - val_loss: 0.4895 - val_accuracy: 0.9492\n",
      "Epoch 56/100\n",
      "150/150 [==============================] - 2s 13ms/step - loss: 4.9539e-07 - accuracy: 1.0000 - val_loss: 0.4886 - val_accuracy: 0.9492\n",
      "Epoch 57/100\n",
      "150/150 [==============================] - 2s 13ms/step - loss: 4.6484e-07 - accuracy: 1.0000 - val_loss: 0.4969 - val_accuracy: 0.9483\n",
      "Epoch 58/100\n",
      "150/150 [==============================] - 2s 13ms/step - loss: 4.4010e-07 - accuracy: 1.0000 - val_loss: 0.4956 - val_accuracy: 0.9492\n",
      "Epoch 59/100\n",
      "150/150 [==============================] - 2s 13ms/step - loss: 4.1057e-07 - accuracy: 1.0000 - val_loss: 0.4962 - val_accuracy: 0.9483\n",
      "Epoch 60/100\n",
      "150/150 [==============================] - 2s 13ms/step - loss: 3.8753e-07 - accuracy: 1.0000 - val_loss: 0.5009 - val_accuracy: 0.9483\n",
      "Epoch 61/100\n",
      "150/150 [==============================] - 2s 13ms/step - loss: 3.6689e-07 - accuracy: 1.0000 - val_loss: 0.4988 - val_accuracy: 0.9492\n",
      "Epoch 62/100\n",
      "150/150 [==============================] - 2s 13ms/step - loss: 3.6157e-07 - accuracy: 1.0000 - val_loss: 0.5012 - val_accuracy: 0.9492\n",
      "Epoch 63/100\n",
      "150/150 [==============================] - 2s 13ms/step - loss: 3.2157e-07 - accuracy: 1.0000 - val_loss: 0.5005 - val_accuracy: 0.9492\n",
      "Epoch 64/100\n",
      "150/150 [==============================] - 2s 13ms/step - loss: 3.1426e-07 - accuracy: 1.0000 - val_loss: 0.5034 - val_accuracy: 0.9492\n",
      "Epoch 65/100\n",
      "150/150 [==============================] - 2s 13ms/step - loss: 2.9755e-07 - accuracy: 1.0000 - val_loss: 0.5048 - val_accuracy: 0.9508\n",
      "Epoch 66/100\n",
      "150/150 [==============================] - 2s 13ms/step - loss: 2.9062e-07 - accuracy: 1.0000 - val_loss: 0.5060 - val_accuracy: 0.9500\n",
      "Epoch 67/100\n",
      "150/150 [==============================] - 2s 12ms/step - loss: 2.5632e-07 - accuracy: 1.0000 - val_loss: 0.5066 - val_accuracy: 0.9492\n",
      "Epoch 68/100\n",
      "150/150 [==============================] - 2s 13ms/step - loss: 2.5771e-07 - accuracy: 1.0000 - val_loss: 0.5063 - val_accuracy: 0.9492\n",
      "Epoch 69/100\n",
      "150/150 [==============================] - 2s 13ms/step - loss: 2.3901e-07 - accuracy: 1.0000 - val_loss: 0.5098 - val_accuracy: 0.9492\n",
      "Epoch 70/100\n",
      "150/150 [==============================] - 2s 13ms/step - loss: 2.2955e-07 - accuracy: 1.0000 - val_loss: 0.5102 - val_accuracy: 0.9492\n",
      "Epoch 71/100\n",
      "150/150 [==============================] - 2s 13ms/step - loss: 2.1018e-07 - accuracy: 1.0000 - val_loss: 0.5129 - val_accuracy: 0.9492\n",
      "Epoch 72/100\n",
      "150/150 [==============================] - 2s 13ms/step - loss: 2.0102e-07 - accuracy: 1.0000 - val_loss: 0.5176 - val_accuracy: 0.9475\n",
      "Epoch 73/100\n",
      "150/150 [==============================] - 2s 14ms/step - loss: 1.9232e-07 - accuracy: 1.0000 - val_loss: 0.5140 - val_accuracy: 0.9492\n",
      "Epoch 74/100\n",
      "150/150 [==============================] - 2s 13ms/step - loss: 1.7993e-07 - accuracy: 1.0000 - val_loss: 0.5151 - val_accuracy: 0.9500\n",
      "Epoch 75/100\n",
      "150/150 [==============================] - 2s 13ms/step - loss: 1.7283e-07 - accuracy: 1.0000 - val_loss: 0.5194 - val_accuracy: 0.9475\n",
      "Epoch 76/100\n",
      "150/150 [==============================] - 2s 13ms/step - loss: 1.6237e-07 - accuracy: 1.0000 - val_loss: 0.5201 - val_accuracy: 0.9483\n",
      "Epoch 77/100\n",
      "150/150 [==============================] - 2s 13ms/step - loss: 1.4998e-07 - accuracy: 1.0000 - val_loss: 0.5165 - val_accuracy: 0.9500\n",
      "Epoch 78/100\n",
      "150/150 [==============================] - 2s 13ms/step - loss: 1.4072e-07 - accuracy: 1.0000 - val_loss: 0.5145 - val_accuracy: 0.9517\n",
      "Epoch 79/100\n",
      "150/150 [==============================] - 2s 13ms/step - loss: 1.3672e-07 - accuracy: 1.0000 - val_loss: 0.5200 - val_accuracy: 0.9517\n",
      "Epoch 80/100\n",
      "150/150 [==============================] - 2s 16ms/step - loss: 1.2365e-07 - accuracy: 1.0000 - val_loss: 0.5253 - val_accuracy: 0.9492\n",
      "Epoch 81/100\n",
      "150/150 [==============================] - 2s 15ms/step - loss: 1.2269e-07 - accuracy: 1.0000 - val_loss: 0.5239 - val_accuracy: 0.9492\n",
      "Epoch 82/100\n",
      "150/150 [==============================] - 2s 14ms/step - loss: 1.1298e-07 - accuracy: 1.0000 - val_loss: 0.5254 - val_accuracy: 0.9483\n",
      "Epoch 83/100\n",
      "150/150 [==============================] - 2s 13ms/step - loss: 1.0585e-07 - accuracy: 1.0000 - val_loss: 0.5259 - val_accuracy: 0.9492\n",
      "Epoch 84/100\n",
      "150/150 [==============================] - 2s 13ms/step - loss: 1.0123e-07 - accuracy: 1.0000 - val_loss: 0.5250 - val_accuracy: 0.9492\n",
      "Epoch 85/100\n",
      "150/150 [==============================] - 2s 13ms/step - loss: 9.4001e-08 - accuracy: 1.0000 - val_loss: 0.5250 - val_accuracy: 0.9492\n",
      "Epoch 86/100\n",
      "150/150 [==============================] - 2s 13ms/step - loss: 9.1096e-08 - accuracy: 1.0000 - val_loss: 0.5339 - val_accuracy: 0.9492\n",
      "Epoch 87/100\n",
      "150/150 [==============================] - 2s 13ms/step - loss: 8.4812e-08 - accuracy: 1.0000 - val_loss: 0.5283 - val_accuracy: 0.9492\n",
      "Epoch 88/100\n",
      "150/150 [==============================] - 2s 13ms/step - loss: 7.8902e-08 - accuracy: 1.0000 - val_loss: 0.5296 - val_accuracy: 0.9508\n",
      "Epoch 89/100\n",
      "150/150 [==============================] - 2s 13ms/step - loss: 7.7560e-08 - accuracy: 1.0000 - val_loss: 0.5335 - val_accuracy: 0.9500\n",
      "Epoch 90/100\n",
      "150/150 [==============================] - 2s 13ms/step - loss: 7.1401e-08 - accuracy: 1.0000 - val_loss: 0.5351 - val_accuracy: 0.9500\n",
      "Epoch 91/100\n",
      "150/150 [==============================] - 2s 13ms/step - loss: 6.8545e-08 - accuracy: 1.0000 - val_loss: 0.5361 - val_accuracy: 0.9500\n",
      "Epoch 92/100\n",
      "150/150 [==============================] - 2s 13ms/step - loss: 6.2510e-08 - accuracy: 1.0000 - val_loss: 0.5359 - val_accuracy: 0.9500\n",
      "Epoch 93/100\n",
      "150/150 [==============================] - 2s 13ms/step - loss: 5.8835e-08 - accuracy: 1.0000 - val_loss: 0.5373 - val_accuracy: 0.9483\n",
      "Epoch 94/100\n",
      "150/150 [==============================] - 2s 13ms/step - loss: 5.6004e-08 - accuracy: 1.0000 - val_loss: 0.5369 - val_accuracy: 0.9500\n",
      "Epoch 95/100\n",
      "150/150 [==============================] - 2s 13ms/step - loss: 5.1831e-08 - accuracy: 1.0000 - val_loss: 0.5378 - val_accuracy: 0.9483\n",
      "Epoch 96/100\n",
      "150/150 [==============================] - 2s 13ms/step - loss: 4.9199e-08 - accuracy: 1.0000 - val_loss: 0.5377 - val_accuracy: 0.9492\n",
      "Epoch 97/100\n",
      "150/150 [==============================] - 2s 13ms/step - loss: 4.7584e-08 - accuracy: 1.0000 - val_loss: 0.5399 - val_accuracy: 0.9492\n",
      "Epoch 98/100\n",
      "150/150 [==============================] - 2s 13ms/step - loss: 4.3735e-08 - accuracy: 1.0000 - val_loss: 0.5436 - val_accuracy: 0.9500\n",
      "Epoch 99/100\n",
      "150/150 [==============================] - 2s 13ms/step - loss: 4.1450e-08 - accuracy: 1.0000 - val_loss: 0.5433 - val_accuracy: 0.9500\n",
      "Epoch 100/100\n",
      "150/150 [==============================] - 2s 13ms/step - loss: 3.8544e-08 - accuracy: 1.0000 - val_loss: 0.5425 - val_accuracy: 0.9492\n"
     ]
    }
   ],
   "source": [
    "history2 = model2.fit(X_train, y_train, epochs=100, validation_split=0.2)"
   ]
  },
  {
   "cell_type": "code",
   "execution_count": 66,
   "metadata": {},
   "outputs": [
    {
     "name": "stdout",
     "output_type": "stream",
     "text": [
      "Test loss: 0.5944575071334839\n",
      "Test accuracy: 0.9509999752044678\n"
     ]
    }
   ],
   "source": [
    "loss, accuracy = model2.evaluate(X_test, y_test, verbose=0)\n",
    "print('Test loss:', loss)\n",
    "print('Test accuracy:', accuracy)"
   ]
  },
  {
   "cell_type": "markdown",
   "metadata": {},
   "source": [
    "### Let's check how loss and accuracy have evolved over the training."
   ]
  },
  {
   "cell_type": "code",
   "execution_count": 67,
   "metadata": {},
   "outputs": [
    {
     "data": {
      "text/plain": [
       "Text(0, 0.5, 'loss, validation loss')"
      ]
     },
     "execution_count": 67,
     "metadata": {},
     "output_type": "execute_result"
    },
    {
     "data": {
      "image/png": "[encoded data removed]",
      "text/plain": [
       "<Figure size 432x288 with 1 Axes>"
      ]
     },
     "metadata": {
      "needs_background": "light"
     },
     "output_type": "display_data"
    }
   ],
   "source": [
    "plt.plot(history2.epoch, history2.history['loss'],'.-')\n",
    "plt.plot(history2.epoch, history2.history['val_loss'],'.-')\n",
    "plt.xlabel('epoch')\n",
    "plt.ylabel('loss, validation loss')"
   ]
  },
  {
   "cell_type": "code",
   "execution_count": 68,
   "metadata": {},
   "outputs": [
    {
     "data": {
      "text/plain": [
       "Text(0, 0.5, 'accuracy, validation accuracy')"
      ]
     },
     "execution_count": 68,
     "metadata": {},
     "output_type": "execute_result"
    },
    {
     "data": {
      "image/png": "[encoded data removed]",
      "text/plain": [
       "<Figure size 432x288 with 1 Axes>"
      ]
     },
     "metadata": {
      "needs_background": "light"
     },
     "output_type": "display_data"
    }
   ],
   "source": [
    "plt.plot(history2.epoch, history2.history['accuracy'],'.-')\n",
    "plt.plot(history2.epoch, history2.history['val_accuracy'],'.-')\n",
    "plt.ylim(0.9,1.01)\n",
    "plt.xlabel('epoch')\n",
    "plt.ylabel('accuracy, validation accuracy')"
   ]
  },
  {
   "cell_type": "markdown",
   "metadata": {},
   "source": [
    "### Adam optimizer turned out to be extremely efficient! That's good but in this case do we have to train the model for the entire 100 epochs?"
   ]
  },
  {
   "cell_type": "markdown",
   "metadata": {},
   "source": [
    "### Early stopping"
   ]
  },
  {
   "cell_type": "code",
   "execution_count": 69,
   "metadata": {},
   "outputs": [],
   "source": [
    "model2 = keras.models.Sequential([\n",
    "    keras.layers.Flatten(input_shape=[28, 28]),\n",
    "    keras.layers.Dense(1000, activation=\"relu\"),\n",
    "    keras.layers.Dense(1000, activation=\"relu\"),\n",
    "    keras.layers.Dense(10, activation=\"softmax\")\n",
    "])"
   ]
  },
  {
   "cell_type": "code",
   "execution_count": 70,
   "metadata": {},
   "outputs": [],
   "source": [
    "model2.compile(loss=\"sparse_categorical_crossentropy\",\n",
    "              optimizer=keras.optimizers.Adam(learning_rate=1e-3),\n",
    "              metrics=[\"accuracy\"])"
   ]
  },
  {
   "cell_type": "code",
   "execution_count": 71,
   "metadata": {
    "collapsed": true,
    "jupyter": {
     "outputs_hidden": true
    },
    "tags": []
   },
   "outputs": [
    {
     "name": "stdout",
     "output_type": "stream",
     "text": [
      "Epoch 1/100\n",
      "150/150 [==============================] - 2s 13ms/step - loss: 0.5114 - accuracy: 0.8381 - val_loss: 0.2888 - val_accuracy: 0.9100\n",
      "Epoch 2/100\n",
      "150/150 [==============================] - 2s 13ms/step - loss: 0.1778 - accuracy: 0.9431 - val_loss: 0.2182 - val_accuracy: 0.9325\n",
      "Epoch 3/100\n",
      "150/150 [==============================] - 2s 13ms/step - loss: 0.0915 - accuracy: 0.9702 - val_loss: 0.2537 - val_accuracy: 0.9292\n",
      "Epoch 4/100\n",
      "150/150 [==============================] - 2s 13ms/step - loss: 0.0810 - accuracy: 0.9740 - val_loss: 0.2460 - val_accuracy: 0.9358\n",
      "Epoch 5/100\n",
      "150/150 [==============================] - 2s 13ms/step - loss: 0.0387 - accuracy: 0.9879 - val_loss: 0.2825 - val_accuracy: 0.9325\n",
      "Epoch 6/100\n",
      "150/150 [==============================] - 2s 12ms/step - loss: 0.0470 - accuracy: 0.9842 - val_loss: 0.2718 - val_accuracy: 0.9358\n",
      "Epoch 7/100\n",
      "150/150 [==============================] - 2s 12ms/step - loss: 0.0257 - accuracy: 0.9929 - val_loss: 0.3209 - val_accuracy: 0.9258\n",
      "Epoch 8/100\n",
      "150/150 [==============================] - 2s 12ms/step - loss: 0.0090 - accuracy: 0.9975 - val_loss: 0.2436 - val_accuracy: 0.9492\n",
      "Epoch 9/100\n",
      "150/150 [==============================] - 2s 12ms/step - loss: 0.0356 - accuracy: 0.9894 - val_loss: 0.2812 - val_accuracy: 0.9408\n",
      "Epoch 10/100\n",
      "150/150 [==============================] - 2s 12ms/step - loss: 0.0409 - accuracy: 0.9865 - val_loss: 0.2809 - val_accuracy: 0.9383\n",
      "Epoch 11/100\n",
      "150/150 [==============================] - 2s 12ms/step - loss: 0.0168 - accuracy: 0.9942 - val_loss: 0.2921 - val_accuracy: 0.9433\n",
      "Epoch 12/100\n",
      "150/150 [==============================] - 2s 13ms/step - loss: 0.0078 - accuracy: 0.9981 - val_loss: 0.2733 - val_accuracy: 0.9450\n",
      "Epoch 13/100\n",
      "150/150 [==============================] - 2s 13ms/step - loss: 0.0395 - accuracy: 0.9877 - val_loss: 0.3040 - val_accuracy: 0.9408\n",
      "Epoch 14/100\n",
      "150/150 [==============================] - 2s 13ms/step - loss: 0.0398 - accuracy: 0.9875 - val_loss: 0.2967 - val_accuracy: 0.9483\n",
      "Epoch 15/100\n",
      "150/150 [==============================] - 2s 12ms/step - loss: 0.0205 - accuracy: 0.9946 - val_loss: 0.2595 - val_accuracy: 0.9517\n",
      "Epoch 16/100\n",
      "150/150 [==============================] - 2s 13ms/step - loss: 0.0201 - accuracy: 0.9940 - val_loss: 0.2965 - val_accuracy: 0.9483\n",
      "Epoch 17/100\n",
      "150/150 [==============================] - 2s 13ms/step - loss: 0.0289 - accuracy: 0.9921 - val_loss: 0.3414 - val_accuracy: 0.9325\n",
      "Epoch 18/100\n",
      "150/150 [==============================] - 2s 13ms/step - loss: 0.0211 - accuracy: 0.9937 - val_loss: 0.3564 - val_accuracy: 0.9383\n",
      "Epoch 19/100\n",
      "150/150 [==============================] - 2s 13ms/step - loss: 0.0115 - accuracy: 0.9967 - val_loss: 0.4656 - val_accuracy: 0.9217\n",
      "Epoch 20/100\n",
      "150/150 [==============================] - 2s 13ms/step - loss: 0.0134 - accuracy: 0.9956 - val_loss: 0.3585 - val_accuracy: 0.9325\n",
      "Epoch 21/100\n",
      "150/150 [==============================] - 2s 13ms/step - loss: 0.0295 - accuracy: 0.9929 - val_loss: 0.2989 - val_accuracy: 0.9417\n",
      "Epoch 22/100\n",
      "150/150 [==============================] - 2s 13ms/step - loss: 0.0113 - accuracy: 0.9971 - val_loss: 0.3243 - val_accuracy: 0.9475\n",
      "Epoch 23/100\n",
      "150/150 [==============================] - 2s 13ms/step - loss: 0.0174 - accuracy: 0.9944 - val_loss: 0.2972 - val_accuracy: 0.9433\n",
      "Epoch 24/100\n",
      "150/150 [==============================] - 2s 13ms/step - loss: 0.0067 - accuracy: 0.9977 - val_loss: 0.2931 - val_accuracy: 0.9458\n",
      "Epoch 25/100\n",
      "150/150 [==============================] - 2s 13ms/step - loss: 0.0035 - accuracy: 0.9987 - val_loss: 0.2878 - val_accuracy: 0.9508\n"
     ]
    }
   ],
   "source": [
    "# The default monitor is \"val_loss\"\n",
    "early_stopping_cb = keras.callbacks.EarlyStopping(monitor='val_accuracy', patience=10)\n",
    "checkpoint_cb = keras.callbacks.ModelCheckpoint(\"my_mnist_model.h5\", save_best_only=True)\n",
    "\n",
    "history2 = model2.fit(X_train, y_train, epochs=100,\n",
    "                    validation_split=0.2,\n",
    "                    callbacks=[checkpoint_cb, early_stopping_cb])\n"
   ]
  },
  {
   "cell_type": "code",
   "execution_count": 72,
   "metadata": {},
   "outputs": [
    {
     "name": "stdout",
     "output_type": "stream",
     "text": [
      "Test loss: 0.27958783507347107\n",
      "Test accuracy: 0.9470000267028809\n"
     ]
    }
   ],
   "source": [
    "loss, accuracy = model2.evaluate(X_test, y_test, verbose=0)\n",
    "print('Test loss:', loss)\n",
    "print('Test accuracy:', accuracy)"
   ]
  },
  {
   "cell_type": "code",
   "execution_count": 73,
   "metadata": {},
   "outputs": [
    {
     "data": {
      "text/plain": [
       "Text(0, 0.5, 'loss, validation loss')"
      ]
     },
     "execution_count": 73,
     "metadata": {},
     "output_type": "execute_result"
    },
    {
     "data": {
      "image/png": "[encoded data removed]",
      "text/plain": [
       "<Figure size 432x288 with 1 Axes>"
      ]
     },
     "metadata": {
      "needs_background": "light"
     },
     "output_type": "display_data"
    }
   ],
   "source": [
    "plt.plot(history2.epoch, history2.history['loss'],'.-')\n",
    "plt.plot(history2.epoch, history2.history['val_loss'],'.-')\n",
    "plt.xlabel('epoch')\n",
    "plt.ylabel('loss, validation loss')"
   ]
  },
  {
   "cell_type": "code",
   "execution_count": null,
   "metadata": {},
   "outputs": [],
   "source": []
  },
  {
   "cell_type": "markdown",
   "metadata": {},
   "source": [
    "### TODO: With the \"adam\" optimizer and early stopping, we can train the model pretty efficiently. Now, let's use the entire MNIST dataset (instead of just 10 %) and see what accuracy we get."
   ]
  },
  {
   "cell_type": "code",
   "execution_count": 76,
   "metadata": {},
   "outputs": [],
   "source": [
    "import tensorflow.keras as keras\n",
    "\n",
    "(X_train, y_train), (X_test, y_test) = keras.datasets.mnist.load_data()\n",
    "\n",
    "X_train = X_train / 255.\n",
    "X_test = X_test / 255."
   ]
  },
  {
   "cell_type": "code",
   "execution_count": 77,
   "metadata": {},
   "outputs": [],
   "source": [
    "model2 = keras.models.Sequential([\n",
    "    keras.layers.Flatten(input_shape=[28, 28]),\n",
    "    keras.layers.Dense(1000, activation=\"relu\"),\n",
    "    keras.layers.Dense(1000, activation=\"relu\"),\n",
    "    keras.layers.Dense(10, activation=\"softmax\")\n",
    "])"
   ]
  },
  {
   "cell_type": "code",
   "execution_count": 78,
   "metadata": {},
   "outputs": [],
   "source": [
    "model2.compile(loss=\"sparse_categorical_crossentropy\",\n",
    "              optimizer=keras.optimizers.Adam(learning_rate=1e-3),\n",
    "              metrics=[\"accuracy\"])"
   ]
  },
  {
   "cell_type": "code",
   "execution_count": 79,
   "metadata": {
    "collapsed": true,
    "jupyter": {
     "outputs_hidden": true
    },
    "tags": []
   },
   "outputs": [
    {
     "name": "stdout",
     "output_type": "stream",
     "text": [
      "Epoch 1/100\n",
      "1500/1500 [==============================] - 19s 13ms/step - loss: 0.1950 - accuracy: 0.9409 - val_loss: 0.1273 - val_accuracy: 0.9606\n",
      "Epoch 2/100\n",
      "1500/1500 [==============================] - 19s 13ms/step - loss: 0.0866 - accuracy: 0.9735 - val_loss: 0.1022 - val_accuracy: 0.9703\n",
      "Epoch 3/100\n",
      "1500/1500 [==============================] - 20s 14ms/step - loss: 0.0586 - accuracy: 0.9805 - val_loss: 0.0957 - val_accuracy: 0.9742\n",
      "Epoch 4/100\n",
      "1500/1500 [==============================] - 19s 13ms/step - loss: 0.0473 - accuracy: 0.9850 - val_loss: 0.0879 - val_accuracy: 0.9752\n",
      "Epoch 5/100\n",
      "1500/1500 [==============================] - 19s 12ms/step - loss: 0.0385 - accuracy: 0.9879 - val_loss: 0.0951 - val_accuracy: 0.9777\n",
      "Epoch 6/100\n",
      "1500/1500 [==============================] - 19s 12ms/step - loss: 0.0309 - accuracy: 0.9902 - val_loss: 0.1099 - val_accuracy: 0.9749\n",
      "Epoch 7/100\n",
      "1500/1500 [==============================] - 19s 12ms/step - loss: 0.0300 - accuracy: 0.9908 - val_loss: 0.1597 - val_accuracy: 0.9714\n",
      "Epoch 8/100\n",
      "1500/1500 [==============================] - 19s 13ms/step - loss: 0.0252 - accuracy: 0.9926 - val_loss: 0.1139 - val_accuracy: 0.9760\n",
      "Epoch 9/100\n",
      "1500/1500 [==============================] - 20s 13ms/step - loss: 0.0261 - accuracy: 0.9929 - val_loss: 0.1286 - val_accuracy: 0.9777\n",
      "Epoch 10/100\n",
      "1500/1500 [==============================] - 19s 13ms/step - loss: 0.0184 - accuracy: 0.9948 - val_loss: 0.1311 - val_accuracy: 0.9761\n",
      "Epoch 11/100\n",
      "1500/1500 [==============================] - 19s 13ms/step - loss: 0.0258 - accuracy: 0.9929 - val_loss: 0.1319 - val_accuracy: 0.9778\n",
      "Epoch 12/100\n",
      "1500/1500 [==============================] - 19s 12ms/step - loss: 0.0137 - accuracy: 0.9965 - val_loss: 0.1591 - val_accuracy: 0.9742\n",
      "Epoch 13/100\n",
      "1500/1500 [==============================] - 19s 12ms/step - loss: 0.0201 - accuracy: 0.9949 - val_loss: 0.1674 - val_accuracy: 0.9747\n",
      "Epoch 14/100\n",
      "1500/1500 [==============================] - 19s 13ms/step - loss: 0.0172 - accuracy: 0.9952 - val_loss: 0.1688 - val_accuracy: 0.9768\n",
      "Epoch 15/100\n",
      "1500/1500 [==============================] - 19s 13ms/step - loss: 0.0211 - accuracy: 0.9946 - val_loss: 0.1750 - val_accuracy: 0.9779\n",
      "Epoch 16/100\n",
      "1500/1500 [==============================] - 20s 13ms/step - loss: 0.0178 - accuracy: 0.9956 - val_loss: 0.1594 - val_accuracy: 0.9801\n",
      "Epoch 17/100\n",
      "1500/1500 [==============================] - 19s 13ms/step - loss: 0.0153 - accuracy: 0.9962 - val_loss: 0.1911 - val_accuracy: 0.9775\n",
      "Epoch 18/100\n",
      "1500/1500 [==============================] - 19s 13ms/step - loss: 0.0138 - accuracy: 0.9963 - val_loss: 0.1835 - val_accuracy: 0.9797\n",
      "Epoch 20/100\n",
      "1500/1500 [==============================] - 19s 12ms/step - loss: 0.0119 - accuracy: 0.9980 - val_loss: 0.3111 - val_accuracy: 0.9808\n",
      "Epoch 49/100\n",
      "1500/1500 [==============================] - 19s 13ms/step - loss: 0.0102 - accuracy: 0.9984 - val_loss: 0.3771 - val_accuracy: 0.9803\n",
      "Epoch 50/100\n",
      "1500/1500 [==============================] - 19s 13ms/step - loss: 0.0077 - accuracy: 0.9987 - val_loss: 0.4603 - val_accuracy: 0.9805\n",
      "Epoch 51/100\n",
      "1500/1500 [==============================] - 19s 12ms/step - loss: 0.0194 - accuracy: 0.9979 - val_loss: 0.4385 - val_accuracy: 0.9786\n",
      "Epoch 52/100\n",
      "1500/1500 [==============================] - 19s 13ms/step - loss: 0.0109 - accuracy: 0.9985 - val_loss: 0.3995 - val_accuracy: 0.9806\n",
      "Epoch 53/100\n",
      "1500/1500 [==============================] - 19s 13ms/step - loss: 0.0088 - accuracy: 0.9986 - val_loss: 0.3900 - val_accuracy: 0.9832\n",
      "Epoch 54/100\n",
      "1500/1500 [==============================] - 19s 13ms/step - loss: 0.0149 - accuracy: 0.9983 - val_loss: 0.4919 - val_accuracy: 0.9779\n",
      "Epoch 55/100\n",
      "1500/1500 [==============================] - 20s 13ms/step - loss: 0.0171 - accuracy: 0.9987 - val_loss: 0.3986 - val_accuracy: 0.9812\n",
      "Epoch 56/100\n",
      "1500/1500 [==============================] - 19s 12ms/step - loss: 0.0175 - accuracy: 0.9982 - val_loss: 0.3831 - val_accuracy: 0.9817\n",
      "Epoch 57/100\n",
      "1500/1500 [==============================] - 19s 13ms/step - loss: 0.0093 - accuracy: 0.9989 - val_loss: 0.3934 - val_accuracy: 0.9803\n",
      "Epoch 58/100\n",
      "1500/1500 [==============================] - 19s 13ms/step - loss: 0.0123 - accuracy: 0.9985 - val_loss: 0.4445 - val_accuracy: 0.9807\n",
      "Epoch 59/100\n",
      "1500/1500 [==============================] - 19s 13ms/step - loss: 0.0169 - accuracy: 0.9985 - val_loss: 0.4077 - val_accuracy: 0.9804\n",
      "Epoch 60/100\n",
      "1500/1500 [==============================] - 19s 13ms/step - loss: 0.0120 - accuracy: 0.9986 - val_loss: 0.4158 - val_accuracy: 0.9798\n",
      "Epoch 61/100\n",
      "1500/1500 [==============================] - 20s 13ms/step - loss: 0.0123 - accuracy: 0.9980 - val_loss: 0.4357 - val_accuracy: 0.9803\n",
      "Epoch 62/100\n",
      "1500/1500 [==============================] - 19s 13ms/step - loss: 0.0166 - accuracy: 0.9983 - val_loss: 0.3667 - val_accuracy: 0.9804\n",
      "Epoch 63/100\n",
      "1500/1500 [==============================] - 19s 13ms/step - loss: 0.0092 - accuracy: 0.9990 - val_loss: 0.4405 - val_accuracy: 0.9812\n",
      "Epoch 64/100\n",
      "1500/1500 [==============================] - 19s 13ms/step - loss: 0.0060 - accuracy: 0.9991 - val_loss: 0.4770 - val_accuracy: 0.9819\n",
      "Epoch 65/100\n",
      "1500/1500 [==============================] - 19s 13ms/step - loss: 0.0080 - accuracy: 0.9992 - val_loss: 0.4510 - val_accuracy: 0.9813\n",
      "Epoch 66/100\n",
      "1500/1500 [==============================] - 19s 12ms/step - loss: 0.0207 - accuracy: 0.9981 - val_loss: 0.4629 - val_accuracy: 0.9810\n",
      "Epoch 67/100\n",
      "1500/1500 [==============================] - 19s 13ms/step - loss: 0.0098 - accuracy: 0.9989 - val_loss: 0.5040 - val_accuracy: 0.9799\n",
      "Epoch 68/100\n",
      "1500/1500 [==============================] - 19s 13ms/step - loss: 0.0092 - accuracy: 0.9989 - val_loss: 0.4492 - val_accuracy: 0.9818\n",
      "Epoch 69/100\n",
      "1500/1500 [==============================] - 19s 12ms/step - loss: 0.0126 - accuracy: 0.9987 - val_loss: 0.4504 - val_accuracy: 0.9812\n",
      "Epoch 70/100\n",
      "1500/1500 [==============================] - 19s 13ms/step - loss: 0.0108 - accuracy: 0.9987 - val_loss: 0.6062 - val_accuracy: 0.9772\n",
      "Epoch 71/100\n",
      "1500/1500 [==============================] - 18s 12ms/step - loss: 0.0114 - accuracy: 0.9986 - val_loss: 0.4843 - val_accuracy: 0.9826\n",
      "Epoch 72/100\n",
      "1500/1500 [==============================] - 18s 12ms/step - loss: 0.0083 - accuracy: 0.9992 - val_loss: 0.4996 - val_accuracy: 0.9798\n",
      "Epoch 73/100\n",
      "1500/1500 [==============================] - 19s 13ms/step - loss: 0.0172 - accuracy: 0.9988 - val_loss: 0.4184 - val_accuracy: 0.9829\n",
      "Epoch 74/100\n",
      "1500/1500 [==============================] - 19s 13ms/step - loss: 0.0103 - accuracy: 0.9989 - val_loss: 0.5303 - val_accuracy: 0.9811\n",
      "Epoch 75/100\n",
      "1500/1500 [==============================] - 19s 13ms/step - loss: 0.0108 - accuracy: 0.9986 - val_loss: 0.4680 - val_accuracy: 0.9809\n",
      "Epoch 76/100\n",
      "1500/1500 [==============================] - 19s 13ms/step - loss: 0.0087 - accuracy: 0.9989 - val_loss: 0.4716 - val_accuracy: 0.9812\n",
      "Epoch 77/100\n",
      "1500/1500 [==============================] - 19s 13ms/step - loss: 0.0068 - accuracy: 0.9991 - val_loss: 0.4502 - val_accuracy: 0.9824\n",
      "Epoch 78/100\n",
      "1500/1500 [==============================] - 19s 13ms/step - loss: 0.0156 - accuracy: 0.9985 - val_loss: 0.6098 - val_accuracy: 0.9776\n",
      "Epoch 79/100\n",
      "1500/1500 [==============================] - 19s 13ms/step - loss: 0.0069 - accuracy: 0.9993 - val_loss: 0.5351 - val_accuracy: 0.9823\n",
      "Epoch 80/100\n",
      "1500/1500 [==============================] - 20s 13ms/step - loss: 0.0076 - accuracy: 0.9990 - val_loss: 0.6399 - val_accuracy: 0.9803\n",
      "Epoch 81/100\n",
      "1500/1500 [==============================] - 19s 12ms/step - loss: 0.0128 - accuracy: 0.9989 - val_loss: 0.5299 - val_accuracy: 0.9804\n",
      "Epoch 82/100\n",
      "1500/1500 [==============================] - 19s 12ms/step - loss: 0.0181 - accuracy: 0.9982 - val_loss: 0.6218 - val_accuracy: 0.9801\n",
      "Epoch 83/100\n",
      "1500/1500 [==============================] - 19s 12ms/step - loss: 0.0049 - accuracy: 0.9994 - val_loss: 0.6040 - val_accuracy: 0.9804\n",
      "Epoch 84/100\n",
      "1500/1500 [==============================] - 19s 12ms/step - loss: 0.0186 - accuracy: 0.9985 - val_loss: 0.7705 - val_accuracy: 0.9812\n",
      "Epoch 85/100\n",
      "1500/1500 [==============================] - 19s 12ms/step - loss: 0.0095 - accuracy: 0.9990 - val_loss: 0.6320 - val_accuracy: 0.9823\n",
      "Epoch 90/100\n",
      "1500/1500 [==============================] - 18s 12ms/step - loss: 0.0140 - accuracy: 0.9990 - val_loss: 0.6761 - val_accuracy: 0.9808\n",
      "Epoch 91/100\n",
      "1500/1500 [==============================] - 19s 12ms/step - loss: 0.0088 - accuracy: 0.9992 - val_loss: 0.7027 - val_accuracy: 0.9807\n",
      "Epoch 92/100\n",
      "1500/1500 [==============================] - 18s 12ms/step - loss: 0.0115 - accuracy: 0.9990 - val_loss: 0.7338 - val_accuracy: 0.9793\n",
      "Epoch 93/100\n",
      "1500/1500 [==============================] - 19s 12ms/step - loss: 0.0092 - accuracy: 0.9991 - val_loss: 0.6576 - val_accuracy: 0.9822\n",
      "Epoch 94/100\n",
      "1500/1500 [==============================] - 18s 12ms/step - loss: 0.0149 - accuracy: 0.9989 - val_loss: 0.6948 - val_accuracy: 0.9812\n",
      "Epoch 95/100\n",
      "1500/1500 [==============================] - 18s 12ms/step - loss: 0.0132 - accuracy: 0.9990 - val_loss: 0.6342 - val_accuracy: 0.9829\n",
      "Epoch 96/100\n",
      "1500/1500 [==============================] - 18s 12ms/step - loss: 0.0111 - accuracy: 0.9991 - val_loss: 0.6014 - val_accuracy: 0.9814\n",
      "Epoch 97/100\n",
      "1500/1500 [==============================] - 18s 12ms/step - loss: 0.0158 - accuracy: 0.9992 - val_loss: 0.6313 - val_accuracy: 0.9811\n",
      "Epoch 98/100\n",
      "1500/1500 [==============================] - 18s 12ms/step - loss: 0.0133 - accuracy: 0.9989 - val_loss: 0.6272 - val_accuracy: 0.9823\n",
      "Epoch 99/100\n",
      "1351/1500 [==========================>...] - ETA: 1s - loss: 0.0078 - accuracy: 0.9992"
     ]
    },
    {
     "name": "stderr",
     "output_type": "stream",
     "text": [
      "IOPub message rate exceeded.\n",
      "The Jupyter server will temporarily stop sending output\n",
      "to the client in order to avoid crashing it.\n",
      "To change this limit, set the config variable\n",
      "`--ServerApp.iopub_msg_rate_limit`.\n",
      "\n",
      "Current values:\n",
      "ServerApp.iopub_msg_rate_limit=1000.0 (msgs/sec)\n",
      "ServerApp.rate_limit_window=3.0 (secs)\n",
      "\n"
     ]
    },
    {
     "name": "stdout",
     "output_type": "stream",
     "text": [
      "1500/1500 [==============================] - 20s 13ms/step - loss: 0.0143 - accuracy: 0.9990 - val_loss: 0.6124 - val_accuracy: 0.9825\n"
     ]
    }
   ],
   "source": [
    "history2 = model2.fit(X_train, y_train, epochs=100, validation_split=0.2)"
   ]
  },
  {
   "cell_type": "code",
   "execution_count": null,
   "metadata": {},
   "outputs": [],
   "source": [
    "loss, accuracy = model2.evaluate(X_test, y_test, verbose=0)\n",
    "print('Test loss:', loss)\n",
    "print('Test accuracy:', accuracy)"
   ]
  },
  {
   "cell_type": "markdown",
   "metadata": {},
   "source": [
    "### Q: What accuracy did you obtain? Are you satisfied?"
   ]
  },
  {
   "cell_type": "code",
   "execution_count": null,
   "metadata": {},
   "outputs": [],
   "source": []
  },
  {
   "cell_type": "markdown",
   "metadata": {},
   "source": [
    "### We can also take advantage of HiPerGator's A100 GPUs! You need to ask for a GPU when you open a session."
   ]
  },
  {
   "cell_type": "code",
   "execution_count": 75,
   "metadata": {},
   "outputs": [
    {
     "name": "stdout",
     "output_type": "stream",
     "text": [
      "Num GPUs Available:  0\n"
     ]
    }
   ],
   "source": [
    "import tensorflow as tf\n",
    "print(\"Num GPUs Available: \", len(tf.config.list_physical_devices('GPU')))"
   ]
  },
  {
   "cell_type": "markdown",
   "metadata": {},
   "source": [
    "### TODO: Repeat the above training using the full MNIST dataset and see how long (or short) it takes."
   ]
  },
  {
   "cell_type": "code",
   "execution_count": null,
   "metadata": {},
   "outputs": [],
   "source": [
    "import tensorflow.keras as keras\n",
    "\n",
    "(X_train, y_train), (X_test, y_test) = keras.datasets.mnist.load_data()\n",
    "\n",
    "X_train = X_train / 255.\n",
    "X_test = X_test / 255.\n",
    "\n",
    "model2 = keras.models.Sequential([\n",
    "    keras.layers.Flatten(input_shape=[28, 28]),\n",
    "    keras.layers.Dense(1000, activation=\"relu\"),\n",
    "    keras.layers.Dense(1000, activation=\"relu\"),\n",
    "    keras.layers.Dense(10, activation=\"softmax\")\n",
    "])\n",
    "\n",
    "model2.compile(loss=\"sparse_categorical_crossentropy\",\n",
    "              optimizer=keras.optimizers.Adam(learning_rate=1e-3),\n",
    "              metrics=[\"accuracy\"])\n",
    "\n",
    "history2 = model2.fit(X_train, y_train, epochs=100, validation_split=0.2)"
   ]
  },
  {
   "cell_type": "markdown",
   "metadata": {},
   "source": [
    "### For fun, let's have a look at what some of the most widely-used neural networks look like. Here, we will check out the 101-layer residual network implemented into Keras."
   ]
  },
  {
   "cell_type": "code",
   "execution_count": 189,
   "metadata": {},
   "outputs": [
    {
     "name": "stdout",
     "output_type": "stream",
     "text": [
      "Downloading data from https://storage.googleapis.com/tensorflow/keras-applications/resnet/resnet101v2_weights_tf_dim_ordering_tf_kernels.h5\n",
      "179519488/179518384 [==============================] - 2s 0us/step\n",
      "179527680/179518384 [==============================] - 2s 0us/step\n"
     ]
    }
   ],
   "source": [
    "model = keras.applications.ResNet101V2(\n",
    "    include_top=True, weights='imagenet', input_tensor=None,\n",
    "    input_shape=None, pooling=None, classes=1000\n",
    ")\n"
   ]
  },
  {
   "cell_type": "code",
   "execution_count": 190,
   "metadata": {
    "collapsed": true,
    "jupyter": {
     "outputs_hidden": true
    },
    "tags": []
   },
   "outputs": [
    {
     "name": "stdout",
     "output_type": "stream",
     "text": [
      "Model: \"resnet101v2\"\n",
      "__________________________________________________________________________________________________\n",
      "Layer (type)                    Output Shape         Param #     Connected to                     \n",
      "==================================================================================================\n",
      "input_18 (InputLayer)           [(None, 224, 224, 3) 0                                            \n",
      "__________________________________________________________________________________________________\n",
      "conv1_pad (ZeroPadding2D)       (None, 230, 230, 3)  0           input_18[0][0]                   \n",
      "__________________________________________________________________________________________________\n",
      "conv1_conv (Conv2D)             (None, 112, 112, 64) 9472        conv1_pad[0][0]                  \n",
      "__________________________________________________________________________________________________\n",
      "pool1_pad (ZeroPadding2D)       (None, 114, 114, 64) 0           conv1_conv[0][0]                 \n",
      "__________________________________________________________________________________________________\n",
      "pool1_pool (MaxPooling2D)       (None, 56, 56, 64)   0           pool1_pad[0][0]                  \n",
      "__________________________________________________________________________________________________\n",
      "conv2_block1_preact_bn (BatchNo (None, 56, 56, 64)   256         pool1_pool[0][0]                 \n",
      "__________________________________________________________________________________________________\n",
      "conv2_block1_preact_relu (Activ (None, 56, 56, 64)   0           conv2_block1_preact_bn[0][0]     \n",
      "__________________________________________________________________________________________________\n",
      "conv2_block1_1_conv (Conv2D)    (None, 56, 56, 64)   4096        conv2_block1_preact_relu[0][0]   \n",
      "__________________________________________________________________________________________________\n",
      "conv2_block1_1_bn (BatchNormali (None, 56, 56, 64)   256         conv2_block1_1_conv[0][0]        \n",
      "__________________________________________________________________________________________________\n",
      "conv2_block1_1_relu (Activation (None, 56, 56, 64)   0           conv2_block1_1_bn[0][0]          \n",
      "__________________________________________________________________________________________________\n",
      "conv2_block1_2_pad (ZeroPadding (None, 58, 58, 64)   0           conv2_block1_1_relu[0][0]        \n",
      "__________________________________________________________________________________________________\n",
      "conv2_block1_2_conv (Conv2D)    (None, 56, 56, 64)   36864       conv2_block1_2_pad[0][0]         \n",
      "__________________________________________________________________________________________________\n",
      "conv2_block1_2_bn (BatchNormali (None, 56, 56, 64)   256         conv2_block1_2_conv[0][0]        \n",
      "__________________________________________________________________________________________________\n",
      "conv2_block1_2_relu (Activation (None, 56, 56, 64)   0           conv2_block1_2_bn[0][0]          \n",
      "__________________________________________________________________________________________________\n",
      "conv2_block1_0_conv (Conv2D)    (None, 56, 56, 256)  16640       conv2_block1_preact_relu[0][0]   \n",
      "__________________________________________________________________________________________________\n",
      "conv2_block1_3_conv (Conv2D)    (None, 56, 56, 256)  16640       conv2_block1_2_relu[0][0]        \n",
      "__________________________________________________________________________________________________\n",
      "conv2_block1_out (Add)          (None, 56, 56, 256)  0           conv2_block1_0_conv[0][0]        \n",
      "                                                                 conv2_block1_3_conv[0][0]        \n",
      "__________________________________________________________________________________________________\n",
      "conv2_block2_preact_bn (BatchNo (None, 56, 56, 256)  1024        conv2_block1_out[0][0]           \n",
      "__________________________________________________________________________________________________\n",
      "conv2_block2_preact_relu (Activ (None, 56, 56, 256)  0           conv2_block2_preact_bn[0][0]     \n",
      "__________________________________________________________________________________________________\n",
      "conv2_block2_1_conv (Conv2D)    (None, 56, 56, 64)   16384       conv2_block2_preact_relu[0][0]   \n",
      "__________________________________________________________________________________________________\n",
      "conv2_block2_1_bn (BatchNormali (None, 56, 56, 64)   256         conv2_block2_1_conv[0][0]        \n",
      "__________________________________________________________________________________________________\n",
      "conv2_block2_1_relu (Activation (None, 56, 56, 64)   0           conv2_block2_1_bn[0][0]          \n",
      "__________________________________________________________________________________________________\n",
      "conv2_block2_2_pad (ZeroPadding (None, 58, 58, 64)   0           conv2_block2_1_relu[0][0]        \n",
      "__________________________________________________________________________________________________\n",
      "conv2_block2_2_conv (Conv2D)    (None, 56, 56, 64)   36864       conv2_block2_2_pad[0][0]         \n",
      "__________________________________________________________________________________________________\n",
      "conv2_block2_2_bn (BatchNormali (None, 56, 56, 64)   256         conv2_block2_2_conv[0][0]        \n",
      "__________________________________________________________________________________________________\n",
      "conv2_block2_2_relu (Activation (None, 56, 56, 64)   0           conv2_block2_2_bn[0][0]          \n",
      "__________________________________________________________________________________________________\n",
      "conv2_block2_3_conv (Conv2D)    (None, 56, 56, 256)  16640       conv2_block2_2_relu[0][0]        \n",
      "__________________________________________________________________________________________________\n",
      "conv2_block2_out (Add)          (None, 56, 56, 256)  0           conv2_block1_out[0][0]           \n",
      "                                                                 conv2_block2_3_conv[0][0]        \n",
      "__________________________________________________________________________________________________\n",
      "conv2_block3_preact_bn (BatchNo (None, 56, 56, 256)  1024        conv2_block2_out[0][0]           \n",
      "__________________________________________________________________________________________________\n",
      "conv2_block3_preact_relu (Activ (None, 56, 56, 256)  0           conv2_block3_preact_bn[0][0]     \n",
      "__________________________________________________________________________________________________\n",
      "conv2_block3_1_conv (Conv2D)    (None, 56, 56, 64)   16384       conv2_block3_preact_relu[0][0]   \n",
      "__________________________________________________________________________________________________\n",
      "conv2_block3_1_bn (BatchNormali (None, 56, 56, 64)   256         conv2_block3_1_conv[0][0]        \n",
      "__________________________________________________________________________________________________\n",
      "conv2_block3_1_relu (Activation (None, 56, 56, 64)   0           conv2_block3_1_bn[0][0]          \n",
      "__________________________________________________________________________________________________\n",
      "conv2_block3_2_pad (ZeroPadding (None, 58, 58, 64)   0           conv2_block3_1_relu[0][0]        \n",
      "__________________________________________________________________________________________________\n",
      "conv2_block3_2_conv (Conv2D)    (None, 28, 28, 64)   36864       conv2_block3_2_pad[0][0]         \n",
      "__________________________________________________________________________________________________\n",
      "conv2_block3_2_bn (BatchNormali (None, 28, 28, 64)   256         conv2_block3_2_conv[0][0]        \n",
      "__________________________________________________________________________________________________\n",
      "conv2_block3_2_relu (Activation (None, 28, 28, 64)   0           conv2_block3_2_bn[0][0]          \n",
      "__________________________________________________________________________________________________\n",
      "max_pooling2d (MaxPooling2D)    (None, 28, 28, 256)  0           conv2_block2_out[0][0]           \n",
      "__________________________________________________________________________________________________\n",
      "conv2_block3_3_conv (Conv2D)    (None, 28, 28, 256)  16640       conv2_block3_2_relu[0][0]        \n",
      "__________________________________________________________________________________________________\n",
      "conv2_block3_out (Add)          (None, 28, 28, 256)  0           max_pooling2d[0][0]              \n",
      "                                                                 conv2_block3_3_conv[0][0]        \n",
      "__________________________________________________________________________________________________\n",
      "conv3_block1_preact_bn (BatchNo (None, 28, 28, 256)  1024        conv2_block3_out[0][0]           \n",
      "__________________________________________________________________________________________________\n",
      "conv3_block1_preact_relu (Activ (None, 28, 28, 256)  0           conv3_block1_preact_bn[0][0]     \n",
      "__________________________________________________________________________________________________\n",
      "conv3_block1_1_conv (Conv2D)    (None, 28, 28, 128)  32768       conv3_block1_preact_relu[0][0]   \n",
      "__________________________________________________________________________________________________\n",
      "conv3_block1_1_bn (BatchNormali (None, 28, 28, 128)  512         conv3_block1_1_conv[0][0]        \n",
      "__________________________________________________________________________________________________\n",
      "conv3_block1_1_relu (Activation (None, 28, 28, 128)  0           conv3_block1_1_bn[0][0]          \n",
      "__________________________________________________________________________________________________\n",
      "conv3_block1_2_pad (ZeroPadding (None, 30, 30, 128)  0           conv3_block1_1_relu[0][0]        \n",
      "__________________________________________________________________________________________________\n",
      "conv3_block1_2_conv (Conv2D)    (None, 28, 28, 128)  147456      conv3_block1_2_pad[0][0]         \n",
      "__________________________________________________________________________________________________\n",
      "conv3_block1_2_bn (BatchNormali (None, 28, 28, 128)  512         conv3_block1_2_conv[0][0]        \n",
      "__________________________________________________________________________________________________\n",
      "conv3_block1_2_relu (Activation (None, 28, 28, 128)  0           conv3_block1_2_bn[0][0]          \n",
      "__________________________________________________________________________________________________\n",
      "conv3_block1_0_conv (Conv2D)    (None, 28, 28, 512)  131584      conv3_block1_preact_relu[0][0]   \n",
      "__________________________________________________________________________________________________\n",
      "conv3_block1_3_conv (Conv2D)    (None, 28, 28, 512)  66048       conv3_block1_2_relu[0][0]        \n",
      "__________________________________________________________________________________________________\n",
      "conv3_block1_out (Add)          (None, 28, 28, 512)  0           conv3_block1_0_conv[0][0]        \n",
      "                                                                 conv3_block1_3_conv[0][0]        \n",
      "__________________________________________________________________________________________________\n",
      "conv3_block2_preact_bn (BatchNo (None, 28, 28, 512)  2048        conv3_block1_out[0][0]           \n",
      "__________________________________________________________________________________________________\n",
      "conv3_block2_preact_relu (Activ (None, 28, 28, 512)  0           conv3_block2_preact_bn[0][0]     \n",
      "__________________________________________________________________________________________________\n",
      "conv3_block2_1_conv (Conv2D)    (None, 28, 28, 128)  65536       conv3_block2_preact_relu[0][0]   \n",
      "__________________________________________________________________________________________________\n",
      "conv3_block2_1_bn (BatchNormali (None, 28, 28, 128)  512         conv3_block2_1_conv[0][0]        \n",
      "__________________________________________________________________________________________________\n",
      "conv3_block2_1_relu (Activation (None, 28, 28, 128)  0           conv3_block2_1_bn[0][0]          \n",
      "__________________________________________________________________________________________________\n",
      "conv3_block2_2_pad (ZeroPadding (None, 30, 30, 128)  0           conv3_block2_1_relu[0][0]        \n",
      "__________________________________________________________________________________________________\n",
      "conv3_block2_2_conv (Conv2D)    (None, 28, 28, 128)  147456      conv3_block2_2_pad[0][0]         \n",
      "__________________________________________________________________________________________________\n",
      "conv3_block2_2_bn (BatchNormali (None, 28, 28, 128)  512         conv3_block2_2_conv[0][0]        \n",
      "__________________________________________________________________________________________________\n",
      "conv3_block2_2_relu (Activation (None, 28, 28, 128)  0           conv3_block2_2_bn[0][0]          \n",
      "__________________________________________________________________________________________________\n",
      "conv3_block2_3_conv (Conv2D)    (None, 28, 28, 512)  66048       conv3_block2_2_relu[0][0]        \n",
      "__________________________________________________________________________________________________\n",
      "conv3_block2_out (Add)          (None, 28, 28, 512)  0           conv3_block1_out[0][0]           \n",
      "                                                                 conv3_block2_3_conv[0][0]        \n",
      "__________________________________________________________________________________________________\n",
      "conv3_block3_preact_bn (BatchNo (None, 28, 28, 512)  2048        conv3_block2_out[0][0]           \n",
      "__________________________________________________________________________________________________\n",
      "conv3_block3_preact_relu (Activ (None, 28, 28, 512)  0           conv3_block3_preact_bn[0][0]     \n",
      "__________________________________________________________________________________________________\n",
      "conv3_block3_1_conv (Conv2D)    (None, 28, 28, 128)  65536       conv3_block3_preact_relu[0][0]   \n",
      "__________________________________________________________________________________________________\n",
      "conv3_block3_1_bn (BatchNormali (None, 28, 28, 128)  512         conv3_block3_1_conv[0][0]        \n",
      "__________________________________________________________________________________________________\n",
      "conv3_block3_1_relu (Activation (None, 28, 28, 128)  0           conv3_block3_1_bn[0][0]          \n",
      "__________________________________________________________________________________________________\n",
      "conv3_block3_2_pad (ZeroPadding (None, 30, 30, 128)  0           conv3_block3_1_relu[0][0]        \n",
      "__________________________________________________________________________________________________\n",
      "conv3_block3_2_conv (Conv2D)    (None, 28, 28, 128)  147456      conv3_block3_2_pad[0][0]         \n",
      "__________________________________________________________________________________________________\n",
      "conv3_block3_2_bn (BatchNormali (None, 28, 28, 128)  512         conv3_block3_2_conv[0][0]        \n",
      "__________________________________________________________________________________________________\n",
      "conv3_block3_2_relu (Activation (None, 28, 28, 128)  0           conv3_block3_2_bn[0][0]          \n",
      "__________________________________________________________________________________________________\n",
      "conv3_block3_3_conv (Conv2D)    (None, 28, 28, 512)  66048       conv3_block3_2_relu[0][0]        \n",
      "__________________________________________________________________________________________________\n",
      "conv3_block3_out (Add)          (None, 28, 28, 512)  0           conv3_block2_out[0][0]           \n",
      "                                                                 conv3_block3_3_conv[0][0]        \n",
      "__________________________________________________________________________________________________\n",
      "conv3_block4_preact_bn (BatchNo (None, 28, 28, 512)  2048        conv3_block3_out[0][0]           \n",
      "__________________________________________________________________________________________________\n",
      "conv3_block4_preact_relu (Activ (None, 28, 28, 512)  0           conv3_block4_preact_bn[0][0]     \n",
      "__________________________________________________________________________________________________\n",
      "conv3_block4_1_conv (Conv2D)    (None, 28, 28, 128)  65536       conv3_block4_preact_relu[0][0]   \n",
      "__________________________________________________________________________________________________\n",
      "conv3_block4_1_bn (BatchNormali (None, 28, 28, 128)  512         conv3_block4_1_conv[0][0]        \n",
      "__________________________________________________________________________________________________\n",
      "conv3_block4_1_relu (Activation (None, 28, 28, 128)  0           conv3_block4_1_bn[0][0]          \n",
      "__________________________________________________________________________________________________\n",
      "conv3_block4_2_pad (ZeroPadding (None, 30, 30, 128)  0           conv3_block4_1_relu[0][0]        \n",
      "__________________________________________________________________________________________________\n",
      "conv3_block4_2_conv (Conv2D)    (None, 14, 14, 128)  147456      conv3_block4_2_pad[0][0]         \n",
      "__________________________________________________________________________________________________\n",
      "conv3_block4_2_bn (BatchNormali (None, 14, 14, 128)  512         conv3_block4_2_conv[0][0]        \n",
      "__________________________________________________________________________________________________\n",
      "conv3_block4_2_relu (Activation (None, 14, 14, 128)  0           conv3_block4_2_bn[0][0]          \n",
      "__________________________________________________________________________________________________\n",
      "max_pooling2d_1 (MaxPooling2D)  (None, 14, 14, 512)  0           conv3_block3_out[0][0]           \n",
      "__________________________________________________________________________________________________\n",
      "conv3_block4_3_conv (Conv2D)    (None, 14, 14, 512)  66048       conv3_block4_2_relu[0][0]        \n",
      "__________________________________________________________________________________________________\n",
      "conv3_block4_out (Add)          (None, 14, 14, 512)  0           max_pooling2d_1[0][0]            \n",
      "                                                                 conv3_block4_3_conv[0][0]        \n",
      "__________________________________________________________________________________________________\n",
      "conv4_block1_preact_bn (BatchNo (None, 14, 14, 512)  2048        conv3_block4_out[0][0]           \n",
      "__________________________________________________________________________________________________\n",
      "conv4_block1_preact_relu (Activ (None, 14, 14, 512)  0           conv4_block1_preact_bn[0][0]     \n",
      "__________________________________________________________________________________________________\n",
      "conv4_block1_1_conv (Conv2D)    (None, 14, 14, 256)  131072      conv4_block1_preact_relu[0][0]   \n",
      "__________________________________________________________________________________________________\n",
      "conv4_block1_1_bn (BatchNormali (None, 14, 14, 256)  1024        conv4_block1_1_conv[0][0]        \n",
      "__________________________________________________________________________________________________\n",
      "conv4_block1_1_relu (Activation (None, 14, 14, 256)  0           conv4_block1_1_bn[0][0]          \n",
      "__________________________________________________________________________________________________\n",
      "conv4_block1_2_pad (ZeroPadding (None, 16, 16, 256)  0           conv4_block1_1_relu[0][0]        \n",
      "__________________________________________________________________________________________________\n",
      "conv4_block1_2_conv (Conv2D)    (None, 14, 14, 256)  589824      conv4_block1_2_pad[0][0]         \n",
      "__________________________________________________________________________________________________\n",
      "conv4_block1_2_bn (BatchNormali (None, 14, 14, 256)  1024        conv4_block1_2_conv[0][0]        \n",
      "__________________________________________________________________________________________________\n",
      "conv4_block1_2_relu (Activation (None, 14, 14, 256)  0           conv4_block1_2_bn[0][0]          \n",
      "__________________________________________________________________________________________________\n",
      "conv4_block1_0_conv (Conv2D)    (None, 14, 14, 1024) 525312      conv4_block1_preact_relu[0][0]   \n",
      "__________________________________________________________________________________________________\n",
      "conv4_block1_3_conv (Conv2D)    (None, 14, 14, 1024) 263168      conv4_block1_2_relu[0][0]        \n",
      "__________________________________________________________________________________________________\n",
      "conv4_block1_out (Add)          (None, 14, 14, 1024) 0           conv4_block1_0_conv[0][0]        \n",
      "                                                                 conv4_block1_3_conv[0][0]        \n",
      "__________________________________________________________________________________________________\n",
      "conv4_block2_preact_bn (BatchNo (None, 14, 14, 1024) 4096        conv4_block1_out[0][0]           \n",
      "__________________________________________________________________________________________________\n",
      "conv4_block2_preact_relu (Activ (None, 14, 14, 1024) 0           conv4_block2_preact_bn[0][0]     \n",
      "__________________________________________________________________________________________________\n",
      "conv4_block2_1_conv (Conv2D)    (None, 14, 14, 256)  262144      conv4_block2_preact_relu[0][0]   \n",
      "__________________________________________________________________________________________________\n",
      "conv4_block2_1_bn (BatchNormali (None, 14, 14, 256)  1024        conv4_block2_1_conv[0][0]        \n",
      "__________________________________________________________________________________________________\n",
      "conv4_block2_1_relu (Activation (None, 14, 14, 256)  0           conv4_block2_1_bn[0][0]          \n",
      "__________________________________________________________________________________________________\n",
      "conv4_block2_2_pad (ZeroPadding (None, 16, 16, 256)  0           conv4_block2_1_relu[0][0]        \n",
      "__________________________________________________________________________________________________\n",
      "conv4_block2_2_conv (Conv2D)    (None, 14, 14, 256)  589824      conv4_block2_2_pad[0][0]         \n",
      "__________________________________________________________________________________________________\n",
      "conv4_block2_2_bn (BatchNormali (None, 14, 14, 256)  1024        conv4_block2_2_conv[0][0]        \n",
      "__________________________________________________________________________________________________\n",
      "conv4_block2_2_relu (Activation (None, 14, 14, 256)  0           conv4_block2_2_bn[0][0]          \n",
      "__________________________________________________________________________________________________\n",
      "conv4_block2_3_conv (Conv2D)    (None, 14, 14, 1024) 263168      conv4_block2_2_relu[0][0]        \n",
      "__________________________________________________________________________________________________\n",
      "conv4_block2_out (Add)          (None, 14, 14, 1024) 0           conv4_block1_out[0][0]           \n",
      "                                                                 conv4_block2_3_conv[0][0]        \n",
      "__________________________________________________________________________________________________\n",
      "conv4_block3_preact_bn (BatchNo (None, 14, 14, 1024) 4096        conv4_block2_out[0][0]           \n",
      "__________________________________________________________________________________________________\n",
      "conv4_block3_preact_relu (Activ (None, 14, 14, 1024) 0           conv4_block3_preact_bn[0][0]     \n",
      "__________________________________________________________________________________________________\n",
      "conv4_block3_1_conv (Conv2D)    (None, 14, 14, 256)  262144      conv4_block3_preact_relu[0][0]   \n",
      "__________________________________________________________________________________________________\n",
      "conv4_block3_1_bn (BatchNormali (None, 14, 14, 256)  1024        conv4_block3_1_conv[0][0]        \n",
      "__________________________________________________________________________________________________\n",
      "conv4_block3_1_relu (Activation (None, 14, 14, 256)  0           conv4_block3_1_bn[0][0]          \n",
      "__________________________________________________________________________________________________\n",
      "conv4_block3_2_pad (ZeroPadding (None, 16, 16, 256)  0           conv4_block3_1_relu[0][0]        \n",
      "__________________________________________________________________________________________________\n",
      "conv4_block3_2_conv (Conv2D)    (None, 14, 14, 256)  589824      conv4_block3_2_pad[0][0]         \n",
      "__________________________________________________________________________________________________\n",
      "conv4_block3_2_bn (BatchNormali (None, 14, 14, 256)  1024        conv4_block3_2_conv[0][0]        \n",
      "__________________________________________________________________________________________________\n",
      "conv4_block3_2_relu (Activation (None, 14, 14, 256)  0           conv4_block3_2_bn[0][0]          \n",
      "__________________________________________________________________________________________________\n",
      "conv4_block3_3_conv (Conv2D)    (None, 14, 14, 1024) 263168      conv4_block3_2_relu[0][0]        \n",
      "__________________________________________________________________________________________________\n",
      "conv4_block3_out (Add)          (None, 14, 14, 1024) 0           conv4_block2_out[0][0]           \n",
      "                                                                 conv4_block3_3_conv[0][0]        \n",
      "__________________________________________________________________________________________________\n",
      "conv4_block4_preact_bn (BatchNo (None, 14, 14, 1024) 4096        conv4_block3_out[0][0]           \n",
      "__________________________________________________________________________________________________\n",
      "conv4_block4_preact_relu (Activ (None, 14, 14, 1024) 0           conv4_block4_preact_bn[0][0]     \n",
      "__________________________________________________________________________________________________\n",
      "conv4_block4_1_conv (Conv2D)    (None, 14, 14, 256)  262144      conv4_block4_preact_relu[0][0]   \n",
      "__________________________________________________________________________________________________\n",
      "conv4_block4_1_bn (BatchNormali (None, 14, 14, 256)  1024        conv4_block4_1_conv[0][0]        \n",
      "__________________________________________________________________________________________________\n",
      "conv4_block4_1_relu (Activation (None, 14, 14, 256)  0           conv4_block4_1_bn[0][0]          \n",
      "__________________________________________________________________________________________________\n",
      "conv4_block4_2_pad (ZeroPadding (None, 16, 16, 256)  0           conv4_block4_1_relu[0][0]        \n",
      "__________________________________________________________________________________________________\n",
      "conv4_block4_2_conv (Conv2D)    (None, 14, 14, 256)  589824      conv4_block4_2_pad[0][0]         \n",
      "__________________________________________________________________________________________________\n",
      "conv4_block4_2_bn (BatchNormali (None, 14, 14, 256)  1024        conv4_block4_2_conv[0][0]        \n",
      "__________________________________________________________________________________________________\n",
      "conv4_block4_2_relu (Activation (None, 14, 14, 256)  0           conv4_block4_2_bn[0][0]          \n",
      "__________________________________________________________________________________________________\n",
      "conv4_block4_3_conv (Conv2D)    (None, 14, 14, 1024) 263168      conv4_block4_2_relu[0][0]        \n",
      "__________________________________________________________________________________________________\n",
      "conv4_block4_out (Add)          (None, 14, 14, 1024) 0           conv4_block3_out[0][0]           \n",
      "                                                                 conv4_block4_3_conv[0][0]        \n",
      "__________________________________________________________________________________________________\n",
      "conv4_block5_preact_bn (BatchNo (None, 14, 14, 1024) 4096        conv4_block4_out[0][0]           \n",
      "__________________________________________________________________________________________________\n",
      "conv4_block5_preact_relu (Activ (None, 14, 14, 1024) 0           conv4_block5_preact_bn[0][0]     \n",
      "__________________________________________________________________________________________________\n",
      "conv4_block5_1_conv (Conv2D)    (None, 14, 14, 256)  262144      conv4_block5_preact_relu[0][0]   \n",
      "__________________________________________________________________________________________________\n",
      "conv4_block5_1_bn (BatchNormali (None, 14, 14, 256)  1024        conv4_block5_1_conv[0][0]        \n",
      "__________________________________________________________________________________________________\n",
      "conv4_block5_1_relu (Activation (None, 14, 14, 256)  0           conv4_block5_1_bn[0][0]          \n",
      "__________________________________________________________________________________________________\n",
      "conv4_block5_2_pad (ZeroPadding (None, 16, 16, 256)  0           conv4_block5_1_relu[0][0]        \n",
      "__________________________________________________________________________________________________\n",
      "conv4_block5_2_conv (Conv2D)    (None, 14, 14, 256)  589824      conv4_block5_2_pad[0][0]         \n",
      "__________________________________________________________________________________________________\n",
      "conv4_block5_2_bn (BatchNormali (None, 14, 14, 256)  1024        conv4_block5_2_conv[0][0]        \n",
      "__________________________________________________________________________________________________\n",
      "conv4_block5_2_relu (Activation (None, 14, 14, 256)  0           conv4_block5_2_bn[0][0]          \n",
      "__________________________________________________________________________________________________\n",
      "conv4_block5_3_conv (Conv2D)    (None, 14, 14, 1024) 263168      conv4_block5_2_relu[0][0]        \n",
      "__________________________________________________________________________________________________\n",
      "conv4_block5_out (Add)          (None, 14, 14, 1024) 0           conv4_block4_out[0][0]           \n",
      "                                                                 conv4_block5_3_conv[0][0]        \n",
      "__________________________________________________________________________________________________\n",
      "conv4_block6_preact_bn (BatchNo (None, 14, 14, 1024) 4096        conv4_block5_out[0][0]           \n",
      "__________________________________________________________________________________________________\n",
      "conv4_block6_preact_relu (Activ (None, 14, 14, 1024) 0           conv4_block6_preact_bn[0][0]     \n",
      "__________________________________________________________________________________________________\n",
      "conv4_block6_1_conv (Conv2D)    (None, 14, 14, 256)  262144      conv4_block6_preact_relu[0][0]   \n",
      "__________________________________________________________________________________________________\n",
      "conv4_block6_1_bn (BatchNormali (None, 14, 14, 256)  1024        conv4_block6_1_conv[0][0]        \n",
      "__________________________________________________________________________________________________\n",
      "conv4_block6_1_relu (Activation (None, 14, 14, 256)  0           conv4_block6_1_bn[0][0]          \n",
      "__________________________________________________________________________________________________\n",
      "conv4_block6_2_pad (ZeroPadding (None, 16, 16, 256)  0           conv4_block6_1_relu[0][0]        \n",
      "__________________________________________________________________________________________________\n",
      "conv4_block6_2_conv (Conv2D)    (None, 14, 14, 256)  589824      conv4_block6_2_pad[0][0]         \n",
      "__________________________________________________________________________________________________\n",
      "conv4_block6_2_bn (BatchNormali (None, 14, 14, 256)  1024        conv4_block6_2_conv[0][0]        \n",
      "__________________________________________________________________________________________________\n",
      "conv4_block6_2_relu (Activation (None, 14, 14, 256)  0           conv4_block6_2_bn[0][0]          \n",
      "__________________________________________________________________________________________________\n",
      "conv4_block6_3_conv (Conv2D)    (None, 14, 14, 1024) 263168      conv4_block6_2_relu[0][0]        \n",
      "__________________________________________________________________________________________________\n",
      "conv4_block6_out (Add)          (None, 14, 14, 1024) 0           conv4_block5_out[0][0]           \n",
      "                                                                 conv4_block6_3_conv[0][0]        \n",
      "__________________________________________________________________________________________________\n",
      "conv4_block7_preact_bn (BatchNo (None, 14, 14, 1024) 4096        conv4_block6_out[0][0]           \n",
      "__________________________________________________________________________________________________\n",
      "conv4_block7_preact_relu (Activ (None, 14, 14, 1024) 0           conv4_block7_preact_bn[0][0]     \n",
      "__________________________________________________________________________________________________\n",
      "conv4_block7_1_conv (Conv2D)    (None, 14, 14, 256)  262144      conv4_block7_preact_relu[0][0]   \n",
      "__________________________________________________________________________________________________\n",
      "conv4_block7_1_bn (BatchNormali (None, 14, 14, 256)  1024        conv4_block7_1_conv[0][0]        \n",
      "__________________________________________________________________________________________________\n",
      "conv4_block7_1_relu (Activation (None, 14, 14, 256)  0           conv4_block7_1_bn[0][0]          \n",
      "__________________________________________________________________________________________________\n",
      "conv4_block7_2_pad (ZeroPadding (None, 16, 16, 256)  0           conv4_block7_1_relu[0][0]        \n",
      "__________________________________________________________________________________________________\n",
      "conv4_block7_2_conv (Conv2D)    (None, 14, 14, 256)  589824      conv4_block7_2_pad[0][0]         \n",
      "__________________________________________________________________________________________________\n",
      "conv4_block7_2_bn (BatchNormali (None, 14, 14, 256)  1024        conv4_block7_2_conv[0][0]        \n",
      "__________________________________________________________________________________________________\n",
      "conv4_block7_2_relu (Activation (None, 14, 14, 256)  0           conv4_block7_2_bn[0][0]          \n",
      "__________________________________________________________________________________________________\n",
      "conv4_block7_3_conv (Conv2D)    (None, 14, 14, 1024) 263168      conv4_block7_2_relu[0][0]        \n",
      "__________________________________________________________________________________________________\n",
      "conv4_block7_out (Add)          (None, 14, 14, 1024) 0           conv4_block6_out[0][0]           \n",
      "                                                                 conv4_block7_3_conv[0][0]        \n",
      "__________________________________________________________________________________________________\n",
      "conv4_block8_preact_bn (BatchNo (None, 14, 14, 1024) 4096        conv4_block7_out[0][0]           \n",
      "__________________________________________________________________________________________________\n",
      "conv4_block8_preact_relu (Activ (None, 14, 14, 1024) 0           conv4_block8_preact_bn[0][0]     \n",
      "__________________________________________________________________________________________________\n",
      "conv4_block8_1_conv (Conv2D)    (None, 14, 14, 256)  262144      conv4_block8_preact_relu[0][0]   \n",
      "__________________________________________________________________________________________________\n",
      "conv4_block8_1_bn (BatchNormali (None, 14, 14, 256)  1024        conv4_block8_1_conv[0][0]        \n",
      "__________________________________________________________________________________________________\n",
      "conv4_block8_1_relu (Activation (None, 14, 14, 256)  0           conv4_block8_1_bn[0][0]          \n",
      "__________________________________________________________________________________________________\n",
      "conv4_block8_2_pad (ZeroPadding (None, 16, 16, 256)  0           conv4_block8_1_relu[0][0]        \n",
      "__________________________________________________________________________________________________\n",
      "conv4_block8_2_conv (Conv2D)    (None, 14, 14, 256)  589824      conv4_block8_2_pad[0][0]         \n",
      "__________________________________________________________________________________________________\n",
      "conv4_block8_2_bn (BatchNormali (None, 14, 14, 256)  1024        conv4_block8_2_conv[0][0]        \n",
      "__________________________________________________________________________________________________\n",
      "conv4_block8_2_relu (Activation (None, 14, 14, 256)  0           conv4_block8_2_bn[0][0]          \n",
      "__________________________________________________________________________________________________\n",
      "conv4_block8_3_conv (Conv2D)    (None, 14, 14, 1024) 263168      conv4_block8_2_relu[0][0]        \n",
      "__________________________________________________________________________________________________\n",
      "conv4_block8_out (Add)          (None, 14, 14, 1024) 0           conv4_block7_out[0][0]           \n",
      "                                                                 conv4_block8_3_conv[0][0]        \n",
      "__________________________________________________________________________________________________\n",
      "conv4_block9_preact_bn (BatchNo (None, 14, 14, 1024) 4096        conv4_block8_out[0][0]           \n",
      "__________________________________________________________________________________________________\n",
      "conv4_block9_preact_relu (Activ (None, 14, 14, 1024) 0           conv4_block9_preact_bn[0][0]     \n",
      "__________________________________________________________________________________________________\n",
      "conv4_block9_1_conv (Conv2D)    (None, 14, 14, 256)  262144      conv4_block9_preact_relu[0][0]   \n",
      "__________________________________________________________________________________________________\n",
      "conv4_block9_1_bn (BatchNormali (None, 14, 14, 256)  1024        conv4_block9_1_conv[0][0]        \n",
      "__________________________________________________________________________________________________\n",
      "conv4_block9_1_relu (Activation (None, 14, 14, 256)  0           conv4_block9_1_bn[0][0]          \n",
      "__________________________________________________________________________________________________\n",
      "conv4_block9_2_pad (ZeroPadding (None, 16, 16, 256)  0           conv4_block9_1_relu[0][0]        \n",
      "__________________________________________________________________________________________________\n",
      "conv4_block9_2_conv (Conv2D)    (None, 14, 14, 256)  589824      conv4_block9_2_pad[0][0]         \n",
      "__________________________________________________________________________________________________\n",
      "conv4_block9_2_bn (BatchNormali (None, 14, 14, 256)  1024        conv4_block9_2_conv[0][0]        \n",
      "__________________________________________________________________________________________________\n",
      "conv4_block9_2_relu (Activation (None, 14, 14, 256)  0           conv4_block9_2_bn[0][0]          \n",
      "__________________________________________________________________________________________________\n",
      "conv4_block9_3_conv (Conv2D)    (None, 14, 14, 1024) 263168      conv4_block9_2_relu[0][0]        \n",
      "__________________________________________________________________________________________________\n",
      "conv4_block9_out (Add)          (None, 14, 14, 1024) 0           conv4_block8_out[0][0]           \n",
      "                                                                 conv4_block9_3_conv[0][0]        \n",
      "__________________________________________________________________________________________________\n",
      "conv4_block10_preact_bn (BatchN (None, 14, 14, 1024) 4096        conv4_block9_out[0][0]           \n",
      "__________________________________________________________________________________________________\n",
      "conv4_block10_preact_relu (Acti (None, 14, 14, 1024) 0           conv4_block10_preact_bn[0][0]    \n",
      "__________________________________________________________________________________________________\n",
      "conv4_block10_1_conv (Conv2D)   (None, 14, 14, 256)  262144      conv4_block10_preact_relu[0][0]  \n",
      "__________________________________________________________________________________________________\n",
      "conv4_block10_1_bn (BatchNormal (None, 14, 14, 256)  1024        conv4_block10_1_conv[0][0]       \n",
      "__________________________________________________________________________________________________\n",
      "conv4_block10_1_relu (Activatio (None, 14, 14, 256)  0           conv4_block10_1_bn[0][0]         \n",
      "__________________________________________________________________________________________________\n",
      "conv4_block10_2_pad (ZeroPaddin (None, 16, 16, 256)  0           conv4_block10_1_relu[0][0]       \n",
      "__________________________________________________________________________________________________\n",
      "conv4_block10_2_conv (Conv2D)   (None, 14, 14, 256)  589824      conv4_block10_2_pad[0][0]        \n",
      "__________________________________________________________________________________________________\n",
      "conv4_block10_2_bn (BatchNormal (None, 14, 14, 256)  1024        conv4_block10_2_conv[0][0]       \n",
      "__________________________________________________________________________________________________\n",
      "conv4_block10_2_relu (Activatio (None, 14, 14, 256)  0           conv4_block10_2_bn[0][0]         \n",
      "__________________________________________________________________________________________________\n",
      "conv4_block10_3_conv (Conv2D)   (None, 14, 14, 1024) 263168      conv4_block10_2_relu[0][0]       \n",
      "__________________________________________________________________________________________________\n",
      "conv4_block10_out (Add)         (None, 14, 14, 1024) 0           conv4_block9_out[0][0]           \n",
      "                                                                 conv4_block10_3_conv[0][0]       \n",
      "__________________________________________________________________________________________________\n",
      "conv4_block11_preact_bn (BatchN (None, 14, 14, 1024) 4096        conv4_block10_out[0][0]          \n",
      "__________________________________________________________________________________________________\n",
      "conv4_block11_preact_relu (Acti (None, 14, 14, 1024) 0           conv4_block11_preact_bn[0][0]    \n",
      "__________________________________________________________________________________________________\n",
      "conv4_block11_1_conv (Conv2D)   (None, 14, 14, 256)  262144      conv4_block11_preact_relu[0][0]  \n",
      "__________________________________________________________________________________________________\n",
      "conv4_block11_1_bn (BatchNormal (None, 14, 14, 256)  1024        conv4_block11_1_conv[0][0]       \n",
      "__________________________________________________________________________________________________\n",
      "conv4_block11_1_relu (Activatio (None, 14, 14, 256)  0           conv4_block11_1_bn[0][0]         \n",
      "__________________________________________________________________________________________________\n",
      "conv4_block11_2_pad (ZeroPaddin (None, 16, 16, 256)  0           conv4_block11_1_relu[0][0]       \n",
      "__________________________________________________________________________________________________\n",
      "conv4_block11_2_conv (Conv2D)   (None, 14, 14, 256)  589824      conv4_block11_2_pad[0][0]        \n",
      "__________________________________________________________________________________________________\n",
      "conv4_block11_2_bn (BatchNormal (None, 14, 14, 256)  1024        conv4_block11_2_conv[0][0]       \n",
      "__________________________________________________________________________________________________\n",
      "conv4_block11_2_relu (Activatio (None, 14, 14, 256)  0           conv4_block11_2_bn[0][0]         \n",
      "__________________________________________________________________________________________________\n",
      "conv4_block11_3_conv (Conv2D)   (None, 14, 14, 1024) 263168      conv4_block11_2_relu[0][0]       \n",
      "__________________________________________________________________________________________________\n",
      "conv4_block11_out (Add)         (None, 14, 14, 1024) 0           conv4_block10_out[0][0]          \n",
      "                                                                 conv4_block11_3_conv[0][0]       \n",
      "__________________________________________________________________________________________________\n",
      "conv4_block12_preact_bn (BatchN (None, 14, 14, 1024) 4096        conv4_block11_out[0][0]          \n",
      "__________________________________________________________________________________________________\n",
      "conv4_block12_preact_relu (Acti (None, 14, 14, 1024) 0           conv4_block12_preact_bn[0][0]    \n",
      "__________________________________________________________________________________________________\n",
      "conv4_block12_1_conv (Conv2D)   (None, 14, 14, 256)  262144      conv4_block12_preact_relu[0][0]  \n",
      "__________________________________________________________________________________________________\n",
      "conv4_block12_1_bn (BatchNormal (None, 14, 14, 256)  1024        conv4_block12_1_conv[0][0]       \n",
      "__________________________________________________________________________________________________\n",
      "conv4_block12_1_relu (Activatio (None, 14, 14, 256)  0           conv4_block12_1_bn[0][0]         \n",
      "__________________________________________________________________________________________________\n",
      "conv4_block12_2_pad (ZeroPaddin (None, 16, 16, 256)  0           conv4_block12_1_relu[0][0]       \n",
      "__________________________________________________________________________________________________\n",
      "conv4_block12_2_conv (Conv2D)   (None, 14, 14, 256)  589824      conv4_block12_2_pad[0][0]        \n",
      "__________________________________________________________________________________________________\n",
      "conv4_block12_2_bn (BatchNormal (None, 14, 14, 256)  1024        conv4_block12_2_conv[0][0]       \n",
      "__________________________________________________________________________________________________\n",
      "conv4_block12_2_relu (Activatio (None, 14, 14, 256)  0           conv4_block12_2_bn[0][0]         \n",
      "__________________________________________________________________________________________________\n",
      "conv4_block12_3_conv (Conv2D)   (None, 14, 14, 1024) 263168      conv4_block12_2_relu[0][0]       \n",
      "__________________________________________________________________________________________________\n",
      "conv4_block12_out (Add)         (None, 14, 14, 1024) 0           conv4_block11_out[0][0]          \n",
      "                                                                 conv4_block12_3_conv[0][0]       \n",
      "__________________________________________________________________________________________________\n",
      "conv4_block13_preact_bn (BatchN (None, 14, 14, 1024) 4096        conv4_block12_out[0][0]          \n",
      "__________________________________________________________________________________________________\n",
      "conv4_block13_preact_relu (Acti (None, 14, 14, 1024) 0           conv4_block13_preact_bn[0][0]    \n",
      "__________________________________________________________________________________________________\n",
      "conv4_block13_1_conv (Conv2D)   (None, 14, 14, 256)  262144      conv4_block13_preact_relu[0][0]  \n",
      "__________________________________________________________________________________________________\n",
      "conv4_block13_1_bn (BatchNormal (None, 14, 14, 256)  1024        conv4_block13_1_conv[0][0]       \n",
      "__________________________________________________________________________________________________\n",
      "conv4_block13_1_relu (Activatio (None, 14, 14, 256)  0           conv4_block13_1_bn[0][0]         \n",
      "__________________________________________________________________________________________________\n",
      "conv4_block13_2_pad (ZeroPaddin (None, 16, 16, 256)  0           conv4_block13_1_relu[0][0]       \n",
      "__________________________________________________________________________________________________\n",
      "conv4_block13_2_conv (Conv2D)   (None, 14, 14, 256)  589824      conv4_block13_2_pad[0][0]        \n",
      "__________________________________________________________________________________________________\n",
      "conv4_block13_2_bn (BatchNormal (None, 14, 14, 256)  1024        conv4_block13_2_conv[0][0]       \n",
      "__________________________________________________________________________________________________\n",
      "conv4_block13_2_relu (Activatio (None, 14, 14, 256)  0           conv4_block13_2_bn[0][0]         \n",
      "__________________________________________________________________________________________________\n",
      "conv4_block13_3_conv (Conv2D)   (None, 14, 14, 1024) 263168      conv4_block13_2_relu[0][0]       \n",
      "__________________________________________________________________________________________________\n",
      "conv4_block13_out (Add)         (None, 14, 14, 1024) 0           conv4_block12_out[0][0]          \n",
      "                                                                 conv4_block13_3_conv[0][0]       \n",
      "__________________________________________________________________________________________________\n",
      "conv4_block14_preact_bn (BatchN (None, 14, 14, 1024) 4096        conv4_block13_out[0][0]          \n",
      "__________________________________________________________________________________________________\n",
      "conv4_block14_preact_relu (Acti (None, 14, 14, 1024) 0           conv4_block14_preact_bn[0][0]    \n",
      "__________________________________________________________________________________________________\n",
      "conv4_block14_1_conv (Conv2D)   (None, 14, 14, 256)  262144      conv4_block14_preact_relu[0][0]  \n",
      "__________________________________________________________________________________________________\n",
      "conv4_block14_1_bn (BatchNormal (None, 14, 14, 256)  1024        conv4_block14_1_conv[0][0]       \n",
      "__________________________________________________________________________________________________\n",
      "conv4_block14_1_relu (Activatio (None, 14, 14, 256)  0           conv4_block14_1_bn[0][0]         \n",
      "__________________________________________________________________________________________________\n",
      "conv4_block14_2_pad (ZeroPaddin (None, 16, 16, 256)  0           conv4_block14_1_relu[0][0]       \n",
      "__________________________________________________________________________________________________\n",
      "conv4_block14_2_conv (Conv2D)   (None, 14, 14, 256)  589824      conv4_block14_2_pad[0][0]        \n",
      "__________________________________________________________________________________________________\n",
      "conv4_block14_2_bn (BatchNormal (None, 14, 14, 256)  1024        conv4_block14_2_conv[0][0]       \n",
      "__________________________________________________________________________________________________\n",
      "conv4_block14_2_relu (Activatio (None, 14, 14, 256)  0           conv4_block14_2_bn[0][0]         \n",
      "__________________________________________________________________________________________________\n",
      "conv4_block14_3_conv (Conv2D)   (None, 14, 14, 1024) 263168      conv4_block14_2_relu[0][0]       \n",
      "__________________________________________________________________________________________________\n",
      "conv4_block14_out (Add)         (None, 14, 14, 1024) 0           conv4_block13_out[0][0]          \n",
      "                                                                 conv4_block14_3_conv[0][0]       \n",
      "__________________________________________________________________________________________________\n",
      "conv4_block15_preact_bn (BatchN (None, 14, 14, 1024) 4096        conv4_block14_out[0][0]          \n",
      "__________________________________________________________________________________________________\n",
      "conv4_block15_preact_relu (Acti (None, 14, 14, 1024) 0           conv4_block15_preact_bn[0][0]    \n",
      "__________________________________________________________________________________________________\n",
      "conv4_block15_1_conv (Conv2D)   (None, 14, 14, 256)  262144      conv4_block15_preact_relu[0][0]  \n",
      "__________________________________________________________________________________________________\n",
      "conv4_block15_1_bn (BatchNormal (None, 14, 14, 256)  1024        conv4_block15_1_conv[0][0]       \n",
      "__________________________________________________________________________________________________\n",
      "conv4_block15_1_relu (Activatio (None, 14, 14, 256)  0           conv4_block15_1_bn[0][0]         \n",
      "__________________________________________________________________________________________________\n",
      "conv4_block15_2_pad (ZeroPaddin (None, 16, 16, 256)  0           conv4_block15_1_relu[0][0]       \n",
      "__________________________________________________________________________________________________\n",
      "conv4_block15_2_conv (Conv2D)   (None, 14, 14, 256)  589824      conv4_block15_2_pad[0][0]        \n",
      "__________________________________________________________________________________________________\n",
      "conv4_block15_2_bn (BatchNormal (None, 14, 14, 256)  1024        conv4_block15_2_conv[0][0]       \n",
      "__________________________________________________________________________________________________\n",
      "conv4_block15_2_relu (Activatio (None, 14, 14, 256)  0           conv4_block15_2_bn[0][0]         \n",
      "__________________________________________________________________________________________________\n",
      "conv4_block15_3_conv (Conv2D)   (None, 14, 14, 1024) 263168      conv4_block15_2_relu[0][0]       \n",
      "__________________________________________________________________________________________________\n",
      "conv4_block15_out (Add)         (None, 14, 14, 1024) 0           conv4_block14_out[0][0]          \n",
      "                                                                 conv4_block15_3_conv[0][0]       \n",
      "__________________________________________________________________________________________________\n",
      "conv4_block16_preact_bn (BatchN (None, 14, 14, 1024) 4096        conv4_block15_out[0][0]          \n",
      "__________________________________________________________________________________________________\n",
      "conv4_block16_preact_relu (Acti (None, 14, 14, 1024) 0           conv4_block16_preact_bn[0][0]    \n",
      "__________________________________________________________________________________________________\n",
      "conv4_block16_1_conv (Conv2D)   (None, 14, 14, 256)  262144      conv4_block16_preact_relu[0][0]  \n",
      "__________________________________________________________________________________________________\n",
      "conv4_block16_1_bn (BatchNormal (None, 14, 14, 256)  1024        conv4_block16_1_conv[0][0]       \n",
      "__________________________________________________________________________________________________\n",
      "conv4_block16_1_relu (Activatio (None, 14, 14, 256)  0           conv4_block16_1_bn[0][0]         \n",
      "__________________________________________________________________________________________________\n",
      "conv4_block16_2_pad (ZeroPaddin (None, 16, 16, 256)  0           conv4_block16_1_relu[0][0]       \n",
      "__________________________________________________________________________________________________\n",
      "conv4_block16_2_conv (Conv2D)   (None, 14, 14, 256)  589824      conv4_block16_2_pad[0][0]        \n",
      "__________________________________________________________________________________________________\n",
      "conv4_block16_2_bn (BatchNormal (None, 14, 14, 256)  1024        conv4_block16_2_conv[0][0]       \n",
      "__________________________________________________________________________________________________\n",
      "conv4_block16_2_relu (Activatio (None, 14, 14, 256)  0           conv4_block16_2_bn[0][0]         \n",
      "__________________________________________________________________________________________________\n",
      "conv4_block16_3_conv (Conv2D)   (None, 14, 14, 1024) 263168      conv4_block16_2_relu[0][0]       \n",
      "__________________________________________________________________________________________________\n",
      "conv4_block16_out (Add)         (None, 14, 14, 1024) 0           conv4_block15_out[0][0]          \n",
      "                                                                 conv4_block16_3_conv[0][0]       \n",
      "__________________________________________________________________________________________________\n",
      "conv4_block17_preact_bn (BatchN (None, 14, 14, 1024) 4096        conv4_block16_out[0][0]          \n",
      "__________________________________________________________________________________________________\n",
      "conv4_block17_preact_relu (Acti (None, 14, 14, 1024) 0           conv4_block17_preact_bn[0][0]    \n",
      "__________________________________________________________________________________________________\n",
      "conv4_block17_1_conv (Conv2D)   (None, 14, 14, 256)  262144      conv4_block17_preact_relu[0][0]  \n",
      "__________________________________________________________________________________________________\n",
      "conv4_block17_1_bn (BatchNormal (None, 14, 14, 256)  1024        conv4_block17_1_conv[0][0]       \n",
      "__________________________________________________________________________________________________\n",
      "conv4_block17_1_relu (Activatio (None, 14, 14, 256)  0           conv4_block17_1_bn[0][0]         \n",
      "__________________________________________________________________________________________________\n",
      "conv4_block17_2_pad (ZeroPaddin (None, 16, 16, 256)  0           conv4_block17_1_relu[0][0]       \n",
      "__________________________________________________________________________________________________\n",
      "conv4_block17_2_conv (Conv2D)   (None, 14, 14, 256)  589824      conv4_block17_2_pad[0][0]        \n",
      "__________________________________________________________________________________________________\n",
      "conv4_block17_2_bn (BatchNormal (None, 14, 14, 256)  1024        conv4_block17_2_conv[0][0]       \n",
      "__________________________________________________________________________________________________\n",
      "conv4_block17_2_relu (Activatio (None, 14, 14, 256)  0           conv4_block17_2_bn[0][0]         \n",
      "__________________________________________________________________________________________________\n",
      "conv4_block17_3_conv (Conv2D)   (None, 14, 14, 1024) 263168      conv4_block17_2_relu[0][0]       \n",
      "__________________________________________________________________________________________________\n",
      "conv4_block17_out (Add)         (None, 14, 14, 1024) 0           conv4_block16_out[0][0]          \n",
      "                                                                 conv4_block17_3_conv[0][0]       \n",
      "__________________________________________________________________________________________________\n",
      "conv4_block18_preact_bn (BatchN (None, 14, 14, 1024) 4096        conv4_block17_out[0][0]          \n",
      "__________________________________________________________________________________________________\n",
      "conv4_block18_preact_relu (Acti (None, 14, 14, 1024) 0           conv4_block18_preact_bn[0][0]    \n",
      "__________________________________________________________________________________________________\n",
      "conv4_block18_1_conv (Conv2D)   (None, 14, 14, 256)  262144      conv4_block18_preact_relu[0][0]  \n",
      "__________________________________________________________________________________________________\n",
      "conv4_block18_1_bn (BatchNormal (None, 14, 14, 256)  1024        conv4_block18_1_conv[0][0]       \n",
      "__________________________________________________________________________________________________\n",
      "conv4_block18_1_relu (Activatio (None, 14, 14, 256)  0           conv4_block18_1_bn[0][0]         \n",
      "__________________________________________________________________________________________________\n",
      "conv4_block18_2_pad (ZeroPaddin (None, 16, 16, 256)  0           conv4_block18_1_relu[0][0]       \n",
      "__________________________________________________________________________________________________\n",
      "conv4_block18_2_conv (Conv2D)   (None, 14, 14, 256)  589824      conv4_block18_2_pad[0][0]        \n",
      "__________________________________________________________________________________________________\n",
      "conv4_block18_2_bn (BatchNormal (None, 14, 14, 256)  1024        conv4_block18_2_conv[0][0]       \n",
      "__________________________________________________________________________________________________\n",
      "conv4_block18_2_relu (Activatio (None, 14, 14, 256)  0           conv4_block18_2_bn[0][0]         \n",
      "__________________________________________________________________________________________________\n",
      "conv4_block18_3_conv (Conv2D)   (None, 14, 14, 1024) 263168      conv4_block18_2_relu[0][0]       \n",
      "__________________________________________________________________________________________________\n",
      "conv4_block18_out (Add)         (None, 14, 14, 1024) 0           conv4_block17_out[0][0]          \n",
      "                                                                 conv4_block18_3_conv[0][0]       \n",
      "__________________________________________________________________________________________________\n",
      "conv4_block19_preact_bn (BatchN (None, 14, 14, 1024) 4096        conv4_block18_out[0][0]          \n",
      "__________________________________________________________________________________________________\n",
      "conv4_block19_preact_relu (Acti (None, 14, 14, 1024) 0           conv4_block19_preact_bn[0][0]    \n",
      "__________________________________________________________________________________________________\n",
      "conv4_block19_1_conv (Conv2D)   (None, 14, 14, 256)  262144      conv4_block19_preact_relu[0][0]  \n",
      "__________________________________________________________________________________________________\n",
      "conv4_block19_1_bn (BatchNormal (None, 14, 14, 256)  1024        conv4_block19_1_conv[0][0]       \n",
      "__________________________________________________________________________________________________\n",
      "conv4_block19_1_relu (Activatio (None, 14, 14, 256)  0           conv4_block19_1_bn[0][0]         \n",
      "__________________________________________________________________________________________________\n",
      "conv4_block19_2_pad (ZeroPaddin (None, 16, 16, 256)  0           conv4_block19_1_relu[0][0]       \n",
      "__________________________________________________________________________________________________\n",
      "conv4_block19_2_conv (Conv2D)   (None, 14, 14, 256)  589824      conv4_block19_2_pad[0][0]        \n",
      "__________________________________________________________________________________________________\n",
      "conv4_block19_2_bn (BatchNormal (None, 14, 14, 256)  1024        conv4_block19_2_conv[0][0]       \n",
      "__________________________________________________________________________________________________\n",
      "conv4_block19_2_relu (Activatio (None, 14, 14, 256)  0           conv4_block19_2_bn[0][0]         \n",
      "__________________________________________________________________________________________________\n",
      "conv4_block19_3_conv (Conv2D)   (None, 14, 14, 1024) 263168      conv4_block19_2_relu[0][0]       \n",
      "__________________________________________________________________________________________________\n",
      "conv4_block19_out (Add)         (None, 14, 14, 1024) 0           conv4_block18_out[0][0]          \n",
      "                                                                 conv4_block19_3_conv[0][0]       \n",
      "__________________________________________________________________________________________________\n",
      "conv4_block20_preact_bn (BatchN (None, 14, 14, 1024) 4096        conv4_block19_out[0][0]          \n",
      "__________________________________________________________________________________________________\n",
      "conv4_block20_preact_relu (Acti (None, 14, 14, 1024) 0           conv4_block20_preact_bn[0][0]    \n",
      "__________________________________________________________________________________________________\n",
      "conv4_block20_1_conv (Conv2D)   (None, 14, 14, 256)  262144      conv4_block20_preact_relu[0][0]  \n",
      "__________________________________________________________________________________________________\n",
      "conv4_block20_1_bn (BatchNormal (None, 14, 14, 256)  1024        conv4_block20_1_conv[0][0]       \n",
      "__________________________________________________________________________________________________\n",
      "conv4_block20_1_relu (Activatio (None, 14, 14, 256)  0           conv4_block20_1_bn[0][0]         \n",
      "__________________________________________________________________________________________________\n",
      "conv4_block20_2_pad (ZeroPaddin (None, 16, 16, 256)  0           conv4_block20_1_relu[0][0]       \n",
      "__________________________________________________________________________________________________\n",
      "conv4_block20_2_conv (Conv2D)   (None, 14, 14, 256)  589824      conv4_block20_2_pad[0][0]        \n",
      "__________________________________________________________________________________________________\n",
      "conv4_block20_2_bn (BatchNormal (None, 14, 14, 256)  1024        conv4_block20_2_conv[0][0]       \n",
      "__________________________________________________________________________________________________\n",
      "conv4_block20_2_relu (Activatio (None, 14, 14, 256)  0           conv4_block20_2_bn[0][0]         \n",
      "__________________________________________________________________________________________________\n",
      "conv4_block20_3_conv (Conv2D)   (None, 14, 14, 1024) 263168      conv4_block20_2_relu[0][0]       \n",
      "__________________________________________________________________________________________________\n",
      "conv4_block20_out (Add)         (None, 14, 14, 1024) 0           conv4_block19_out[0][0]          \n",
      "                                                                 conv4_block20_3_conv[0][0]       \n",
      "__________________________________________________________________________________________________\n",
      "conv4_block21_preact_bn (BatchN (None, 14, 14, 1024) 4096        conv4_block20_out[0][0]          \n",
      "__________________________________________________________________________________________________\n",
      "conv4_block21_preact_relu (Acti (None, 14, 14, 1024) 0           conv4_block21_preact_bn[0][0]    \n",
      "__________________________________________________________________________________________________\n",
      "conv4_block21_1_conv (Conv2D)   (None, 14, 14, 256)  262144      conv4_block21_preact_relu[0][0]  \n",
      "__________________________________________________________________________________________________\n",
      "conv4_block21_1_bn (BatchNormal (None, 14, 14, 256)  1024        conv4_block21_1_conv[0][0]       \n",
      "__________________________________________________________________________________________________\n",
      "conv4_block21_1_relu (Activatio (None, 14, 14, 256)  0           conv4_block21_1_bn[0][0]         \n",
      "__________________________________________________________________________________________________\n",
      "conv4_block21_2_pad (ZeroPaddin (None, 16, 16, 256)  0           conv4_block21_1_relu[0][0]       \n",
      "__________________________________________________________________________________________________\n",
      "conv4_block21_2_conv (Conv2D)   (None, 14, 14, 256)  589824      conv4_block21_2_pad[0][0]        \n",
      "__________________________________________________________________________________________________\n",
      "conv4_block21_2_bn (BatchNormal (None, 14, 14, 256)  1024        conv4_block21_2_conv[0][0]       \n",
      "__________________________________________________________________________________________________\n",
      "conv4_block21_2_relu (Activatio (None, 14, 14, 256)  0           conv4_block21_2_bn[0][0]         \n",
      "__________________________________________________________________________________________________\n",
      "conv4_block21_3_conv (Conv2D)   (None, 14, 14, 1024) 263168      conv4_block21_2_relu[0][0]       \n",
      "__________________________________________________________________________________________________\n",
      "conv4_block21_out (Add)         (None, 14, 14, 1024) 0           conv4_block20_out[0][0]          \n",
      "                                                                 conv4_block21_3_conv[0][0]       \n",
      "__________________________________________________________________________________________________\n",
      "conv4_block22_preact_bn (BatchN (None, 14, 14, 1024) 4096        conv4_block21_out[0][0]          \n",
      "__________________________________________________________________________________________________\n",
      "conv4_block22_preact_relu (Acti (None, 14, 14, 1024) 0           conv4_block22_preact_bn[0][0]    \n",
      "__________________________________________________________________________________________________\n",
      "conv4_block22_1_conv (Conv2D)   (None, 14, 14, 256)  262144      conv4_block22_preact_relu[0][0]  \n",
      "__________________________________________________________________________________________________\n",
      "conv4_block22_1_bn (BatchNormal (None, 14, 14, 256)  1024        conv4_block22_1_conv[0][0]       \n",
      "__________________________________________________________________________________________________\n",
      "conv4_block22_1_relu (Activatio (None, 14, 14, 256)  0           conv4_block22_1_bn[0][0]         \n",
      "__________________________________________________________________________________________________\n",
      "conv4_block22_2_pad (ZeroPaddin (None, 16, 16, 256)  0           conv4_block22_1_relu[0][0]       \n",
      "__________________________________________________________________________________________________\n",
      "conv4_block22_2_conv (Conv2D)   (None, 14, 14, 256)  589824      conv4_block22_2_pad[0][0]        \n",
      "__________________________________________________________________________________________________\n",
      "conv4_block22_2_bn (BatchNormal (None, 14, 14, 256)  1024        conv4_block22_2_conv[0][0]       \n",
      "__________________________________________________________________________________________________\n",
      "conv4_block22_2_relu (Activatio (None, 14, 14, 256)  0           conv4_block22_2_bn[0][0]         \n",
      "__________________________________________________________________________________________________\n",
      "conv4_block22_3_conv (Conv2D)   (None, 14, 14, 1024) 263168      conv4_block22_2_relu[0][0]       \n",
      "__________________________________________________________________________________________________\n",
      "conv4_block22_out (Add)         (None, 14, 14, 1024) 0           conv4_block21_out[0][0]          \n",
      "                                                                 conv4_block22_3_conv[0][0]       \n",
      "__________________________________________________________________________________________________\n",
      "conv4_block23_preact_bn (BatchN (None, 14, 14, 1024) 4096        conv4_block22_out[0][0]          \n",
      "__________________________________________________________________________________________________\n",
      "conv4_block23_preact_relu (Acti (None, 14, 14, 1024) 0           conv4_block23_preact_bn[0][0]    \n",
      "__________________________________________________________________________________________________\n",
      "conv4_block23_1_conv (Conv2D)   (None, 14, 14, 256)  262144      conv4_block23_preact_relu[0][0]  \n",
      "__________________________________________________________________________________________________\n",
      "conv4_block23_1_bn (BatchNormal (None, 14, 14, 256)  1024        conv4_block23_1_conv[0][0]       \n",
      "__________________________________________________________________________________________________\n",
      "conv4_block23_1_relu (Activatio (None, 14, 14, 256)  0           conv4_block23_1_bn[0][0]         \n",
      "__________________________________________________________________________________________________\n",
      "conv4_block23_2_pad (ZeroPaddin (None, 16, 16, 256)  0           conv4_block23_1_relu[0][0]       \n",
      "__________________________________________________________________________________________________\n",
      "conv4_block23_2_conv (Conv2D)   (None, 7, 7, 256)    589824      conv4_block23_2_pad[0][0]        \n",
      "__________________________________________________________________________________________________\n",
      "conv4_block23_2_bn (BatchNormal (None, 7, 7, 256)    1024        conv4_block23_2_conv[0][0]       \n",
      "__________________________________________________________________________________________________\n",
      "conv4_block23_2_relu (Activatio (None, 7, 7, 256)    0           conv4_block23_2_bn[0][0]         \n",
      "__________________________________________________________________________________________________\n",
      "max_pooling2d_2 (MaxPooling2D)  (None, 7, 7, 1024)   0           conv4_block22_out[0][0]          \n",
      "__________________________________________________________________________________________________\n",
      "conv4_block23_3_conv (Conv2D)   (None, 7, 7, 1024)   263168      conv4_block23_2_relu[0][0]       \n",
      "__________________________________________________________________________________________________\n",
      "conv4_block23_out (Add)         (None, 7, 7, 1024)   0           max_pooling2d_2[0][0]            \n",
      "                                                                 conv4_block23_3_conv[0][0]       \n",
      "__________________________________________________________________________________________________\n",
      "conv5_block1_preact_bn (BatchNo (None, 7, 7, 1024)   4096        conv4_block23_out[0][0]          \n",
      "__________________________________________________________________________________________________\n",
      "conv5_block1_preact_relu (Activ (None, 7, 7, 1024)   0           conv5_block1_preact_bn[0][0]     \n",
      "__________________________________________________________________________________________________\n",
      "conv5_block1_1_conv (Conv2D)    (None, 7, 7, 512)    524288      conv5_block1_preact_relu[0][0]   \n",
      "__________________________________________________________________________________________________\n",
      "conv5_block1_1_bn (BatchNormali (None, 7, 7, 512)    2048        conv5_block1_1_conv[0][0]        \n",
      "__________________________________________________________________________________________________\n",
      "conv5_block1_1_relu (Activation (None, 7, 7, 512)    0           conv5_block1_1_bn[0][0]          \n",
      "__________________________________________________________________________________________________\n",
      "conv5_block1_2_pad (ZeroPadding (None, 9, 9, 512)    0           conv5_block1_1_relu[0][0]        \n",
      "__________________________________________________________________________________________________\n",
      "conv5_block1_2_conv (Conv2D)    (None, 7, 7, 512)    2359296     conv5_block1_2_pad[0][0]         \n",
      "__________________________________________________________________________________________________\n",
      "conv5_block1_2_bn (BatchNormali (None, 7, 7, 512)    2048        conv5_block1_2_conv[0][0]        \n",
      "__________________________________________________________________________________________________\n",
      "conv5_block1_2_relu (Activation (None, 7, 7, 512)    0           conv5_block1_2_bn[0][0]          \n",
      "__________________________________________________________________________________________________\n",
      "conv5_block1_0_conv (Conv2D)    (None, 7, 7, 2048)   2099200     conv5_block1_preact_relu[0][0]   \n",
      "__________________________________________________________________________________________________\n",
      "conv5_block1_3_conv (Conv2D)    (None, 7, 7, 2048)   1050624     conv5_block1_2_relu[0][0]        \n",
      "__________________________________________________________________________________________________\n",
      "conv5_block1_out (Add)          (None, 7, 7, 2048)   0           conv5_block1_0_conv[0][0]        \n",
      "                                                                 conv5_block1_3_conv[0][0]        \n",
      "__________________________________________________________________________________________________\n",
      "conv5_block2_preact_bn (BatchNo (None, 7, 7, 2048)   8192        conv5_block1_out[0][0]           \n",
      "__________________________________________________________________________________________________\n",
      "conv5_block2_preact_relu (Activ (None, 7, 7, 2048)   0           conv5_block2_preact_bn[0][0]     \n",
      "__________________________________________________________________________________________________\n",
      "conv5_block2_1_conv (Conv2D)    (None, 7, 7, 512)    1048576     conv5_block2_preact_relu[0][0]   \n",
      "__________________________________________________________________________________________________\n",
      "conv5_block2_1_bn (BatchNormali (None, 7, 7, 512)    2048        conv5_block2_1_conv[0][0]        \n",
      "__________________________________________________________________________________________________\n",
      "conv5_block2_1_relu (Activation (None, 7, 7, 512)    0           conv5_block2_1_bn[0][0]          \n",
      "__________________________________________________________________________________________________\n",
      "conv5_block2_2_pad (ZeroPadding (None, 9, 9, 512)    0           conv5_block2_1_relu[0][0]        \n",
      "__________________________________________________________________________________________________\n",
      "conv5_block2_2_conv (Conv2D)    (None, 7, 7, 512)    2359296     conv5_block2_2_pad[0][0]         \n",
      "__________________________________________________________________________________________________\n",
      "conv5_block2_2_bn (BatchNormali (None, 7, 7, 512)    2048        conv5_block2_2_conv[0][0]        \n",
      "__________________________________________________________________________________________________\n",
      "conv5_block2_2_relu (Activation (None, 7, 7, 512)    0           conv5_block2_2_bn[0][0]          \n",
      "__________________________________________________________________________________________________\n",
      "conv5_block2_3_conv (Conv2D)    (None, 7, 7, 2048)   1050624     conv5_block2_2_relu[0][0]        \n",
      "__________________________________________________________________________________________________\n",
      "conv5_block2_out (Add)          (None, 7, 7, 2048)   0           conv5_block1_out[0][0]           \n",
      "                                                                 conv5_block2_3_conv[0][0]        \n",
      "__________________________________________________________________________________________________\n",
      "conv5_block3_preact_bn (BatchNo (None, 7, 7, 2048)   8192        conv5_block2_out[0][0]           \n",
      "__________________________________________________________________________________________________\n",
      "conv5_block3_preact_relu (Activ (None, 7, 7, 2048)   0           conv5_block3_preact_bn[0][0]     \n",
      "__________________________________________________________________________________________________\n",
      "conv5_block3_1_conv (Conv2D)    (None, 7, 7, 512)    1048576     conv5_block3_preact_relu[0][0]   \n",
      "__________________________________________________________________________________________________\n",
      "conv5_block3_1_bn (BatchNormali (None, 7, 7, 512)    2048        conv5_block3_1_conv[0][0]        \n",
      "__________________________________________________________________________________________________\n",
      "conv5_block3_1_relu (Activation (None, 7, 7, 512)    0           conv5_block3_1_bn[0][0]          \n",
      "__________________________________________________________________________________________________\n",
      "conv5_block3_2_pad (ZeroPadding (None, 9, 9, 512)    0           conv5_block3_1_relu[0][0]        \n",
      "__________________________________________________________________________________________________\n",
      "conv5_block3_2_conv (Conv2D)    (None, 7, 7, 512)    2359296     conv5_block3_2_pad[0][0]         \n",
      "__________________________________________________________________________________________________\n",
      "conv5_block3_2_bn (BatchNormali (None, 7, 7, 512)    2048        conv5_block3_2_conv[0][0]        \n",
      "__________________________________________________________________________________________________\n",
      "conv5_block3_2_relu (Activation (None, 7, 7, 512)    0           conv5_block3_2_bn[0][0]          \n",
      "__________________________________________________________________________________________________\n",
      "conv5_block3_3_conv (Conv2D)    (None, 7, 7, 2048)   1050624     conv5_block3_2_relu[0][0]        \n",
      "__________________________________________________________________________________________________\n",
      "conv5_block3_out (Add)          (None, 7, 7, 2048)   0           conv5_block2_out[0][0]           \n",
      "                                                                 conv5_block3_3_conv[0][0]        \n",
      "__________________________________________________________________________________________________\n",
      "post_bn (BatchNormalization)    (None, 7, 7, 2048)   8192        conv5_block3_out[0][0]           \n",
      "__________________________________________________________________________________________________\n",
      "post_relu (Activation)          (None, 7, 7, 2048)   0           post_bn[0][0]                    \n",
      "__________________________________________________________________________________________________\n",
      "avg_pool (GlobalAveragePooling2 (None, 2048)         0           post_relu[0][0]                  \n",
      "__________________________________________________________________________________________________\n",
      "predictions (Dense)             (None, 1000)         2049000     avg_pool[0][0]                   \n",
      "==================================================================================================\n",
      "Total params: 44,675,560\n",
      "Trainable params: 44,577,896\n",
      "Non-trainable params: 97,664\n",
      "__________________________________________________________________________________________________\n"
     ]
    }
   ],
   "source": [
    "model.summary()"
   ]
  },
  {
   "cell_type": "code",
   "execution_count": null,
   "metadata": {},
   "outputs": [],
   "source": []
  }
 ],
 "metadata": {
  "kernelspec": {
   "display_name": "Tensorflow-2.6.0",
   "language": "python",
   "name": "tensorflow-2.6.0"
  },
  "language_info": {
   "codemirror_mode": {
    "name": "ipython",
    "version": 3
   },
   "file_extension": ".py",
   "mimetype": "text/x-python",
   "name": "python",
   "nbconvert_exporter": "python",
   "pygments_lexer": "ipython3",
   "version": "3.9.7"
  }
 },
 "nbformat": 4,
 "nbformat_minor": 4
}
