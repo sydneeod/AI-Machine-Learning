{
 "cells": [
  {
   "cell_type": "markdown",
   "id": "awful-garage",
   "metadata": {},
   "source": [
    "### Neural Network Hyperparameter Tuning\n",
    "\n",
    "This turorial is based on https://www.tensorflow.org/tutorials/keras/keras_tuner"
   ]
  },
  {
   "cell_type": "code",
   "execution_count": 1,
   "id": "pressing-sapphire",
   "metadata": {},
   "outputs": [],
   "source": [
    "import tensorflow\n",
    "import tensorflow.keras as keras"
   ]
  },
  {
   "cell_type": "markdown",
   "id": "moving-theory",
   "metadata": {},
   "source": [
    "You may need to install keras_tuner."
   ]
  },
  {
   "cell_type": "code",
   "execution_count": 5,
   "id": "incorporated-alias",
   "metadata": {},
   "outputs": [],
   "source": [
    "#%pip install keras_tuner"
   ]
  },
  {
   "cell_type": "code",
   "execution_count": 6,
   "id": "younger-shoot",
   "metadata": {},
   "outputs": [],
   "source": [
    "import keras_tuner as kt"
   ]
  },
  {
   "cell_type": "code",
   "execution_count": 7,
   "id": "owned-spirituality",
   "metadata": {},
   "outputs": [],
   "source": [
    "(X_train, y_train), (X_test, y_test) = keras.datasets.mnist.load_data()\n",
    "\n",
    "## feature scaling \n",
    "X_train = X_train.astype('float32') / 255.0\n",
    "X_test = X_test.astype('float32') / 255.0"
   ]
  },
  {
   "cell_type": "code",
   "execution_count": 8,
   "id": "removable-heritage",
   "metadata": {},
   "outputs": [
    {
     "data": {
      "text/plain": [
       "<matplotlib.image.AxesImage at 0x2b60a9b24880>"
      ]
     },
     "execution_count": 8,
     "metadata": {},
     "output_type": "execute_result"
    },
    {
     "data": {
      "image/png": "[encoded data removed]",
      "text/plain": [
       "<Figure size 432x288 with 1 Axes>"
      ]
     },
     "metadata": {
      "needs_background": "light"
     },
     "output_type": "display_data"
    }
   ],
   "source": [
    "import matplotlib.pyplot as plt\n",
    "\n",
    "plt.imshow(X_train[0])"
   ]
  },
  {
   "cell_type": "code",
   "execution_count": 9,
   "id": "activated-directory",
   "metadata": {},
   "outputs": [
    {
     "data": {
      "text/plain": [
       "array([5, 0, 4, ..., 5, 6, 8], dtype=uint8)"
      ]
     },
     "execution_count": 9,
     "metadata": {},
     "output_type": "execute_result"
    }
   ],
   "source": [
    "y_train"
   ]
  },
  {
   "cell_type": "markdown",
   "id": "strategic-toyota",
   "metadata": {},
   "source": [
    "### We define a function \"model builder\"."
   ]
  },
  {
   "cell_type": "code",
   "execution_count": 12,
   "id": "strong-satellite",
   "metadata": {},
   "outputs": [],
   "source": [
    "def model_builder(hp):\n",
    "    model = keras.Sequential() ## start model\n",
    "    model.add(keras.layers.Flatten(input_shape=(28, 28))) ## first layer, input size 28 by 28 & flatten it\n",
    "\n",
    "    # Tune the number of units in the first Dense layer\n",
    "    # Choose an optimal value between 32-512\n",
    "    hp_units = hp.Int('units', min_value=32, max_value=512, step=32) ## number of neurons b/t 32 and 512 using increments of 32\n",
    "    model.add(keras.layers.Dense(units=hp_units, activation='relu')) ## next(2nd) layer, dense/hidden layer. optimize # of neurons, hp_units b/t 35 & 512\n",
    "    model.add(keras.layers.Dense(10, activation='softmax')) ## 3rd layer, output layer, w/ 10 neurons b/c 10 diff numbers\n",
    "\n",
    "    model.compile(optimizer=keras.optimizers.Adam(learning_rate=1.0e-3),\n",
    "                loss=keras.losses.SparseCategoricalCrossentropy(from_logits=True),\n",
    "                metrics=['accuracy']) ## looking at accuracy\n",
    "\n",
    "    return model"
   ]
  },
  {
   "cell_type": "markdown",
   "id": "cultural-chapel",
   "metadata": {},
   "source": [
    "### The Keras Tuner has three tuners available - RandomSearch, Hyperband, Bayesian Optimization (https://keras.io/guides/keras_tuner/getting_started/). In this example, we will use the Hyperband tuner (https://arxiv.org/pdf/1603.06560.pdf).\n",
    "\n",
    "The Hyperband tuning algorithm uses adaptive resource allocation and early-stopping to quickly converge on a high-performing model. This is done using a sports championship style bracket. The algorithm trains a large number of models for a few epochs and carries forward only the top-performing half of models to the next round. "
   ]
  },
  {
   "cell_type": "code",
   "execution_count": 13,
   "id": "therapeutic-quarter",
   "metadata": {},
   "outputs": [],
   "source": [
    "## hyperband - improved version of random search\n",
    "\n",
    "tuner = kt.Hyperband(model_builder,\n",
    "                     objective='val_accuracy',\n",
    "                     max_epochs=10, ## train only up to 10 to save time\n",
    "                     seed=0, ## need seed number, like random state \n",
    "                     hyperband_iterations=4, ## how many times iterate, default is 1\n",
    "                     project_name='hptest') ## name - if you run a new hyperparam you change the name\n",
    "\n",
    "# Use a differnt project_name if you'd like to run a new hyperparameter tuning."
   ]
  },
  {
   "cell_type": "markdown",
   "id": "developmental-shepherd",
   "metadata": {},
   "source": [
    "### We can print out the summary of the search space."
   ]
  },
  {
   "cell_type": "code",
   "execution_count": 14,
   "id": "greek-attack",
   "metadata": {},
   "outputs": [
    {
     "name": "stdout",
     "output_type": "stream",
     "text": [
      "Search space summary\n",
      "Default search space size: 1\n",
      "units (Int)\n",
      "{'default': None, 'conditions': [], 'min_value': 32, 'max_value': 512, 'step': 32, 'sampling': None}\n"
     ]
    }
   ],
   "source": [
    "tuner.search_space_summary() ## only thing varyig # of neurons so you see min value 32 etc."
   ]
  },
  {
   "cell_type": "markdown",
   "id": "hidden-shopper",
   "metadata": {},
   "source": [
    "### Let's search the hyperparameter space."
   ]
  },
  {
   "cell_type": "code",
   "execution_count": 15,
   "id": "environmental-cable",
   "metadata": {},
   "outputs": [
    {
     "name": "stdout",
     "output_type": "stream",
     "text": [
      "Trial 21 Complete [00h 00m 17s]\n",
      "val_accuracy: 0.9762499928474426\n",
      "\n",
      "Best val_accuracy So Far: 0.9769999980926514\n",
      "Total elapsed time: 00h 03m 31s\n",
      "INFO:tensorflow:Oracle triggered exit\n"
     ]
    }
   ],
   "source": [
    "tuner.search(X_train, y_train, validation_split=0.2) ## search hyperparam space "
   ]
  },
  {
   "cell_type": "markdown",
   "id": "flush-sense",
   "metadata": {},
   "source": [
    "### Let's print out the optimal hyperparameters."
   ]
  },
  {
   "cell_type": "code",
   "execution_count": 17,
   "id": "governing-peoples",
   "metadata": {},
   "outputs": [
    {
     "name": "stdout",
     "output_type": "stream",
     "text": [
      "\n",
      "The hyperparameter search is complete. The optimal number of units in the first densely-connected\n",
      "layer is 448.\n",
      "\n"
     ]
    }
   ],
   "source": [
    "# Get the optimal hyperparameters\n",
    "best_hps = tuner.get_best_hyperparameters()[0]\n",
    "\n",
    "print(f\"\"\"\n",
    "The hyperparameter search is complete. The optimal number of units in the first densely-connected\n",
    "layer is {best_hps.get('units')}.\n",
    "\"\"\")"
   ]
  },
  {
   "cell_type": "markdown",
   "id": "historical-assembly",
   "metadata": {},
   "source": [
    "### Build a model with the optimal hyperparameters."
   ]
  },
  {
   "cell_type": "code",
   "execution_count": 18,
   "id": "current-surgery",
   "metadata": {},
   "outputs": [
    {
     "name": "stdout",
     "output_type": "stream",
     "text": [
      "Model: \"sequential_1\"\n",
      "_________________________________________________________________\n",
      "Layer (type)                 Output Shape              Param #   \n",
      "=================================================================\n",
      "flatten_1 (Flatten)          (None, 784)               0         \n",
      "_________________________________________________________________\n",
      "dense_2 (Dense)              (None, 448)               351680    \n",
      "_________________________________________________________________\n",
      "dense_3 (Dense)              (None, 10)                4490      \n",
      "=================================================================\n",
      "Total params: 356,170\n",
      "Trainable params: 356,170\n",
      "Non-trainable params: 0\n",
      "_________________________________________________________________\n"
     ]
    }
   ],
   "source": [
    "model = tuner.hypermodel.build(best_hps)\n",
    "model.summary()"
   ]
  },
  {
   "cell_type": "markdown",
   "id": "surprised-break",
   "metadata": {},
   "source": [
    "### TODO: Now, let's train the model with the optimal hyperparameters. You may want to implement early stopping."
   ]
  },
  {
   "cell_type": "code",
   "execution_count": null,
   "id": "downtown-newcastle",
   "metadata": {},
   "outputs": [],
   "source": [
    "stop_early = keras.callbacks.EarlyStopping(moniter='val_loss',paitence=10)\n"
   ]
  },
  {
   "cell_type": "markdown",
   "id": "rural-protocol",
   "metadata": {},
   "source": [
    "### TODO: Evaluate your model. What accuracy did you get on the test dataset?"
   ]
  },
  {
   "cell_type": "code",
   "execution_count": null,
   "id": "lesser-funds",
   "metadata": {},
   "outputs": [],
   "source": [
    "loss, accuracy = model.evaluate()\n"
   ]
  },
  {
   "cell_type": "markdown",
   "id": "mobile-manner",
   "metadata": {},
   "source": [
    "### TODO: Make a plot showing loss, validation loss vs. # of epochs."
   ]
  },
  {
   "cell_type": "code",
   "execution_count": null,
   "id": "tired-allen",
   "metadata": {},
   "outputs": [],
   "source": [
    "\n"
   ]
  },
  {
   "cell_type": "markdown",
   "id": "colonial-metro",
   "metadata": {},
   "source": [
    "### TODO: Make a plot showing accuracy, validation accuracy vs. # of epochs."
   ]
  },
  {
   "cell_type": "code",
   "execution_count": null,
   "id": "cognitive-flour",
   "metadata": {},
   "outputs": [],
   "source": [
    "\n"
   ]
  },
  {
   "cell_type": "markdown",
   "id": "democratic-granny",
   "metadata": {},
   "source": [
    "### What if we'd like to optimize more than one hyperparameters at the same time?"
   ]
  },
  {
   "cell_type": "code",
   "execution_count": 19,
   "id": "south-advance",
   "metadata": {},
   "outputs": [],
   "source": [
    "def model_builder(hp):\n",
    "    model = keras.Sequential()\n",
    "    model.add(keras.layers.Flatten(input_shape=(28, 28)))\n",
    "\n",
    "    # Tune the number of units in the first Dense layer\n",
    "    # Choose an optimal value between 32-512\n",
    "    hp_units = hp.Int('units', min_value=32, max_value=512, step=32)\n",
    "    model.add(keras.layers.Dense(units=hp_units, activation='relu'))\n",
    "    model.add(keras.layers.Dense(10, activation='softmax'))\n",
    "\n",
    "    # Tune the learning rate for the optimizer\n",
    "    # Choose an optimal value from 0.01, 0.001, or 0.0001\n",
    "    ## if you want to optimize learning rate\n",
    "   # hp_learning_rate = hp.Choice('learning_rate', values=[1.0e-4, 1.0e-3, 1.0e-2, 1.0e-1]) ## vary b/t these 4 values \n",
    "   # model.compile(optimizer=keras.optimizers.Adam(learning_rate=hp_learning_rate), ## use optimizer adam \n",
    "   #             loss=keras.losses.SparseCategoricalCrossentropy(from_logits=True),\n",
    "   #             metrics=['accuracy'])\n",
    "    \n",
    "    ## changing the optimizer, so we want to change the optimizer and learning rate\n",
    "    adam = keras.optimizers.Adam(lr=hp.Choice('learning_rate', values=[1.0e-4, 1.0e-3, 1.0e-2, 1.0e-1])) ## choose adam, inside adam change learning rate\n",
    "    rmsprop = keras.optimizers.RMSprop(lr=hp.Choice('learning_rate', values=[1.0e-4, 1.0e-3, 1.0e-2, 1.0e-1])) ## same^ \n",
    "    sgd = keras.optimizers.SGD(lr=hp.Choice('learning_rate', values=[1.0e-4, 1.0e-3, 1.0e-2, 1.0e-1]))\n",
    "   \n",
    "    choiceval = hp.Choice('optimizer', values=['adam', 'rmsprop', 'sgd']) ## now choose b/t the three above\n",
    "    \n",
    "    if choiceval == 'adam': ## if adam is chosen, use optimizer adam\n",
    "        optim = adam\n",
    "    elif choiceval == 'rmsprop': ## same ^\n",
    "        optim = rmsprop\n",
    "    else:\n",
    "        optim = sgd\n",
    "        \n",
    "    model.compile(optimizer=optim,\n",
    "                  loss=keras.losses.SparseCategoricalCrossentropy(from_logits=True),\n",
    "                  metrics=['accuracy'])\n",
    "\n",
    "    return model\n",
    "\n",
    "## cant use this to decide the # of layers, have to decide this on our own"
   ]
  },
  {
   "cell_type": "code",
   "execution_count": 20,
   "id": "composed-median",
   "metadata": {},
   "outputs": [
    {
     "name": "stderr",
     "output_type": "stream",
     "text": [
      "/apps/tensorflow/2.6.0/lib/python3.9/site-packages/keras/optimizer_v2/optimizer_v2.py:355: UserWarning: The `lr` argument is deprecated, use `learning_rate` instead.\n",
      "  warnings.warn(\n"
     ]
    }
   ],
   "source": [
    "tuner = kt.Hyperband(model_builder,\n",
    "                     objective='val_accuracy',\n",
    "                     max_epochs=10,\n",
    "                     seed=0,\n",
    "                     hyperband_iterations=1,\n",
    "                     project_name='hptest2')"
   ]
  },
  {
   "cell_type": "code",
   "execution_count": 21,
   "id": "later-phoenix",
   "metadata": {},
   "outputs": [
    {
     "name": "stdout",
     "output_type": "stream",
     "text": [
      "Search space summary\n",
      "Default search space size: 3\n",
      "units (Int)\n",
      "{'default': None, 'conditions': [], 'min_value': 32, 'max_value': 512, 'step': 32, 'sampling': None}\n",
      "learning_rate (Choice)\n",
      "{'default': 0.0001, 'conditions': [], 'values': [0.0001, 0.001, 0.01, 0.1], 'ordered': True}\n",
      "optimizer (Choice)\n",
      "{'default': 'adam', 'conditions': [], 'values': ['adam', 'rmsprop', 'sgd'], 'ordered': False}\n"
     ]
    }
   ],
   "source": [
    "tuner.search_space_summary()\n",
    "## units # of neurons in hidden layer, then learning rate and optimizer "
   ]
  },
  {
   "cell_type": "code",
   "execution_count": 22,
   "id": "adverse-state",
   "metadata": {},
   "outputs": [
    {
     "name": "stdout",
     "output_type": "stream",
     "text": [
      "Trial 30 Complete [00h 00m 34s]\n",
      "val_accuracy: 0.9639166593551636\n",
      "\n",
      "Best val_accuracy So Far: 0.9793333411216736\n",
      "Total elapsed time: 00h 07m 33s\n",
      "INFO:tensorflow:Oracle triggered exit\n"
     ]
    }
   ],
   "source": [
    "tuner.search(X_train, y_train, validation_split=0.2)"
   ]
  },
  {
   "cell_type": "code",
   "execution_count": 23,
   "id": "refined-organic",
   "metadata": {},
   "outputs": [
    {
     "name": "stdout",
     "output_type": "stream",
     "text": [
      "\n",
      "The hyperparameter search is complete. The optimal number of units in the first densely-connected\n",
      "layer is 384 and the optimal learning rate for the optimizer sgd\n",
      "is 0.1.\n",
      "\n"
     ]
    }
   ],
   "source": [
    "# Get the optimal hyperparameters\n",
    "best_hps=tuner.get_best_hyperparameters()[0]\n",
    "\n",
    "print(f\"\"\"\n",
    "The hyperparameter search is complete. The optimal number of units in the first densely-connected\n",
    "layer is {best_hps.get('units')} and the optimal learning rate for the optimizer {best_hps.get('optimizer')}\n",
    "is {best_hps.get('learning_rate')}.\n",
    "\"\"\")"
   ]
  },
  {
   "cell_type": "code",
   "execution_count": 24,
   "id": "hazardous-dressing",
   "metadata": {},
   "outputs": [
    {
     "name": "stdout",
     "output_type": "stream",
     "text": [
      "Model: \"sequential_1\"\n",
      "_________________________________________________________________\n",
      "Layer (type)                 Output Shape              Param #   \n",
      "=================================================================\n",
      "flatten_1 (Flatten)          (None, 784)               0         \n",
      "_________________________________________________________________\n",
      "dense_2 (Dense)              (None, 384)               301440    \n",
      "_________________________________________________________________\n",
      "dense_3 (Dense)              (None, 10)                3850      \n",
      "=================================================================\n",
      "Total params: 305,290\n",
      "Trainable params: 305,290\n",
      "Non-trainable params: 0\n",
      "_________________________________________________________________\n"
     ]
    }
   ],
   "source": [
    "# Build the model with the optimal hyperparameters\n",
    "model = tuner.hypermodel.build(best_hps)\n",
    "model.summary()"
   ]
  },
  {
   "cell_type": "code",
   "execution_count": 25,
   "id": "acoustic-newark",
   "metadata": {
    "collapsed": true,
    "jupyter": {
     "outputs_hidden": true
    },
    "tags": []
   },
   "outputs": [
    {
     "name": "stdout",
     "output_type": "stream",
     "text": [
      "Epoch 1/50\n",
      "1500/1500 [==============================] - 3s 2ms/step - loss: 0.3102 - accuracy: 0.9130 - val_loss: 0.1720 - val_accuracy: 0.9514\n",
      "Epoch 2/50\n",
      "1500/1500 [==============================] - 3s 2ms/step - loss: 0.1462 - accuracy: 0.9576 - val_loss: 0.1209 - val_accuracy: 0.9662\n",
      "Epoch 3/50\n",
      "1500/1500 [==============================] - 3s 2ms/step - loss: 0.1023 - accuracy: 0.9708 - val_loss: 0.1068 - val_accuracy: 0.9685\n",
      "Epoch 4/50\n",
      "1500/1500 [==============================] - 3s 2ms/step - loss: 0.0778 - accuracy: 0.9781 - val_loss: 0.0978 - val_accuracy: 0.9707\n",
      "Epoch 5/50\n",
      "1500/1500 [==============================] - 3s 2ms/step - loss: 0.0620 - accuracy: 0.9827 - val_loss: 0.0920 - val_accuracy: 0.9718\n",
      "Epoch 6/50\n",
      "1500/1500 [==============================] - 3s 2ms/step - loss: 0.0505 - accuracy: 0.9861 - val_loss: 0.0848 - val_accuracy: 0.9759\n",
      "Epoch 7/50\n",
      "1500/1500 [==============================] - 3s 2ms/step - loss: 0.0422 - accuracy: 0.9888 - val_loss: 0.0821 - val_accuracy: 0.9750\n",
      "Epoch 8/50\n",
      "1500/1500 [==============================] - 3s 2ms/step - loss: 0.0349 - accuracy: 0.9907 - val_loss: 0.0799 - val_accuracy: 0.9768\n",
      "Epoch 9/50\n",
      "1500/1500 [==============================] - 3s 2ms/step - loss: 0.0293 - accuracy: 0.9931 - val_loss: 0.0756 - val_accuracy: 0.9773\n",
      "Epoch 10/50\n",
      "1500/1500 [==============================] - 3s 2ms/step - loss: 0.0245 - accuracy: 0.9948 - val_loss: 0.0739 - val_accuracy: 0.9790\n",
      "Epoch 11/50\n",
      "1500/1500 [==============================] - 3s 2ms/step - loss: 0.0205 - accuracy: 0.9959 - val_loss: 0.0736 - val_accuracy: 0.9783\n",
      "Epoch 12/50\n",
      "1500/1500 [==============================] - 3s 2ms/step - loss: 0.0175 - accuracy: 0.9967 - val_loss: 0.0713 - val_accuracy: 0.9793\n",
      "Epoch 13/50\n",
      "1500/1500 [==============================] - 3s 2ms/step - loss: 0.0147 - accuracy: 0.9977 - val_loss: 0.0732 - val_accuracy: 0.9789\n",
      "Epoch 14/50\n",
      "1500/1500 [==============================] - 3s 2ms/step - loss: 0.0127 - accuracy: 0.9983 - val_loss: 0.0716 - val_accuracy: 0.9790\n",
      "Epoch 15/50\n",
      "1500/1500 [==============================] - 3s 2ms/step - loss: 0.0109 - accuracy: 0.9987 - val_loss: 0.0723 - val_accuracy: 0.9797\n",
      "Epoch 16/50\n",
      "1500/1500 [==============================] - 3s 2ms/step - loss: 0.0094 - accuracy: 0.9991 - val_loss: 0.0731 - val_accuracy: 0.9789\n",
      "Epoch 17/50\n",
      "1500/1500 [==============================] - 3s 2ms/step - loss: 0.0083 - accuracy: 0.9993 - val_loss: 0.0729 - val_accuracy: 0.9798\n",
      "Epoch 18/50\n",
      "1500/1500 [==============================] - 3s 2ms/step - loss: 0.0074 - accuracy: 0.9994 - val_loss: 0.0764 - val_accuracy: 0.9776\n",
      "Epoch 19/50\n",
      "1500/1500 [==============================] - 3s 2ms/step - loss: 0.0067 - accuracy: 0.9996 - val_loss: 0.0727 - val_accuracy: 0.9806\n",
      "Epoch 20/50\n",
      "1500/1500 [==============================] - 3s 2ms/step - loss: 0.0058 - accuracy: 0.9997 - val_loss: 0.0729 - val_accuracy: 0.9797\n",
      "Epoch 21/50\n",
      "1500/1500 [==============================] - 3s 2ms/step - loss: 0.0053 - accuracy: 0.9998 - val_loss: 0.0735 - val_accuracy: 0.9799\n",
      "Epoch 22/50\n",
      "1500/1500 [==============================] - 3s 2ms/step - loss: 0.0049 - accuracy: 0.9998 - val_loss: 0.0731 - val_accuracy: 0.9798\n"
     ]
    }
   ],
   "source": [
    "stop_early = keras.callbacks.EarlyStopping(monitor='val_loss', patience=10)\n",
    "history = model.fit(X_train, y_train, epochs=50, validation_split=0.2, callbacks=[stop_early])"
   ]
  },
  {
   "cell_type": "code",
   "execution_count": 26,
   "id": "absent-example",
   "metadata": {},
   "outputs": [
    {
     "name": "stdout",
     "output_type": "stream",
     "text": [
      "Test loss: 0.06420815736055374\n",
      "Test accuracy: 0.98089998960495\n"
     ]
    }
   ],
   "source": [
    "loss, accuracy = model.evaluate(X_test, y_test, verbose=0)\n",
    "print('Test loss:', loss)\n",
    "print('Test accuracy:', accuracy)"
   ]
  },
  {
   "cell_type": "code",
   "execution_count": 27,
   "id": "black-microwave",
   "metadata": {},
   "outputs": [
    {
     "data": {
      "text/plain": [
       "Text(0, 0.5, 'loss, validation loss')"
      ]
     },
     "execution_count": 27,
     "metadata": {},
     "output_type": "execute_result"
    },
    {
     "data": {
      "image/png": "[encoded data removed]",
      "text/plain": [
       "<Figure size 432x288 with 1 Axes>"
      ]
     },
     "metadata": {
      "needs_background": "light"
     },
     "output_type": "display_data"
    }
   ],
   "source": [
    "plt.plot(history.epoch, history.history['loss'],'.-')\n",
    "plt.plot(history.epoch, history.history['val_loss'],'.-')\n",
    "plt.xlabel('epoch')\n",
    "plt.ylabel('loss, validation loss')"
   ]
  },
  {
   "cell_type": "code",
   "execution_count": 28,
   "id": "owned-fashion",
   "metadata": {},
   "outputs": [
    {
     "data": {
      "text/plain": [
       "Text(0, 0.5, 'accuracy, validation accuracy')"
      ]
     },
     "execution_count": 28,
     "metadata": {},
     "output_type": "execute_result"
    },
    {
     "data": {
      "image/png": "[encoded data removed]",
      "text/plain": [
       "<Figure size 432x288 with 1 Axes>"
      ]
     },
     "metadata": {
      "needs_background": "light"
     },
     "output_type": "display_data"
    }
   ],
   "source": [
    "plt.plot(history.epoch, history.history['accuracy'],'.-')\n",
    "plt.plot(history.epoch, history.history['val_accuracy'],'.-')\n",
    "#plt.ylim(0.8,1)\n",
    "plt.xlabel('epoch')\n",
    "plt.ylabel('accuracy, validation accuracy')"
   ]
  },
  {
   "cell_type": "markdown",
   "id": "gorgeous-wheat",
   "metadata": {},
   "source": [
    "### Q: What if we'd like to change the number of hidden layers?"
   ]
  },
  {
   "cell_type": "markdown",
   "id": "polar-motel",
   "metadata": {},
   "source": [
    "Unfortunately, there is no built-in module to do this. You will have to run a separate hyperparameter optimization script for DNNs having different number of layers. My suggestion would be to start with the simplest configuration (i.e., one hidden layer) and increase the number of hidden layers while monitoring the performance."
   ]
  },
  {
   "cell_type": "markdown",
   "id": "rolled-inside",
   "metadata": {},
   "source": [
    "### TODO: Can you optimize hyperparameters of DNNs having two hidden layers? Did the performance improve?"
   ]
  },
  {
   "cell_type": "code",
   "execution_count": 29,
   "id": "first-defense",
   "metadata": {},
   "outputs": [],
   "source": [
    "def model_builder(hp):\n",
    "    model = keras.Sequential()\n",
    "    model.add(keras.layers.Flatten(input_shape=(28, 28)))\n",
    "\n",
    "    # Tune the number of units in the first Dense layer\n",
    "    # Choose an optimal value between 32-512\n",
    "    hp_units = hp.Int('units', min_value=32, max_value=512, step=32)\n",
    "    model.add(keras.layers.Dense(units=hp_units, activation='relu'))\n",
    "    model.add(keras.layers.Dense(units=hp_units, activation='relu')) ## added a hidden layer\n",
    "    model.add(keras.layers.Dense(10, activation='softmax'))\n",
    "    \n",
    "    ## if you wanted to vary number of neurons, you'd do this. But this isn't really good so don't\n",
    "  #  hp_units = hp.Int('units', min_value=32, max_value=512, step=32)\n",
    "  #  model.add(keras.layers.Dense(units=hp_units, activation='relu'))\n",
    "  #  hp_units2 = hp.Int('units', min_value=32, max_value=512, step=32)\n",
    "  #  model.add(keras.layers.Dense(units=hp_units2, activation='relu')) ## added a hidden layer\n",
    "  #  model.add(keras.layers.Dense(10, activation='softmax'))\n",
    "\n",
    "    ## changing the optimizer, so we want to change the optimizer and learning rate\n",
    "    adam = keras.optimizers.Adam(lr=hp.Choice('learning_rate', values=[1.0e-4, 1.0e-3, 1.0e-2, 1.0e-1])) ## choose adam, inside adam change learning rate\n",
    "    rmsprop = keras.optimizers.RMSprop(lr=hp.Choice('learning_rate', values=[1.0e-4, 1.0e-3, 1.0e-2, 1.0e-1])) ## same^ \n",
    "    sgd = keras.optimizers.SGD(lr=hp.Choice('learning_rate', values=[1.0e-4, 1.0e-3, 1.0e-2, 1.0e-1]))\n",
    "   \n",
    "    choiceval = hp.Choice('optimizer', values=['adam', 'rmsprop', 'sgd']) ## now choose b/t the three above\n",
    "    \n",
    "    if choiceval == 'adam': ## if adam is chosen, use optimizer adam\n",
    "        optim = adam\n",
    "    elif choiceval == 'rmsprop': ## same ^\n",
    "        optim = rmsprop\n",
    "    else:\n",
    "        optim = sgd\n",
    "        \n",
    "    model.compile(optimizer=optim,\n",
    "                  loss=keras.losses.SparseCategoricalCrossentropy(from_logits=True),\n",
    "                  metrics=['accuracy'])\n",
    "\n",
    "    return model"
   ]
  },
  {
   "cell_type": "code",
   "execution_count": 32,
   "id": "23aba0f4-c691-4d7b-8953-ec86f30304d6",
   "metadata": {},
   "outputs": [],
   "source": [
    "tuner = kt.Hyperband(model_builder,\n",
    "                     objective='val_accuracy',\n",
    "                     max_epochs=10,\n",
    "                     seed=0,\n",
    "                     hyperband_iterations=1,\n",
    "                     project_name='hptest3')"
   ]
  },
  {
   "cell_type": "code",
   "execution_count": null,
   "id": "f0de8e03-81db-4292-9341-c23110e9029b",
   "metadata": {},
   "outputs": [
    {
     "name": "stdout",
     "output_type": "stream",
     "text": [
      "Trial 17 Complete [00h 00m 32s]\n",
      "val_accuracy: 0.9769166707992554\n",
      "\n",
      "Best val_accuracy So Far: 0.9769166707992554\n",
      "Total elapsed time: 00h 03m 12s\n",
      "\n",
      "Search: Running Trial #18\n",
      "\n",
      "Hyperparameter    |Value             |Best Value So Far \n",
      "units             |96                |352               \n",
      "learning_rate     |0.01              |0.001             \n",
      "optimizer         |adam              |adam              \n",
      "tuner/epochs      |10                |10                \n",
      "tuner/initial_e...|4                 |4                 \n",
      "tuner/bracket     |2                 |2                 \n",
      "tuner/round       |2                 |2                 \n",
      "tuner/trial_id    |3d4bd8564d2f5af...|7038267c67a6d0e...\n",
      "\n",
      "Epoch 5/10\n",
      "1500/1500 [==============================] - 3s 2ms/step - loss: 0.2935 - accuracy: 0.9140 - val_loss: 0.2086 - val_accuracy: 0.9435\n",
      "Epoch 6/10\n",
      "1500/1500 [==============================] - 2s 2ms/step - loss: 0.2039 - accuracy: 0.9443 - val_loss: 0.2091 - val_accuracy: 0.9443\n",
      "Epoch 7/10\n",
      "1500/1500 [==============================] - 2s 2ms/step - loss: 0.1737 - accuracy: 0.9531 - val_loss: 0.1820 - val_accuracy: 0.9539\n",
      "Epoch 8/10\n",
      " 388/1500 [======>.......................] - ETA: 1s - loss: 0.1493 - accuracy: 0.9604"
     ]
    }
   ],
   "source": [
    "tuner.search(X_train, y_train, validation_split=0.2)"
   ]
  },
  {
   "cell_type": "code",
   "execution_count": null,
   "id": "678d16e3-7873-4ce1-bf70-3c3441209d2d",
   "metadata": {},
   "outputs": [],
   "source": []
  }
 ],
 "metadata": {
  "kernelspec": {
   "display_name": "Tensorflow-2.6.0",
   "language": "python",
   "name": "tensorflow-2.6.0"
  },
  "language_info": {
   "codemirror_mode": {
    "name": "ipython",
    "version": 3
   },
   "file_extension": ".py",
   "mimetype": "text/x-python",
   "name": "python",
   "nbconvert_exporter": "python",
   "pygments_lexer": "ipython3",
   "version": "3.9.7"
  }
 },
 "nbformat": 4,
 "nbformat_minor": 5
}
