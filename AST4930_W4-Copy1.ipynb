{
 "cells": [
  {
   "cell_type": "markdown",
   "metadata": {
    "slideshow": {
     "slide_type": "slide"
    }
   },
   "source": [
    "# AST 4930 Week 4"
   ]
  },
  {
   "cell_type": "markdown",
   "metadata": {},
   "source": [
    "## Cross validation, parameter optimization, evaluation metric"
   ]
  },
  {
   "cell_type": "markdown",
   "metadata": {},
   "source": [
    "### Let's load the iris data and run cross validation."
   ]
  },
  {
   "cell_type": "code",
   "execution_count": 2,
   "metadata": {},
   "outputs": [
    {
     "name": "stdout",
     "output_type": "stream",
     "text": [
      "Cross-validation scores: [0.96666667 0.96666667 0.9        1.         1.        ]\n",
      "Mean cross-validation scores: 0.967\n",
      "Standard deviation cross-validation scores: 0.037\n"
     ]
    }
   ],
   "source": [
    "from sklearn.datasets import load_iris\n",
    "from sklearn.tree import DecisionTreeClassifier\n",
    "from sklearn.model_selection import cross_val_score, cross_validate\n",
    "\n",
    "iris = load_iris()\n",
    "model = DecisionTreeClassifier(max_depth=4, random_state=0)\n",
    "\n",
    "scores = cross_val_score(model, iris.data, iris.target, cv=5)\n",
    "print(\"Cross-validation scores: {}\".format(scores))\n",
    "print(\"Mean cross-validation scores: {:.3f}\".format(scores.mean()))\n",
    "print(\"Standard deviation cross-validation scores: {:.3f}\".format(scores.std()))"
   ]
  },
  {
   "cell_type": "markdown",
   "metadata": {},
   "source": [
    "### Let's split the data for hyperparameter optimization."
   ]
  },
  {
   "cell_type": "code",
   "execution_count": 3,
   "metadata": {},
   "outputs": [],
   "source": [
    "from sklearn.model_selection import train_test_split\n",
    "\n",
    "X = iris.data\n",
    "y = iris.target\n",
    "\n",
    "#If you want to reproduce the result, make sure you use the same random_state value.\n",
    "X_train, X_test, y_train, y_test = train_test_split(X, y, random_state=0)"
   ]
  },
  {
   "cell_type": "markdown",
   "metadata": {},
   "source": [
    "### We can use for loops."
   ]
  },
  {
   "cell_type": "code",
   "execution_count": 4,
   "metadata": {},
   "outputs": [
    {
     "name": "stdout",
     "output_type": "stream",
     "text": [
      "Best score: 0.96\n",
      "Best parameters: {'max_depth': 3, 'criterion': 'gini'}\n"
     ]
    }
   ],
   "source": [
    "import numpy as np\n",
    "\n",
    "max_depth = np.arange(10)+1\n",
    "criterion = ['gini','entropy']\n",
    "\n",
    "best_score = 0\n",
    "\n",
    "for i in max_depth:\n",
    "    for j in criterion:\n",
    "        model = DecisionTreeClassifier(max_depth=i, criterion=j, random_state=0)\n",
    "        score = cross_val_score(model, X_train, y_train, cv=5)\n",
    "        score = np.mean(score)\n",
    "        if score > best_score:\n",
    "            best_score = score\n",
    "            best_parameters = {'max_depth': i, 'criterion': j}\n",
    "    \n",
    "print(\"Best score: {:.2f}\".format(best_score))\n",
    "print(\"Best parameters: {}\".format(best_parameters))"
   ]
  },
  {
   "cell_type": "markdown",
   "metadata": {},
   "source": [
    "### But we can take advantage of built-in modules."
   ]
  },
  {
   "cell_type": "code",
   "execution_count": 5,
   "metadata": {},
   "outputs": [
    {
     "name": "stdout",
     "output_type": "stream",
     "text": [
      "Fitting 5 folds for each of 20 candidates, totalling 100 fits\n",
      "Test score: 0.97\n",
      "Best parameters: {'criterion': 'gini', 'max_depth': 3}\n",
      "Best model: DecisionTreeClassifier(max_depth=3, random_state=0)\n"
     ]
    }
   ],
   "source": [
    "from sklearn.model_selection import GridSearchCV\n",
    "\n",
    "param_grid = {'max_depth': np.arange(10)+1,\n",
    "              'criterion': ['gini','entropy']}\n",
    "\n",
    "grid_search = GridSearchCV(DecisionTreeClassifier(random_state=0), param_grid, cv=5, \n",
    "                           return_train_score=True, verbose=1)\n",
    "grid_search.fit(X_train, y_train)\n",
    "\n",
    "print(\"Test score: {:.2f}\".format(grid_search.score(X_test, y_test)))\n",
    "print(\"Best parameters: {}\".format(grid_search.best_params_))\n",
    "print(\"Best model: {}\".format(grid_search.best_estimator_))"
   ]
  },
  {
   "cell_type": "markdown",
   "metadata": {},
   "source": [
    "### Let's make a heatmap."
   ]
  },
  {
   "cell_type": "code",
   "execution_count": 6,
   "metadata": {},
   "outputs": [
    {
     "data": {
      "text/plain": [
       "<matplotlib.collections.PolyCollection at 0x2ab1b23c0bb0>"
      ]
     },
     "execution_count": 6,
     "metadata": {},
     "output_type": "execute_result"
    },
    {
     "data": {
      "image/png": "[encoded data removed]",
      "text/plain": [
       "<Figure size 432x288 with 1 Axes>"
      ]
     },
     "metadata": {
      "needs_background": "light"
     },
     "output_type": "display_data"
    }
   ],
   "source": [
    "import pandas as pd\n",
    "import mglearn\n",
    "#If you haven't installed mglearn on HiPerGator, \n",
    "#install the module by typing \"!pip install mglearn\" and restart the kernel\n",
    "\n",
    "results = pd.DataFrame(grid_search.cv_results_)\n",
    "scores = np.array(results.mean_test_score).reshape(2,10)\n",
    "\n",
    "mglearn.tools.heatmap(scores, xlabel='max_depth', xticklabels=param_grid['max_depth'],\n",
    "                     ylabel='criterion', yticklabels=param_grid['criterion'], cmap='viridis')"
   ]
  },
  {
   "cell_type": "markdown",
   "metadata": {},
   "source": [
    "### What if we need feature scaling?"
   ]
  },
  {
   "cell_type": "code",
   "execution_count": 7,
   "metadata": {},
   "outputs": [
    {
     "name": "stdout",
     "output_type": "stream",
     "text": [
      "Fitting 5 folds for each of 20 candidates, totalling 100 fits\n",
      "Test score: 0.97\n",
      "Best parameters: {'knn__n_neighbors': 5, 'knn__weights': 'distance'}\n",
      "Best model: Pipeline(steps=[('sc', StandardScaler()),\n",
      "                ('knn', KNeighborsClassifier(weights='distance'))])\n"
     ]
    }
   ],
   "source": [
    "from sklearn.neighbors import KNeighborsClassifier\n",
    "from sklearn.pipeline import Pipeline\n",
    "from sklearn.preprocessing import StandardScaler\n",
    "\n",
    "pipe = Pipeline([\n",
    "    ('sc', StandardScaler()),\n",
    "    ('knn', KNeighborsClassifier())\n",
    "])\n",
    "\n",
    "param_grid = {'knn__n_neighbors': np.arange(10)+1,\n",
    "              'knn__weights': ['uniform','distance']}\n",
    "\n",
    "grid_search = GridSearchCV(pipe, param_grid, cv=5, return_train_score=True, verbose=1)\n",
    "grid_search.fit(X_train, y_train)\n",
    "\n",
    "print(\"Test score: {:.2f}\".format(grid_search.score(X_test, y_test)))\n",
    "print(\"Best parameters: {}\".format(grid_search.best_params_))\n",
    "print(\"Best model: {}\".format(grid_search.best_estimator_))"
   ]
  },
  {
   "cell_type": "markdown",
   "metadata": {},
   "source": [
    "### Let's load the SDSS data we used last week and test parallelization."
   ]
  },
  {
   "cell_type": "code",
   "execution_count": 8,
   "metadata": {},
   "outputs": [],
   "source": [
    "data = np.load('/blue/ast4930/share/SDSS_example.npz')['data']\n",
    "\n",
    "# Extract colors and spectral class\n",
    "ug = data['u'] - data['g']\n",
    "gr = data['g'] - data['r']\n",
    "ri = data['r'] - data['i']\n",
    "iz = data['i'] - data['z']\n",
    "spec_class = data['specClass']\n",
    "\n",
    "# Separating galaxies and quasars\n",
    "galaxies = (spec_class == 'GALAXY')\n",
    "qsos = (spec_class == 'QSO')\n",
    "\n",
    "# X for an array containing features (i.e., colors)\n",
    "X = np.array([ug, gr, ri, iz]).T\n",
    "\n",
    "# y for an array containing labels (i.e., galaxies or quasars)\n",
    "y = np.expand_dims(spec_class, axis=1)\n",
    "\n",
    "#If you want to reproduce the result, make sure you use the same random_state value.\n",
    "X_train, X_test, y_train, y_test = train_test_split(X, y, random_state=0)\n",
    "\n"
   ]
  },
  {
   "cell_type": "markdown",
   "metadata": {},
   "source": [
    "### Hyperparameter optimization with 1 CPU core"
   ]
  },
  {
   "cell_type": "code",
   "execution_count": 9,
   "metadata": {},
   "outputs": [
    {
     "name": "stdout",
     "output_type": "stream",
     "text": [
      "Fitting 5 folds for each of 60 candidates, totalling 300 fits\n",
      "Test score: 0.99\n",
      "Best parameters: {'criterion': 'gini', 'max_depth': 5}\n",
      "Best model: DecisionTreeClassifier(max_depth=5)\n",
      "Elapsed time: 81.969 seconds\n"
     ]
    }
   ],
   "source": [
    "import time\n",
    "\n",
    "tstart = time.time()\n",
    "\n",
    "param_grid = {'max_depth': np.arange(30)+1,\n",
    "              'criterion': ['gini','entropy']}\n",
    "\n",
    "# By defaults, sklearn's GridSearchCV will use stratified k-fold for classification problems.\n",
    "grid_search = GridSearchCV(DecisionTreeClassifier(), param_grid, cv=5, return_train_score=True, \n",
    "                           verbose=1)\n",
    "grid_search.fit(X_train, y_train)\n",
    "\n",
    "print(\"Test score: {:.2f}\".format(grid_search.score(X_test, y_test)))\n",
    "print(\"Best parameters: {}\".format(grid_search.best_params_))\n",
    "print(\"Best model: {}\".format(grid_search.best_estimator_))\n",
    "print(\"Elapsed time: {:.3f}\".format(time.time()-tstart) + \" seconds\")"
   ]
  },
  {
   "cell_type": "markdown",
   "metadata": {},
   "source": [
    "### Now the same task with 2 CPU cores"
   ]
  },
  {
   "cell_type": "code",
   "execution_count": 10,
   "metadata": {},
   "outputs": [
    {
     "name": "stdout",
     "output_type": "stream",
     "text": [
      "Fitting 5 folds for each of 60 candidates, totalling 300 fits\n",
      "Test score: 0.99\n",
      "Best parameters: {'criterion': 'entropy', 'max_depth': 7}\n",
      "Best model: DecisionTreeClassifier(criterion='entropy', max_depth=7)\n",
      "Elapsed time: 48.118 seconds\n"
     ]
    }
   ],
   "source": [
    "tstart = time.time()\n",
    "\n",
    "param_grid = {'max_depth': np.arange(30)+1,\n",
    "              'criterion': ['gini','entropy']}\n",
    "\n",
    "grid_search = GridSearchCV(DecisionTreeClassifier(), param_grid, cv=5, return_train_score=True, \n",
    "                           n_jobs=2, verbose=1)\n",
    "grid_search.fit(X_train, y_train)\n",
    "\n",
    "print(\"Test score: {:.2f}\".format(grid_search.score(X_test, y_test)))\n",
    "print(\"Best parameters: {}\".format(grid_search.best_params_))\n",
    "print(\"Best model: {}\".format(grid_search.best_estimator_))\n",
    "print(\"Elapsed time: {:.3f}\".format(time.time()-tstart) + \" seconds\")"
   ]
  },
  {
   "cell_type": "markdown",
   "metadata": {},
   "source": [
    "### Imbalanced data and evaluation metric"
   ]
  },
  {
   "cell_type": "code",
   "execution_count": 25,
   "metadata": {},
   "outputs": [
    {
     "name": "stdout",
     "output_type": "stream",
     "text": [
      "Counter({0: 9001, 1: 999})\n"
     ]
    },
    {
     "data": {
      "text/plain": [
       "<matplotlib.legend.Legend at 0x2ab1b2755d00>"
      ]
     },
     "execution_count": 25,
     "metadata": {},
     "output_type": "execute_result"
    },
    {
     "data": {
      "image/png": "[encoded data removed]",
      "text/plain": [
       "<Figure size 432x288 with 1 Axes>"
      ]
     },
     "metadata": {
      "needs_background": "light"
     },
     "output_type": "display_data"
    }
   ],
   "source": [
    "from collections import Counter\n",
    "from sklearn.datasets import make_classification\n",
    "import matplotlib.pyplot as plt\n",
    "\n",
    "# generate imbalanced dataset\n",
    "X, y = make_classification(n_samples=10000, n_features=2, n_redundant=0,\n",
    "                           n_clusters_per_class=1, weights=[0.9], flip_y=0, random_state=2)\n",
    "\n",
    "# summarize class distribution\n",
    "counter = Counter(y)\n",
    "print(counter)\n",
    "\n",
    "# scatter plot of examples by class label\n",
    "for label, _ in counter.items():\n",
    "    row_ix = np.where(y == label)[0]\n",
    "    plt.scatter(X[row_ix, 0], X[row_ix, 1], label=str(label), alpha=0.5, marker='.')\n",
    "\n",
    "plt.xlabel('feature 1')\n",
    "plt.ylabel('feature 2')\n",
    "plt.legend(loc='lower right')"
   ]
  },
  {
   "cell_type": "markdown",
   "metadata": {},
   "source": [
    "### Split the data."
   ]
  },
  {
   "cell_type": "code",
   "execution_count": 26,
   "metadata": {},
   "outputs": [],
   "source": [
    "from sklearn.model_selection import train_test_split\n",
    "\n",
    "X_train, X_test, y_train, y_test = train_test_split(X, y, random_state=0)"
   ]
  },
  {
   "cell_type": "code",
   "execution_count": 27,
   "metadata": {},
   "outputs": [
    {
     "name": "stdout",
     "output_type": "stream",
     "text": [
      "Fitting 5 folds for each of 60 candidates, totalling 300 fits\n",
      "Test score: 0.97\n",
      "Best parameters: {'criterion': 'gini', 'max_depth': 3}\n",
      "Best model: DecisionTreeClassifier(max_depth=3, random_state=0)\n"
     ]
    }
   ],
   "source": [
    "param_grid = {'max_depth': np.arange(30)+1,\n",
    "              'criterion': ['gini','entropy']}\n",
    "\n",
    "grid_search = GridSearchCV(DecisionTreeClassifier(random_state=0), param_grid, cv=5, \n",
    "                           return_train_score=True, verbose=1, scoring='accuracy')\n",
    "\n",
    "grid_search.fit(X_train, y_train)\n",
    "\n",
    "print(\"Test score: {:.2f}\".format(grid_search.score(X_test, y_test)))\n",
    "print(\"Best parameters: {}\".format(grid_search.best_params_))\n",
    "print(\"Best model: {}\".format(grid_search.best_estimator_))"
   ]
  },
  {
   "cell_type": "code",
   "execution_count": 28,
   "metadata": {},
   "outputs": [
    {
     "data": {
      "text/plain": [
       "DecisionTreeClassifier(max_depth=3, random_state=0)"
      ]
     },
     "execution_count": 28,
     "metadata": {},
     "output_type": "execute_result"
    }
   ],
   "source": [
    "## ** operator takes a dictionary and unpack it into keaword arguments in a function.\n",
    "model = DecisionTreeClassifier(**grid_search.best_params_, random_state=0)\n",
    "model.fit(X_train, y_train)"
   ]
  },
  {
   "cell_type": "markdown",
   "metadata": {},
   "source": [
    "### This is the true class."
   ]
  },
  {
   "cell_type": "code",
   "execution_count": 29,
   "metadata": {},
   "outputs": [
    {
     "name": "stdout",
     "output_type": "stream",
     "text": [
      "Counter({0: 2256, 1: 244})\n"
     ]
    },
    {
     "data": {
      "text/plain": [
       "<matplotlib.legend.Legend at 0x2ab1b2824040>"
      ]
     },
     "execution_count": 29,
     "metadata": {},
     "output_type": "execute_result"
    },
    {
     "data": {
      "image/png": "[encoded data removed]",
      "text/plain": [
       "<Figure size 432x288 with 1 Axes>"
      ]
     },
     "metadata": {
      "needs_background": "light"
     },
     "output_type": "display_data"
    }
   ],
   "source": [
    "counter = Counter(y_test)\n",
    "print(counter)\n",
    "\n",
    "# scatter plot of examples by class label\n",
    "for label, _ in counter.items():\n",
    "    row_ix = np.where(y_test == label)[0]\n",
    "    plt.scatter(X_test[row_ix, 0], X_test[row_ix, 1], label=str(label), alpha=1, marker='.')\n",
    "\n",
    "plt.xlabel('feature 1')\n",
    "plt.ylabel('feature 2')\n",
    "plt.legend(loc='lower right')"
   ]
  },
  {
   "cell_type": "markdown",
   "metadata": {},
   "source": [
    "### This is our best model. Are we good with it?"
   ]
  },
  {
   "cell_type": "code",
   "execution_count": 30,
   "metadata": {},
   "outputs": [
    {
     "name": "stdout",
     "output_type": "stream",
     "text": [
      "Counter({0: 2298, 1: 202})\n"
     ]
    },
    {
     "data": {
      "text/plain": [
       "<matplotlib.legend.Legend at 0x2ab1b288dc40>"
      ]
     },
     "execution_count": 30,
     "metadata": {},
     "output_type": "execute_result"
    },
    {
     "data": {
      "image/png": "[encoded data removed]",
      "text/plain": [
       "<Figure size 432x288 with 1 Axes>"
      ]
     },
     "metadata": {
      "needs_background": "light"
     },
     "output_type": "display_data"
    }
   ],
   "source": [
    "prediction = model.predict(X_test)\n",
    "\n",
    "counter = Counter(prediction)\n",
    "print(counter)\n",
    "\n",
    "# scatter plot of examples by class label\n",
    "for label, _ in counter.items():\n",
    "    row_ix = np.where(prediction == label)[0]\n",
    "    plt.scatter(X_test[row_ix, 0], X_test[row_ix, 1], label=str(label), alpha=1, marker='.')\n",
    "\n",
    "plt.xlabel('feature 1')\n",
    "plt.ylabel('feature 2')\n",
    "plt.legend(loc='upper left')\n"
   ]
  },
  {
   "cell_type": "markdown",
   "metadata": {},
   "source": [
    "### Let's check out different evaluation metric"
   ]
  },
  {
   "cell_type": "code",
   "execution_count": 31,
   "metadata": {},
   "outputs": [
    {
     "name": "stdout",
     "output_type": "stream",
     "text": [
      "              precision    recall  f1-score   support\n",
      "\n",
      "           0       0.98      0.99      0.98      2256\n",
      "           1       0.93      0.77      0.84       244\n",
      "\n",
      "    accuracy                           0.97      2500\n",
      "   macro avg       0.95      0.88      0.91      2500\n",
      "weighted avg       0.97      0.97      0.97      2500\n",
      "\n"
     ]
    }
   ],
   "source": [
    "from sklearn.metrics import classification_report\n",
    "print(classification_report(y_test, model.predict(X_test)))"
   ]
  },
  {
   "cell_type": "markdown",
   "metadata": {},
   "source": [
    "### I'd like to minimize false negatives. Let's use \"recall\" as the evaluation metric."
   ]
  },
  {
   "cell_type": "code",
   "execution_count": 32,
   "metadata": {},
   "outputs": [
    {
     "name": "stdout",
     "output_type": "stream",
     "text": [
      "Fitting 5 folds for each of 60 candidates, totalling 300 fits\n",
      "Test score: 0.82\n",
      "Best parameters: {'criterion': 'entropy', 'max_depth': 24}\n",
      "Best model: DecisionTreeClassifier(criterion='entropy', max_depth=24, random_state=0)\n"
     ]
    }
   ],
   "source": [
    "param_grid = {'max_depth': np.arange(30)+1,\n",
    "              'criterion': ['gini','entropy']}\n",
    "\n",
    "grid_search = GridSearchCV(DecisionTreeClassifier(random_state=0), param_grid, cv=5, \n",
    "                           return_train_score=True, verbose=1, scoring='recall')\n",
    "\n",
    "grid_search.fit(X_train, y_train)\n",
    "\n",
    "print(\"Test score: {:.2f}\".format(grid_search.score(X_test, y_test)))\n",
    "print(\"Best parameters: {}\".format(grid_search.best_params_))\n",
    "print(\"Best model: {}\".format(grid_search.best_estimator_))"
   ]
  },
  {
   "cell_type": "code",
   "execution_count": 33,
   "metadata": {},
   "outputs": [
    {
     "data": {
      "text/plain": [
       "DecisionTreeClassifier(criterion='entropy', max_depth=24, random_state=0)"
      ]
     },
     "execution_count": 33,
     "metadata": {},
     "output_type": "execute_result"
    }
   ],
   "source": [
    "model = DecisionTreeClassifier(**grid_search.best_params_, random_state=0)\n",
    "model.fit(X_train, y_train)"
   ]
  },
  {
   "cell_type": "markdown",
   "metadata": {},
   "source": [
    "### Is it any better?"
   ]
  },
  {
   "cell_type": "code",
   "execution_count": 35,
   "metadata": {},
   "outputs": [
    {
     "name": "stdout",
     "output_type": "stream",
     "text": [
      "Counter({0: 2254, 1: 246})\n"
     ]
    },
    {
     "data": {
      "text/plain": [
       "<matplotlib.legend.Legend at 0x2ab1b2d63ca0>"
      ]
     },
     "execution_count": 35,
     "metadata": {},
     "output_type": "execute_result"
    },
    {
     "data": {
      "image/png": "[encoded data removed]",
      "text/plain": [
       "<Figure size 432x288 with 1 Axes>"
      ]
     },
     "metadata": {
      "needs_background": "light"
     },
     "output_type": "display_data"
    }
   ],
   "source": [
    "prediction = model.predict(X_test)\n",
    "\n",
    "counter = Counter(prediction)\n",
    "print(counter)\n",
    "\n",
    "# scatter plot of examples by class label\n",
    "for label, _ in counter.items():\n",
    "    row_ix = np.where(prediction == label)[0]\n",
    "    plt.scatter(X_test[row_ix, 0], X_test[row_ix, 1], label=str(label), alpha=1, marker='.')\n",
    "\n",
    "plt.xlabel('feature 1')\n",
    "plt.ylabel('feature 2')\n",
    "plt.legend(loc='lower right')\n"
   ]
  },
  {
   "cell_type": "code",
   "execution_count": 36,
   "metadata": {},
   "outputs": [
    {
     "name": "stdout",
     "output_type": "stream",
     "text": [
      "              precision    recall  f1-score   support\n",
      "\n",
      "           0       0.98      0.98      0.98      2256\n",
      "           1       0.82      0.82      0.82       244\n",
      "\n",
      "    accuracy                           0.96      2500\n",
      "   macro avg       0.90      0.90      0.90      2500\n",
      "weighted avg       0.96      0.96      0.96      2500\n",
      "\n"
     ]
    }
   ],
   "source": [
    "from sklearn.metrics import classification_report\n",
    "print(classification_report(y_test, model.predict(X_test)))"
   ]
  },
  {
   "cell_type": "markdown",
   "metadata": {},
   "source": [
    "## Astrophysical Implications: imbalanced data"
   ]
  },
  {
   "cell_type": "markdown",
   "metadata": {},
   "source": [
    "### We will use Planetary Habitability Laboratory data: http://phl.upr.edu/projects/habitable-exoplanets-catalog/data/database"
   ]
  },
  {
   "cell_type": "code",
   "execution_count": 281,
   "metadata": {},
   "outputs": [],
   "source": [
    "df = pd.read_csv('/blue/ast4930/share/phl_exoplanet_catalog.csv', sep = ',')"
   ]
  },
  {
   "cell_type": "code",
   "execution_count": 282,
   "metadata": {},
   "outputs": [
    {
     "data": {
      "text/html": [
       "<div>\n",
       "<style scoped>\n",
       "    .dataframe tbody tr th:only-of-type {\n",
       "        vertical-align: middle;\n",
       "    }\n",
       "\n",
       "    .dataframe tbody tr th {\n",
       "        vertical-align: top;\n",
       "    }\n",
       "\n",
       "    .dataframe thead th {\n",
       "        text-align: right;\n",
       "    }\n",
       "</style>\n",
       "<table border=\"1\" class=\"dataframe\">\n",
       "  <thead>\n",
       "    <tr style=\"text-align: right;\">\n",
       "      <th></th>\n",
       "      <th>P_NAME</th>\n",
       "      <th>P_STATUS</th>\n",
       "      <th>P_MASS</th>\n",
       "      <th>P_MASS_ERROR_MIN</th>\n",
       "      <th>P_MASS_ERROR_MAX</th>\n",
       "      <th>P_RADIUS</th>\n",
       "      <th>P_RADIUS_ERROR_MIN</th>\n",
       "      <th>P_RADIUS_ERROR_MAX</th>\n",
       "      <th>P_YEAR</th>\n",
       "      <th>P_UPDATED</th>\n",
       "      <th>...</th>\n",
       "      <th>P_HABZONE_CON</th>\n",
       "      <th>P_TYPE_TEMP</th>\n",
       "      <th>P_HABITABLE</th>\n",
       "      <th>P_ESI</th>\n",
       "      <th>S_CONSTELLATION</th>\n",
       "      <th>S_CONSTELLATION_ABR</th>\n",
       "      <th>S_CONSTELLATION_ENG</th>\n",
       "      <th>P_RADIUS_EST</th>\n",
       "      <th>P_MASS_EST</th>\n",
       "      <th>P_SEMI_MAJOR_AXIS_EST</th>\n",
       "    </tr>\n",
       "  </thead>\n",
       "  <tbody>\n",
       "    <tr>\n",
       "      <th>0</th>\n",
       "      <td>11 Com b</td>\n",
       "      <td>3.0</td>\n",
       "      <td>6165.86330</td>\n",
       "      <td>-476.74200</td>\n",
       "      <td>476.74200</td>\n",
       "      <td>NaN</td>\n",
       "      <td>NaN</td>\n",
       "      <td>NaN</td>\n",
       "      <td>2007</td>\n",
       "      <td>2014-05-14</td>\n",
       "      <td>...</td>\n",
       "      <td>0</td>\n",
       "      <td>Hot</td>\n",
       "      <td>0</td>\n",
       "      <td>0.083813</td>\n",
       "      <td>Coma Berenices</td>\n",
       "      <td>Com</td>\n",
       "      <td>Berenice's Hair</td>\n",
       "      <td>12.082709</td>\n",
       "      <td>6165.863300</td>\n",
       "      <td>1.29000</td>\n",
       "    </tr>\n",
       "    <tr>\n",
       "      <th>1</th>\n",
       "      <td>11 UMi b</td>\n",
       "      <td>3.0</td>\n",
       "      <td>4684.78480</td>\n",
       "      <td>-794.57001</td>\n",
       "      <td>794.57001</td>\n",
       "      <td>NaN</td>\n",
       "      <td>NaN</td>\n",
       "      <td>NaN</td>\n",
       "      <td>2009</td>\n",
       "      <td>2018-09-06</td>\n",
       "      <td>...</td>\n",
       "      <td>0</td>\n",
       "      <td>Hot</td>\n",
       "      <td>0</td>\n",
       "      <td>0.082414</td>\n",
       "      <td>Ursa Minor</td>\n",
       "      <td>UMi</td>\n",
       "      <td>Little Bear</td>\n",
       "      <td>12.229641</td>\n",
       "      <td>4684.784800</td>\n",
       "      <td>1.53000</td>\n",
       "    </tr>\n",
       "    <tr>\n",
       "      <th>2</th>\n",
       "      <td>14 And b</td>\n",
       "      <td>3.0</td>\n",
       "      <td>1525.57440</td>\n",
       "      <td>NaN</td>\n",
       "      <td>NaN</td>\n",
       "      <td>NaN</td>\n",
       "      <td>NaN</td>\n",
       "      <td>NaN</td>\n",
       "      <td>2008</td>\n",
       "      <td>2014-05-14</td>\n",
       "      <td>...</td>\n",
       "      <td>0</td>\n",
       "      <td>Hot</td>\n",
       "      <td>0</td>\n",
       "      <td>0.081917</td>\n",
       "      <td>Andromeda</td>\n",
       "      <td>And</td>\n",
       "      <td>Andromeda</td>\n",
       "      <td>12.848516</td>\n",
       "      <td>1525.574400</td>\n",
       "      <td>0.83000</td>\n",
       "    </tr>\n",
       "    <tr>\n",
       "      <th>3</th>\n",
       "      <td>14 Her b</td>\n",
       "      <td>3.0</td>\n",
       "      <td>1481.07850</td>\n",
       "      <td>-47.67420</td>\n",
       "      <td>47.67420</td>\n",
       "      <td>NaN</td>\n",
       "      <td>NaN</td>\n",
       "      <td>NaN</td>\n",
       "      <td>2002</td>\n",
       "      <td>2018-09-06</td>\n",
       "      <td>...</td>\n",
       "      <td>0</td>\n",
       "      <td>Cold</td>\n",
       "      <td>0</td>\n",
       "      <td>0.145241</td>\n",
       "      <td>Hercules</td>\n",
       "      <td>Her</td>\n",
       "      <td>Hercules</td>\n",
       "      <td>12.865261</td>\n",
       "      <td>1481.078500</td>\n",
       "      <td>2.93000</td>\n",
       "    </tr>\n",
       "    <tr>\n",
       "      <th>4</th>\n",
       "      <td>16 Cyg B b</td>\n",
       "      <td>3.0</td>\n",
       "      <td>565.73385</td>\n",
       "      <td>-25.42624</td>\n",
       "      <td>25.42624</td>\n",
       "      <td>NaN</td>\n",
       "      <td>NaN</td>\n",
       "      <td>NaN</td>\n",
       "      <td>1996</td>\n",
       "      <td>2018-09-06</td>\n",
       "      <td>...</td>\n",
       "      <td>1</td>\n",
       "      <td>Warm</td>\n",
       "      <td>0</td>\n",
       "      <td>0.368627</td>\n",
       "      <td>Cygnus</td>\n",
       "      <td>Cyg</td>\n",
       "      <td>Swan</td>\n",
       "      <td>13.421749</td>\n",
       "      <td>565.733850</td>\n",
       "      <td>1.66000</td>\n",
       "    </tr>\n",
       "    <tr>\n",
       "      <th>...</th>\n",
       "      <td>...</td>\n",
       "      <td>...</td>\n",
       "      <td>...</td>\n",
       "      <td>...</td>\n",
       "      <td>...</td>\n",
       "      <td>...</td>\n",
       "      <td>...</td>\n",
       "      <td>...</td>\n",
       "      <td>...</td>\n",
       "      <td>...</td>\n",
       "      <td>...</td>\n",
       "      <td>...</td>\n",
       "      <td>...</td>\n",
       "      <td>...</td>\n",
       "      <td>...</td>\n",
       "      <td>...</td>\n",
       "      <td>...</td>\n",
       "      <td>...</td>\n",
       "      <td>...</td>\n",
       "      <td>...</td>\n",
       "      <td>...</td>\n",
       "    </tr>\n",
       "    <tr>\n",
       "      <th>4043</th>\n",
       "      <td>K2-296 b</td>\n",
       "      <td>3.0</td>\n",
       "      <td>NaN</td>\n",
       "      <td>NaN</td>\n",
       "      <td>NaN</td>\n",
       "      <td>1.87</td>\n",
       "      <td>0.45</td>\n",
       "      <td>0.2</td>\n",
       "      <td>2019</td>\n",
       "      <td>5/23/19</td>\n",
       "      <td>...</td>\n",
       "      <td>0</td>\n",
       "      <td>Warm</td>\n",
       "      <td>2</td>\n",
       "      <td>0.755038</td>\n",
       "      <td>Virgo</td>\n",
       "      <td>Vir</td>\n",
       "      <td>Virgin</td>\n",
       "      <td>1.870000</td>\n",
       "      <td>4.155456</td>\n",
       "      <td>0.13456</td>\n",
       "    </tr>\n",
       "    <tr>\n",
       "      <th>4044</th>\n",
       "      <td>K2-296 c</td>\n",
       "      <td>3.0</td>\n",
       "      <td>NaN</td>\n",
       "      <td>NaN</td>\n",
       "      <td>NaN</td>\n",
       "      <td>2.76</td>\n",
       "      <td>NaN</td>\n",
       "      <td>NaN</td>\n",
       "      <td>2019</td>\n",
       "      <td>5/23/19</td>\n",
       "      <td>...</td>\n",
       "      <td>0</td>\n",
       "      <td>Hot</td>\n",
       "      <td>0</td>\n",
       "      <td>0.363831</td>\n",
       "      <td>Virgo</td>\n",
       "      <td>Vir</td>\n",
       "      <td>Virgin</td>\n",
       "      <td>2.760000</td>\n",
       "      <td>8.047485</td>\n",
       "      <td>0.05769</td>\n",
       "    </tr>\n",
       "    <tr>\n",
       "      <th>4045</th>\n",
       "      <td>GJ 1061 b</td>\n",
       "      <td>3.0</td>\n",
       "      <td>1.38000</td>\n",
       "      <td>0.15000</td>\n",
       "      <td>0.16000</td>\n",
       "      <td>NaN</td>\n",
       "      <td>NaN</td>\n",
       "      <td>NaN</td>\n",
       "      <td>2019</td>\n",
       "      <td>9/3/19</td>\n",
       "      <td>...</td>\n",
       "      <td>0</td>\n",
       "      <td>Hot</td>\n",
       "      <td>0</td>\n",
       "      <td>0.588562</td>\n",
       "      <td>Horologium</td>\n",
       "      <td>Hor</td>\n",
       "      <td>Pendulum Clock</td>\n",
       "      <td>1.102775</td>\n",
       "      <td>1.380000</td>\n",
       "      <td>0.02100</td>\n",
       "    </tr>\n",
       "    <tr>\n",
       "      <th>4046</th>\n",
       "      <td>GJ 1061 c</td>\n",
       "      <td>3.0</td>\n",
       "      <td>1.75000</td>\n",
       "      <td>0.23000</td>\n",
       "      <td>0.23000</td>\n",
       "      <td>NaN</td>\n",
       "      <td>NaN</td>\n",
       "      <td>NaN</td>\n",
       "      <td>2019</td>\n",
       "      <td>9/3/19</td>\n",
       "      <td>...</td>\n",
       "      <td>0</td>\n",
       "      <td>Warm</td>\n",
       "      <td>1</td>\n",
       "      <td>0.879042</td>\n",
       "      <td>Horologium</td>\n",
       "      <td>Hor</td>\n",
       "      <td>Pendulum Clock</td>\n",
       "      <td>1.178333</td>\n",
       "      <td>1.750000</td>\n",
       "      <td>0.03500</td>\n",
       "    </tr>\n",
       "    <tr>\n",
       "      <th>4047</th>\n",
       "      <td>GJ 1061 d</td>\n",
       "      <td>3.0</td>\n",
       "      <td>1.68000</td>\n",
       "      <td>0.24000</td>\n",
       "      <td>0.25000</td>\n",
       "      <td>NaN</td>\n",
       "      <td>NaN</td>\n",
       "      <td>NaN</td>\n",
       "      <td>2019</td>\n",
       "      <td>9/3/19</td>\n",
       "      <td>...</td>\n",
       "      <td>1</td>\n",
       "      <td>Warm</td>\n",
       "      <td>1</td>\n",
       "      <td>0.798200</td>\n",
       "      <td>Horologium</td>\n",
       "      <td>Hor</td>\n",
       "      <td>Pendulum Clock</td>\n",
       "      <td>1.164989</td>\n",
       "      <td>1.680000</td>\n",
       "      <td>0.05400</td>\n",
       "    </tr>\n",
       "  </tbody>\n",
       "</table>\n",
       "<p>4048 rows × 112 columns</p>\n",
       "</div>"
      ],
      "text/plain": [
       "          P_NAME  P_STATUS      P_MASS  P_MASS_ERROR_MIN  P_MASS_ERROR_MAX  \\\n",
       "0       11 Com b       3.0  6165.86330        -476.74200         476.74200   \n",
       "1       11 UMi b       3.0  4684.78480        -794.57001         794.57001   \n",
       "2       14 And b       3.0  1525.57440               NaN               NaN   \n",
       "3       14 Her b       3.0  1481.07850         -47.67420          47.67420   \n",
       "4     16 Cyg B b       3.0   565.73385         -25.42624          25.42624   \n",
       "...          ...       ...         ...               ...               ...   \n",
       "4043    K2-296 b       3.0         NaN               NaN               NaN   \n",
       "4044    K2-296 c       3.0         NaN               NaN               NaN   \n",
       "4045   GJ 1061 b       3.0     1.38000           0.15000           0.16000   \n",
       "4046   GJ 1061 c       3.0     1.75000           0.23000           0.23000   \n",
       "4047   GJ 1061 d       3.0     1.68000           0.24000           0.25000   \n",
       "\n",
       "      P_RADIUS  P_RADIUS_ERROR_MIN  P_RADIUS_ERROR_MAX  P_YEAR   P_UPDATED  \\\n",
       "0          NaN                 NaN                 NaN    2007  2014-05-14   \n",
       "1          NaN                 NaN                 NaN    2009  2018-09-06   \n",
       "2          NaN                 NaN                 NaN    2008  2014-05-14   \n",
       "3          NaN                 NaN                 NaN    2002  2018-09-06   \n",
       "4          NaN                 NaN                 NaN    1996  2018-09-06   \n",
       "...        ...                 ...                 ...     ...         ...   \n",
       "4043      1.87                0.45                 0.2    2019     5/23/19   \n",
       "4044      2.76                 NaN                 NaN    2019     5/23/19   \n",
       "4045       NaN                 NaN                 NaN    2019      9/3/19   \n",
       "4046       NaN                 NaN                 NaN    2019      9/3/19   \n",
       "4047       NaN                 NaN                 NaN    2019      9/3/19   \n",
       "\n",
       "      ...  P_HABZONE_CON  P_TYPE_TEMP  P_HABITABLE     P_ESI  S_CONSTELLATION  \\\n",
       "0     ...              0          Hot            0  0.083813   Coma Berenices   \n",
       "1     ...              0          Hot            0  0.082414       Ursa Minor   \n",
       "2     ...              0          Hot            0  0.081917        Andromeda   \n",
       "3     ...              0         Cold            0  0.145241         Hercules   \n",
       "4     ...              1         Warm            0  0.368627           Cygnus   \n",
       "...   ...            ...          ...          ...       ...              ...   \n",
       "4043  ...              0         Warm            2  0.755038            Virgo   \n",
       "4044  ...              0          Hot            0  0.363831            Virgo   \n",
       "4045  ...              0          Hot            0  0.588562       Horologium   \n",
       "4046  ...              0         Warm            1  0.879042       Horologium   \n",
       "4047  ...              1         Warm            1  0.798200       Horologium   \n",
       "\n",
       "      S_CONSTELLATION_ABR  S_CONSTELLATION_ENG  P_RADIUS_EST   P_MASS_EST  \\\n",
       "0                     Com      Berenice's Hair     12.082709  6165.863300   \n",
       "1                     UMi          Little Bear     12.229641  4684.784800   \n",
       "2                     And            Andromeda     12.848516  1525.574400   \n",
       "3                     Her             Hercules     12.865261  1481.078500   \n",
       "4                     Cyg                 Swan     13.421749   565.733850   \n",
       "...                   ...                  ...           ...          ...   \n",
       "4043                  Vir               Virgin      1.870000     4.155456   \n",
       "4044                  Vir               Virgin      2.760000     8.047485   \n",
       "4045                  Hor       Pendulum Clock      1.102775     1.380000   \n",
       "4046                  Hor       Pendulum Clock      1.178333     1.750000   \n",
       "4047                  Hor       Pendulum Clock      1.164989     1.680000   \n",
       "\n",
       "      P_SEMI_MAJOR_AXIS_EST  \n",
       "0                   1.29000  \n",
       "1                   1.53000  \n",
       "2                   0.83000  \n",
       "3                   2.93000  \n",
       "4                   1.66000  \n",
       "...                     ...  \n",
       "4043                0.13456  \n",
       "4044                0.05769  \n",
       "4045                0.02100  \n",
       "4046                0.03500  \n",
       "4047                0.05400  \n",
       "\n",
       "[4048 rows x 112 columns]"
      ]
     },
     "execution_count": 282,
     "metadata": {},
     "output_type": "execute_result"
    }
   ],
   "source": [
    "df"
   ]
  },
  {
   "cell_type": "code",
   "execution_count": 283,
   "metadata": {},
   "outputs": [
    {
     "data": {
      "text/plain": [
       "Index(['P_NAME', 'P_STATUS', 'P_MASS', 'P_MASS_ERROR_MIN', 'P_MASS_ERROR_MAX',\n",
       "       'P_RADIUS', 'P_RADIUS_ERROR_MIN', 'P_RADIUS_ERROR_MAX', 'P_YEAR',\n",
       "       'P_UPDATED',\n",
       "       ...\n",
       "       'P_HABZONE_CON', 'P_TYPE_TEMP', 'P_HABITABLE', 'P_ESI',\n",
       "       'S_CONSTELLATION', 'S_CONSTELLATION_ABR', 'S_CONSTELLATION_ENG',\n",
       "       'P_RADIUS_EST', 'P_MASS_EST', 'P_SEMI_MAJOR_AXIS_EST'],\n",
       "      dtype='object', length=112)"
      ]
     },
     "execution_count": 283,
     "metadata": {},
     "output_type": "execute_result"
    }
   ],
   "source": [
    "df.columns"
   ]
  },
  {
   "cell_type": "code",
   "execution_count": 284,
   "metadata": {},
   "outputs": [
    {
     "data": {
      "text/html": [
       "<div>\n",
       "<style scoped>\n",
       "    .dataframe tbody tr th:only-of-type {\n",
       "        vertical-align: middle;\n",
       "    }\n",
       "\n",
       "    .dataframe tbody tr th {\n",
       "        vertical-align: top;\n",
       "    }\n",
       "\n",
       "    .dataframe thead th {\n",
       "        text-align: right;\n",
       "    }\n",
       "</style>\n",
       "<table border=\"1\" class=\"dataframe\">\n",
       "  <thead>\n",
       "    <tr style=\"text-align: right;\">\n",
       "      <th></th>\n",
       "      <th>P_STATUS</th>\n",
       "      <th>P_MASS</th>\n",
       "      <th>P_MASS_ERROR_MIN</th>\n",
       "      <th>P_MASS_ERROR_MAX</th>\n",
       "      <th>P_RADIUS</th>\n",
       "      <th>P_RADIUS_ERROR_MIN</th>\n",
       "      <th>P_RADIUS_ERROR_MAX</th>\n",
       "      <th>P_YEAR</th>\n",
       "      <th>P_PERIOD</th>\n",
       "      <th>P_PERIOD_ERROR_MIN</th>\n",
       "      <th>...</th>\n",
       "      <th>S_SNOW_LINE</th>\n",
       "      <th>S_ABIO_ZONE</th>\n",
       "      <th>S_TIDAL_LOCK</th>\n",
       "      <th>P_HABZONE_OPT</th>\n",
       "      <th>P_HABZONE_CON</th>\n",
       "      <th>P_HABITABLE</th>\n",
       "      <th>P_ESI</th>\n",
       "      <th>P_RADIUS_EST</th>\n",
       "      <th>P_MASS_EST</th>\n",
       "      <th>P_SEMI_MAJOR_AXIS_EST</th>\n",
       "    </tr>\n",
       "  </thead>\n",
       "  <tbody>\n",
       "    <tr>\n",
       "      <th>count</th>\n",
       "      <td>4048.0</td>\n",
       "      <td>1598.000000</td>\n",
       "      <td>1467.000000</td>\n",
       "      <td>1467.000000</td>\n",
       "      <td>3139.000000</td>\n",
       "      <td>3105.000000</td>\n",
       "      <td>3105.000000</td>\n",
       "      <td>4048.000000</td>\n",
       "      <td>3.938000e+03</td>\n",
       "      <td>3.807000e+03</td>\n",
       "      <td>...</td>\n",
       "      <td>3786.000000</td>\n",
       "      <td>3.083000e+03</td>\n",
       "      <td>3281.000000</td>\n",
       "      <td>4048.000000</td>\n",
       "      <td>4048.000000</td>\n",
       "      <td>4048.000000</td>\n",
       "      <td>3721.000000</td>\n",
       "      <td>4048.000000</td>\n",
       "      <td>4048.000000</td>\n",
       "      <td>3978.000000</td>\n",
       "    </tr>\n",
       "    <tr>\n",
       "      <th>mean</th>\n",
       "      <td>3.0</td>\n",
       "      <td>798.384920</td>\n",
       "      <td>-152.292232</td>\n",
       "      <td>190.289692</td>\n",
       "      <td>4.191426</td>\n",
       "      <td>-0.483990</td>\n",
       "      <td>0.621867</td>\n",
       "      <td>2014.212945</td>\n",
       "      <td>2.309342e+03</td>\n",
       "      <td>-1.073631e+03</td>\n",
       "      <td>...</td>\n",
       "      <td>3.513348</td>\n",
       "      <td>1.768991e+35</td>\n",
       "      <td>0.440103</td>\n",
       "      <td>0.049654</td>\n",
       "      <td>0.034091</td>\n",
       "      <td>0.021986</td>\n",
       "      <td>0.261252</td>\n",
       "      <td>5.588647</td>\n",
       "      <td>323.089993</td>\n",
       "      <td>4.011385</td>\n",
       "    </tr>\n",
       "    <tr>\n",
       "      <th>std</th>\n",
       "      <td>0.0</td>\n",
       "      <td>1406.808654</td>\n",
       "      <td>783.366353</td>\n",
       "      <td>1082.061976</td>\n",
       "      <td>4.776830</td>\n",
       "      <td>1.409048</td>\n",
       "      <td>2.007592</td>\n",
       "      <td>3.704839</td>\n",
       "      <td>1.167012e+05</td>\n",
       "      <td>5.943181e+04</td>\n",
       "      <td>...</td>\n",
       "      <td>5.463171</td>\n",
       "      <td>6.944274e+36</td>\n",
       "      <td>0.074285</td>\n",
       "      <td>0.217256</td>\n",
       "      <td>0.181485</td>\n",
       "      <td>0.195731</td>\n",
       "      <td>0.131333</td>\n",
       "      <td>5.392733</td>\n",
       "      <td>965.084290</td>\n",
       "      <td>62.389968</td>\n",
       "    </tr>\n",
       "    <tr>\n",
       "      <th>min</th>\n",
       "      <td>3.0</td>\n",
       "      <td>0.019070</td>\n",
       "      <td>-24965.390000</td>\n",
       "      <td>0.000000</td>\n",
       "      <td>0.336300</td>\n",
       "      <td>-54.592700</td>\n",
       "      <td>0.000000</td>\n",
       "      <td>1989.000000</td>\n",
       "      <td>9.070629e-02</td>\n",
       "      <td>-3.650000e+06</td>\n",
       "      <td>...</td>\n",
       "      <td>0.002405</td>\n",
       "      <td>7.293660e-05</td>\n",
       "      <td>0.030707</td>\n",
       "      <td>0.000000</td>\n",
       "      <td>0.000000</td>\n",
       "      <td>0.000000</td>\n",
       "      <td>0.006768</td>\n",
       "      <td>0.000000</td>\n",
       "      <td>0.000000</td>\n",
       "      <td>0.004400</td>\n",
       "    </tr>\n",
       "    <tr>\n",
       "      <th>25%</th>\n",
       "      <td>3.0</td>\n",
       "      <td>26.548968</td>\n",
       "      <td>-79.457001</td>\n",
       "      <td>4.449592</td>\n",
       "      <td>1.569400</td>\n",
       "      <td>-0.526870</td>\n",
       "      <td>0.145730</td>\n",
       "      <td>2014.000000</td>\n",
       "      <td>4.497336e+00</td>\n",
       "      <td>-1.129000e-03</td>\n",
       "      <td>...</td>\n",
       "      <td>1.740762</td>\n",
       "      <td>5.264169e-01</td>\n",
       "      <td>0.420337</td>\n",
       "      <td>0.000000</td>\n",
       "      <td>0.000000</td>\n",
       "      <td>0.000000</td>\n",
       "      <td>0.196982</td>\n",
       "      <td>1.703920</td>\n",
       "      <td>3.628101</td>\n",
       "      <td>0.053000</td>\n",
       "    </tr>\n",
       "    <tr>\n",
       "      <th>50%</th>\n",
       "      <td>3.0</td>\n",
       "      <td>273.332080</td>\n",
       "      <td>-24.154928</td>\n",
       "      <td>25.108412</td>\n",
       "      <td>2.331680</td>\n",
       "      <td>-0.235410</td>\n",
       "      <td>0.325090</td>\n",
       "      <td>2016.000000</td>\n",
       "      <td>1.187053e+01</td>\n",
       "      <td>-9.392000e-05</td>\n",
       "      <td>...</td>\n",
       "      <td>2.568600</td>\n",
       "      <td>1.429118e+00</td>\n",
       "      <td>0.448357</td>\n",
       "      <td>0.000000</td>\n",
       "      <td>0.000000</td>\n",
       "      <td>0.000000</td>\n",
       "      <td>0.271192</td>\n",
       "      <td>2.667980</td>\n",
       "      <td>7.815324</td>\n",
       "      <td>0.102199</td>\n",
       "    </tr>\n",
       "    <tr>\n",
       "      <th>75%</th>\n",
       "      <td>3.0</td>\n",
       "      <td>806.488560</td>\n",
       "      <td>-4.392383</td>\n",
       "      <td>85.813561</td>\n",
       "      <td>3.553570</td>\n",
       "      <td>-0.134520</td>\n",
       "      <td>0.661390</td>\n",
       "      <td>2016.000000</td>\n",
       "      <td>4.186661e+01</td>\n",
       "      <td>-1.594000e-05</td>\n",
       "      <td>...</td>\n",
       "      <td>3.661581</td>\n",
       "      <td>2.641037e+00</td>\n",
       "      <td>0.472140</td>\n",
       "      <td>0.000000</td>\n",
       "      <td>0.000000</td>\n",
       "      <td>0.000000</td>\n",
       "      <td>0.303346</td>\n",
       "      <td>11.770500</td>\n",
       "      <td>149.379160</td>\n",
       "      <td>0.260507</td>\n",
       "    </tr>\n",
       "    <tr>\n",
       "      <th>max</th>\n",
       "      <td>3.0</td>\n",
       "      <td>17668.059000</td>\n",
       "      <td>0.270000</td>\n",
       "      <td>26630.808000</td>\n",
       "      <td>77.349000</td>\n",
       "      <td>0.450000</td>\n",
       "      <td>68.919080</td>\n",
       "      <td>2019.000000</td>\n",
       "      <td>7.300000e+06</td>\n",
       "      <td>3.200000e-02</td>\n",
       "      <td>...</td>\n",
       "      <td>104.112780</td>\n",
       "      <td>2.726899e+38</td>\n",
       "      <td>1.322542</td>\n",
       "      <td>1.000000</td>\n",
       "      <td>1.000000</td>\n",
       "      <td>2.000000</td>\n",
       "      <td>0.931208</td>\n",
       "      <td>77.349000</td>\n",
       "      <td>17668.059000</td>\n",
       "      <td>2500.000000</td>\n",
       "    </tr>\n",
       "  </tbody>\n",
       "</table>\n",
       "<p>8 rows × 98 columns</p>\n",
       "</div>"
      ],
      "text/plain": [
       "       P_STATUS        P_MASS  P_MASS_ERROR_MIN  P_MASS_ERROR_MAX  \\\n",
       "count    4048.0   1598.000000       1467.000000       1467.000000   \n",
       "mean        3.0    798.384920       -152.292232        190.289692   \n",
       "std         0.0   1406.808654        783.366353       1082.061976   \n",
       "min         3.0      0.019070     -24965.390000          0.000000   \n",
       "25%         3.0     26.548968        -79.457001          4.449592   \n",
       "50%         3.0    273.332080        -24.154928         25.108412   \n",
       "75%         3.0    806.488560         -4.392383         85.813561   \n",
       "max         3.0  17668.059000          0.270000      26630.808000   \n",
       "\n",
       "          P_RADIUS  P_RADIUS_ERROR_MIN  P_RADIUS_ERROR_MAX       P_YEAR  \\\n",
       "count  3139.000000         3105.000000         3105.000000  4048.000000   \n",
       "mean      4.191426           -0.483990            0.621867  2014.212945   \n",
       "std       4.776830            1.409048            2.007592     3.704839   \n",
       "min       0.336300          -54.592700            0.000000  1989.000000   \n",
       "25%       1.569400           -0.526870            0.145730  2014.000000   \n",
       "50%       2.331680           -0.235410            0.325090  2016.000000   \n",
       "75%       3.553570           -0.134520            0.661390  2016.000000   \n",
       "max      77.349000            0.450000           68.919080  2019.000000   \n",
       "\n",
       "           P_PERIOD  P_PERIOD_ERROR_MIN  ...  S_SNOW_LINE   S_ABIO_ZONE  \\\n",
       "count  3.938000e+03        3.807000e+03  ...  3786.000000  3.083000e+03   \n",
       "mean   2.309342e+03       -1.073631e+03  ...     3.513348  1.768991e+35   \n",
       "std    1.167012e+05        5.943181e+04  ...     5.463171  6.944274e+36   \n",
       "min    9.070629e-02       -3.650000e+06  ...     0.002405  7.293660e-05   \n",
       "25%    4.497336e+00       -1.129000e-03  ...     1.740762  5.264169e-01   \n",
       "50%    1.187053e+01       -9.392000e-05  ...     2.568600  1.429118e+00   \n",
       "75%    4.186661e+01       -1.594000e-05  ...     3.661581  2.641037e+00   \n",
       "max    7.300000e+06        3.200000e-02  ...   104.112780  2.726899e+38   \n",
       "\n",
       "       S_TIDAL_LOCK  P_HABZONE_OPT  P_HABZONE_CON  P_HABITABLE        P_ESI  \\\n",
       "count   3281.000000    4048.000000    4048.000000  4048.000000  3721.000000   \n",
       "mean       0.440103       0.049654       0.034091     0.021986     0.261252   \n",
       "std        0.074285       0.217256       0.181485     0.195731     0.131333   \n",
       "min        0.030707       0.000000       0.000000     0.000000     0.006768   \n",
       "25%        0.420337       0.000000       0.000000     0.000000     0.196982   \n",
       "50%        0.448357       0.000000       0.000000     0.000000     0.271192   \n",
       "75%        0.472140       0.000000       0.000000     0.000000     0.303346   \n",
       "max        1.322542       1.000000       1.000000     2.000000     0.931208   \n",
       "\n",
       "       P_RADIUS_EST    P_MASS_EST  P_SEMI_MAJOR_AXIS_EST  \n",
       "count   4048.000000   4048.000000            3978.000000  \n",
       "mean       5.588647    323.089993               4.011385  \n",
       "std        5.392733    965.084290              62.389968  \n",
       "min        0.000000      0.000000               0.004400  \n",
       "25%        1.703920      3.628101               0.053000  \n",
       "50%        2.667980      7.815324               0.102199  \n",
       "75%       11.770500    149.379160               0.260507  \n",
       "max       77.349000  17668.059000            2500.000000  \n",
       "\n",
       "[8 rows x 98 columns]"
      ]
     },
     "execution_count": 284,
     "metadata": {},
     "output_type": "execute_result"
    }
   ],
   "source": [
    "df.describe()"
   ]
  },
  {
   "cell_type": "markdown",
   "metadata": {},
   "source": [
    "### This is a very imbalanced dataset if we are concerned about the habitability of the planets!"
   ]
  },
  {
   "cell_type": "code",
   "execution_count": 285,
   "metadata": {},
   "outputs": [
    {
     "data": {
      "text/html": [
       "<div>\n",
       "<style scoped>\n",
       "    .dataframe tbody tr th:only-of-type {\n",
       "        vertical-align: middle;\n",
       "    }\n",
       "\n",
       "    .dataframe tbody tr th {\n",
       "        vertical-align: top;\n",
       "    }\n",
       "\n",
       "    .dataframe thead th {\n",
       "        text-align: right;\n",
       "    }\n",
       "</style>\n",
       "<table border=\"1\" class=\"dataframe\">\n",
       "  <thead>\n",
       "    <tr style=\"text-align: right;\">\n",
       "      <th></th>\n",
       "      <th>P_NAME</th>\n",
       "      <th>P_STATUS</th>\n",
       "      <th>P_MASS</th>\n",
       "      <th>P_MASS_ERROR_MIN</th>\n",
       "      <th>P_MASS_ERROR_MAX</th>\n",
       "      <th>P_RADIUS</th>\n",
       "      <th>P_RADIUS_ERROR_MIN</th>\n",
       "      <th>P_RADIUS_ERROR_MAX</th>\n",
       "      <th>P_YEAR</th>\n",
       "      <th>P_UPDATED</th>\n",
       "      <th>...</th>\n",
       "      <th>P_HABZONE_OPT</th>\n",
       "      <th>P_HABZONE_CON</th>\n",
       "      <th>P_TYPE_TEMP</th>\n",
       "      <th>P_ESI</th>\n",
       "      <th>S_CONSTELLATION</th>\n",
       "      <th>S_CONSTELLATION_ABR</th>\n",
       "      <th>S_CONSTELLATION_ENG</th>\n",
       "      <th>P_RADIUS_EST</th>\n",
       "      <th>P_MASS_EST</th>\n",
       "      <th>P_SEMI_MAJOR_AXIS_EST</th>\n",
       "    </tr>\n",
       "    <tr>\n",
       "      <th>P_HABITABLE</th>\n",
       "      <th></th>\n",
       "      <th></th>\n",
       "      <th></th>\n",
       "      <th></th>\n",
       "      <th></th>\n",
       "      <th></th>\n",
       "      <th></th>\n",
       "      <th></th>\n",
       "      <th></th>\n",
       "      <th></th>\n",
       "      <th></th>\n",
       "      <th></th>\n",
       "      <th></th>\n",
       "      <th></th>\n",
       "      <th></th>\n",
       "      <th></th>\n",
       "      <th></th>\n",
       "      <th></th>\n",
       "      <th></th>\n",
       "      <th></th>\n",
       "      <th></th>\n",
       "    </tr>\n",
       "  </thead>\n",
       "  <tbody>\n",
       "    <tr>\n",
       "      <th>0</th>\n",
       "      <td>3993</td>\n",
       "      <td>3993</td>\n",
       "      <td>1575</td>\n",
       "      <td>1444</td>\n",
       "      <td>1444</td>\n",
       "      <td>3101</td>\n",
       "      <td>3067</td>\n",
       "      <td>3067</td>\n",
       "      <td>3993</td>\n",
       "      <td>3993</td>\n",
       "      <td>...</td>\n",
       "      <td>3993</td>\n",
       "      <td>3993</td>\n",
       "      <td>3666</td>\n",
       "      <td>3666</td>\n",
       "      <td>3993</td>\n",
       "      <td>3993</td>\n",
       "      <td>3993</td>\n",
       "      <td>3993</td>\n",
       "      <td>3993</td>\n",
       "      <td>3923</td>\n",
       "    </tr>\n",
       "    <tr>\n",
       "      <th>1</th>\n",
       "      <td>21</td>\n",
       "      <td>21</td>\n",
       "      <td>16</td>\n",
       "      <td>16</td>\n",
       "      <td>16</td>\n",
       "      <td>9</td>\n",
       "      <td>9</td>\n",
       "      <td>9</td>\n",
       "      <td>21</td>\n",
       "      <td>21</td>\n",
       "      <td>...</td>\n",
       "      <td>21</td>\n",
       "      <td>21</td>\n",
       "      <td>21</td>\n",
       "      <td>21</td>\n",
       "      <td>21</td>\n",
       "      <td>21</td>\n",
       "      <td>21</td>\n",
       "      <td>21</td>\n",
       "      <td>21</td>\n",
       "      <td>21</td>\n",
       "    </tr>\n",
       "    <tr>\n",
       "      <th>2</th>\n",
       "      <td>34</td>\n",
       "      <td>34</td>\n",
       "      <td>7</td>\n",
       "      <td>7</td>\n",
       "      <td>7</td>\n",
       "      <td>29</td>\n",
       "      <td>29</td>\n",
       "      <td>29</td>\n",
       "      <td>34</td>\n",
       "      <td>34</td>\n",
       "      <td>...</td>\n",
       "      <td>34</td>\n",
       "      <td>34</td>\n",
       "      <td>34</td>\n",
       "      <td>34</td>\n",
       "      <td>34</td>\n",
       "      <td>34</td>\n",
       "      <td>34</td>\n",
       "      <td>34</td>\n",
       "      <td>34</td>\n",
       "      <td>34</td>\n",
       "    </tr>\n",
       "  </tbody>\n",
       "</table>\n",
       "<p>3 rows × 111 columns</p>\n",
       "</div>"
      ],
      "text/plain": [
       "             P_NAME  P_STATUS  P_MASS  P_MASS_ERROR_MIN  P_MASS_ERROR_MAX  \\\n",
       "P_HABITABLE                                                                 \n",
       "0              3993      3993    1575              1444              1444   \n",
       "1                21        21      16                16                16   \n",
       "2                34        34       7                 7                 7   \n",
       "\n",
       "             P_RADIUS  P_RADIUS_ERROR_MIN  P_RADIUS_ERROR_MAX  P_YEAR  \\\n",
       "P_HABITABLE                                                             \n",
       "0                3101                3067                3067    3993   \n",
       "1                   9                   9                   9      21   \n",
       "2                  29                  29                  29      34   \n",
       "\n",
       "             P_UPDATED  ...  P_HABZONE_OPT  P_HABZONE_CON  P_TYPE_TEMP  P_ESI  \\\n",
       "P_HABITABLE             ...                                                     \n",
       "0                 3993  ...           3993           3993         3666   3666   \n",
       "1                   21  ...             21             21           21     21   \n",
       "2                   34  ...             34             34           34     34   \n",
       "\n",
       "             S_CONSTELLATION  S_CONSTELLATION_ABR  S_CONSTELLATION_ENG  \\\n",
       "P_HABITABLE                                                              \n",
       "0                       3993                 3993                 3993   \n",
       "1                         21                   21                   21   \n",
       "2                         34                   34                   34   \n",
       "\n",
       "             P_RADIUS_EST  P_MASS_EST  P_SEMI_MAJOR_AXIS_EST  \n",
       "P_HABITABLE                                                   \n",
       "0                    3993        3993                   3923  \n",
       "1                      21          21                     21  \n",
       "2                      34          34                     34  \n",
       "\n",
       "[3 rows x 111 columns]"
      ]
     },
     "execution_count": 285,
     "metadata": {},
     "output_type": "execute_result"
    }
   ],
   "source": [
    "df.groupby('P_HABITABLE').count()\n",
    "#P_HABITABLE - planet is potentially habitable index (1 = conservative, 2 = optimistic) "
   ]
  },
  {
   "cell_type": "code",
   "execution_count": 286,
   "metadata": {},
   "outputs": [],
   "source": [
    "#Creating a new data frame called bindf and droppoing the old habitability tag\n",
    "bindf = df.drop('P_HABITABLE', axis = 1)\n",
    "\n",
    "#Creating my new habitability tag\n",
    "bindf['P_HABITABLE'] = (np.logical_or((df.P_HABITABLE == 1) , (df.P_HABITABLE == 2)))\n",
    "\n",
    "#Re-casting this column as integer\n",
    "bindf['P_HABITABLE'] = bindf['P_HABITABLE'].astype(int) \n"
   ]
  },
  {
   "cell_type": "markdown",
   "metadata": {},
   "source": [
    "### Let's select some features."
   ]
  },
  {
   "cell_type": "code",
   "execution_count": 287,
   "metadata": {},
   "outputs": [],
   "source": [
    "final_features = bindf[['S_MASS', 'P_PERIOD', 'P_DISTANCE']] "
   ]
  },
  {
   "cell_type": "code",
   "execution_count": 288,
   "metadata": {},
   "outputs": [
    {
     "data": {
      "text/html": [
       "<div>\n",
       "<style scoped>\n",
       "    .dataframe tbody tr th:only-of-type {\n",
       "        vertical-align: middle;\n",
       "    }\n",
       "\n",
       "    .dataframe tbody tr th {\n",
       "        vertical-align: top;\n",
       "    }\n",
       "\n",
       "    .dataframe thead th {\n",
       "        text-align: right;\n",
       "    }\n",
       "</style>\n",
       "<table border=\"1\" class=\"dataframe\">\n",
       "  <thead>\n",
       "    <tr style=\"text-align: right;\">\n",
       "      <th></th>\n",
       "      <th>S_MASS</th>\n",
       "      <th>P_PERIOD</th>\n",
       "      <th>P_DISTANCE</th>\n",
       "    </tr>\n",
       "  </thead>\n",
       "  <tbody>\n",
       "    <tr>\n",
       "      <th>0</th>\n",
       "      <td>2.70</td>\n",
       "      <td>326.030000</td>\n",
       "      <td>1.324418</td>\n",
       "    </tr>\n",
       "    <tr>\n",
       "      <th>1</th>\n",
       "      <td>2.78</td>\n",
       "      <td>516.219970</td>\n",
       "      <td>1.534896</td>\n",
       "    </tr>\n",
       "    <tr>\n",
       "      <th>2</th>\n",
       "      <td>2.20</td>\n",
       "      <td>185.840000</td>\n",
       "      <td>0.830000</td>\n",
       "    </tr>\n",
       "    <tr>\n",
       "      <th>3</th>\n",
       "      <td>0.90</td>\n",
       "      <td>1773.400000</td>\n",
       "      <td>3.130558</td>\n",
       "    </tr>\n",
       "    <tr>\n",
       "      <th>4</th>\n",
       "      <td>1.08</td>\n",
       "      <td>798.500000</td>\n",
       "      <td>2.043792</td>\n",
       "    </tr>\n",
       "    <tr>\n",
       "      <th>...</th>\n",
       "      <td>...</td>\n",
       "      <td>...</td>\n",
       "      <td>...</td>\n",
       "    </tr>\n",
       "    <tr>\n",
       "      <th>4043</th>\n",
       "      <td>0.41</td>\n",
       "      <td>28.165600</td>\n",
       "      <td>0.134560</td>\n",
       "    </tr>\n",
       "    <tr>\n",
       "      <th>4044</th>\n",
       "      <td>0.41</td>\n",
       "      <td>7.906961</td>\n",
       "      <td>0.057690</td>\n",
       "    </tr>\n",
       "    <tr>\n",
       "      <th>4045</th>\n",
       "      <td>0.12</td>\n",
       "      <td>3.204000</td>\n",
       "      <td>0.021000</td>\n",
       "    </tr>\n",
       "    <tr>\n",
       "      <th>4046</th>\n",
       "      <td>0.12</td>\n",
       "      <td>6.689000</td>\n",
       "      <td>0.035000</td>\n",
       "    </tr>\n",
       "    <tr>\n",
       "      <th>4047</th>\n",
       "      <td>0.12</td>\n",
       "      <td>13.031000</td>\n",
       "      <td>0.054000</td>\n",
       "    </tr>\n",
       "  </tbody>\n",
       "</table>\n",
       "<p>4048 rows × 3 columns</p>\n",
       "</div>"
      ],
      "text/plain": [
       "      S_MASS     P_PERIOD  P_DISTANCE\n",
       "0       2.70   326.030000    1.324418\n",
       "1       2.78   516.219970    1.534896\n",
       "2       2.20   185.840000    0.830000\n",
       "3       0.90  1773.400000    3.130558\n",
       "4       1.08   798.500000    2.043792\n",
       "...      ...          ...         ...\n",
       "4043    0.41    28.165600    0.134560\n",
       "4044    0.41     7.906961    0.057690\n",
       "4045    0.12     3.204000    0.021000\n",
       "4046    0.12     6.689000    0.035000\n",
       "4047    0.12    13.031000    0.054000\n",
       "\n",
       "[4048 rows x 3 columns]"
      ]
     },
     "execution_count": 288,
     "metadata": {},
     "output_type": "execute_result"
    }
   ],
   "source": [
    "final_features"
   ]
  },
  {
   "cell_type": "code",
   "execution_count": 289,
   "metadata": {},
   "outputs": [
    {
     "data": {
      "text/html": [
       "<div>\n",
       "<style scoped>\n",
       "    .dataframe tbody tr th:only-of-type {\n",
       "        vertical-align: middle;\n",
       "    }\n",
       "\n",
       "    .dataframe tbody tr th {\n",
       "        vertical-align: top;\n",
       "    }\n",
       "\n",
       "    .dataframe thead th {\n",
       "        text-align: right;\n",
       "    }\n",
       "</style>\n",
       "<table border=\"1\" class=\"dataframe\">\n",
       "  <thead>\n",
       "    <tr style=\"text-align: right;\">\n",
       "      <th></th>\n",
       "      <th>S_MASS</th>\n",
       "      <th>P_PERIOD</th>\n",
       "      <th>P_DISTANCE</th>\n",
       "    </tr>\n",
       "  </thead>\n",
       "  <tbody>\n",
       "    <tr>\n",
       "      <th>count</th>\n",
       "      <td>3283.000000</td>\n",
       "      <td>3.938000e+03</td>\n",
       "      <td>3978.000000</td>\n",
       "    </tr>\n",
       "    <tr>\n",
       "      <th>mean</th>\n",
       "      <td>1.003838</td>\n",
       "      <td>2.309342e+03</td>\n",
       "      <td>4.047677</td>\n",
       "    </tr>\n",
       "    <tr>\n",
       "      <th>std</th>\n",
       "      <td>0.652903</td>\n",
       "      <td>1.167012e+05</td>\n",
       "      <td>62.435994</td>\n",
       "    </tr>\n",
       "    <tr>\n",
       "      <th>min</th>\n",
       "      <td>0.010000</td>\n",
       "      <td>9.070629e-02</td>\n",
       "      <td>0.004408</td>\n",
       "    </tr>\n",
       "    <tr>\n",
       "      <th>25%</th>\n",
       "      <td>0.810000</td>\n",
       "      <td>4.497336e+00</td>\n",
       "      <td>0.053110</td>\n",
       "    </tr>\n",
       "    <tr>\n",
       "      <th>50%</th>\n",
       "      <td>0.970000</td>\n",
       "      <td>1.187053e+01</td>\n",
       "      <td>0.103000</td>\n",
       "    </tr>\n",
       "    <tr>\n",
       "      <th>75%</th>\n",
       "      <td>1.130000</td>\n",
       "      <td>4.186661e+01</td>\n",
       "      <td>0.263415</td>\n",
       "    </tr>\n",
       "    <tr>\n",
       "      <th>max</th>\n",
       "      <td>23.560000</td>\n",
       "      <td>7.300000e+06</td>\n",
       "      <td>2500.000000</td>\n",
       "    </tr>\n",
       "  </tbody>\n",
       "</table>\n",
       "</div>"
      ],
      "text/plain": [
       "            S_MASS      P_PERIOD   P_DISTANCE\n",
       "count  3283.000000  3.938000e+03  3978.000000\n",
       "mean      1.003838  2.309342e+03     4.047677\n",
       "std       0.652903  1.167012e+05    62.435994\n",
       "min       0.010000  9.070629e-02     0.004408\n",
       "25%       0.810000  4.497336e+00     0.053110\n",
       "50%       0.970000  1.187053e+01     0.103000\n",
       "75%       1.130000  4.186661e+01     0.263415\n",
       "max      23.560000  7.300000e+06  2500.000000"
      ]
     },
     "execution_count": 289,
     "metadata": {},
     "output_type": "execute_result"
    }
   ],
   "source": [
    "final_features.describe()"
   ]
  },
  {
   "cell_type": "code",
   "execution_count": 290,
   "metadata": {},
   "outputs": [],
   "source": [
    "targets = bindf.P_HABITABLE"
   ]
  },
  {
   "cell_type": "markdown",
   "metadata": {},
   "source": [
    "### Do you see anything odd in the table above? There are less than 4048 counts. What about std, min, max values?"
   ]
  },
  {
   "cell_type": "code",
   "execution_count": 291,
   "metadata": {},
   "outputs": [
    {
     "data": {
      "text/plain": [
       "765"
      ]
     },
     "execution_count": 291,
     "metadata": {},
     "output_type": "execute_result"
    }
   ],
   "source": [
    "final_features.S_MASS.isnull().sum()"
   ]
  },
  {
   "cell_type": "code",
   "execution_count": 292,
   "metadata": {},
   "outputs": [
    {
     "data": {
      "text/plain": [
       "920    1.15\n",
       "921    1.15\n",
       "922    1.15\n",
       "923     NaN\n",
       "924     NaN\n",
       "925     NaN\n",
       "926     NaN\n",
       "927    2.10\n",
       "928    0.92\n",
       "929    1.23\n",
       "Name: S_MASS, dtype: float64"
      ]
     },
     "execution_count": 292,
     "metadata": {},
     "output_type": "execute_result"
    }
   ],
   "source": [
    "#For example...\n",
    "final_features.S_MASS[920:930]"
   ]
  },
  {
   "cell_type": "markdown",
   "metadata": {},
   "source": [
    "### We need to get rid of the data points with missing numbers."
   ]
  },
  {
   "cell_type": "code",
   "execution_count": 293,
   "metadata": {},
   "outputs": [
    {
     "data": {
      "text/plain": [
       "(3180, 3)"
      ]
     },
     "execution_count": 293,
     "metadata": {},
     "output_type": "execute_result"
    }
   ],
   "source": [
    "#gets rid of any instance with at least one NaN in any column\n",
    "final_features = final_features.dropna(axis = 0) \n",
    "final_features.shape"
   ]
  },
  {
   "cell_type": "code",
   "execution_count": 294,
   "metadata": {},
   "outputs": [
    {
     "data": {
      "text/plain": [
       "[<matplotlib.lines.Line2D at 0x2ab1bdbbd610>]"
      ]
     },
     "execution_count": 294,
     "metadata": {},
     "output_type": "execute_result"
    },
    {
     "data": {
      "image/png": "[encoded data removed]",
      "text/plain": [
       "<Figure size 432x288 with 1 Axes>"
      ]
     },
     "metadata": {
      "needs_background": "light"
     },
     "output_type": "display_data"
    }
   ],
   "source": [
    "plt.plot(final_features.S_MASS,'.')"
   ]
  },
  {
   "cell_type": "code",
   "execution_count": 295,
   "metadata": {},
   "outputs": [
    {
     "data": {
      "text/plain": [
       "[<matplotlib.lines.Line2D at 0x2ab1bdfa05b0>]"
      ]
     },
     "execution_count": 295,
     "metadata": {},
     "output_type": "execute_result"
    },
    {
     "data": {
      "image/png": "[encoded data removed]",
      "text/plain": [
       "<Figure size 432x288 with 1 Axes>"
      ]
     },
     "metadata": {
      "needs_background": "light"
     },
     "output_type": "display_data"
    }
   ],
   "source": [
    "plt.plot(final_features.P_DISTANCE,'.')"
   ]
  },
  {
   "cell_type": "code",
   "execution_count": 296,
   "metadata": {},
   "outputs": [
    {
     "data": {
      "text/plain": [
       "[<matplotlib.lines.Line2D at 0x2ab1bdffb160>]"
      ]
     },
     "execution_count": 296,
     "metadata": {},
     "output_type": "execute_result"
    },
    {
     "data": {
      "image/png": "[encoded data removed]",
      "text/plain": [
       "<Figure size 432x288 with 1 Axes>"
      ]
     },
     "metadata": {
      "needs_background": "light"
     },
     "output_type": "display_data"
    }
   ],
   "source": [
    "plt.plot(final_features.P_PERIOD,'.')"
   ]
  },
  {
   "cell_type": "markdown",
   "metadata": {},
   "source": [
    "### Let's eliminate > 5 sigma outliers."
   ]
  },
  {
   "cell_type": "code",
   "execution_count": 297,
   "metadata": {},
   "outputs": [],
   "source": [
    "from scipy import stats\n",
    "\n",
    "final_features = final_features[(np.abs(stats.zscore(final_features)) < 5).all(axis=1)] "
   ]
  },
  {
   "cell_type": "markdown",
   "metadata": {},
   "source": [
    "### How many data points are left?"
   ]
  },
  {
   "cell_type": "code",
   "execution_count": 298,
   "metadata": {},
   "outputs": [
    {
     "data": {
      "text/plain": [
       "(3171, 3)"
      ]
     },
     "execution_count": 298,
     "metadata": {},
     "output_type": "execute_result"
    }
   ],
   "source": [
    "final_features.shape"
   ]
  },
  {
   "cell_type": "markdown",
   "metadata": {},
   "source": [
    "### Now, let's take only valid targets."
   ]
  },
  {
   "cell_type": "code",
   "execution_count": 299,
   "metadata": {},
   "outputs": [
    {
     "data": {
      "text/plain": [
       "0       0\n",
       "1       0\n",
       "2       0\n",
       "3       0\n",
       "4       0\n",
       "       ..\n",
       "4043    1\n",
       "4044    0\n",
       "4045    0\n",
       "4046    1\n",
       "4047    1\n",
       "Name: P_HABITABLE, Length: 4048, dtype: int64"
      ]
     },
     "execution_count": 299,
     "metadata": {},
     "output_type": "execute_result"
    }
   ],
   "source": [
    "targets"
   ]
  },
  {
   "cell_type": "code",
   "execution_count": 300,
   "metadata": {},
   "outputs": [],
   "source": [
    "targets = targets[final_features.index]"
   ]
  },
  {
   "cell_type": "markdown",
   "metadata": {},
   "source": [
    "### Let's make sure that we have the same number of targets."
   ]
  },
  {
   "cell_type": "code",
   "execution_count": 301,
   "metadata": {},
   "outputs": [
    {
     "data": {
      "text/plain": [
       "0       0\n",
       "1       0\n",
       "2       0\n",
       "3       0\n",
       "4       0\n",
       "       ..\n",
       "4043    1\n",
       "4044    0\n",
       "4045    0\n",
       "4046    1\n",
       "4047    1\n",
       "Name: P_HABITABLE, Length: 3171, dtype: int64"
      ]
     },
     "execution_count": 301,
     "metadata": {},
     "output_type": "execute_result"
    }
   ],
   "source": [
    "targets"
   ]
  },
  {
   "cell_type": "code",
   "execution_count": 302,
   "metadata": {},
   "outputs": [
    {
     "data": {
      "text/plain": [
       "(3171,)"
      ]
     },
     "execution_count": 302,
     "metadata": {},
     "output_type": "execute_result"
    }
   ],
   "source": [
    "targets.shape"
   ]
  },
  {
   "cell_type": "markdown",
   "metadata": {},
   "source": [
    "### Reset the index."
   ]
  },
  {
   "cell_type": "code",
   "execution_count": 303,
   "metadata": {},
   "outputs": [],
   "source": [
    "final_features = final_features.reset_index(drop=True)\n",
    "targets = targets.reset_index(drop=True)"
   ]
  },
  {
   "cell_type": "code",
   "execution_count": 333,
   "metadata": {},
   "outputs": [
    {
     "data": {
      "text/plain": [
       "0       0\n",
       "1       0\n",
       "2       0\n",
       "3       0\n",
       "4       0\n",
       "       ..\n",
       "3166    1\n",
       "3167    0\n",
       "3168    0\n",
       "3169    1\n",
       "3170    1\n",
       "Name: P_HABITABLE, Length: 3171, dtype: int64"
      ]
     },
     "execution_count": 333,
     "metadata": {},
     "output_type": "execute_result"
    }
   ],
   "source": [
    "targets"
   ]
  },
  {
   "cell_type": "code",
   "execution_count": 317,
   "metadata": {},
   "outputs": [
    {
     "data": {
      "image/png": "[encoded data removed]",
      "text/plain": [
       "<Figure size 432x288 with 1 Axes>"
      ]
     },
     "metadata": {
      "needs_background": "light"
     },
     "output_type": "display_data"
    }
   ],
   "source": [
    "import matplotlib\n",
    "import matplotlib.patches as mpatches\n",
    "\n",
    "plt.figure(figsize=(6,4))\n",
    "\n",
    "cmap = matplotlib.colors.LinearSegmentedColormap.from_list(\"\", ['#20B2AA','#FF00FF'])\n",
    "\n",
    "a = plt.scatter(final_features['S_MASS'], final_features['P_PERIOD'], marker = 'o',\\\n",
    "            c = targets, s = 20, cmap=cmap, label = 'Test')\n",
    "\n",
    "plt.legend();\n",
    "\n",
    "a.set_facecolor('none')\n",
    "\n",
    "plt.yscale('log')\n",
    "plt.xlabel('Mass of Parent Star (Solar Mass Units)')\n",
    "plt.ylabel('Period of Orbit (days)');\n",
    "\n",
    "bluepatch = mpatches.Patch(color='#20B2AA', label='Not Habitable')\n",
    "magentapatch = mpatches.Patch(color='#FF00FF', label='Habitable')\n",
    "\n",
    "ax = plt.gca()\n",
    "leg = ax.get_legend()\n",
    "\n",
    "plt.legend(handles=[magentapatch, bluepatch],\\\n",
    "           loc = 'lower right', fontsize = 14);"
   ]
  },
  {
   "cell_type": "markdown",
   "metadata": {},
   "source": [
    "### Let's use DT and build a model."
   ]
  },
  {
   "cell_type": "code",
   "execution_count": 342,
   "metadata": {},
   "outputs": [],
   "source": [
    "X_train, X_test, y_train, y_test = train_test_split(final_features, targets, random_state = 0)"
   ]
  },
  {
   "cell_type": "code",
   "execution_count": 343,
   "metadata": {},
   "outputs": [
    {
     "data": {
      "text/plain": [
       "0.9836065573770492"
      ]
     },
     "execution_count": 343,
     "metadata": {},
     "output_type": "execute_result"
    }
   ],
   "source": [
    "model = DecisionTreeClassifier(random_state = 0)\n",
    "\n",
    "model.fit(X_train, y_train)\n",
    "model.score(X_test, y_test)"
   ]
  },
  {
   "cell_type": "markdown",
   "metadata": {},
   "source": [
    "### The model looks great, but is it really?"
   ]
  },
  {
   "cell_type": "code",
   "execution_count": 344,
   "metadata": {},
   "outputs": [
    {
     "data": {
      "text/plain": [
       "<sklearn.metrics._plot.confusion_matrix.ConfusionMatrixDisplay at 0x2ab1be0f7d00>"
      ]
     },
     "execution_count": 344,
     "metadata": {},
     "output_type": "execute_result"
    },
    {
     "data": {
      "image/png": "[encoded data removed]",
      "text/plain": [
       "<Figure size 432x288 with 2 Axes>"
      ]
     },
     "metadata": {
      "needs_background": "light"
     },
     "output_type": "display_data"
    }
   ],
   "source": [
    "from sklearn.metrics import confusion_matrix, ConfusionMatrixDisplay\n",
    "\n",
    "cm = confusion_matrix(model.predict(X_test), y_test)\n",
    "\n",
    "disp = ConfusionMatrixDisplay(confusion_matrix=cm, display_labels=['inhab', 'hab'])\n",
    "disp.plot(cmap='Blues')"
   ]
  },
  {
   "cell_type": "code",
   "execution_count": 345,
   "metadata": {},
   "outputs": [
    {
     "name": "stdout",
     "output_type": "stream",
     "text": [
      "              precision    recall  f1-score   support\n",
      "\n",
      "           0       0.99      0.99      0.99       783\n",
      "           1       0.36      0.40      0.38        10\n",
      "\n",
      "    accuracy                           0.98       793\n",
      "   macro avg       0.68      0.70      0.69       793\n",
      "weighted avg       0.98      0.98      0.98       793\n",
      "\n"
     ]
    }
   ],
   "source": [
    "print(classification_report(y_test, model.predict(X_test)))"
   ]
  },
  {
   "cell_type": "markdown",
   "metadata": {},
   "source": [
    "### It turned out that the high accuracy is because we have so many inhabitable planets in the data..."
   ]
  },
  {
   "cell_type": "markdown",
   "metadata": {},
   "source": [
    "## Can cross validation and hyperparameter optimization help here?"
   ]
  },
  {
   "cell_type": "markdown",
   "metadata": {},
   "source": [
    "### Optional, but extra credit 5pts to homework assignment if you can recover >= 80 % of habitable planets! \n",
    "### Due: Dec. 9."
   ]
  },
  {
   "cell_type": "code",
   "execution_count": null,
   "metadata": {},
   "outputs": [],
   "source": []
  }
 ],
 "metadata": {
  "kernelspec": {
   "display_name": "Python 3 (ipykernel)",
   "language": "python",
   "name": "python3"
  },
  "language_info": {
   "codemirror_mode": {
    "name": "ipython",
    "version": 3
   },
   "file_extension": ".py",
   "mimetype": "text/x-python",
   "name": "python",
   "nbconvert_exporter": "python",
   "pygments_lexer": "ipython3",
   "version": "3.8.1"
  }
 },
 "nbformat": 4,
 "nbformat_minor": 4
}
