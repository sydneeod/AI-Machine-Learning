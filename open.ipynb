{
 "cells": [
  {
   "cell_type": "code",
   "execution_count": 2,
   "id": "cfe17e77-c1ea-40ad-88c8-f50e1ae02433",
   "metadata": {},
   "outputs": [
    {
     "data": {
      "text/plain": [
       "{'name': '-f.ipynb',\n",
       " 'path': '-f.ipynb',\n",
       " 'last_modified': datetime.datetime(2021, 10, 17, 20, 20, 15, 330883, tzinfo=<notebook._tz.tzUTC object at 0x2af6dafd02b0>),\n",
       " 'created': datetime.datetime(2021, 10, 17, 20, 20, 15, 330883, tzinfo=<notebook._tz.tzUTC object at 0x2af6dafd02b0>),\n",
       " 'content': None,\n",
       " 'format': None,\n",
       " 'mimetype': None,\n",
       " 'size': 72,\n",
       " 'writable': True,\n",
       " 'type': 'notebook'}"
      ]
     },
     "execution_count": 2,
     "metadata": {},
     "output_type": "execute_result"
    }
   ],
   "source": [
    "\"\"\"create-notebook.py\n",
    "   Creates a minimal jupyter notebook (.ipynb)\n",
    "   Usage: create-notebook <notebook>\n",
    "\"\"\"\n",
    "import sys\n",
    "from notebook import transutils as _\n",
    "from notebook.services.contents.filemanager import FileContentsManager as FCM\n",
    "\n",
    "try:\n",
    "    notebook_fname = sys.argv[1].strip('.ipynb')\n",
    "except IndexError:\n",
    "    print(\"Usage: create-notebook <notebook>\")\n",
    "    exit()\n",
    "\n",
    "notebook_fname += '.ipynb'  # ensure .ipynb suffix is added\n",
    "FCM().new(path=notebook_fname)"
   ]
  },
  {
   "cell_type": "code",
   "execution_count": null,
   "id": "2b5f3d6d-8608-4778-8ed8-5c5bb57ca797",
   "metadata": {},
   "outputs": [],
   "source": []
  }
 ],
 "metadata": {
  "kernelspec": {
   "display_name": "Python 3 (ipykernel)",
   "language": "python",
   "name": "python3"
  },
  "language_info": {
   "codemirror_mode": {
    "name": "ipython",
    "version": 3
   },
   "file_extension": ".py",
   "mimetype": "text/x-python",
   "name": "python",
   "nbconvert_exporter": "python",
   "pygments_lexer": "ipython3",
   "version": "3.8.1"
  }
 },
 "nbformat": 4,
 "nbformat_minor": 5
}
