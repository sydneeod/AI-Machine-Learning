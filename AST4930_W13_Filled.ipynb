{
 "cells": [
  {
   "cell_type": "markdown",
   "metadata": {},
   "source": [
    "### Deep Neural Networks"
   ]
  },
  {
   "cell_type": "code",
   "execution_count": 1,
   "metadata": {},
   "outputs": [
    {
     "data": {
      "text/plain": [
       "<matplotlib.collections.PathCollection at 0x2b0093d75220>"
      ]
     },
     "execution_count": 1,
     "metadata": {},
     "output_type": "execute_result"
    },
    {
     "data": {
      "image/png": "[encoded data removed]",
      "text/plain": [
       "<Figure size 432x288 with 1 Axes>"
      ]
     },
     "metadata": {
      "needs_background": "light"
     },
     "output_type": "display_data"
    }
   ],
   "source": [
    "from sklearn.datasets import load_iris\n",
    "import numpy as np\n",
    "import matplotlib.pyplot as plt \n",
    "\n",
    "iris = load_iris()\n",
    "X = iris.data[:, (2, 3)]  # petal length, petal width\n",
    "y = iris.target\n",
    "\n",
    "plt.scatter(X[:,0],X[:,1],c=y)"
   ]
  },
  {
   "cell_type": "code",
   "execution_count": 2,
   "metadata": {},
   "outputs": [],
   "source": [
    "from sklearn.model_selection import train_test_split\n",
    "\n",
    "X_train, X_test, y_train, y_test = train_test_split(X, y, test_size=0.2, random_state=0)"
   ]
  },
  {
   "cell_type": "markdown",
   "metadata": {},
   "source": [
    "### Let's build our first neural network. You will have to choose a Tensorflow kernel on OOD.\n",
    "\n",
    "We will use Keras implemented onto Tensorflow.\n",
    "\n",
    "Keras: https://keras.io/\n",
    "\n",
    "Tensorflow: https://www.tensorflow.org/"
   ]
  },
  {
   "cell_type": "code",
   "execution_count": 3,
   "metadata": {},
   "outputs": [
    {
     "name": "stderr",
     "output_type": "stream",
     "text": [
      "2021-11-18 09:20:52.347025: W tensorflow/stream_executor/platform/default/dso_loader.cc:64] Could not load dynamic library 'libcuda.so.1'; dlerror: libcuda.so.1: cannot open shared object file: No such file or directory; LD_LIBRARY_PATH: /opt/slurm/lib64:/opt/slurm/lib64::\n",
      "2021-11-18 09:20:52.347072: W tensorflow/stream_executor/cuda/cuda_driver.cc:269] failed call to cuInit: UNKNOWN ERROR (303)\n",
      "2021-11-18 09:20:52.347103: I tensorflow/stream_executor/cuda/cuda_diagnostics.cc:156] kernel driver does not appear to be running on this host (c0704a-s2.ufhpc): /proc/driver/nvidia/version does not exist\n",
      "2021-11-18 09:20:52.347403: I tensorflow/core/platform/cpu_feature_guard.cc:142] This TensorFlow binary is optimized with oneAPI Deep Neural Network Library (oneDNN) to use the following CPU instructions in performance-critical operations:  SSE4.1 SSE4.2 AVX AVX2 FMA\n",
      "To enable them in other operations, rebuild TensorFlow with the appropriate compiler flags.\n"
     ]
    }
   ],
   "source": [
    "import tensorflow.keras as keras\n",
    "\n",
    "# Initialize a model.\n",
    "model = keras.models.Sequential()\n",
    "\n",
    "# Add the input layer and specifying its shape.\n",
    "model.add(keras.layers.Input(shape=X_train.shape[1]))\n",
    "\n",
    "# Add the first hidden layer with 10 neurons and the ReLU activation function.\n",
    "model.add(keras.layers.Dense(1000, activation='relu'))\n",
    "\n",
    "# Add the second hidden layer with 10 neurons and the ReLU activation function.\n",
    "model.add(keras.layers.Dense(1000, activation='relu'))\n",
    "\n",
    "# Add the output layer\n",
    "model.add(keras.layers.Dense(np.unique(y).shape[0], activation='softmax'))"
   ]
  },
  {
   "cell_type": "markdown",
   "metadata": {},
   "source": [
    "### We can use the following syntax instead."
   ]
  },
  {
   "cell_type": "code",
   "execution_count": 4,
   "metadata": {},
   "outputs": [],
   "source": [
    "model = keras.models.Sequential()\n",
    "\n",
    "# This line combines the input layer and the first hidden layer.\n",
    "model.add(keras.layers.Dense(1000, input_dim=X_train.shape[1], activation='relu'))\n",
    "model.add(keras.layers.Dense(1000, activation='relu'))\n",
    "model.add(keras.layers.Dense(np.unique(y).shape[0], activation='softmax'))"
   ]
  },
  {
   "cell_type": "markdown",
   "metadata": {},
   "source": [
    "### We can also use the following syntax."
   ]
  },
  {
   "cell_type": "code",
   "execution_count": 5,
   "metadata": {},
   "outputs": [],
   "source": [
    "model = keras.models.Sequential([\n",
    "    keras.layers.Input(shape=X_train.shape[1]),\n",
    "    keras.layers.Dense(1000, activation='relu'),\n",
    "    keras.layers.Dense(1000, activation='relu',),\n",
    "    keras.layers.Dense(np.unique(y).shape[0], activation='softmax')\n",
    "])"
   ]
  },
  {
   "cell_type": "markdown",
   "metadata": {},
   "source": [
    "### Let's check the \"architecture\" of our neural network. Note that the input layer does not show up here."
   ]
  },
  {
   "cell_type": "code",
   "execution_count": 6,
   "metadata": {},
   "outputs": [
    {
     "name": "stdout",
     "output_type": "stream",
     "text": [
      "Model: \"sequential_2\"\n",
      "_________________________________________________________________\n",
      "Layer (type)                 Output Shape              Param #   \n",
      "=================================================================\n",
      "dense_6 (Dense)              (None, 1000)              3000      \n",
      "_________________________________________________________________\n",
      "dense_7 (Dense)              (None, 1000)              1001000   \n",
      "_________________________________________________________________\n",
      "dense_8 (Dense)              (None, 3)                 3003      \n",
      "=================================================================\n",
      "Total params: 1,007,003\n",
      "Trainable params: 1,007,003\n",
      "Non-trainable params: 0\n",
      "_________________________________________________________________\n"
     ]
    }
   ],
   "source": [
    "model.summary()"
   ]
  },
  {
   "cell_type": "markdown",
   "metadata": {},
   "source": [
    "### We can also have a look at the weights."
   ]
  },
  {
   "cell_type": "code",
   "execution_count": 7,
   "metadata": {},
   "outputs": [
    {
     "data": {
      "text/plain": [
       "[<tf.Variable 'dense_6/kernel:0' shape=(2, 1000) dtype=float32, numpy=\n",
       " array([[ 0.0061527 ,  0.06774743, -0.07542983, ..., -0.01343764,\n",
       "         -0.00240877,  0.03150436],\n",
       "        [-0.03755854,  0.0462527 , -0.01792387, ..., -0.058469  ,\n",
       "         -0.03261517, -0.01701734]], dtype=float32)>,\n",
       " <tf.Variable 'dense_6/bias:0' shape=(1000,) dtype=float32, numpy=\n",
       " array([0., 0., 0., 0., 0., 0., 0., 0., 0., 0., 0., 0., 0., 0., 0., 0., 0.,\n",
       "        0., 0., 0., 0., 0., 0., 0., 0., 0., 0., 0., 0., 0., 0., 0., 0., 0.,\n",
       "        0., 0., 0., 0., 0., 0., 0., 0., 0., 0., 0., 0., 0., 0., 0., 0., 0.,\n",
       "        0., 0., 0., 0., 0., 0., 0., 0., 0., 0., 0., 0., 0., 0., 0., 0., 0.,\n",
       "        0., 0., 0., 0., 0., 0., 0., 0., 0., 0., 0., 0., 0., 0., 0., 0., 0.,\n",
       "        0., 0., 0., 0., 0., 0., 0., 0., 0., 0., 0., 0., 0., 0., 0., 0., 0.,\n",
       "        0., 0., 0., 0., 0., 0., 0., 0., 0., 0., 0., 0., 0., 0., 0., 0., 0.,\n",
       "        0., 0., 0., 0., 0., 0., 0., 0., 0., 0., 0., 0., 0., 0., 0., 0., 0.,\n",
       "        0., 0., 0., 0., 0., 0., 0., 0., 0., 0., 0., 0., 0., 0., 0., 0., 0.,\n",
       "        0., 0., 0., 0., 0., 0., 0., 0., 0., 0., 0., 0., 0., 0., 0., 0., 0.,\n",
       "        0., 0., 0., 0., 0., 0., 0., 0., 0., 0., 0., 0., 0., 0., 0., 0., 0.,\n",
       "        0., 0., 0., 0., 0., 0., 0., 0., 0., 0., 0., 0., 0., 0., 0., 0., 0.,\n",
       "        0., 0., 0., 0., 0., 0., 0., 0., 0., 0., 0., 0., 0., 0., 0., 0., 0.,\n",
       "        0., 0., 0., 0., 0., 0., 0., 0., 0., 0., 0., 0., 0., 0., 0., 0., 0.,\n",
       "        0., 0., 0., 0., 0., 0., 0., 0., 0., 0., 0., 0., 0., 0., 0., 0., 0.,\n",
       "        0., 0., 0., 0., 0., 0., 0., 0., 0., 0., 0., 0., 0., 0., 0., 0., 0.,\n",
       "        0., 0., 0., 0., 0., 0., 0., 0., 0., 0., 0., 0., 0., 0., 0., 0., 0.,\n",
       "        0., 0., 0., 0., 0., 0., 0., 0., 0., 0., 0., 0., 0., 0., 0., 0., 0.,\n",
       "        0., 0., 0., 0., 0., 0., 0., 0., 0., 0., 0., 0., 0., 0., 0., 0., 0.,\n",
       "        0., 0., 0., 0., 0., 0., 0., 0., 0., 0., 0., 0., 0., 0., 0., 0., 0.,\n",
       "        0., 0., 0., 0., 0., 0., 0., 0., 0., 0., 0., 0., 0., 0., 0., 0., 0.,\n",
       "        0., 0., 0., 0., 0., 0., 0., 0., 0., 0., 0., 0., 0., 0., 0., 0., 0.,\n",
       "        0., 0., 0., 0., 0., 0., 0., 0., 0., 0., 0., 0., 0., 0., 0., 0., 0.,\n",
       "        0., 0., 0., 0., 0., 0., 0., 0., 0., 0., 0., 0., 0., 0., 0., 0., 0.,\n",
       "        0., 0., 0., 0., 0., 0., 0., 0., 0., 0., 0., 0., 0., 0., 0., 0., 0.,\n",
       "        0., 0., 0., 0., 0., 0., 0., 0., 0., 0., 0., 0., 0., 0., 0., 0., 0.,\n",
       "        0., 0., 0., 0., 0., 0., 0., 0., 0., 0., 0., 0., 0., 0., 0., 0., 0.,\n",
       "        0., 0., 0., 0., 0., 0., 0., 0., 0., 0., 0., 0., 0., 0., 0., 0., 0.,\n",
       "        0., 0., 0., 0., 0., 0., 0., 0., 0., 0., 0., 0., 0., 0., 0., 0., 0.,\n",
       "        0., 0., 0., 0., 0., 0., 0., 0., 0., 0., 0., 0., 0., 0., 0., 0., 0.,\n",
       "        0., 0., 0., 0., 0., 0., 0., 0., 0., 0., 0., 0., 0., 0., 0., 0., 0.,\n",
       "        0., 0., 0., 0., 0., 0., 0., 0., 0., 0., 0., 0., 0., 0., 0., 0., 0.,\n",
       "        0., 0., 0., 0., 0., 0., 0., 0., 0., 0., 0., 0., 0., 0., 0., 0., 0.,\n",
       "        0., 0., 0., 0., 0., 0., 0., 0., 0., 0., 0., 0., 0., 0., 0., 0., 0.,\n",
       "        0., 0., 0., 0., 0., 0., 0., 0., 0., 0., 0., 0., 0., 0., 0., 0., 0.,\n",
       "        0., 0., 0., 0., 0., 0., 0., 0., 0., 0., 0., 0., 0., 0., 0., 0., 0.,\n",
       "        0., 0., 0., 0., 0., 0., 0., 0., 0., 0., 0., 0., 0., 0., 0., 0., 0.,\n",
       "        0., 0., 0., 0., 0., 0., 0., 0., 0., 0., 0., 0., 0., 0., 0., 0., 0.,\n",
       "        0., 0., 0., 0., 0., 0., 0., 0., 0., 0., 0., 0., 0., 0., 0., 0., 0.,\n",
       "        0., 0., 0., 0., 0., 0., 0., 0., 0., 0., 0., 0., 0., 0., 0., 0., 0.,\n",
       "        0., 0., 0., 0., 0., 0., 0., 0., 0., 0., 0., 0., 0., 0., 0., 0., 0.,\n",
       "        0., 0., 0., 0., 0., 0., 0., 0., 0., 0., 0., 0., 0., 0., 0., 0., 0.,\n",
       "        0., 0., 0., 0., 0., 0., 0., 0., 0., 0., 0., 0., 0., 0., 0., 0., 0.,\n",
       "        0., 0., 0., 0., 0., 0., 0., 0., 0., 0., 0., 0., 0., 0., 0., 0., 0.,\n",
       "        0., 0., 0., 0., 0., 0., 0., 0., 0., 0., 0., 0., 0., 0., 0., 0., 0.,\n",
       "        0., 0., 0., 0., 0., 0., 0., 0., 0., 0., 0., 0., 0., 0., 0., 0., 0.,\n",
       "        0., 0., 0., 0., 0., 0., 0., 0., 0., 0., 0., 0., 0., 0., 0., 0., 0.,\n",
       "        0., 0., 0., 0., 0., 0., 0., 0., 0., 0., 0., 0., 0., 0., 0., 0., 0.,\n",
       "        0., 0., 0., 0., 0., 0., 0., 0., 0., 0., 0., 0., 0., 0., 0., 0., 0.,\n",
       "        0., 0., 0., 0., 0., 0., 0., 0., 0., 0., 0., 0., 0., 0., 0., 0., 0.,\n",
       "        0., 0., 0., 0., 0., 0., 0., 0., 0., 0., 0., 0., 0., 0., 0., 0., 0.,\n",
       "        0., 0., 0., 0., 0., 0., 0., 0., 0., 0., 0., 0., 0., 0., 0., 0., 0.,\n",
       "        0., 0., 0., 0., 0., 0., 0., 0., 0., 0., 0., 0., 0., 0., 0., 0., 0.,\n",
       "        0., 0., 0., 0., 0., 0., 0., 0., 0., 0., 0., 0., 0., 0., 0., 0., 0.,\n",
       "        0., 0., 0., 0., 0., 0., 0., 0., 0., 0., 0., 0., 0., 0., 0., 0., 0.,\n",
       "        0., 0., 0., 0., 0., 0., 0., 0., 0., 0., 0., 0., 0., 0., 0., 0., 0.,\n",
       "        0., 0., 0., 0., 0., 0., 0., 0., 0., 0., 0., 0., 0., 0., 0., 0., 0.,\n",
       "        0., 0., 0., 0., 0., 0., 0., 0., 0., 0., 0., 0., 0., 0., 0., 0., 0.,\n",
       "        0., 0., 0., 0., 0., 0., 0., 0., 0., 0., 0., 0., 0., 0.],\n",
       "       dtype=float32)>,\n",
       " <tf.Variable 'dense_7/kernel:0' shape=(1000, 1000) dtype=float32, numpy=\n",
       " array([[-0.00560249,  0.02487553,  0.00156048, ..., -0.05373225,\n",
       "          0.02867492,  0.04390101],\n",
       "        [ 0.00939515,  0.04058075,  0.04958786, ...,  0.0120432 ,\n",
       "          0.00652124, -0.03673306],\n",
       "        [ 0.02930793, -0.01901624, -0.05063776, ..., -0.02354753,\n",
       "         -0.0352375 ,  0.00263099],\n",
       "        ...,\n",
       "        [ 0.00394921,  0.02620187,  0.01790932, ...,  0.01619292,\n",
       "         -0.0401828 , -0.02751042],\n",
       "        [-0.04800862,  0.05311244,  0.01782594, ...,  0.0380203 ,\n",
       "          0.03475033, -0.04937063],\n",
       "        [-0.04495797, -0.01708069, -0.01291577, ..., -0.03172532,\n",
       "          0.03202554, -0.02885513]], dtype=float32)>,\n",
       " <tf.Variable 'dense_7/bias:0' shape=(1000,) dtype=float32, numpy=\n",
       " array([0., 0., 0., 0., 0., 0., 0., 0., 0., 0., 0., 0., 0., 0., 0., 0., 0.,\n",
       "        0., 0., 0., 0., 0., 0., 0., 0., 0., 0., 0., 0., 0., 0., 0., 0., 0.,\n",
       "        0., 0., 0., 0., 0., 0., 0., 0., 0., 0., 0., 0., 0., 0., 0., 0., 0.,\n",
       "        0., 0., 0., 0., 0., 0., 0., 0., 0., 0., 0., 0., 0., 0., 0., 0., 0.,\n",
       "        0., 0., 0., 0., 0., 0., 0., 0., 0., 0., 0., 0., 0., 0., 0., 0., 0.,\n",
       "        0., 0., 0., 0., 0., 0., 0., 0., 0., 0., 0., 0., 0., 0., 0., 0., 0.,\n",
       "        0., 0., 0., 0., 0., 0., 0., 0., 0., 0., 0., 0., 0., 0., 0., 0., 0.,\n",
       "        0., 0., 0., 0., 0., 0., 0., 0., 0., 0., 0., 0., 0., 0., 0., 0., 0.,\n",
       "        0., 0., 0., 0., 0., 0., 0., 0., 0., 0., 0., 0., 0., 0., 0., 0., 0.,\n",
       "        0., 0., 0., 0., 0., 0., 0., 0., 0., 0., 0., 0., 0., 0., 0., 0., 0.,\n",
       "        0., 0., 0., 0., 0., 0., 0., 0., 0., 0., 0., 0., 0., 0., 0., 0., 0.,\n",
       "        0., 0., 0., 0., 0., 0., 0., 0., 0., 0., 0., 0., 0., 0., 0., 0., 0.,\n",
       "        0., 0., 0., 0., 0., 0., 0., 0., 0., 0., 0., 0., 0., 0., 0., 0., 0.,\n",
       "        0., 0., 0., 0., 0., 0., 0., 0., 0., 0., 0., 0., 0., 0., 0., 0., 0.,\n",
       "        0., 0., 0., 0., 0., 0., 0., 0., 0., 0., 0., 0., 0., 0., 0., 0., 0.,\n",
       "        0., 0., 0., 0., 0., 0., 0., 0., 0., 0., 0., 0., 0., 0., 0., 0., 0.,\n",
       "        0., 0., 0., 0., 0., 0., 0., 0., 0., 0., 0., 0., 0., 0., 0., 0., 0.,\n",
       "        0., 0., 0., 0., 0., 0., 0., 0., 0., 0., 0., 0., 0., 0., 0., 0., 0.,\n",
       "        0., 0., 0., 0., 0., 0., 0., 0., 0., 0., 0., 0., 0., 0., 0., 0., 0.,\n",
       "        0., 0., 0., 0., 0., 0., 0., 0., 0., 0., 0., 0., 0., 0., 0., 0., 0.,\n",
       "        0., 0., 0., 0., 0., 0., 0., 0., 0., 0., 0., 0., 0., 0., 0., 0., 0.,\n",
       "        0., 0., 0., 0., 0., 0., 0., 0., 0., 0., 0., 0., 0., 0., 0., 0., 0.,\n",
       "        0., 0., 0., 0., 0., 0., 0., 0., 0., 0., 0., 0., 0., 0., 0., 0., 0.,\n",
       "        0., 0., 0., 0., 0., 0., 0., 0., 0., 0., 0., 0., 0., 0., 0., 0., 0.,\n",
       "        0., 0., 0., 0., 0., 0., 0., 0., 0., 0., 0., 0., 0., 0., 0., 0., 0.,\n",
       "        0., 0., 0., 0., 0., 0., 0., 0., 0., 0., 0., 0., 0., 0., 0., 0., 0.,\n",
       "        0., 0., 0., 0., 0., 0., 0., 0., 0., 0., 0., 0., 0., 0., 0., 0., 0.,\n",
       "        0., 0., 0., 0., 0., 0., 0., 0., 0., 0., 0., 0., 0., 0., 0., 0., 0.,\n",
       "        0., 0., 0., 0., 0., 0., 0., 0., 0., 0., 0., 0., 0., 0., 0., 0., 0.,\n",
       "        0., 0., 0., 0., 0., 0., 0., 0., 0., 0., 0., 0., 0., 0., 0., 0., 0.,\n",
       "        0., 0., 0., 0., 0., 0., 0., 0., 0., 0., 0., 0., 0., 0., 0., 0., 0.,\n",
       "        0., 0., 0., 0., 0., 0., 0., 0., 0., 0., 0., 0., 0., 0., 0., 0., 0.,\n",
       "        0., 0., 0., 0., 0., 0., 0., 0., 0., 0., 0., 0., 0., 0., 0., 0., 0.,\n",
       "        0., 0., 0., 0., 0., 0., 0., 0., 0., 0., 0., 0., 0., 0., 0., 0., 0.,\n",
       "        0., 0., 0., 0., 0., 0., 0., 0., 0., 0., 0., 0., 0., 0., 0., 0., 0.,\n",
       "        0., 0., 0., 0., 0., 0., 0., 0., 0., 0., 0., 0., 0., 0., 0., 0., 0.,\n",
       "        0., 0., 0., 0., 0., 0., 0., 0., 0., 0., 0., 0., 0., 0., 0., 0., 0.,\n",
       "        0., 0., 0., 0., 0., 0., 0., 0., 0., 0., 0., 0., 0., 0., 0., 0., 0.,\n",
       "        0., 0., 0., 0., 0., 0., 0., 0., 0., 0., 0., 0., 0., 0., 0., 0., 0.,\n",
       "        0., 0., 0., 0., 0., 0., 0., 0., 0., 0., 0., 0., 0., 0., 0., 0., 0.,\n",
       "        0., 0., 0., 0., 0., 0., 0., 0., 0., 0., 0., 0., 0., 0., 0., 0., 0.,\n",
       "        0., 0., 0., 0., 0., 0., 0., 0., 0., 0., 0., 0., 0., 0., 0., 0., 0.,\n",
       "        0., 0., 0., 0., 0., 0., 0., 0., 0., 0., 0., 0., 0., 0., 0., 0., 0.,\n",
       "        0., 0., 0., 0., 0., 0., 0., 0., 0., 0., 0., 0., 0., 0., 0., 0., 0.,\n",
       "        0., 0., 0., 0., 0., 0., 0., 0., 0., 0., 0., 0., 0., 0., 0., 0., 0.,\n",
       "        0., 0., 0., 0., 0., 0., 0., 0., 0., 0., 0., 0., 0., 0., 0., 0., 0.,\n",
       "        0., 0., 0., 0., 0., 0., 0., 0., 0., 0., 0., 0., 0., 0., 0., 0., 0.,\n",
       "        0., 0., 0., 0., 0., 0., 0., 0., 0., 0., 0., 0., 0., 0., 0., 0., 0.,\n",
       "        0., 0., 0., 0., 0., 0., 0., 0., 0., 0., 0., 0., 0., 0., 0., 0., 0.,\n",
       "        0., 0., 0., 0., 0., 0., 0., 0., 0., 0., 0., 0., 0., 0., 0., 0., 0.,\n",
       "        0., 0., 0., 0., 0., 0., 0., 0., 0., 0., 0., 0., 0., 0., 0., 0., 0.,\n",
       "        0., 0., 0., 0., 0., 0., 0., 0., 0., 0., 0., 0., 0., 0., 0., 0., 0.,\n",
       "        0., 0., 0., 0., 0., 0., 0., 0., 0., 0., 0., 0., 0., 0., 0., 0., 0.,\n",
       "        0., 0., 0., 0., 0., 0., 0., 0., 0., 0., 0., 0., 0., 0., 0., 0., 0.,\n",
       "        0., 0., 0., 0., 0., 0., 0., 0., 0., 0., 0., 0., 0., 0., 0., 0., 0.,\n",
       "        0., 0., 0., 0., 0., 0., 0., 0., 0., 0., 0., 0., 0., 0., 0., 0., 0.,\n",
       "        0., 0., 0., 0., 0., 0., 0., 0., 0., 0., 0., 0., 0., 0., 0., 0., 0.,\n",
       "        0., 0., 0., 0., 0., 0., 0., 0., 0., 0., 0., 0., 0., 0., 0., 0., 0.,\n",
       "        0., 0., 0., 0., 0., 0., 0., 0., 0., 0., 0., 0., 0., 0.],\n",
       "       dtype=float32)>,\n",
       " <tf.Variable 'dense_8/kernel:0' shape=(1000, 3) dtype=float32, numpy=\n",
       " array([[ 0.05135069,  0.05488379,  0.05696812],\n",
       "        [-0.05809121,  0.00171425,  0.01983015],\n",
       "        [ 0.04329138,  0.07422731, -0.02785279],\n",
       "        ...,\n",
       "        [ 0.00692432, -0.06078099, -0.03735285],\n",
       "        [ 0.0289898 ,  0.02953168, -0.06305423],\n",
       "        [ 0.04948128, -0.07590844, -0.04639816]], dtype=float32)>,\n",
       " <tf.Variable 'dense_8/bias:0' shape=(3,) dtype=float32, numpy=array([0., 0., 0.], dtype=float32)>]"
      ]
     },
     "execution_count": 7,
     "metadata": {},
     "output_type": "execute_result"
    }
   ],
   "source": [
    "model.weights"
   ]
  },
  {
   "cell_type": "markdown",
   "metadata": {},
   "source": [
    "### Now, we need to \"compile\" the model before we fit to the data."
   ]
  },
  {
   "cell_type": "markdown",
   "metadata": {},
   "source": [
    "Some useful links\n",
    "\n",
    "Loss functions: https://keras.io/api/losses/ \n",
    "\n",
    "Optimizers: https://keras.io/api/optimizers/ \n",
    "\n",
    "Metrics: https://keras.io/api/metrics/"
   ]
  },
  {
   "cell_type": "code",
   "execution_count": 8,
   "metadata": {},
   "outputs": [],
   "source": [
    "model.compile(loss='sparse_categorical_crossentropy',\n",
    "              optimizer='adam',\n",
    "              metrics='accuracy')"
   ]
  },
  {
   "cell_type": "markdown",
   "metadata": {},
   "source": [
    "### We are ready to train our first neural network. Let's start training!"
   ]
  },
  {
   "cell_type": "code",
   "execution_count": 9,
   "metadata": {},
   "outputs": [
    {
     "name": "stderr",
     "output_type": "stream",
     "text": [
      "2021-11-18 09:20:53.383431: I tensorflow/compiler/mlir/mlir_graph_optimization_pass.cc:185] None of the MLIR Optimization Passes are enabled (registered 2)\n"
     ]
    },
    {
     "name": "stdout",
     "output_type": "stream",
     "text": [
      "Epoch 1/100\n",
      "3/3 [==============================] - 0s 71ms/step - loss: 1.0665 - accuracy: 0.3854 - val_loss: 0.9553 - val_accuracy: 0.2917\n",
      "Epoch 2/100\n",
      "3/3 [==============================] - 0s 17ms/step - loss: 0.9937 - accuracy: 0.4062 - val_loss: 0.9833 - val_accuracy: 0.2917\n",
      "Epoch 3/100\n",
      "3/3 [==============================] - 0s 17ms/step - loss: 0.9428 - accuracy: 0.3958 - val_loss: 0.9921 - val_accuracy: 0.5000\n",
      "Epoch 4/100\n",
      "3/3 [==============================] - 0s 16ms/step - loss: 0.8723 - accuracy: 0.6771 - val_loss: 0.8544 - val_accuracy: 0.5417\n",
      "Epoch 5/100\n",
      "3/3 [==============================] - 0s 15ms/step - loss: 0.8374 - accuracy: 0.6354 - val_loss: 0.8282 - val_accuracy: 0.5000\n",
      "Epoch 6/100\n",
      "3/3 [==============================] - 0s 18ms/step - loss: 0.7772 - accuracy: 0.6250 - val_loss: 0.7460 - val_accuracy: 0.6250\n",
      "Epoch 7/100\n",
      "3/3 [==============================] - 0s 16ms/step - loss: 0.7246 - accuracy: 0.7292 - val_loss: 0.7049 - val_accuracy: 0.7083\n",
      "Epoch 8/100\n",
      "3/3 [==============================] - 0s 17ms/step - loss: 0.6751 - accuracy: 0.7188 - val_loss: 0.7235 - val_accuracy: 0.5833\n",
      "Epoch 9/100\n",
      "3/3 [==============================] - 0s 15ms/step - loss: 0.6230 - accuracy: 0.7188 - val_loss: 0.6044 - val_accuracy: 0.9167\n",
      "Epoch 10/100\n",
      "3/3 [==============================] - 0s 17ms/step - loss: 0.6005 - accuracy: 0.8229 - val_loss: 0.5514 - val_accuracy: 0.8750\n",
      "Epoch 11/100\n",
      "3/3 [==============================] - 0s 18ms/step - loss: 0.5508 - accuracy: 0.7188 - val_loss: 0.6426 - val_accuracy: 0.6250\n",
      "Epoch 12/100\n",
      "3/3 [==============================] - 0s 17ms/step - loss: 0.4742 - accuracy: 0.8333 - val_loss: 0.4491 - val_accuracy: 0.9167\n",
      "Epoch 13/100\n",
      "3/3 [==============================] - 0s 17ms/step - loss: 0.4392 - accuracy: 0.8854 - val_loss: 0.4356 - val_accuracy: 0.9167\n",
      "Epoch 14/100\n",
      "3/3 [==============================] - 0s 18ms/step - loss: 0.4287 - accuracy: 0.7812 - val_loss: 0.4949 - val_accuracy: 0.7083\n",
      "Epoch 15/100\n",
      "3/3 [==============================] - 0s 16ms/step - loss: 0.4213 - accuracy: 0.7917 - val_loss: 0.3450 - val_accuracy: 0.9167\n",
      "Epoch 16/100\n",
      "3/3 [==============================] - 0s 16ms/step - loss: 0.3311 - accuracy: 0.9062 - val_loss: 0.4681 - val_accuracy: 0.7500\n",
      "Epoch 17/100\n",
      "3/3 [==============================] - 0s 16ms/step - loss: 0.3346 - accuracy: 0.8021 - val_loss: 0.3572 - val_accuracy: 0.9167\n",
      "Epoch 18/100\n",
      "3/3 [==============================] - 0s 18ms/step - loss: 0.2923 - accuracy: 0.9167 - val_loss: 0.2888 - val_accuracy: 0.9167\n",
      "Epoch 19/100\n",
      "3/3 [==============================] - 0s 15ms/step - loss: 0.2793 - accuracy: 0.9271 - val_loss: 0.3340 - val_accuracy: 0.9167\n",
      "Epoch 20/100\n",
      "3/3 [==============================] - 0s 16ms/step - loss: 0.2650 - accuracy: 0.8854 - val_loss: 0.3011 - val_accuracy: 0.9167\n",
      "Epoch 21/100\n",
      "3/3 [==============================] - 0s 15ms/step - loss: 0.2528 - accuracy: 0.8958 - val_loss: 0.2495 - val_accuracy: 0.9167\n",
      "Epoch 22/100\n",
      "3/3 [==============================] - 0s 16ms/step - loss: 0.2383 - accuracy: 0.9271 - val_loss: 0.2957 - val_accuracy: 0.9167\n",
      "Epoch 23/100\n",
      "3/3 [==============================] - 0s 15ms/step - loss: 0.2401 - accuracy: 0.8854 - val_loss: 0.2379 - val_accuracy: 0.9167\n",
      "Epoch 24/100\n",
      "3/3 [==============================] - 0s 15ms/step - loss: 0.2181 - accuracy: 0.9271 - val_loss: 0.2506 - val_accuracy: 0.9167\n",
      "Epoch 25/100\n",
      "3/3 [==============================] - 0s 15ms/step - loss: 0.2370 - accuracy: 0.9167 - val_loss: 0.2562 - val_accuracy: 0.9167\n",
      "Epoch 26/100\n",
      "3/3 [==============================] - 0s 15ms/step - loss: 0.2447 - accuracy: 0.8646 - val_loss: 0.3366 - val_accuracy: 0.8750\n",
      "Epoch 27/100\n",
      "3/3 [==============================] - 0s 15ms/step - loss: 0.2147 - accuracy: 0.9167 - val_loss: 0.1806 - val_accuracy: 0.9167\n",
      "Epoch 28/100\n",
      "3/3 [==============================] - 0s 16ms/step - loss: 0.2115 - accuracy: 0.9271 - val_loss: 0.2862 - val_accuracy: 0.9167\n",
      "Epoch 29/100\n",
      "3/3 [==============================] - 0s 15ms/step - loss: 0.2140 - accuracy: 0.8854 - val_loss: 0.3078 - val_accuracy: 0.9167\n",
      "Epoch 30/100\n",
      "3/3 [==============================] - 0s 15ms/step - loss: 0.2131 - accuracy: 0.8854 - val_loss: 0.1695 - val_accuracy: 0.9167\n",
      "Epoch 31/100\n",
      "3/3 [==============================] - 0s 16ms/step - loss: 0.1848 - accuracy: 0.9375 - val_loss: 0.2993 - val_accuracy: 0.9167\n",
      "Epoch 32/100\n",
      "3/3 [==============================] - 0s 15ms/step - loss: 0.1969 - accuracy: 0.9062 - val_loss: 0.2442 - val_accuracy: 0.9167\n",
      "Epoch 33/100\n",
      "3/3 [==============================] - 0s 16ms/step - loss: 0.1635 - accuracy: 0.9271 - val_loss: 0.1891 - val_accuracy: 0.9167\n",
      "Epoch 34/100\n",
      "3/3 [==============================] - 0s 16ms/step - loss: 0.1694 - accuracy: 0.9375 - val_loss: 0.2334 - val_accuracy: 0.9167\n",
      "Epoch 35/100\n",
      "3/3 [==============================] - 0s 15ms/step - loss: 0.1758 - accuracy: 0.8958 - val_loss: 0.1927 - val_accuracy: 0.9167\n",
      "Epoch 36/100\n",
      "3/3 [==============================] - 0s 19ms/step - loss: 0.1824 - accuracy: 0.9583 - val_loss: 0.1791 - val_accuracy: 0.9167\n",
      "Epoch 37/100\n",
      "3/3 [==============================] - 0s 18ms/step - loss: 0.1569 - accuracy: 0.9375 - val_loss: 0.3449 - val_accuracy: 0.8750\n",
      "Epoch 38/100\n",
      "3/3 [==============================] - 0s 16ms/step - loss: 0.1739 - accuracy: 0.9167 - val_loss: 0.1884 - val_accuracy: 0.9167\n",
      "Epoch 39/100\n",
      "3/3 [==============================] - 0s 14ms/step - loss: 0.1937 - accuracy: 0.9271 - val_loss: 0.1710 - val_accuracy: 0.9167\n",
      "Epoch 40/100\n",
      "3/3 [==============================] - 0s 15ms/step - loss: 0.1646 - accuracy: 0.9375 - val_loss: 0.3648 - val_accuracy: 0.8750\n",
      "Epoch 41/100\n",
      "3/3 [==============================] - 0s 15ms/step - loss: 0.1659 - accuracy: 0.9062 - val_loss: 0.1728 - val_accuracy: 0.9167\n",
      "Epoch 42/100\n",
      "3/3 [==============================] - 0s 16ms/step - loss: 0.1571 - accuracy: 0.9583 - val_loss: 0.1833 - val_accuracy: 0.9167\n",
      "Epoch 43/100\n",
      "3/3 [==============================] - 0s 16ms/step - loss: 0.1571 - accuracy: 0.9167 - val_loss: 0.2922 - val_accuracy: 0.9167\n",
      "Epoch 44/100\n",
      "3/3 [==============================] - 0s 15ms/step - loss: 0.1391 - accuracy: 0.9479 - val_loss: 0.1571 - val_accuracy: 0.9167\n",
      "Epoch 45/100\n",
      "3/3 [==============================] - 0s 18ms/step - loss: 0.1427 - accuracy: 0.9688 - val_loss: 0.1993 - val_accuracy: 0.9167\n",
      "Epoch 46/100\n",
      "3/3 [==============================] - 0s 16ms/step - loss: 0.1376 - accuracy: 0.9271 - val_loss: 0.2491 - val_accuracy: 0.9167\n",
      "Epoch 47/100\n",
      "3/3 [==============================] - 0s 16ms/step - loss: 0.1506 - accuracy: 0.9375 - val_loss: 0.1668 - val_accuracy: 0.9167\n",
      "Epoch 48/100\n",
      "3/3 [==============================] - 0s 15ms/step - loss: 0.1327 - accuracy: 0.9375 - val_loss: 0.2764 - val_accuracy: 0.9167\n",
      "Epoch 49/100\n",
      "3/3 [==============================] - 0s 15ms/step - loss: 0.1358 - accuracy: 0.9271 - val_loss: 0.1749 - val_accuracy: 0.9167\n",
      "Epoch 50/100\n",
      "3/3 [==============================] - 0s 18ms/step - loss: 0.1327 - accuracy: 0.9583 - val_loss: 0.1804 - val_accuracy: 0.9167\n",
      "Epoch 51/100\n",
      "3/3 [==============================] - 0s 15ms/step - loss: 0.1226 - accuracy: 0.9375 - val_loss: 0.2695 - val_accuracy: 0.9167\n",
      "Epoch 52/100\n",
      "3/3 [==============================] - 0s 16ms/step - loss: 0.1296 - accuracy: 0.9271 - val_loss: 0.1618 - val_accuracy: 0.9167\n",
      "Epoch 53/100\n",
      "3/3 [==============================] - 0s 16ms/step - loss: 0.1252 - accuracy: 0.9479 - val_loss: 0.2072 - val_accuracy: 0.9167\n",
      "Epoch 54/100\n",
      "3/3 [==============================] - 0s 18ms/step - loss: 0.1145 - accuracy: 0.9479 - val_loss: 0.2020 - val_accuracy: 0.9167\n",
      "Epoch 55/100\n",
      "3/3 [==============================] - 0s 16ms/step - loss: 0.1200 - accuracy: 0.9583 - val_loss: 0.2026 - val_accuracy: 0.9167\n",
      "Epoch 56/100\n",
      "3/3 [==============================] - 0s 14ms/step - loss: 0.1243 - accuracy: 0.9375 - val_loss: 0.2428 - val_accuracy: 0.9167\n",
      "Epoch 57/100\n",
      "3/3 [==============================] - 0s 15ms/step - loss: 0.1130 - accuracy: 0.9375 - val_loss: 0.1430 - val_accuracy: 0.9167\n",
      "Epoch 58/100\n",
      "3/3 [==============================] - 0s 15ms/step - loss: 0.1199 - accuracy: 0.9688 - val_loss: 0.2451 - val_accuracy: 0.9167\n",
      "Epoch 59/100\n",
      "3/3 [==============================] - 0s 17ms/step - loss: 0.1212 - accuracy: 0.9375 - val_loss: 0.2295 - val_accuracy: 0.9167\n",
      "Epoch 60/100\n",
      "3/3 [==============================] - 0s 15ms/step - loss: 0.1127 - accuracy: 0.9583 - val_loss: 0.1588 - val_accuracy: 0.9167\n",
      "Epoch 61/100\n",
      "3/3 [==============================] - 0s 15ms/step - loss: 0.1341 - accuracy: 0.9479 - val_loss: 0.2295 - val_accuracy: 0.9167\n",
      "Epoch 62/100\n",
      "3/3 [==============================] - 0s 17ms/step - loss: 0.1058 - accuracy: 0.9479 - val_loss: 0.1549 - val_accuracy: 0.9167\n",
      "Epoch 63/100\n",
      "3/3 [==============================] - 0s 16ms/step - loss: 0.1261 - accuracy: 0.9375 - val_loss: 0.2521 - val_accuracy: 0.9167\n",
      "Epoch 64/100\n",
      "3/3 [==============================] - 0s 16ms/step - loss: 0.1166 - accuracy: 0.9479 - val_loss: 0.1750 - val_accuracy: 0.9167\n",
      "Epoch 65/100\n",
      "3/3 [==============================] - 0s 16ms/step - loss: 0.1080 - accuracy: 0.9479 - val_loss: 0.2622 - val_accuracy: 0.9167\n",
      "Epoch 66/100\n",
      "3/3 [==============================] - 0s 14ms/step - loss: 0.1026 - accuracy: 0.9375 - val_loss: 0.1778 - val_accuracy: 0.9167\n",
      "Epoch 67/100\n",
      "3/3 [==============================] - 0s 19ms/step - loss: 0.1090 - accuracy: 0.9688 - val_loss: 0.1835 - val_accuracy: 0.9167\n",
      "Epoch 68/100\n",
      "3/3 [==============================] - 0s 15ms/step - loss: 0.0951 - accuracy: 0.9583 - val_loss: 0.2689 - val_accuracy: 0.9167\n",
      "Epoch 69/100\n",
      "3/3 [==============================] - 0s 16ms/step - loss: 0.1068 - accuracy: 0.9479 - val_loss: 0.1813 - val_accuracy: 0.9167\n",
      "Epoch 70/100\n",
      "3/3 [==============================] - 0s 16ms/step - loss: 0.0953 - accuracy: 0.9479 - val_loss: 0.2072 - val_accuracy: 0.9167\n",
      "Epoch 71/100\n",
      "3/3 [==============================] - 0s 16ms/step - loss: 0.1019 - accuracy: 0.9375 - val_loss: 0.1972 - val_accuracy: 0.9167\n",
      "Epoch 72/100\n",
      "3/3 [==============================] - 0s 14ms/step - loss: 0.1205 - accuracy: 0.9479 - val_loss: 0.2308 - val_accuracy: 0.9167\n",
      "Epoch 73/100\n",
      "3/3 [==============================] - 0s 16ms/step - loss: 0.1225 - accuracy: 0.9583 - val_loss: 0.1390 - val_accuracy: 0.9167\n",
      "Epoch 74/100\n",
      "3/3 [==============================] - 0s 16ms/step - loss: 0.0981 - accuracy: 0.9479 - val_loss: 0.3173 - val_accuracy: 0.8750\n",
      "Epoch 75/100\n",
      "3/3 [==============================] - 0s 17ms/step - loss: 0.1338 - accuracy: 0.9479 - val_loss: 0.1581 - val_accuracy: 0.9167\n",
      "Epoch 76/100\n",
      "3/3 [==============================] - 0s 16ms/step - loss: 0.0995 - accuracy: 0.9688 - val_loss: 0.1435 - val_accuracy: 0.9167\n",
      "Epoch 77/100\n",
      "3/3 [==============================] - 0s 15ms/step - loss: 0.0920 - accuracy: 0.9583 - val_loss: 0.2593 - val_accuracy: 0.9167\n",
      "Epoch 78/100\n",
      "3/3 [==============================] - 0s 16ms/step - loss: 0.0955 - accuracy: 0.9479 - val_loss: 0.2122 - val_accuracy: 0.9167\n",
      "Epoch 79/100\n",
      "3/3 [==============================] - 0s 16ms/step - loss: 0.1098 - accuracy: 0.9583 - val_loss: 0.1355 - val_accuracy: 0.9167\n",
      "Epoch 80/100\n",
      "3/3 [==============================] - 0s 15ms/step - loss: 0.1108 - accuracy: 0.9479 - val_loss: 0.2846 - val_accuracy: 0.9167\n",
      "Epoch 81/100\n",
      "3/3 [==============================] - 0s 16ms/step - loss: 0.1159 - accuracy: 0.9375 - val_loss: 0.1512 - val_accuracy: 0.9167\n",
      "Epoch 82/100\n",
      "3/3 [==============================] - 0s 16ms/step - loss: 0.0874 - accuracy: 0.9479 - val_loss: 0.2410 - val_accuracy: 0.9167\n",
      "Epoch 83/100\n",
      "3/3 [==============================] - 0s 15ms/step - loss: 0.1111 - accuracy: 0.9375 - val_loss: 0.2256 - val_accuracy: 0.9167\n",
      "Epoch 84/100\n",
      "3/3 [==============================] - 0s 17ms/step - loss: 0.0942 - accuracy: 0.9583 - val_loss: 0.1377 - val_accuracy: 0.9167\n",
      "Epoch 85/100\n",
      "3/3 [==============================] - 0s 16ms/step - loss: 0.0856 - accuracy: 0.9792 - val_loss: 0.2445 - val_accuracy: 0.9167\n",
      "Epoch 86/100\n",
      "3/3 [==============================] - 0s 17ms/step - loss: 0.0943 - accuracy: 0.9479 - val_loss: 0.2125 - val_accuracy: 0.9167\n",
      "Epoch 87/100\n",
      "3/3 [==============================] - 0s 16ms/step - loss: 0.1272 - accuracy: 0.9375 - val_loss: 0.1531 - val_accuracy: 0.9167\n",
      "Epoch 88/100\n",
      "3/3 [==============================] - 0s 14ms/step - loss: 0.0874 - accuracy: 0.9479 - val_loss: 0.3142 - val_accuracy: 0.8750\n",
      "Epoch 89/100\n",
      "3/3 [==============================] - 0s 15ms/step - loss: 0.0923 - accuracy: 0.9479 - val_loss: 0.1756 - val_accuracy: 0.9167\n",
      "Epoch 90/100\n",
      "3/3 [==============================] - 0s 16ms/step - loss: 0.0963 - accuracy: 0.9688 - val_loss: 0.1753 - val_accuracy: 0.9167\n",
      "Epoch 91/100\n",
      "3/3 [==============================] - 0s 17ms/step - loss: 0.1131 - accuracy: 0.9479 - val_loss: 0.2652 - val_accuracy: 0.9167\n",
      "Epoch 92/100\n",
      "3/3 [==============================] - 0s 16ms/step - loss: 0.0898 - accuracy: 0.9583 - val_loss: 0.1173 - val_accuracy: 0.9167\n",
      "Epoch 93/100\n",
      "3/3 [==============================] - 0s 16ms/step - loss: 0.0913 - accuracy: 0.9583 - val_loss: 0.2597 - val_accuracy: 0.9167\n",
      "Epoch 94/100\n",
      "3/3 [==============================] - 0s 16ms/step - loss: 0.0852 - accuracy: 0.9479 - val_loss: 0.2233 - val_accuracy: 0.9167\n",
      "Epoch 95/100\n",
      "3/3 [==============================] - 0s 17ms/step - loss: 0.0755 - accuracy: 0.9583 - val_loss: 0.1621 - val_accuracy: 0.9167\n",
      "Epoch 96/100\n",
      "3/3 [==============================] - 0s 15ms/step - loss: 0.0956 - accuracy: 0.9688 - val_loss: 0.1856 - val_accuracy: 0.9167\n",
      "Epoch 97/100\n",
      "3/3 [==============================] - 0s 15ms/step - loss: 0.1001 - accuracy: 0.9583 - val_loss: 0.3132 - val_accuracy: 0.8750\n",
      "Epoch 98/100\n",
      "3/3 [==============================] - 0s 15ms/step - loss: 0.0783 - accuracy: 0.9583 - val_loss: 0.1014 - val_accuracy: 0.9583\n",
      "Epoch 99/100\n",
      "3/3 [==============================] - 0s 17ms/step - loss: 0.1370 - accuracy: 0.9583 - val_loss: 0.1585 - val_accuracy: 0.9167\n",
      "Epoch 100/100\n",
      "3/3 [==============================] - 0s 17ms/step - loss: 0.1277 - accuracy: 0.9583 - val_loss: 0.4288 - val_accuracy: 0.8750\n"
     ]
    }
   ],
   "source": [
    "# history will record the loss, accuracy, etc. \n",
    "# validation_split will split the training dataset into training + validation datasets. \n",
    "history = model.fit(X_train, y_train, epochs=100, validation_split=0.2)"
   ]
  },
  {
   "cell_type": "markdown",
   "metadata": {},
   "source": [
    "### Let's evlauate the model using the test dataset."
   ]
  },
  {
   "cell_type": "code",
   "execution_count": 10,
   "metadata": {},
   "outputs": [
    {
     "name": "stdout",
     "output_type": "stream",
     "text": [
      "Test loss: 0.22555918991565704\n",
      "Test accuracy: 0.8333333134651184\n"
     ]
    }
   ],
   "source": [
    "loss, accuracy = model.evaluate(X_test, y_test, verbose=0)\n",
    "print('Test loss:', loss)\n",
    "print('Test accuracy:', accuracy)"
   ]
  },
  {
   "cell_type": "markdown",
   "metadata": {},
   "source": [
    "### Let's check how loss and validation loss evolved over epoch."
   ]
  },
  {
   "cell_type": "code",
   "execution_count": 11,
   "metadata": {},
   "outputs": [
    {
     "data": {
      "text/plain": [
       "Text(0, 0.5, 'loss, validation loss')"
      ]
     },
     "execution_count": 11,
     "metadata": {},
     "output_type": "execute_result"
    },
    {
     "data": {
      "image/png": "[encoded data removed]",
      "text/plain": [
       "<Figure size 432x288 with 1 Axes>"
      ]
     },
     "metadata": {
      "needs_background": "light"
     },
     "output_type": "display_data"
    }
   ],
   "source": [
    "plt.plot(history.epoch, history.history['loss'],'.-')\n",
    "plt.plot(history.epoch, history.history['val_loss'],'.-')\n",
    "plt.xlabel('epoch')\n",
    "plt.ylabel('loss, validation loss')"
   ]
  },
  {
   "cell_type": "markdown",
   "metadata": {},
   "source": [
    "### Let's check how accuracy and validation accuracy evolved over epoch."
   ]
  },
  {
   "cell_type": "code",
   "execution_count": 12,
   "metadata": {},
   "outputs": [
    {
     "data": {
      "text/plain": [
       "Text(0, 0.5, 'accuracy, validation accuracy')"
      ]
     },
     "execution_count": 12,
     "metadata": {},
     "output_type": "execute_result"
    },
    {
     "data": {
      "image/png": "[encoded data removed]",
      "text/plain": [
       "<Figure size 432x288 with 1 Axes>"
      ]
     },
     "metadata": {
      "needs_background": "light"
     },
     "output_type": "display_data"
    }
   ],
   "source": [
    "plt.plot(history.epoch, history.history['accuracy'],'.-')\n",
    "plt.plot(history.epoch, history.history['val_accuracy'],'.-')\n",
    "plt.ylim(0.8,1)\n",
    "plt.xlabel('epoch')\n",
    "plt.ylabel('accuracy, validation accuracy')"
   ]
  },
  {
   "cell_type": "markdown",
   "metadata": {},
   "source": [
    "### Let's check out weights and biases."
   ]
  },
  {
   "cell_type": "code",
   "execution_count": 13,
   "metadata": {},
   "outputs": [
    {
     "data": {
      "text/plain": [
       "[<keras.layers.core.Dense at 0x2b00d6efa670>,\n",
       " <keras.layers.core.Dense at 0x2b00d6ed2460>,\n",
       " <keras.layers.core.Dense at 0x2b00d6efba60>]"
      ]
     },
     "execution_count": 13,
     "metadata": {},
     "output_type": "execute_result"
    }
   ],
   "source": [
    "model.layers"
   ]
  },
  {
   "cell_type": "code",
   "execution_count": 14,
   "metadata": {},
   "outputs": [],
   "source": [
    "hidden1 = model.layers[0]"
   ]
  },
  {
   "cell_type": "code",
   "execution_count": 15,
   "metadata": {},
   "outputs": [
    {
     "data": {
      "text/plain": [
       "'dense_6'"
      ]
     },
     "execution_count": 15,
     "metadata": {},
     "output_type": "execute_result"
    }
   ],
   "source": [
    "hidden1.name"
   ]
  },
  {
   "cell_type": "markdown",
   "metadata": {},
   "source": [
    "### Let's put weights and biases of the first hidden layer in w1 and b1."
   ]
  },
  {
   "cell_type": "code",
   "execution_count": 16,
   "metadata": {},
   "outputs": [],
   "source": [
    "w1, b1 = hidden1.get_weights()"
   ]
  },
  {
   "cell_type": "code",
   "execution_count": 17,
   "metadata": {},
   "outputs": [
    {
     "data": {
      "text/plain": [
       "array([[ 0.00917503,  0.07404859, -0.07542983, ..., -0.01343764,\n",
       "        -0.00240877,  0.02922284],\n",
       "       [-0.04438104,  0.0535323 , -0.01792387, ..., -0.058469  ,\n",
       "        -0.03261517, -0.03068417]], dtype=float32)"
      ]
     },
     "execution_count": 17,
     "metadata": {},
     "output_type": "execute_result"
    }
   ],
   "source": [
    "w1"
   ]
  },
  {
   "cell_type": "code",
   "execution_count": 18,
   "metadata": {},
   "outputs": [
    {
     "data": {
      "text/plain": [
       "(2, 1000)"
      ]
     },
     "execution_count": 18,
     "metadata": {},
     "output_type": "execute_result"
    }
   ],
   "source": [
    "w1.shape"
   ]
  },
  {
   "cell_type": "code",
   "execution_count": 19,
   "metadata": {
    "collapsed": true,
    "jupyter": {
     "outputs_hidden": true
    },
    "tags": []
   },
   "outputs": [
    {
     "data": {
      "text/plain": [
       "array([ 0.0920516 , -0.05226126,  0.        , -0.00572249,  0.        ,\n",
       "        0.        ,  0.        , -0.07633278, -0.07280762,  0.06334601,\n",
       "        0.0624938 ,  0.        , -0.08431925, -0.03972238,  0.        ,\n",
       "        0.        , -0.06975117, -0.07232545, -0.0771235 ,  0.        ,\n",
       "        0.08481432, -0.0676049 , -0.07299846,  0.        ,  0.        ,\n",
       "       -0.06323407,  0.07010484, -0.04337957,  0.        ,  0.        ,\n",
       "        0.        ,  0.        , -0.05135972,  0.        ,  0.        ,\n",
       "       -0.05337542,  0.07396548,  0.        ,  0.        , -0.06793845,\n",
       "        0.        , -0.05048333, -0.04219189,  0.03998753, -0.06394845,\n",
       "        0.08266529, -0.07238549,  0.        ,  0.        ,  0.02699939,\n",
       "       -0.08357377,  0.05497975, -0.04206736, -0.05807341,  0.        ,\n",
       "       -0.06371813,  0.        ,  0.02431559,  0.08807977,  0.07859845,\n",
       "       -0.07073694,  0.        ,  0.05743493, -0.0687333 ,  0.09058336,\n",
       "        0.06388481,  0.        ,  0.08913297,  0.        , -0.06003555,\n",
       "        0.        , -0.06548911,  0.        ,  0.08594022, -0.0565508 ,\n",
       "       -0.07056522,  0.        , -0.05042554,  0.        , -0.07097898,\n",
       "        0.        ,  0.08301342,  0.        ,  0.08303813, -0.05569293,\n",
       "        0.        , -0.00862949,  0.        ,  0.06410347,  0.08081441,\n",
       "       -0.0900804 ,  0.        ,  0.00452051,  0.        , -0.07179412,\n",
       "        0.        ,  0.06060315,  0.        ,  0.09376573,  0.        ,\n",
       "        0.05733312,  0.        , -0.06412903, -0.05237776, -0.07713187,\n",
       "       -0.07013255,  0.        ,  0.07317613,  0.        ,  0.        ,\n",
       "        0.        , -0.03299857,  0.        ,  0.        ,  0.        ,\n",
       "        0.        ,  0.        , -0.06977754,  0.        ,  0.        ,\n",
       "       -0.07757685, -0.07410632,  0.09211048, -0.07311235, -0.08517827,\n",
       "        0.07340811,  0.        ,  0.        ,  0.08675669,  0.        ,\n",
       "       -0.07982433,  0.        , -0.05265733, -0.08011781,  0.00471275,\n",
       "       -0.06014165,  0.        ,  0.09358359, -0.07640269,  0.        ,\n",
       "       -0.00511091,  0.        ,  0.        , -0.06272547, -0.05184926,\n",
       "        0.        ,  0.0809926 ,  0.        ,  0.0565905 ,  0.        ,\n",
       "       -0.0718406 ,  0.        ,  0.        , -0.0674248 ,  0.        ,\n",
       "        0.07529411,  0.        , -0.06495224,  0.        ,  0.        ,\n",
       "        0.        , -0.00689173,  0.        ,  0.01637518, -0.06854475,\n",
       "       -0.06431139, -0.08356171,  0.09790464,  0.        , -0.07499334,\n",
       "        0.        , -0.07184986,  0.        ,  0.        ,  0.        ,\n",
       "        0.10262934,  0.00129484, -0.04407537,  0.        ,  0.        ,\n",
       "        0.        , -0.0653486 ,  0.08844438,  0.        ,  0.        ,\n",
       "       -0.05927451,  0.        ,  0.        , -0.07555816,  0.        ,\n",
       "       -0.07205856,  0.        ,  0.        , -0.08196909, -0.07191555,\n",
       "        0.        ,  0.        ,  0.        ,  0.0592807 ,  0.        ,\n",
       "        0.        , -0.05993325,  0.        , -0.07807407,  0.        ,\n",
       "       -0.07319295,  0.        ,  0.        ,  0.05524289, -0.07130437,\n",
       "        0.        , -0.05623665,  0.        , -0.06023221, -0.01181512,\n",
       "        0.        ,  0.09441665, -0.07485366,  0.08094928,  0.        ,\n",
       "       -0.05822412,  0.        , -0.07245079,  0.        ,  0.        ,\n",
       "        0.09235824, -0.0590878 ,  0.        , -0.07488925, -0.07897464,\n",
       "        0.        ,  0.04215046, -0.07502571,  0.        ,  0.        ,\n",
       "        0.        , -0.05909473,  0.        ,  0.08885813,  0.        ,\n",
       "        0.        , -0.07478372,  0.        , -0.08338997, -0.06125521,\n",
       "        0.        ,  0.0890957 ,  0.        ,  0.        , -0.05585963,\n",
       "        0.09230965,  0.        ,  0.06348526,  0.        ,  0.        ,\n",
       "        0.        ,  0.        , -0.08114786,  0.04104745,  0.        ,\n",
       "        0.        ,  0.08479832,  0.        , -0.05455675,  0.09044065,\n",
       "        0.        , -0.06884208, -0.06140396,  0.        ,  0.        ,\n",
       "        0.06244114,  0.        ,  0.08689585,  0.        ,  0.        ,\n",
       "        0.07588458,  0.        ,  0.090624  ,  0.        , -0.06875684,\n",
       "        0.        ,  0.        ,  0.09053452,  0.        ,  0.09327339,\n",
       "       -0.02206556,  0.        , -0.073627  ,  0.        ,  0.        ,\n",
       "       -0.04394763, -0.06006075, -0.06052514,  0.06068959,  0.        ,\n",
       "        0.        ,  0.        ,  0.05407348,  0.08561657, -0.05427146,\n",
       "       -0.06925038, -0.02961032,  0.        ,  0.        ,  0.        ,\n",
       "        0.        ,  0.0872765 , -0.00554633,  0.        ,  0.08200657,\n",
       "        0.        ,  0.        ,  0.00938431, -0.08515876,  0.07327   ,\n",
       "       -0.0592173 , -0.08814303, -0.04341329,  0.        , -0.07438523,\n",
       "       -0.014341  ,  0.        ,  0.        ,  0.        ,  0.        ,\n",
       "        0.        ,  0.        , -0.00441048,  0.07169589,  0.        ,\n",
       "        0.09340481, -0.07278905, -0.07016957,  0.        ,  0.        ,\n",
       "        0.        , -0.07357541,  0.07637873, -0.06590695, -0.0901086 ,\n",
       "       -0.05721425,  0.06607892,  0.        ,  0.05613335,  0.        ,\n",
       "        0.03708734, -0.07025202,  0.06507028,  0.06045532, -0.09050389,\n",
       "        0.        ,  0.        , -0.0775049 ,  0.        ,  0.        ,\n",
       "        0.07565469, -0.0631526 , -0.07518421, -0.09051411,  0.07557917,\n",
       "       -0.07646541,  0.        , -0.0684765 ,  0.        ,  0.        ,\n",
       "       -0.07224279, -0.03652973,  0.06439747,  0.        ,  0.04591405,\n",
       "       -0.09248187,  0.        ,  0.        ,  0.        ,  0.        ,\n",
       "        0.        , -0.06904343, -0.06655888, -0.05473188,  0.09184194,\n",
       "        0.07802566, -0.06757339,  0.        , -0.08481097, -0.05035187,\n",
       "       -0.08515172,  0.        ,  0.        ,  0.05867324, -0.07350453,\n",
       "        0.        ,  0.        ,  0.        ,  0.        , -0.04502233,\n",
       "        0.        ,  0.07228952,  0.08718108,  0.        ,  0.08949921,\n",
       "        0.        , -0.06017056,  0.        ,  0.        , -0.08626511,\n",
       "        0.        , -0.07272997, -0.03724102,  0.        ,  0.09075284,\n",
       "       -0.06599408,  0.07831718,  0.        , -0.0540382 ,  0.09558097,\n",
       "        0.09209032,  0.08293882,  0.        ,  0.        ,  0.        ,\n",
       "        0.        , -0.06288899,  0.09939955, -0.06841619, -0.06712383,\n",
       "       -0.07950705,  0.        ,  0.08612281,  0.        ,  0.00849541,\n",
       "        0.        ,  0.0707405 , -0.03968196, -0.00580444, -0.07109655,\n",
       "        0.08666433,  0.        ,  0.08609866,  0.08546327,  0.        ,\n",
       "        0.08457487,  0.        ,  0.        , -0.07980767,  0.        ,\n",
       "        0.09624077,  0.        ,  0.        ,  0.        ,  0.        ,\n",
       "       -0.06987086,  0.03761284,  0.        , -0.08290535, -0.04382538,\n",
       "       -0.06483942,  0.08345242,  0.        ,  0.        , -0.06260337,\n",
       "       -0.07834551,  0.07503961, -0.07248688,  0.        ,  0.        ,\n",
       "        0.        ,  0.        ,  0.        ,  0.07357643,  0.        ,\n",
       "        0.08703759,  0.        , -0.07332454,  0.        ,  0.        ,\n",
       "        0.09110162,  0.        , -0.08484733,  0.03583279, -0.00177818,\n",
       "        0.00534543,  0.08578169,  0.        ,  0.        , -0.05513436,\n",
       "        0.        ,  0.07991606,  0.        ,  0.        ,  0.06581376,\n",
       "       -0.00635263, -0.0707069 , -0.05693546, -0.05065527,  0.        ,\n",
       "       -0.0778877 , -0.07377227,  0.07840221, -0.07118593, -0.0690534 ,\n",
       "        0.00536475,  0.        ,  0.09305514, -0.07560756,  0.        ,\n",
       "       -0.08484837,  0.        , -0.00595146,  0.        ,  0.07492432,\n",
       "       -0.07421739,  0.        , -0.0497357 , -0.07662701,  0.        ,\n",
       "        0.        ,  0.        ,  0.        ,  0.        ,  0.07425213,\n",
       "        0.00064798,  0.08913752,  0.09193508, -0.06020868,  0.        ,\n",
       "        0.        , -0.00903754, -0.07787739,  0.        ,  0.08976205,\n",
       "        0.08747358,  0.06732403,  0.        ,  0.        ,  0.        ,\n",
       "       -0.06050695,  0.        ,  0.03410934,  0.        ,  0.        ,\n",
       "        0.09612538,  0.        ,  0.        ,  0.        ,  0.        ,\n",
       "        0.        ,  0.        , -0.06641766, -0.01723503,  0.        ,\n",
       "        0.        ,  0.        ,  0.        , -0.06228578, -0.05909153,\n",
       "        0.        , -0.0799247 ,  0.04719279, -0.0651174 , -0.05028775,\n",
       "        0.        ,  0.08497778, -0.02415086, -0.04782927,  0.        ,\n",
       "       -0.05472176, -0.07268611,  0.        , -0.06414758,  0.        ,\n",
       "       -0.07829948, -0.05920991, -0.06845143, -0.06537803,  0.        ,\n",
       "        0.09000384, -0.00284637,  0.07998817,  0.        , -0.07661432,\n",
       "        0.        ,  0.        , -0.07688698, -0.03746825,  0.        ,\n",
       "        0.07929874,  0.        , -0.05483313,  0.        , -0.08260898,\n",
       "       -0.07459368, -0.05656115,  0.0885853 ,  0.09172358,  0.        ,\n",
       "        0.        , -0.00472561, -0.07006779, -0.03876303,  0.0660973 ,\n",
       "        0.05026147,  0.        ,  0.        ,  0.        ,  0.        ,\n",
       "        0.        , -0.08091133,  0.        , -0.04150108,  0.07702266,\n",
       "        0.        , -0.08456853, -0.00952909,  0.        , -0.0753082 ,\n",
       "        0.09460574,  0.        ,  0.        ,  0.        ,  0.06655112,\n",
       "       -0.00566088, -0.00600991,  0.        ,  0.        , -0.05929227,\n",
       "       -0.09096414,  0.        ,  0.        , -0.06717456,  0.        ,\n",
       "        0.        ,  0.        ,  0.        ,  0.        , -0.07198691,\n",
       "       -0.06868168, -0.06354395,  0.        ,  0.        ,  0.        ,\n",
       "        0.        , -0.08577234,  0.        ,  0.        ,  0.        ,\n",
       "        0.        ,  0.        ,  0.        , -0.0837074 ,  0.        ,\n",
       "        0.        , -0.01639123,  0.        ,  0.        ,  0.        ,\n",
       "        0.08878503, -0.02295193, -0.04345441, -0.07500885, -0.05949474,\n",
       "        0.        ,  0.        ,  0.        ,  0.0309179 ,  0.        ,\n",
       "        0.        , -0.00715142,  0.        ,  0.07395878,  0.08801974,\n",
       "        0.        ,  0.06303168, -0.05299978,  0.08410488, -0.06883546,\n",
       "        0.07652332,  0.        ,  0.        ,  0.01272511,  0.00765984,\n",
       "       -0.00452781,  0.        ,  0.        ,  0.        ,  0.        ,\n",
       "        0.        ,  0.        ,  0.        , -0.08554965, -0.07151403,\n",
       "        0.        ,  0.        ,  0.        , -0.06197847,  0.        ,\n",
       "       -0.04982657, -0.06685316, -0.07764755,  0.        ,  0.08181558,\n",
       "        0.        ,  0.        ,  0.        , -0.08295865,  0.        ,\n",
       "        0.        ,  0.        ,  0.        , -0.06457155,  0.        ,\n",
       "       -0.06989352,  0.        ,  0.        ,  0.        ,  0.        ,\n",
       "        0.        , -0.00849515,  0.        , -0.05761432,  0.04910621,\n",
       "       -0.07244632,  0.        , -0.07296216, -0.06865985,  0.        ,\n",
       "        0.        ,  0.        , -0.08841559,  0.        ,  0.        ,\n",
       "        0.        ,  0.        , -0.07015009,  0.        ,  0.05830995,\n",
       "       -0.04818777,  0.09183764,  0.        ,  0.        ,  0.        ,\n",
       "       -0.0589903 , -0.07084358, -0.05874153, -0.06628715,  0.        ,\n",
       "        0.        ,  0.05368523,  0.        ,  0.07922064, -0.0046281 ,\n",
       "        0.        ,  0.        ,  0.07813241, -0.0416228 ,  0.08603299,\n",
       "        0.        ,  0.        ,  0.        ,  0.        , -0.07915823,\n",
       "        0.        , -0.07597972,  0.        ,  0.        ,  0.05317482,\n",
       "       -0.08123238,  0.        ,  0.        ,  0.        , -0.09028453,\n",
       "        0.09103476,  0.09070891, -0.05956765,  0.08236742,  0.        ,\n",
       "        0.        ,  0.        ,  0.08738669,  0.        , -0.0797838 ,\n",
       "        0.09405237,  0.        ,  0.        ,  0.04078887, -0.06545591,\n",
       "        0.        ,  0.        ,  0.08998009, -0.06933562,  0.03868101,\n",
       "       -0.05118008,  0.07230794, -0.07484695,  0.        , -0.07722823,\n",
       "       -0.06002911,  0.        ,  0.        ,  0.07755439,  0.        ,\n",
       "        0.        ,  0.        , -0.07655679,  0.06057255, -0.02943181,\n",
       "       -0.07317804, -0.0798188 ,  0.        ,  0.03415269,  0.05723423,\n",
       "        0.        ,  0.        ,  0.08562623,  0.        , -0.04879372,\n",
       "        0.        ,  0.        ,  0.        ,  0.09141182, -0.06826867,\n",
       "        0.        ,  0.        ,  0.0329981 ,  0.        , -0.05875447,\n",
       "        0.0573727 , -0.0594845 ,  0.08184835,  0.        ,  0.08720187,\n",
       "        0.        ,  0.02109645,  0.        ,  0.        ,  0.09461579,\n",
       "        0.02058149,  0.        ,  0.        ,  0.04198767,  0.        ,\n",
       "        0.        , -0.06070254, -0.06897399,  0.        ,  0.        ,\n",
       "        0.        ,  0.        , -0.07902983,  0.        ,  0.        ,\n",
       "        0.        ,  0.04401523,  0.06622159,  0.        ,  0.        ,\n",
       "       -0.0665267 ,  0.04130438,  0.00635307, -0.08309542,  0.        ,\n",
       "        0.        ,  0.08339653,  0.01847676,  0.08867913,  0.        ,\n",
       "        0.08310208,  0.        ,  0.        ,  0.08983473, -0.05417397,\n",
       "        0.09469224,  0.        ,  0.07932594,  0.        , -0.05199366,\n",
       "        0.        ,  0.07750439, -0.088186  ,  0.09030948, -0.031914  ,\n",
       "        0.        ,  0.        , -0.00595168,  0.        ,  0.        ,\n",
       "        0.        ,  0.        ,  0.        ,  0.        , -0.01309878,\n",
       "       -0.08544102, -0.06967542,  0.02103275, -0.0484506 ,  0.        ,\n",
       "        0.        ,  0.        , -0.06936216, -0.00851412,  0.07417078,\n",
       "        0.05762612,  0.        , -0.07339995, -0.07649896,  0.        ,\n",
       "        0.        ,  0.        , -0.07837249,  0.        ,  0.        ,\n",
       "        0.        ,  0.04380938, -0.07483177,  0.01941358,  0.09952429,\n",
       "        0.        , -0.0715383 ,  0.        ,  0.08800402,  0.        ,\n",
       "        0.        , -0.05814938,  0.08704055,  0.        ,  0.        ,\n",
       "       -0.0445428 ,  0.00967881, -0.07526217,  0.        ,  0.08501596,\n",
       "        0.        ,  0.        ,  0.09585193,  0.        ,  0.09196795,\n",
       "        0.07059532, -0.03816844, -0.06059471, -0.0059871 ,  0.10381135,\n",
       "        0.05847285,  0.        ,  0.07152468,  0.        ,  0.        ,\n",
       "       -0.06818434,  0.        ,  0.08098124,  0.09479393,  0.        ,\n",
       "       -0.07777429,  0.        , -0.07890727,  0.        ,  0.00808486,\n",
       "        0.        , -0.07048086, -0.05672825,  0.        , -0.07680714,\n",
       "        0.06678486,  0.0658609 , -0.07435396, -0.06336135,  0.        ,\n",
       "        0.        ,  0.02283746,  0.07826447,  0.        , -0.06565808,\n",
       "       -0.00976455,  0.        ,  0.        , -0.06501972, -0.0045608 ,\n",
       "        0.        , -0.08763591,  0.        , -0.07463754, -0.01808563,\n",
       "       -0.06023685, -0.05272418,  0.        ,  0.04954026,  0.        ,\n",
       "       -0.0653941 ,  0.        ,  0.07985295, -0.08375236,  0.07489125,\n",
       "        0.08607667,  0.        ,  0.08619615, -0.02778962,  0.07343524,\n",
       "        0.        ,  0.08572295,  0.        ,  0.        , -0.05865095],\n",
       "      dtype=float32)"
      ]
     },
     "execution_count": 19,
     "metadata": {},
     "output_type": "execute_result"
    }
   ],
   "source": [
    "b1"
   ]
  },
  {
   "cell_type": "code",
   "execution_count": 20,
   "metadata": {},
   "outputs": [
    {
     "data": {
      "text/plain": [
       "(1000,)"
      ]
     },
     "execution_count": 20,
     "metadata": {},
     "output_type": "execute_result"
    }
   ],
   "source": [
    "b1.shape"
   ]
  },
  {
   "cell_type": "markdown",
   "metadata": {},
   "source": [
    "### We can save the model and then load it as needed."
   ]
  },
  {
   "cell_type": "code",
   "execution_count": 21,
   "metadata": {},
   "outputs": [],
   "source": [
    "model.save(\"iris_model_final.h5\")"
   ]
  },
  {
   "cell_type": "code",
   "execution_count": 22,
   "metadata": {},
   "outputs": [],
   "source": [
    "model_new = keras.models.load_model(\"iris_model_final.h5\")"
   ]
  },
  {
   "cell_type": "code",
   "execution_count": 23,
   "metadata": {},
   "outputs": [
    {
     "name": "stdout",
     "output_type": "stream",
     "text": [
      "Model: \"sequential_2\"\n",
      "_________________________________________________________________\n",
      "Layer (type)                 Output Shape              Param #   \n",
      "=================================================================\n",
      "dense_6 (Dense)              (None, 1000)              3000      \n",
      "_________________________________________________________________\n",
      "dense_7 (Dense)              (None, 1000)              1001000   \n",
      "_________________________________________________________________\n",
      "dense_8 (Dense)              (None, 3)                 3003      \n",
      "=================================================================\n",
      "Total params: 1,007,003\n",
      "Trainable params: 1,007,003\n",
      "Non-trainable params: 0\n",
      "_________________________________________________________________\n"
     ]
    }
   ],
   "source": [
    "model_new.summary()"
   ]
  },
  {
   "cell_type": "markdown",
   "metadata": {},
   "source": [
    "### Let's try a larger dataset = the MNIST dataset."
   ]
  },
  {
   "cell_type": "code",
   "execution_count": 24,
   "metadata": {},
   "outputs": [],
   "source": [
    "import tensorflow.keras as keras\n",
    "\n",
    "(X_train, y_train), (X_test, y_test) = keras.datasets.mnist.load_data()"
   ]
  },
  {
   "cell_type": "markdown",
   "metadata": {},
   "source": [
    "### Scale the images to 0 - 1."
   ]
  },
  {
   "cell_type": "code",
   "execution_count": 25,
   "metadata": {},
   "outputs": [],
   "source": [
    "X_train = X_train / 255.\n",
    "X_test = X_test / 255."
   ]
  },
  {
   "cell_type": "markdown",
   "metadata": {},
   "source": [
    "### For now, let's use 10% of the data."
   ]
  },
  {
   "cell_type": "code",
   "execution_count": 26,
   "metadata": {},
   "outputs": [],
   "source": [
    "X_train = X_train[::10]\n",
    "X_test = X_test[::10]\n",
    "\n",
    "y_train = y_train[::10]\n",
    "y_test = y_test[::10]"
   ]
  },
  {
   "cell_type": "code",
   "execution_count": 27,
   "metadata": {},
   "outputs": [
    {
     "data": {
      "image/png": "[encoded data removed]",
      "text/plain": [
       "<Figure size 432x288 with 1 Axes>"
      ]
     },
     "metadata": {
      "needs_background": "light"
     },
     "output_type": "display_data"
    }
   ],
   "source": [
    "import matplotlib.pyplot as plt \n",
    "\n",
    "plt.imshow(X_train[0], cmap=\"binary\")\n",
    "plt.axis('off')\n",
    "plt.show()"
   ]
  },
  {
   "cell_type": "markdown",
   "metadata": {},
   "source": [
    "### TODO: Let's build a NN."
   ]
  },
  {
   "cell_type": "code",
   "execution_count": 28,
   "metadata": {},
   "outputs": [],
   "source": [
    "model = keras.models.Sequential()\n",
    "\n",
    "# We need to flatten the 2d input arrays to 1d arrays.\n",
    "model.add(keras.layers.Flatten(input_shape=[28, 28]))\n",
    "\n",
    "# Add a hidden layer having 1000 neurons and ReLU.\n",
    "model.add(keras.layers.Dense(1000, activation=\"relu\"))\n",
    "\n",
    "# Add another hidden layer having 1000 neurons and ReLU.\n",
    "model.add(keras.layers.Dense(1000, activation=\"relu\"))\n",
    "\n",
    "# Add an output layer having \"softmax\" activation function. How many neurons do you need for this layer?\n",
    "model.add(keras.layers.Dense(10, activation=\"softmax\"))"
   ]
  },
  {
   "cell_type": "markdown",
   "metadata": {},
   "source": [
    "### TODO: Print out the model summary and make sure things are correctly set up."
   ]
  },
  {
   "cell_type": "code",
   "execution_count": 29,
   "metadata": {},
   "outputs": [
    {
     "name": "stdout",
     "output_type": "stream",
     "text": [
      "Model: \"sequential_3\"\n",
      "_________________________________________________________________\n",
      "Layer (type)                 Output Shape              Param #   \n",
      "=================================================================\n",
      "flatten (Flatten)            (None, 784)               0         \n",
      "_________________________________________________________________\n",
      "dense_9 (Dense)              (None, 1000)              785000    \n",
      "_________________________________________________________________\n",
      "dense_10 (Dense)             (None, 1000)              1001000   \n",
      "_________________________________________________________________\n",
      "dense_11 (Dense)             (None, 10)                10010     \n",
      "=================================================================\n",
      "Total params: 1,796,010\n",
      "Trainable params: 1,796,010\n",
      "Non-trainable params: 0\n",
      "_________________________________________________________________\n"
     ]
    }
   ],
   "source": [
    "model.summary()"
   ]
  },
  {
   "cell_type": "markdown",
   "metadata": {},
   "source": [
    "### Compile the model. Let's first try Stochastic Gradient Descent with learning rate of 1.0e-3."
   ]
  },
  {
   "cell_type": "code",
   "execution_count": 30,
   "metadata": {},
   "outputs": [],
   "source": [
    "model.compile(loss=\"sparse_categorical_crossentropy\",\n",
    "              optimizer=keras.optimizers.SGD(learning_rate=1e-3),\n",
    "              metrics=[\"accuracy\"])"
   ]
  },
  {
   "cell_type": "code",
   "execution_count": null,
   "metadata": {},
   "outputs": [],
   "source": []
  },
  {
   "cell_type": "markdown",
   "metadata": {},
   "source": [
    "### TODO: Train the model using 100 epochs and 20 % of the data in the validation dataset."
   ]
  },
  {
   "cell_type": "code",
   "execution_count": 31,
   "metadata": {
    "collapsed": true,
    "jupyter": {
     "outputs_hidden": true
    },
    "tags": []
   },
   "outputs": [
    {
     "name": "stdout",
     "output_type": "stream",
     "text": [
      "Epoch 1/100\n",
      "150/150 [==============================] - 2s 10ms/step - loss: 2.2429 - accuracy: 0.2281 - val_loss: 2.1895 - val_accuracy: 0.3708\n",
      "Epoch 2/100\n",
      "150/150 [==============================] - 1s 9ms/step - loss: 2.1093 - accuracy: 0.4967 - val_loss: 2.0705 - val_accuracy: 0.5317\n",
      "Epoch 3/100\n",
      "150/150 [==============================] - 1s 9ms/step - loss: 1.9889 - accuracy: 0.6029 - val_loss: 1.9574 - val_accuracy: 0.6000\n",
      "Epoch 4/100\n",
      "150/150 [==============================] - 1s 9ms/step - loss: 1.8729 - accuracy: 0.6538 - val_loss: 1.8453 - val_accuracy: 0.6450\n",
      "Epoch 5/100\n",
      "150/150 [==============================] - 1s 9ms/step - loss: 1.7584 - accuracy: 0.7002 - val_loss: 1.7349 - val_accuracy: 0.6892\n",
      "Epoch 6/100\n",
      "150/150 [==============================] - 1s 10ms/step - loss: 1.6460 - accuracy: 0.7254 - val_loss: 1.6260 - val_accuracy: 0.7100\n",
      "Epoch 7/100\n",
      "150/150 [==============================] - 1s 9ms/step - loss: 1.5369 - accuracy: 0.7469 - val_loss: 1.5215 - val_accuracy: 0.7333\n",
      "Epoch 8/100\n",
      "150/150 [==============================] - 1s 9ms/step - loss: 1.4330 - accuracy: 0.7631 - val_loss: 1.4216 - val_accuracy: 0.7492\n",
      "Epoch 9/100\n",
      "150/150 [==============================] - 1s 9ms/step - loss: 1.3361 - accuracy: 0.7767 - val_loss: 1.3288 - val_accuracy: 0.7725\n",
      "Epoch 10/100\n",
      "150/150 [==============================] - 1s 9ms/step - loss: 1.2472 - accuracy: 0.7904 - val_loss: 1.2442 - val_accuracy: 0.7800\n",
      "Epoch 11/100\n",
      "150/150 [==============================] - 1s 9ms/step - loss: 1.1665 - accuracy: 0.7965 - val_loss: 1.1676 - val_accuracy: 0.7900\n",
      "Epoch 12/100\n",
      "150/150 [==============================] - 1s 9ms/step - loss: 1.0947 - accuracy: 0.8058 - val_loss: 1.0986 - val_accuracy: 0.7967\n",
      "Epoch 13/100\n",
      "150/150 [==============================] - 1s 9ms/step - loss: 1.0305 - accuracy: 0.8112 - val_loss: 1.0377 - val_accuracy: 0.8042\n",
      "Epoch 14/100\n",
      "150/150 [==============================] - 1s 9ms/step - loss: 0.9737 - accuracy: 0.8190 - val_loss: 0.9822 - val_accuracy: 0.8083\n",
      "Epoch 15/100\n",
      "150/150 [==============================] - 1s 9ms/step - loss: 0.9233 - accuracy: 0.8231 - val_loss: 0.9342 - val_accuracy: 0.8117\n",
      "Epoch 16/100\n",
      "150/150 [==============================] - 1s 9ms/step - loss: 0.8789 - accuracy: 0.8296 - val_loss: 0.8912 - val_accuracy: 0.8133\n",
      "Epoch 17/100\n",
      "150/150 [==============================] - 1s 10ms/step - loss: 0.8393 - accuracy: 0.8323 - val_loss: 0.8527 - val_accuracy: 0.8217\n",
      "Epoch 18/100\n",
      "150/150 [==============================] - 1s 10ms/step - loss: 0.8041 - accuracy: 0.8367 - val_loss: 0.8191 - val_accuracy: 0.8242\n",
      "Epoch 19/100\n",
      "150/150 [==============================] - 1s 10ms/step - loss: 0.7726 - accuracy: 0.8406 - val_loss: 0.7877 - val_accuracy: 0.8258\n",
      "Epoch 20/100\n",
      "150/150 [==============================] - 1s 10ms/step - loss: 0.7442 - accuracy: 0.8435 - val_loss: 0.7599 - val_accuracy: 0.8283\n",
      "Epoch 21/100\n",
      "150/150 [==============================] - 1s 10ms/step - loss: 0.7187 - accuracy: 0.8460 - val_loss: 0.7349 - val_accuracy: 0.8300\n",
      "Epoch 22/100\n",
      "150/150 [==============================] - 2s 10ms/step - loss: 0.6957 - accuracy: 0.8475 - val_loss: 0.7126 - val_accuracy: 0.8317\n",
      "Epoch 23/100\n",
      "150/150 [==============================] - 1s 9ms/step - loss: 0.6746 - accuracy: 0.8517 - val_loss: 0.6905 - val_accuracy: 0.8350\n",
      "Epoch 24/100\n",
      "150/150 [==============================] - 1s 9ms/step - loss: 0.6553 - accuracy: 0.8546 - val_loss: 0.6727 - val_accuracy: 0.8367\n",
      "Epoch 25/100\n",
      "150/150 [==============================] - 1s 9ms/step - loss: 0.6378 - accuracy: 0.8558 - val_loss: 0.6542 - val_accuracy: 0.8425\n",
      "Epoch 26/100\n",
      "150/150 [==============================] - 1s 9ms/step - loss: 0.6215 - accuracy: 0.8575 - val_loss: 0.6396 - val_accuracy: 0.8442\n",
      "Epoch 27/100\n",
      "150/150 [==============================] - 1s 10ms/step - loss: 0.6067 - accuracy: 0.8590 - val_loss: 0.6243 - val_accuracy: 0.8450\n",
      "Epoch 28/100\n",
      "150/150 [==============================] - 1s 9ms/step - loss: 0.5930 - accuracy: 0.8598 - val_loss: 0.6099 - val_accuracy: 0.8492\n",
      "Epoch 29/100\n",
      "150/150 [==============================] - 1s 9ms/step - loss: 0.5799 - accuracy: 0.8621 - val_loss: 0.5976 - val_accuracy: 0.8517\n",
      "Epoch 30/100\n",
      "150/150 [==============================] - 1s 10ms/step - loss: 0.5679 - accuracy: 0.8631 - val_loss: 0.5861 - val_accuracy: 0.8542\n",
      "Epoch 31/100\n",
      "150/150 [==============================] - 1s 10ms/step - loss: 0.5568 - accuracy: 0.8656 - val_loss: 0.5740 - val_accuracy: 0.8550\n",
      "Epoch 32/100\n",
      "150/150 [==============================] - 1s 10ms/step - loss: 0.5462 - accuracy: 0.8662 - val_loss: 0.5644 - val_accuracy: 0.8550\n",
      "Epoch 33/100\n",
      "150/150 [==============================] - 1s 10ms/step - loss: 0.5362 - accuracy: 0.8675 - val_loss: 0.5535 - val_accuracy: 0.8608\n",
      "Epoch 34/100\n",
      "150/150 [==============================] - 1s 9ms/step - loss: 0.5271 - accuracy: 0.8715 - val_loss: 0.5446 - val_accuracy: 0.8625\n",
      "Epoch 35/100\n",
      "150/150 [==============================] - 1s 10ms/step - loss: 0.5181 - accuracy: 0.8731 - val_loss: 0.5365 - val_accuracy: 0.8608\n",
      "Epoch 36/100\n",
      "150/150 [==============================] - 1s 10ms/step - loss: 0.5099 - accuracy: 0.8712 - val_loss: 0.5283 - val_accuracy: 0.8667\n",
      "Epoch 37/100\n",
      "150/150 [==============================] - 1s 10ms/step - loss: 0.5021 - accuracy: 0.8763 - val_loss: 0.5203 - val_accuracy: 0.8650\n",
      "Epoch 38/100\n",
      "150/150 [==============================] - 2s 10ms/step - loss: 0.4947 - accuracy: 0.8775 - val_loss: 0.5127 - val_accuracy: 0.8700\n",
      "Epoch 39/100\n",
      "150/150 [==============================] - 1s 10ms/step - loss: 0.4875 - accuracy: 0.8758 - val_loss: 0.5058 - val_accuracy: 0.8708\n",
      "Epoch 40/100\n",
      "150/150 [==============================] - 1s 10ms/step - loss: 0.4809 - accuracy: 0.8788 - val_loss: 0.4993 - val_accuracy: 0.8725\n",
      "Epoch 41/100\n",
      "150/150 [==============================] - 1s 10ms/step - loss: 0.4743 - accuracy: 0.8802 - val_loss: 0.4932 - val_accuracy: 0.8742\n",
      "Epoch 42/100\n",
      "150/150 [==============================] - 1s 10ms/step - loss: 0.4683 - accuracy: 0.8808 - val_loss: 0.4868 - val_accuracy: 0.8758\n",
      "Epoch 43/100\n",
      "150/150 [==============================] - 1s 9ms/step - loss: 0.4621 - accuracy: 0.8829 - val_loss: 0.4822 - val_accuracy: 0.8750\n",
      "Epoch 44/100\n",
      "150/150 [==============================] - 1s 9ms/step - loss: 0.4567 - accuracy: 0.8815 - val_loss: 0.4760 - val_accuracy: 0.8750\n",
      "Epoch 45/100\n",
      "150/150 [==============================] - 1s 9ms/step - loss: 0.4513 - accuracy: 0.8829 - val_loss: 0.4714 - val_accuracy: 0.8775\n",
      "Epoch 46/100\n",
      "150/150 [==============================] - 1s 9ms/step - loss: 0.4461 - accuracy: 0.8858 - val_loss: 0.4666 - val_accuracy: 0.8800\n",
      "Epoch 47/100\n",
      "150/150 [==============================] - 1s 9ms/step - loss: 0.4409 - accuracy: 0.8854 - val_loss: 0.4625 - val_accuracy: 0.8758\n",
      "Epoch 48/100\n",
      "150/150 [==============================] - 1s 9ms/step - loss: 0.4363 - accuracy: 0.8867 - val_loss: 0.4578 - val_accuracy: 0.8800\n",
      "Epoch 49/100\n",
      "150/150 [==============================] - 1s 9ms/step - loss: 0.4318 - accuracy: 0.8873 - val_loss: 0.4535 - val_accuracy: 0.8817\n",
      "Epoch 50/100\n",
      "150/150 [==============================] - 1s 9ms/step - loss: 0.4273 - accuracy: 0.8890 - val_loss: 0.4489 - val_accuracy: 0.8808\n",
      "Epoch 51/100\n",
      "150/150 [==============================] - 1s 9ms/step - loss: 0.4228 - accuracy: 0.8908 - val_loss: 0.4448 - val_accuracy: 0.8817\n",
      "Epoch 52/100\n",
      "150/150 [==============================] - 1s 9ms/step - loss: 0.4187 - accuracy: 0.8915 - val_loss: 0.4412 - val_accuracy: 0.8817\n",
      "Epoch 53/100\n",
      "150/150 [==============================] - 1s 9ms/step - loss: 0.4148 - accuracy: 0.8938 - val_loss: 0.4372 - val_accuracy: 0.8808\n",
      "Epoch 54/100\n",
      "150/150 [==============================] - 1s 10ms/step - loss: 0.4109 - accuracy: 0.8935 - val_loss: 0.4340 - val_accuracy: 0.8808\n",
      "Epoch 55/100\n",
      "150/150 [==============================] - 1s 10ms/step - loss: 0.4071 - accuracy: 0.8948 - val_loss: 0.4313 - val_accuracy: 0.8808\n",
      "Epoch 56/100\n",
      "150/150 [==============================] - 1s 10ms/step - loss: 0.4034 - accuracy: 0.8954 - val_loss: 0.4272 - val_accuracy: 0.8817\n",
      "Epoch 57/100\n",
      "150/150 [==============================] - 2s 10ms/step - loss: 0.3998 - accuracy: 0.8954 - val_loss: 0.4239 - val_accuracy: 0.8817\n",
      "Epoch 58/100\n",
      "150/150 [==============================] - 1s 10ms/step - loss: 0.3964 - accuracy: 0.8979 - val_loss: 0.4212 - val_accuracy: 0.8808\n",
      "Epoch 59/100\n",
      "150/150 [==============================] - 1s 10ms/step - loss: 0.3931 - accuracy: 0.8971 - val_loss: 0.4182 - val_accuracy: 0.8817\n",
      "Epoch 60/100\n",
      "150/150 [==============================] - 1s 10ms/step - loss: 0.3899 - accuracy: 0.8981 - val_loss: 0.4159 - val_accuracy: 0.8833\n",
      "Epoch 61/100\n",
      "150/150 [==============================] - 1s 10ms/step - loss: 0.3865 - accuracy: 0.8985 - val_loss: 0.4123 - val_accuracy: 0.8858\n",
      "Epoch 62/100\n",
      "150/150 [==============================] - 1s 9ms/step - loss: 0.3837 - accuracy: 0.8992 - val_loss: 0.4107 - val_accuracy: 0.8867\n",
      "Epoch 63/100\n",
      "150/150 [==============================] - 1s 10ms/step - loss: 0.3807 - accuracy: 0.8998 - val_loss: 0.4083 - val_accuracy: 0.8867\n",
      "Epoch 64/100\n",
      "150/150 [==============================] - 1s 10ms/step - loss: 0.3777 - accuracy: 0.9013 - val_loss: 0.4054 - val_accuracy: 0.8858\n",
      "Epoch 65/100\n",
      "150/150 [==============================] - 1s 9ms/step - loss: 0.3748 - accuracy: 0.9021 - val_loss: 0.4032 - val_accuracy: 0.8867\n",
      "Epoch 66/100\n",
      "150/150 [==============================] - 1s 9ms/step - loss: 0.3722 - accuracy: 0.9010 - val_loss: 0.4008 - val_accuracy: 0.8875\n",
      "Epoch 67/100\n",
      "150/150 [==============================] - 1s 10ms/step - loss: 0.3693 - accuracy: 0.9033 - val_loss: 0.3990 - val_accuracy: 0.8875\n",
      "Epoch 68/100\n",
      "150/150 [==============================] - 1s 9ms/step - loss: 0.3667 - accuracy: 0.9031 - val_loss: 0.3966 - val_accuracy: 0.8883\n",
      "Epoch 69/100\n",
      "150/150 [==============================] - 1s 9ms/step - loss: 0.3641 - accuracy: 0.9035 - val_loss: 0.3944 - val_accuracy: 0.8908\n",
      "Epoch 70/100\n",
      "150/150 [==============================] - 1s 9ms/step - loss: 0.3616 - accuracy: 0.9035 - val_loss: 0.3922 - val_accuracy: 0.8900\n",
      "Epoch 71/100\n",
      "150/150 [==============================] - 1s 9ms/step - loss: 0.3591 - accuracy: 0.9042 - val_loss: 0.3904 - val_accuracy: 0.8900\n",
      "Epoch 72/100\n",
      "150/150 [==============================] - 1s 9ms/step - loss: 0.3568 - accuracy: 0.9046 - val_loss: 0.3884 - val_accuracy: 0.8917\n",
      "Epoch 73/100\n",
      "150/150 [==============================] - 1s 9ms/step - loss: 0.3544 - accuracy: 0.9056 - val_loss: 0.3863 - val_accuracy: 0.8933\n",
      "Epoch 74/100\n",
      "150/150 [==============================] - 1s 9ms/step - loss: 0.3519 - accuracy: 0.9067 - val_loss: 0.3842 - val_accuracy: 0.8917\n",
      "Epoch 75/100\n",
      "150/150 [==============================] - 1s 9ms/step - loss: 0.3498 - accuracy: 0.9073 - val_loss: 0.3828 - val_accuracy: 0.8942\n",
      "Epoch 76/100\n",
      "150/150 [==============================] - 1s 9ms/step - loss: 0.3476 - accuracy: 0.9071 - val_loss: 0.3815 - val_accuracy: 0.8942\n",
      "Epoch 77/100\n",
      "150/150 [==============================] - 1s 9ms/step - loss: 0.3454 - accuracy: 0.9081 - val_loss: 0.3794 - val_accuracy: 0.8950\n",
      "Epoch 78/100\n",
      "150/150 [==============================] - 1s 9ms/step - loss: 0.3432 - accuracy: 0.9092 - val_loss: 0.3775 - val_accuracy: 0.8950\n",
      "Epoch 79/100\n",
      "150/150 [==============================] - 1s 9ms/step - loss: 0.3410 - accuracy: 0.9094 - val_loss: 0.3765 - val_accuracy: 0.8950\n",
      "Epoch 80/100\n",
      "150/150 [==============================] - 1s 9ms/step - loss: 0.3391 - accuracy: 0.9100 - val_loss: 0.3744 - val_accuracy: 0.8958\n",
      "Epoch 81/100\n",
      "150/150 [==============================] - 1s 9ms/step - loss: 0.3370 - accuracy: 0.9112 - val_loss: 0.3728 - val_accuracy: 0.8967\n",
      "Epoch 82/100\n",
      "150/150 [==============================] - 1s 9ms/step - loss: 0.3351 - accuracy: 0.9121 - val_loss: 0.3721 - val_accuracy: 0.8950\n",
      "Epoch 83/100\n",
      "150/150 [==============================] - 1s 9ms/step - loss: 0.3330 - accuracy: 0.9117 - val_loss: 0.3703 - val_accuracy: 0.8975\n",
      "Epoch 84/100\n",
      "150/150 [==============================] - 1s 9ms/step - loss: 0.3310 - accuracy: 0.9123 - val_loss: 0.3682 - val_accuracy: 0.8967\n",
      "Epoch 85/100\n",
      "150/150 [==============================] - 1s 9ms/step - loss: 0.3293 - accuracy: 0.9133 - val_loss: 0.3679 - val_accuracy: 0.8958\n",
      "Epoch 86/100\n",
      "150/150 [==============================] - 1s 10ms/step - loss: 0.3274 - accuracy: 0.9133 - val_loss: 0.3660 - val_accuracy: 0.8983\n",
      "Epoch 87/100\n",
      "150/150 [==============================] - 1s 10ms/step - loss: 0.3255 - accuracy: 0.9137 - val_loss: 0.3650 - val_accuracy: 0.8975\n",
      "Epoch 88/100\n",
      "150/150 [==============================] - 1s 9ms/step - loss: 0.3237 - accuracy: 0.9140 - val_loss: 0.3642 - val_accuracy: 0.8975\n",
      "Epoch 89/100\n",
      "150/150 [==============================] - 1s 9ms/step - loss: 0.3220 - accuracy: 0.9154 - val_loss: 0.3631 - val_accuracy: 0.8958\n",
      "Epoch 90/100\n",
      "150/150 [==============================] - 1s 9ms/step - loss: 0.3203 - accuracy: 0.9156 - val_loss: 0.3609 - val_accuracy: 0.8983\n",
      "Epoch 91/100\n",
      "150/150 [==============================] - 1s 9ms/step - loss: 0.3186 - accuracy: 0.9162 - val_loss: 0.3603 - val_accuracy: 0.8975\n",
      "Epoch 92/100\n",
      "150/150 [==============================] - 1s 9ms/step - loss: 0.3169 - accuracy: 0.9173 - val_loss: 0.3593 - val_accuracy: 0.8975\n",
      "Epoch 93/100\n",
      "150/150 [==============================] - 1s 9ms/step - loss: 0.3151 - accuracy: 0.9165 - val_loss: 0.3582 - val_accuracy: 0.8983\n",
      "Epoch 94/100\n",
      "150/150 [==============================] - 1s 9ms/step - loss: 0.3133 - accuracy: 0.9173 - val_loss: 0.3565 - val_accuracy: 0.8967\n",
      "Epoch 95/100\n",
      "150/150 [==============================] - 1s 9ms/step - loss: 0.3120 - accuracy: 0.9177 - val_loss: 0.3553 - val_accuracy: 0.8975\n",
      "Epoch 96/100\n",
      "150/150 [==============================] - 1s 9ms/step - loss: 0.3103 - accuracy: 0.9177 - val_loss: 0.3543 - val_accuracy: 0.8992\n",
      "Epoch 97/100\n",
      "150/150 [==============================] - 1s 9ms/step - loss: 0.3088 - accuracy: 0.9194 - val_loss: 0.3532 - val_accuracy: 0.8983\n",
      "Epoch 98/100\n",
      "150/150 [==============================] - 1s 9ms/step - loss: 0.3072 - accuracy: 0.9200 - val_loss: 0.3519 - val_accuracy: 0.8992\n",
      "Epoch 99/100\n",
      "150/150 [==============================] - 1s 9ms/step - loss: 0.3056 - accuracy: 0.9198 - val_loss: 0.3512 - val_accuracy: 0.8983\n",
      "Epoch 100/100\n",
      "150/150 [==============================] - 1s 9ms/step - loss: 0.3041 - accuracy: 0.9202 - val_loss: 0.3501 - val_accuracy: 0.8983\n"
     ]
    }
   ],
   "source": [
    "history = model.fit(X_train, y_train, epochs=100, validation_split=0.2)"
   ]
  },
  {
   "cell_type": "markdown",
   "metadata": {},
   "source": [
    "### Note that in each epoch, there are 150 steps (= mini batches)"
   ]
  },
  {
   "cell_type": "code",
   "execution_count": 32,
   "metadata": {},
   "outputs": [
    {
     "data": {
      "text/plain": [
       "(6000, 28, 28)"
      ]
     },
     "execution_count": 32,
     "metadata": {},
     "output_type": "execute_result"
    }
   ],
   "source": [
    "X_train.shape"
   ]
  },
  {
   "cell_type": "code",
   "execution_count": 33,
   "metadata": {},
   "outputs": [
    {
     "data": {
      "text/plain": [
       "150.0"
      ]
     },
     "execution_count": 33,
     "metadata": {},
     "output_type": "execute_result"
    }
   ],
   "source": [
    "X_train.shape[0]*0.8/32"
   ]
  },
  {
   "cell_type": "markdown",
   "metadata": {},
   "source": [
    "### TODO: Evaluate the model using the test dataset."
   ]
  },
  {
   "cell_type": "code",
   "execution_count": 34,
   "metadata": {},
   "outputs": [
    {
     "name": "stdout",
     "output_type": "stream",
     "text": [
      "Test loss: 0.3863213360309601\n",
      "Test accuracy: 0.8859999775886536\n"
     ]
    }
   ],
   "source": [
    "loss, accuracy = model.evaluate(X_test, y_test, verbose=0)\n",
    "print('Test loss:', loss)\n",
    "print('Test accuracy:', accuracy)"
   ]
  },
  {
   "cell_type": "markdown",
   "metadata": {},
   "source": [
    "### Let's check some of the results."
   ]
  },
  {
   "cell_type": "code",
   "execution_count": 35,
   "metadata": {},
   "outputs": [
    {
     "data": {
      "text/plain": [
       "array([[0.   , 0.   , 0.   , 0.001, 0.   , 0.   , 0.   , 0.994, 0.   ,\n",
       "        0.004]], dtype=float32)"
      ]
     },
     "execution_count": 35,
     "metadata": {},
     "output_type": "execute_result"
    },
    {
     "data": {
      "image/png": "[encoded data removed]",
      "text/plain": [
       "<Figure size 432x288 with 1 Axes>"
      ]
     },
     "metadata": {
      "needs_background": "light"
     },
     "output_type": "display_data"
    }
   ],
   "source": [
    "n = 0\n",
    "\n",
    "# Display the image.\n",
    "plt.imshow(X_test[n])\n",
    "\n",
    "# Model prediction: probability for each class.\n",
    "y_prob = model.predict(np.expand_dims(X_test[n], axis=0))\n",
    "y_prob.round(3)"
   ]
  },
  {
   "cell_type": "markdown",
   "metadata": {},
   "source": [
    "### The evaluation score is 88.8%, which is okay but not very impressive. Why? Can we improve the performance?"
   ]
  },
  {
   "cell_type": "markdown",
   "metadata": {},
   "source": [
    "### Let's check how loss and accuracy have evolved over the training."
   ]
  },
  {
   "cell_type": "code",
   "execution_count": 36,
   "metadata": {},
   "outputs": [
    {
     "data": {
      "text/plain": [
       "Text(0, 0.5, 'loss, validation loss')"
      ]
     },
     "execution_count": 36,
     "metadata": {},
     "output_type": "execute_result"
    },
    {
     "data": {
      "image/png": "[encoded data removed]",
      "text/plain": [
       "<Figure size 432x288 with 1 Axes>"
      ]
     },
     "metadata": {
      "needs_background": "light"
     },
     "output_type": "display_data"
    }
   ],
   "source": [
    "plt.plot(history.epoch, history.history['loss'],'.-')\n",
    "plt.plot(history.epoch, history.history['val_loss'],'.-')\n",
    "plt.xlabel('epoch')\n",
    "plt.ylabel('loss, validation loss')"
   ]
  },
  {
   "cell_type": "code",
   "execution_count": 37,
   "metadata": {},
   "outputs": [
    {
     "data": {
      "text/plain": [
       "Text(0, 0.5, 'accuracy, validation accuracy')"
      ]
     },
     "execution_count": 37,
     "metadata": {},
     "output_type": "execute_result"
    },
    {
     "data": {
      "image/png": "[encoded data removed]",
      "text/plain": [
       "<Figure size 432x288 with 1 Axes>"
      ]
     },
     "metadata": {
      "needs_background": "light"
     },
     "output_type": "display_data"
    }
   ],
   "source": [
    "plt.plot(history.epoch, history.history['accuracy'],'.-')\n",
    "plt.plot(history.epoch, history.history['val_accuracy'],'.-')\n",
    "plt.ylim(0.7,1)\n",
    "plt.xlabel('epoch')\n",
    "plt.ylabel('accuracy, validation accuracy')"
   ]
  },
  {
   "cell_type": "markdown",
   "metadata": {},
   "source": [
    "### It seems like the model is still underfitting. We can increase the number of epochs, but we can try to use the \"adam\" optimizer which will monitor and adjust the learning rate as the training proceeds."
   ]
  },
  {
   "cell_type": "code",
   "execution_count": 38,
   "metadata": {},
   "outputs": [],
   "source": [
    "model2 = keras.models.Sequential([\n",
    "    keras.layers.Flatten(input_shape=[28, 28]),\n",
    "    keras.layers.Dense(1000, activation=\"relu\"),\n",
    "    keras.layers.Dense(1000, activation=\"relu\"),\n",
    "    keras.layers.Dense(10, activation=\"softmax\")\n",
    "])"
   ]
  },
  {
   "cell_type": "code",
   "execution_count": 39,
   "metadata": {},
   "outputs": [
    {
     "name": "stdout",
     "output_type": "stream",
     "text": [
      "Model: \"sequential_4\"\n",
      "_________________________________________________________________\n",
      "Layer (type)                 Output Shape              Param #   \n",
      "=================================================================\n",
      "flatten_1 (Flatten)          (None, 784)               0         \n",
      "_________________________________________________________________\n",
      "dense_12 (Dense)             (None, 1000)              785000    \n",
      "_________________________________________________________________\n",
      "dense_13 (Dense)             (None, 1000)              1001000   \n",
      "_________________________________________________________________\n",
      "dense_14 (Dense)             (None, 10)                10010     \n",
      "=================================================================\n",
      "Total params: 1,796,010\n",
      "Trainable params: 1,796,010\n",
      "Non-trainable params: 0\n",
      "_________________________________________________________________\n"
     ]
    }
   ],
   "source": [
    "model2.summary()"
   ]
  },
  {
   "cell_type": "code",
   "execution_count": 40,
   "metadata": {},
   "outputs": [],
   "source": [
    "model2.compile(loss=\"sparse_categorical_crossentropy\",\n",
    "              optimizer=keras.optimizers.Adam(learning_rate=1e-3),\n",
    "              metrics=[\"accuracy\"])"
   ]
  },
  {
   "cell_type": "code",
   "execution_count": 41,
   "metadata": {
    "collapsed": true,
    "jupyter": {
     "outputs_hidden": true
    },
    "tags": []
   },
   "outputs": [
    {
     "name": "stdout",
     "output_type": "stream",
     "text": [
      "Epoch 1/100\n",
      "150/150 [==============================] - 2s 11ms/step - loss: 0.5112 - accuracy: 0.8415 - val_loss: 0.3137 - val_accuracy: 0.9042\n",
      "Epoch 2/100\n",
      "150/150 [==============================] - 2s 10ms/step - loss: 0.1772 - accuracy: 0.9446 - val_loss: 0.2580 - val_accuracy: 0.9175\n",
      "Epoch 3/100\n",
      "150/150 [==============================] - 2s 11ms/step - loss: 0.1049 - accuracy: 0.9667 - val_loss: 0.2508 - val_accuracy: 0.9217\n",
      "Epoch 4/100\n",
      "150/150 [==============================] - 2s 11ms/step - loss: 0.0825 - accuracy: 0.9754 - val_loss: 0.2646 - val_accuracy: 0.9342\n",
      "Epoch 5/100\n",
      "150/150 [==============================] - 2s 12ms/step - loss: 0.0477 - accuracy: 0.9837 - val_loss: 0.2842 - val_accuracy: 0.9217\n",
      "Epoch 6/100\n",
      "150/150 [==============================] - 2s 11ms/step - loss: 0.0360 - accuracy: 0.9887 - val_loss: 0.3453 - val_accuracy: 0.9183\n",
      "Epoch 7/100\n",
      "150/150 [==============================] - 2s 11ms/step - loss: 0.0418 - accuracy: 0.9837 - val_loss: 0.2528 - val_accuracy: 0.9425\n",
      "Epoch 8/100\n",
      "150/150 [==============================] - 2s 11ms/step - loss: 0.0397 - accuracy: 0.9885 - val_loss: 0.3679 - val_accuracy: 0.9133\n",
      "Epoch 9/100\n",
      "150/150 [==============================] - 2s 11ms/step - loss: 0.0301 - accuracy: 0.9910 - val_loss: 0.3633 - val_accuracy: 0.9283\n",
      "Epoch 10/100\n",
      "150/150 [==============================] - 2s 11ms/step - loss: 0.0353 - accuracy: 0.9883 - val_loss: 0.2822 - val_accuracy: 0.9425\n",
      "Epoch 11/100\n",
      "150/150 [==============================] - 2s 12ms/step - loss: 0.0158 - accuracy: 0.9950 - val_loss: 0.3604 - val_accuracy: 0.9300\n",
      "Epoch 12/100\n",
      "150/150 [==============================] - 2s 11ms/step - loss: 0.0251 - accuracy: 0.9933 - val_loss: 0.2832 - val_accuracy: 0.9417\n",
      "Epoch 13/100\n",
      "150/150 [==============================] - 2s 11ms/step - loss: 0.0212 - accuracy: 0.9937 - val_loss: 0.2726 - val_accuracy: 0.9508\n",
      "Epoch 14/100\n",
      "150/150 [==============================] - 2s 11ms/step - loss: 0.0178 - accuracy: 0.9956 - val_loss: 0.4102 - val_accuracy: 0.9292\n",
      "Epoch 15/100\n",
      "150/150 [==============================] - 2s 11ms/step - loss: 0.0261 - accuracy: 0.9923 - val_loss: 0.4414 - val_accuracy: 0.9258\n",
      "Epoch 16/100\n",
      "150/150 [==============================] - 2s 10ms/step - loss: 0.0317 - accuracy: 0.9915 - val_loss: 0.4562 - val_accuracy: 0.9175\n",
      "Epoch 17/100\n",
      "150/150 [==============================] - 2s 10ms/step - loss: 0.0490 - accuracy: 0.9860 - val_loss: 0.4666 - val_accuracy: 0.9217\n",
      "Epoch 18/100\n",
      "150/150 [==============================] - 2s 11ms/step - loss: 0.0217 - accuracy: 0.9921 - val_loss: 0.3805 - val_accuracy: 0.9392\n",
      "Epoch 19/100\n",
      "150/150 [==============================] - 2s 11ms/step - loss: 0.0114 - accuracy: 0.9967 - val_loss: 0.3313 - val_accuracy: 0.9450\n",
      "Epoch 20/100\n",
      "150/150 [==============================] - 2s 11ms/step - loss: 0.0071 - accuracy: 0.9977 - val_loss: 0.4813 - val_accuracy: 0.9275\n",
      "Epoch 21/100\n",
      "150/150 [==============================] - 2s 11ms/step - loss: 0.0226 - accuracy: 0.9946 - val_loss: 0.3831 - val_accuracy: 0.9325\n",
      "Epoch 22/100\n",
      "150/150 [==============================] - 2s 11ms/step - loss: 0.0129 - accuracy: 0.9965 - val_loss: 0.3974 - val_accuracy: 0.9375\n",
      "Epoch 23/100\n",
      "150/150 [==============================] - 2s 11ms/step - loss: 0.0202 - accuracy: 0.9942 - val_loss: 0.5216 - val_accuracy: 0.9233\n",
      "Epoch 24/100\n",
      "150/150 [==============================] - 2s 11ms/step - loss: 0.0450 - accuracy: 0.9896 - val_loss: 0.4769 - val_accuracy: 0.9300\n",
      "Epoch 25/100\n",
      "150/150 [==============================] - 2s 11ms/step - loss: 0.0166 - accuracy: 0.9942 - val_loss: 0.3825 - val_accuracy: 0.9367\n",
      "Epoch 26/100\n",
      "150/150 [==============================] - 2s 12ms/step - loss: 0.0051 - accuracy: 0.9983 - val_loss: 0.3470 - val_accuracy: 0.9408\n",
      "Epoch 27/100\n",
      "150/150 [==============================] - 2s 11ms/step - loss: 0.0014 - accuracy: 0.9996 - val_loss: 0.3279 - val_accuracy: 0.9392\n",
      "Epoch 28/100\n",
      "150/150 [==============================] - 2s 11ms/step - loss: 0.0020 - accuracy: 0.9998 - val_loss: 0.3235 - val_accuracy: 0.9425\n",
      "Epoch 29/100\n",
      "150/150 [==============================] - 2s 11ms/step - loss: 5.5829e-05 - accuracy: 1.0000 - val_loss: 0.3257 - val_accuracy: 0.9433\n",
      "Epoch 30/100\n",
      "150/150 [==============================] - 2s 10ms/step - loss: 4.4839e-05 - accuracy: 1.0000 - val_loss: 0.3274 - val_accuracy: 0.9425\n",
      "Epoch 31/100\n",
      "150/150 [==============================] - 2s 10ms/step - loss: 3.7778e-05 - accuracy: 1.0000 - val_loss: 0.3292 - val_accuracy: 0.9433\n",
      "Epoch 32/100\n",
      "150/150 [==============================] - 2s 11ms/step - loss: 3.2555e-05 - accuracy: 1.0000 - val_loss: 0.3309 - val_accuracy: 0.9425\n",
      "Epoch 33/100\n",
      "150/150 [==============================] - 2s 10ms/step - loss: 2.8494e-05 - accuracy: 1.0000 - val_loss: 0.3323 - val_accuracy: 0.9425\n",
      "Epoch 34/100\n",
      "150/150 [==============================] - 2s 11ms/step - loss: 2.5240e-05 - accuracy: 1.0000 - val_loss: 0.3340 - val_accuracy: 0.9425\n",
      "Epoch 35/100\n",
      "150/150 [==============================] - 2s 11ms/step - loss: 2.2432e-05 - accuracy: 1.0000 - val_loss: 0.3354 - val_accuracy: 0.9425\n",
      "Epoch 36/100\n",
      "150/150 [==============================] - 2s 12ms/step - loss: 2.0091e-05 - accuracy: 1.0000 - val_loss: 0.3370 - val_accuracy: 0.9450\n",
      "Epoch 37/100\n",
      "150/150 [==============================] - 2s 11ms/step - loss: 1.8049e-05 - accuracy: 1.0000 - val_loss: 0.3384 - val_accuracy: 0.9450\n",
      "Epoch 38/100\n",
      "150/150 [==============================] - 2s 11ms/step - loss: 1.6271e-05 - accuracy: 1.0000 - val_loss: 0.3400 - val_accuracy: 0.9450\n",
      "Epoch 39/100\n",
      "150/150 [==============================] - 2s 11ms/step - loss: 1.4719e-05 - accuracy: 1.0000 - val_loss: 0.3416 - val_accuracy: 0.9450\n",
      "Epoch 40/100\n",
      "150/150 [==============================] - 2s 11ms/step - loss: 1.3304e-05 - accuracy: 1.0000 - val_loss: 0.3432 - val_accuracy: 0.9450\n",
      "Epoch 41/100\n",
      "150/150 [==============================] - 2s 10ms/step - loss: 1.2047e-05 - accuracy: 1.0000 - val_loss: 0.3446 - val_accuracy: 0.9450\n",
      "Epoch 42/100\n",
      "150/150 [==============================] - 2s 11ms/step - loss: 1.0913e-05 - accuracy: 1.0000 - val_loss: 0.3463 - val_accuracy: 0.9450\n",
      "Epoch 43/100\n",
      "150/150 [==============================] - 2s 10ms/step - loss: 9.9060e-06 - accuracy: 1.0000 - val_loss: 0.3478 - val_accuracy: 0.9450\n",
      "Epoch 44/100\n",
      "150/150 [==============================] - 2s 10ms/step - loss: 8.9835e-06 - accuracy: 1.0000 - val_loss: 0.3496 - val_accuracy: 0.9450\n",
      "Epoch 45/100\n",
      "150/150 [==============================] - 2s 10ms/step - loss: 8.1699e-06 - accuracy: 1.0000 - val_loss: 0.3512 - val_accuracy: 0.9450\n",
      "Epoch 46/100\n",
      "150/150 [==============================] - 2s 10ms/step - loss: 7.4393e-06 - accuracy: 1.0000 - val_loss: 0.3529 - val_accuracy: 0.9450\n",
      "Epoch 47/100\n",
      "150/150 [==============================] - 2s 10ms/step - loss: 6.7560e-06 - accuracy: 1.0000 - val_loss: 0.3547 - val_accuracy: 0.9450\n",
      "Epoch 48/100\n",
      "150/150 [==============================] - 2s 10ms/step - loss: 6.1453e-06 - accuracy: 1.0000 - val_loss: 0.3566 - val_accuracy: 0.9450\n",
      "Epoch 49/100\n",
      "150/150 [==============================] - 2s 11ms/step - loss: 5.5973e-06 - accuracy: 1.0000 - val_loss: 0.3585 - val_accuracy: 0.9450\n",
      "Epoch 50/100\n",
      "150/150 [==============================] - 2s 10ms/step - loss: 5.0834e-06 - accuracy: 1.0000 - val_loss: 0.3603 - val_accuracy: 0.9458\n",
      "Epoch 51/100\n",
      "150/150 [==============================] - 2s 10ms/step - loss: 4.6211e-06 - accuracy: 1.0000 - val_loss: 0.3624 - val_accuracy: 0.9458\n",
      "Epoch 52/100\n",
      "150/150 [==============================] - 2s 10ms/step - loss: 4.2147e-06 - accuracy: 1.0000 - val_loss: 0.3646 - val_accuracy: 0.9458\n",
      "Epoch 53/100\n",
      "150/150 [==============================] - 2s 11ms/step - loss: 3.8095e-06 - accuracy: 1.0000 - val_loss: 0.3671 - val_accuracy: 0.9458\n",
      "Epoch 54/100\n",
      "150/150 [==============================] - 2s 11ms/step - loss: 3.4414e-06 - accuracy: 1.0000 - val_loss: 0.3696 - val_accuracy: 0.9458\n",
      "Epoch 55/100\n",
      "150/150 [==============================] - 2s 11ms/step - loss: 3.0990e-06 - accuracy: 1.0000 - val_loss: 0.3721 - val_accuracy: 0.9458\n",
      "Epoch 56/100\n",
      "150/150 [==============================] - 2s 11ms/step - loss: 2.7528e-06 - accuracy: 1.0000 - val_loss: 0.3759 - val_accuracy: 0.9450\n",
      "Epoch 57/100\n",
      "150/150 [==============================] - 2s 11ms/step - loss: 2.3575e-06 - accuracy: 1.0000 - val_loss: 0.3818 - val_accuracy: 0.9450\n",
      "Epoch 58/100\n",
      "150/150 [==============================] - 2s 10ms/step - loss: 1.9110e-06 - accuracy: 1.0000 - val_loss: 0.3897 - val_accuracy: 0.9450\n",
      "Epoch 59/100\n",
      "150/150 [==============================] - 2s 10ms/step - loss: 1.4860e-06 - accuracy: 1.0000 - val_loss: 0.3994 - val_accuracy: 0.9450\n",
      "Epoch 60/100\n",
      "150/150 [==============================] - 2s 11ms/step - loss: 1.1177e-06 - accuracy: 1.0000 - val_loss: 0.4103 - val_accuracy: 0.9458\n",
      "Epoch 61/100\n",
      "150/150 [==============================] - 2s 10ms/step - loss: 8.4039e-07 - accuracy: 1.0000 - val_loss: 0.4210 - val_accuracy: 0.9458\n",
      "Epoch 62/100\n",
      "150/150 [==============================] - 2s 11ms/step - loss: 6.4191e-07 - accuracy: 1.0000 - val_loss: 0.4297 - val_accuracy: 0.9467\n",
      "Epoch 63/100\n",
      "150/150 [==============================] - 2s 11ms/step - loss: 5.0311e-07 - accuracy: 1.0000 - val_loss: 0.4384 - val_accuracy: 0.9467\n",
      "Epoch 64/100\n",
      "150/150 [==============================] - 2s 10ms/step - loss: 4.0580e-07 - accuracy: 1.0000 - val_loss: 0.4468 - val_accuracy: 0.9467\n",
      "Epoch 65/100\n",
      "150/150 [==============================] - 2s 11ms/step - loss: 3.3493e-07 - accuracy: 1.0000 - val_loss: 0.4531 - val_accuracy: 0.9467\n",
      "Epoch 66/100\n",
      "150/150 [==============================] - 2s 11ms/step - loss: 2.8049e-07 - accuracy: 1.0000 - val_loss: 0.4605 - val_accuracy: 0.9467\n",
      "Epoch 67/100\n",
      "150/150 [==============================] - 2s 11ms/step - loss: 2.3988e-07 - accuracy: 1.0000 - val_loss: 0.4666 - val_accuracy: 0.9467\n",
      "Epoch 68/100\n",
      "150/150 [==============================] - 2s 11ms/step - loss: 2.0745e-07 - accuracy: 1.0000 - val_loss: 0.4723 - val_accuracy: 0.9467\n",
      "Epoch 69/100\n",
      "150/150 [==============================] - 2s 11ms/step - loss: 1.8100e-07 - accuracy: 1.0000 - val_loss: 0.4772 - val_accuracy: 0.9467\n",
      "Epoch 70/100\n",
      "150/150 [==============================] - 2s 11ms/step - loss: 1.6029e-07 - accuracy: 1.0000 - val_loss: 0.4819 - val_accuracy: 0.9467\n",
      "Epoch 71/100\n",
      "150/150 [==============================] - 2s 11ms/step - loss: 1.4293e-07 - accuracy: 1.0000 - val_loss: 0.4870 - val_accuracy: 0.9467\n",
      "Epoch 72/100\n",
      "150/150 [==============================] - 2s 11ms/step - loss: 1.2812e-07 - accuracy: 1.0000 - val_loss: 0.4906 - val_accuracy: 0.9467\n",
      "Epoch 73/100\n",
      "150/150 [==============================] - 2s 11ms/step - loss: 1.1553e-07 - accuracy: 1.0000 - val_loss: 0.4950 - val_accuracy: 0.9467\n",
      "Epoch 74/100\n",
      "150/150 [==============================] - 2s 11ms/step - loss: 1.0441e-07 - accuracy: 1.0000 - val_loss: 0.4991 - val_accuracy: 0.9467\n",
      "Epoch 75/100\n",
      "150/150 [==============================] - 2s 11ms/step - loss: 9.5616e-08 - accuracy: 1.0000 - val_loss: 0.5017 - val_accuracy: 0.9467\n",
      "Epoch 76/100\n",
      "150/150 [==============================] - 2s 11ms/step - loss: 8.8264e-08 - accuracy: 1.0000 - val_loss: 0.5062 - val_accuracy: 0.9467\n",
      "Epoch 77/100\n",
      "150/150 [==============================] - 2s 11ms/step - loss: 8.0988e-08 - accuracy: 1.0000 - val_loss: 0.5096 - val_accuracy: 0.9467\n",
      "Epoch 78/100\n",
      "150/150 [==============================] - 2s 11ms/step - loss: 7.4282e-08 - accuracy: 1.0000 - val_loss: 0.5123 - val_accuracy: 0.9467\n",
      "Epoch 79/100\n",
      "150/150 [==============================] - 2s 11ms/step - loss: 6.9166e-08 - accuracy: 1.0000 - val_loss: 0.5160 - val_accuracy: 0.9458\n",
      "Epoch 80/100\n",
      "150/150 [==============================] - 2s 11ms/step - loss: 6.4721e-08 - accuracy: 1.0000 - val_loss: 0.5183 - val_accuracy: 0.9458\n",
      "Epoch 81/100\n",
      "150/150 [==============================] - 2s 11ms/step - loss: 6.0275e-08 - accuracy: 1.0000 - val_loss: 0.5219 - val_accuracy: 0.9450\n",
      "Epoch 82/100\n",
      "150/150 [==============================] - 2s 11ms/step - loss: 5.5631e-08 - accuracy: 1.0000 - val_loss: 0.5238 - val_accuracy: 0.9458\n",
      "Epoch 83/100\n",
      "150/150 [==============================] - 2s 10ms/step - loss: 5.2229e-08 - accuracy: 1.0000 - val_loss: 0.5260 - val_accuracy: 0.9458\n",
      "Epoch 84/100\n",
      "150/150 [==============================] - 2s 10ms/step - loss: 4.8975e-08 - accuracy: 1.0000 - val_loss: 0.5281 - val_accuracy: 0.9458\n",
      "Epoch 85/100\n",
      "150/150 [==============================] - 2s 11ms/step - loss: 4.5945e-08 - accuracy: 1.0000 - val_loss: 0.5315 - val_accuracy: 0.9450\n",
      "Epoch 86/100\n",
      "150/150 [==============================] - 2s 11ms/step - loss: 4.3437e-08 - accuracy: 1.0000 - val_loss: 0.5345 - val_accuracy: 0.9450\n",
      "Epoch 87/100\n",
      "150/150 [==============================] - 2s 11ms/step - loss: 4.0755e-08 - accuracy: 1.0000 - val_loss: 0.5360 - val_accuracy: 0.9450\n",
      "Epoch 88/100\n",
      "150/150 [==============================] - 2s 11ms/step - loss: 3.8271e-08 - accuracy: 1.0000 - val_loss: 0.5363 - val_accuracy: 0.9458\n",
      "Epoch 89/100\n",
      "150/150 [==============================] - 2s 10ms/step - loss: 3.6384e-08 - accuracy: 1.0000 - val_loss: 0.5389 - val_accuracy: 0.9458\n",
      "Epoch 90/100\n",
      "150/150 [==============================] - 2s 11ms/step - loss: 3.4248e-08 - accuracy: 1.0000 - val_loss: 0.5415 - val_accuracy: 0.9450\n",
      "Epoch 91/100\n",
      "150/150 [==============================] - 2s 11ms/step - loss: 3.2261e-08 - accuracy: 1.0000 - val_loss: 0.5435 - val_accuracy: 0.9450\n",
      "Epoch 92/100\n",
      "150/150 [==============================] - 2s 10ms/step - loss: 3.0746e-08 - accuracy: 1.0000 - val_loss: 0.5451 - val_accuracy: 0.9450\n",
      "Epoch 93/100\n",
      "150/150 [==============================] - 2s 10ms/step - loss: 2.9132e-08 - accuracy: 1.0000 - val_loss: 0.5456 - val_accuracy: 0.9450\n",
      "Epoch 94/100\n",
      "150/150 [==============================] - 2s 11ms/step - loss: 2.7716e-08 - accuracy: 1.0000 - val_loss: 0.5476 - val_accuracy: 0.9450\n",
      "Epoch 95/100\n",
      "150/150 [==============================] - 2s 11ms/step - loss: 2.6127e-08 - accuracy: 1.0000 - val_loss: 0.5502 - val_accuracy: 0.9450\n",
      "Epoch 96/100\n",
      "150/150 [==============================] - 2s 11ms/step - loss: 2.4835e-08 - accuracy: 1.0000 - val_loss: 0.5515 - val_accuracy: 0.9450\n",
      "Epoch 97/100\n",
      "150/150 [==============================] - 2s 11ms/step - loss: 2.3618e-08 - accuracy: 1.0000 - val_loss: 0.5535 - val_accuracy: 0.9450\n",
      "Epoch 98/100\n",
      "150/150 [==============================] - 2s 11ms/step - loss: 2.2501e-08 - accuracy: 1.0000 - val_loss: 0.5551 - val_accuracy: 0.9450\n",
      "Epoch 99/100\n",
      "150/150 [==============================] - 2s 11ms/step - loss: 2.1781e-08 - accuracy: 1.0000 - val_loss: 0.5562 - val_accuracy: 0.9458\n",
      "Epoch 100/100\n",
      "150/150 [==============================] - 2s 11ms/step - loss: 2.0439e-08 - accuracy: 1.0000 - val_loss: 0.5576 - val_accuracy: 0.9458\n"
     ]
    }
   ],
   "source": [
    "history2 = model2.fit(X_train, y_train, epochs=100, validation_split=0.2)"
   ]
  },
  {
   "cell_type": "code",
   "execution_count": 50,
   "metadata": {},
   "outputs": [
    {
     "name": "stdout",
     "output_type": "stream",
     "text": [
      "Test loss: 0.36899930238723755\n",
      "Test accuracy: 0.8902000188827515\n"
     ]
    }
   ],
   "source": [
    "loss, accuracy = model2.evaluate(X_test, y_test, verbose=0)\n",
    "print('Test loss:', loss)\n",
    "print('Test accuracy:', accuracy)"
   ]
  },
  {
   "cell_type": "markdown",
   "metadata": {},
   "source": [
    "### Let's check how loss and accuracy have evolved over the training."
   ]
  },
  {
   "cell_type": "code",
   "execution_count": 42,
   "metadata": {},
   "outputs": [
    {
     "data": {
      "text/plain": [
       "Text(0, 0.5, 'loss, validation loss')"
      ]
     },
     "execution_count": 42,
     "metadata": {},
     "output_type": "execute_result"
    },
    {
     "data": {
      "image/png": "[encoded data removed]",
      "text/plain": [
       "<Figure size 432x288 with 1 Axes>"
      ]
     },
     "metadata": {
      "needs_background": "light"
     },
     "output_type": "display_data"
    }
   ],
   "source": [
    "plt.plot(history2.epoch, history2.history['loss'],'.-')\n",
    "plt.plot(history2.epoch, history2.history['val_loss'],'.-')\n",
    "plt.xlabel('epoch')\n",
    "plt.ylabel('loss, validation loss')"
   ]
  },
  {
   "cell_type": "code",
   "execution_count": 43,
   "metadata": {},
   "outputs": [
    {
     "data": {
      "text/plain": [
       "Text(0, 0.5, 'accuracy, validation accuracy')"
      ]
     },
     "execution_count": 43,
     "metadata": {},
     "output_type": "execute_result"
    },
    {
     "data": {
      "image/png": "[encoded data removed]",
      "text/plain": [
       "<Figure size 432x288 with 1 Axes>"
      ]
     },
     "metadata": {
      "needs_background": "light"
     },
     "output_type": "display_data"
    }
   ],
   "source": [
    "plt.plot(history2.epoch, history2.history['accuracy'],'.-')\n",
    "plt.plot(history2.epoch, history2.history['val_accuracy'],'.-')\n",
    "plt.ylim(0.9,1.01)\n",
    "plt.xlabel('epoch')\n",
    "plt.ylabel('accuracy, validation accuracy')"
   ]
  },
  {
   "cell_type": "markdown",
   "metadata": {},
   "source": [
    "### Adam optimizer turned out to be extremely efficient! That's good but in this case do we have to train the model for the entire 100 epochs?"
   ]
  },
  {
   "cell_type": "markdown",
   "metadata": {},
   "source": [
    "### Early stopping"
   ]
  },
  {
   "cell_type": "code",
   "execution_count": 44,
   "metadata": {},
   "outputs": [],
   "source": [
    "model2 = keras.models.Sequential([\n",
    "    keras.layers.Flatten(input_shape=[28, 28]),\n",
    "    keras.layers.Dense(1000, activation=\"relu\"),\n",
    "    keras.layers.Dense(1000, activation=\"relu\"),\n",
    "    keras.layers.Dense(10, activation=\"softmax\")\n",
    "])"
   ]
  },
  {
   "cell_type": "code",
   "execution_count": 45,
   "metadata": {},
   "outputs": [],
   "source": [
    "model2.compile(loss=\"sparse_categorical_crossentropy\",\n",
    "              optimizer=keras.optimizers.Adam(learning_rate=1e-3),\n",
    "              metrics=[\"accuracy\"])"
   ]
  },
  {
   "cell_type": "code",
   "execution_count": 46,
   "metadata": {
    "collapsed": true,
    "jupyter": {
     "outputs_hidden": true
    },
    "tags": []
   },
   "outputs": [
    {
     "name": "stdout",
     "output_type": "stream",
     "text": [
      "Epoch 1/100\n",
      "150/150 [==============================] - 2s 12ms/step - loss: 0.5239 - accuracy: 0.8342 - val_loss: 0.2839 - val_accuracy: 0.9075\n",
      "Epoch 2/100\n",
      "150/150 [==============================] - 2s 11ms/step - loss: 0.1780 - accuracy: 0.9440 - val_loss: 0.2841 - val_accuracy: 0.9125\n",
      "Epoch 3/100\n",
      "150/150 [==============================] - 2s 11ms/step - loss: 0.0884 - accuracy: 0.9725 - val_loss: 0.2605 - val_accuracy: 0.9258\n",
      "Epoch 4/100\n",
      "150/150 [==============================] - 2s 11ms/step - loss: 0.0651 - accuracy: 0.9783 - val_loss: 0.2672 - val_accuracy: 0.9333\n",
      "Epoch 5/100\n",
      "150/150 [==============================] - 2s 11ms/step - loss: 0.0561 - accuracy: 0.9829 - val_loss: 0.2825 - val_accuracy: 0.9342\n",
      "Epoch 6/100\n",
      "150/150 [==============================] - 2s 11ms/step - loss: 0.0347 - accuracy: 0.9887 - val_loss: 0.2614 - val_accuracy: 0.9358\n",
      "Epoch 7/100\n",
      "150/150 [==============================] - 2s 11ms/step - loss: 0.0310 - accuracy: 0.9892 - val_loss: 0.3240 - val_accuracy: 0.9383\n",
      "Epoch 8/100\n",
      "150/150 [==============================] - 2s 11ms/step - loss: 0.0289 - accuracy: 0.9919 - val_loss: 0.2946 - val_accuracy: 0.9375\n",
      "Epoch 9/100\n",
      "150/150 [==============================] - 2s 11ms/step - loss: 0.0327 - accuracy: 0.9896 - val_loss: 0.3644 - val_accuracy: 0.9308\n",
      "Epoch 10/100\n",
      "150/150 [==============================] - 2s 11ms/step - loss: 0.0221 - accuracy: 0.9923 - val_loss: 0.3080 - val_accuracy: 0.9325\n",
      "Epoch 11/100\n",
      "150/150 [==============================] - 2s 10ms/step - loss: 0.0145 - accuracy: 0.9956 - val_loss: 0.3221 - val_accuracy: 0.9400\n",
      "Epoch 12/100\n",
      "150/150 [==============================] - 2s 11ms/step - loss: 0.0372 - accuracy: 0.9887 - val_loss: 0.3998 - val_accuracy: 0.9292\n",
      "Epoch 13/100\n",
      "150/150 [==============================] - 2s 11ms/step - loss: 0.0365 - accuracy: 0.9890 - val_loss: 0.3446 - val_accuracy: 0.9392\n",
      "Epoch 14/100\n",
      "150/150 [==============================] - 2s 11ms/step - loss: 0.0209 - accuracy: 0.9927 - val_loss: 0.3872 - val_accuracy: 0.9350\n",
      "Epoch 15/100\n",
      "150/150 [==============================] - 2s 11ms/step - loss: 0.0290 - accuracy: 0.9925 - val_loss: 0.3771 - val_accuracy: 0.9417\n",
      "Epoch 16/100\n",
      "150/150 [==============================] - 2s 11ms/step - loss: 0.0245 - accuracy: 0.9923 - val_loss: 0.4258 - val_accuracy: 0.9317\n",
      "Epoch 17/100\n",
      "150/150 [==============================] - 2s 11ms/step - loss: 0.0450 - accuracy: 0.9865 - val_loss: 0.3354 - val_accuracy: 0.9375\n",
      "Epoch 18/100\n",
      "150/150 [==============================] - 2s 11ms/step - loss: 0.0084 - accuracy: 0.9973 - val_loss: 0.3457 - val_accuracy: 0.9467\n",
      "Epoch 19/100\n",
      "150/150 [==============================] - 2s 11ms/step - loss: 9.4606e-04 - accuracy: 1.0000 - val_loss: 0.3208 - val_accuracy: 0.9475\n",
      "Epoch 20/100\n",
      "150/150 [==============================] - 2s 11ms/step - loss: 1.8490e-04 - accuracy: 1.0000 - val_loss: 0.3193 - val_accuracy: 0.9492\n",
      "Epoch 21/100\n",
      "150/150 [==============================] - 2s 11ms/step - loss: 9.0818e-05 - accuracy: 1.0000 - val_loss: 0.3218 - val_accuracy: 0.9517\n",
      "Epoch 22/100\n",
      "150/150 [==============================] - 2s 11ms/step - loss: 7.2467e-05 - accuracy: 1.0000 - val_loss: 0.3241 - val_accuracy: 0.9517\n",
      "Epoch 23/100\n",
      "150/150 [==============================] - 2s 11ms/step - loss: 6.0187e-05 - accuracy: 1.0000 - val_loss: 0.3261 - val_accuracy: 0.9508\n",
      "Epoch 24/100\n",
      "150/150 [==============================] - 2s 11ms/step - loss: 5.1395e-05 - accuracy: 1.0000 - val_loss: 0.3285 - val_accuracy: 0.9500\n",
      "Epoch 25/100\n",
      "150/150 [==============================] - 2s 11ms/step - loss: 4.4191e-05 - accuracy: 1.0000 - val_loss: 0.3303 - val_accuracy: 0.9525\n",
      "Epoch 26/100\n",
      "150/150 [==============================] - 2s 11ms/step - loss: 3.8374e-05 - accuracy: 1.0000 - val_loss: 0.3332 - val_accuracy: 0.9533\n",
      "Epoch 27/100\n",
      "150/150 [==============================] - 2s 11ms/step - loss: 3.2455e-05 - accuracy: 1.0000 - val_loss: 0.3419 - val_accuracy: 0.9533\n",
      "Epoch 28/100\n",
      "150/150 [==============================] - 2s 11ms/step - loss: 1.9918e-05 - accuracy: 1.0000 - val_loss: 0.3744 - val_accuracy: 0.9525\n",
      "Epoch 29/100\n",
      "150/150 [==============================] - 2s 11ms/step - loss: 9.8922e-06 - accuracy: 1.0000 - val_loss: 0.4014 - val_accuracy: 0.9517\n",
      "Epoch 30/100\n",
      "150/150 [==============================] - 2s 11ms/step - loss: 5.9840e-06 - accuracy: 1.0000 - val_loss: 0.4208 - val_accuracy: 0.9492\n",
      "Epoch 31/100\n",
      "150/150 [==============================] - 2s 11ms/step - loss: 4.3416e-06 - accuracy: 1.0000 - val_loss: 0.4365 - val_accuracy: 0.9500\n",
      "Epoch 32/100\n",
      "150/150 [==============================] - 2s 11ms/step - loss: 3.4476e-06 - accuracy: 1.0000 - val_loss: 0.4445 - val_accuracy: 0.9517\n",
      "Epoch 33/100\n",
      "150/150 [==============================] - 2s 11ms/step - loss: 3.2669e-06 - accuracy: 1.0000 - val_loss: 0.4483 - val_accuracy: 0.9500\n",
      "Epoch 34/100\n",
      "150/150 [==============================] - 2s 11ms/step - loss: 2.5426e-06 - accuracy: 1.0000 - val_loss: 0.4505 - val_accuracy: 0.9483\n",
      "Epoch 35/100\n",
      "150/150 [==============================] - 2s 11ms/step - loss: 2.2784e-06 - accuracy: 1.0000 - val_loss: 0.4558 - val_accuracy: 0.9492\n",
      "Epoch 36/100\n",
      "150/150 [==============================] - 2s 11ms/step - loss: 2.0723e-06 - accuracy: 1.0000 - val_loss: 0.4620 - val_accuracy: 0.9483\n"
     ]
    }
   ],
   "source": [
    "# The default monitor is \"val_loss\"\n",
    "early_stopping_cb = keras.callbacks.EarlyStopping(monitor='val_accuracy', patience=10)\n",
    "checkpoint_cb = keras.callbacks.ModelCheckpoint(\"my_mnist_model.h5\", save_best_only=True)\n",
    "\n",
    "history2 = model2.fit(X_train, y_train, epochs=100,\n",
    "                    validation_split=0.2,\n",
    "                    callbacks=[checkpoint_cb, early_stopping_cb])\n"
   ]
  },
  {
   "cell_type": "code",
   "execution_count": 51,
   "metadata": {},
   "outputs": [
    {
     "name": "stdout",
     "output_type": "stream",
     "text": [
      "Test loss: 0.36899930238723755\n",
      "Test accuracy: 0.8902000188827515\n"
     ]
    }
   ],
   "source": [
    "loss, accuracy = model2.evaluate(X_test, y_test, verbose=0)\n",
    "print('Test loss:', loss)\n",
    "print('Test accuracy:', accuracy)"
   ]
  },
  {
   "cell_type": "code",
   "execution_count": 47,
   "metadata": {},
   "outputs": [
    {
     "data": {
      "text/plain": [
       "Text(0, 0.5, 'loss, validation loss')"
      ]
     },
     "execution_count": 47,
     "metadata": {},
     "output_type": "execute_result"
    },
    {
     "data": {
      "image/png": "[encoded data removed]",
      "text/plain": [
       "<Figure size 432x288 with 1 Axes>"
      ]
     },
     "metadata": {
      "needs_background": "light"
     },
     "output_type": "display_data"
    }
   ],
   "source": [
    "plt.plot(history2.epoch, history2.history['loss'],'.-')\n",
    "plt.plot(history2.epoch, history2.history['val_loss'],'.-')\n",
    "plt.xlabel('epoch')\n",
    "plt.ylabel('loss, validation loss')"
   ]
  },
  {
   "cell_type": "code",
   "execution_count": null,
   "metadata": {},
   "outputs": [],
   "source": []
  },
  {
   "cell_type": "markdown",
   "metadata": {},
   "source": [
    "### TODO: With the \"adam\" optimizer and early stopping, we can train the model pretty efficiently. Now, let's use the entire MNIST dataset (instead of just 10 %) and see what accuracy we get."
   ]
  },
  {
   "cell_type": "code",
   "execution_count": 2,
   "metadata": {},
   "outputs": [],
   "source": [
    "import tensorflow.keras as keras\n",
    "\n",
    "(X_train, y_train), (X_test, y_test) = keras.datasets.mnist.load_data()\n",
    "\n",
    "X_train = X_train / 255.\n",
    "X_test = X_test / 255."
   ]
  },
  {
   "cell_type": "code",
   "execution_count": 3,
   "metadata": {},
   "outputs": [
    {
     "name": "stderr",
     "output_type": "stream",
     "text": [
      "2021-11-18 10:30:45.106280: I tensorflow/core/platform/cpu_feature_guard.cc:142] This TensorFlow binary is optimized with oneAPI Deep Neural Network Library (oneDNN) to use the following CPU instructions in performance-critical operations:  SSE4.1 SSE4.2 AVX AVX2 FMA\n",
      "To enable them in other operations, rebuild TensorFlow with the appropriate compiler flags.\n"
     ]
    }
   ],
   "source": [
    "model2 = keras.models.Sequential([\n",
    "    keras.layers.Flatten(input_shape=[28, 28]),\n",
    "    keras.layers.Dense(1000, activation=\"relu\"),\n",
    "    keras.layers.Dense(1000, activation=\"relu\"),\n",
    "    keras.layers.Dense(10, activation=\"softmax\")\n",
    "])"
   ]
  },
  {
   "cell_type": "code",
   "execution_count": 4,
   "metadata": {},
   "outputs": [],
   "source": [
    "model2.compile(loss=\"sparse_categorical_crossentropy\",\n",
    "              optimizer=keras.optimizers.Adam(learning_rate=1e-3),\n",
    "              metrics=[\"accuracy\"])"
   ]
  },
  {
   "cell_type": "code",
   "execution_count": 54,
   "metadata": {
    "collapsed": true,
    "jupyter": {
     "outputs_hidden": true
    },
    "tags": []
   },
   "outputs": [
    {
     "name": "stdout",
     "output_type": "stream",
     "text": [
      "Epoch 1/100\n",
      "1500/1500 [==============================] - 17s 11ms/step - loss: 0.1946 - accuracy: 0.9398 - val_loss: 0.1249 - val_accuracy: 0.9626\n",
      "Epoch 2/100\n",
      "1500/1500 [==============================] - 16s 10ms/step - loss: 0.0858 - accuracy: 0.9742 - val_loss: 0.0990 - val_accuracy: 0.9717\n",
      "Epoch 3/100\n",
      "1500/1500 [==============================] - 16s 11ms/step - loss: 0.0600 - accuracy: 0.9808 - val_loss: 0.1115 - val_accuracy: 0.9712\n",
      "Epoch 4/100\n",
      "1500/1500 [==============================] - 16s 11ms/step - loss: 0.0477 - accuracy: 0.9852 - val_loss: 0.1012 - val_accuracy: 0.9739\n",
      "Epoch 5/100\n",
      "1500/1500 [==============================] - 16s 11ms/step - loss: 0.0387 - accuracy: 0.9876 - val_loss: 0.0995 - val_accuracy: 0.9759\n",
      "Epoch 6/100\n",
      "1500/1500 [==============================] - 16s 10ms/step - loss: 0.0322 - accuracy: 0.9897 - val_loss: 0.1033 - val_accuracy: 0.9764\n",
      "Epoch 7/100\n",
      "1500/1500 [==============================] - 16s 10ms/step - loss: 0.0285 - accuracy: 0.9912 - val_loss: 0.1105 - val_accuracy: 0.9751\n",
      "Epoch 8/100\n",
      "1500/1500 [==============================] - 16s 10ms/step - loss: 0.0281 - accuracy: 0.9919 - val_loss: 0.0944 - val_accuracy: 0.9801\n",
      "Epoch 9/100\n",
      "1500/1500 [==============================] - 16s 11ms/step - loss: 0.0231 - accuracy: 0.9934 - val_loss: 0.1189 - val_accuracy: 0.9771\n",
      "Epoch 10/100\n",
      "1500/1500 [==============================] - 16s 11ms/step - loss: 0.0229 - accuracy: 0.9932 - val_loss: 0.1433 - val_accuracy: 0.9749\n",
      "Epoch 11/100\n",
      "1500/1500 [==============================] - 16s 11ms/step - loss: 0.0189 - accuracy: 0.9945 - val_loss: 0.1354 - val_accuracy: 0.9780\n",
      "Epoch 12/100\n",
      "1500/1500 [==============================] - 16s 10ms/step - loss: 0.0203 - accuracy: 0.9945 - val_loss: 0.1276 - val_accuracy: 0.9786\n",
      "Epoch 13/100\n",
      "1500/1500 [==============================] - 16s 11ms/step - loss: 0.0194 - accuracy: 0.9954 - val_loss: 0.1298 - val_accuracy: 0.9807\n",
      "Epoch 14/100\n",
      "1500/1500 [==============================] - 16s 11ms/step - loss: 0.0177 - accuracy: 0.9953 - val_loss: 0.1457 - val_accuracy: 0.9773\n",
      "Epoch 15/100\n",
      "1500/1500 [==============================] - 17s 11ms/step - loss: 0.0194 - accuracy: 0.9949 - val_loss: 0.1675 - val_accuracy: 0.9767\n",
      "Epoch 16/100\n",
      "1500/1500 [==============================] - 16s 11ms/step - loss: 0.0183 - accuracy: 0.9959 - val_loss: 0.1379 - val_accuracy: 0.9788\n",
      "Epoch 17/100\n",
      "1500/1500 [==============================] - 17s 11ms/step - loss: 0.0112 - accuracy: 0.9969 - val_loss: 0.2088 - val_accuracy: 0.9765\n",
      "Epoch 18/100\n",
      "1500/1500 [==============================] - 16s 11ms/step - loss: 0.0188 - accuracy: 0.9956 - val_loss: 0.1554 - val_accuracy: 0.9787\n",
      "Epoch 19/100\n",
      "1500/1500 [==============================] - 16s 11ms/step - loss: 0.0114 - accuracy: 0.9970 - val_loss: 0.1676 - val_accuracy: 0.9812\n",
      "Epoch 20/100\n",
      "1500/1500 [==============================] - 16s 11ms/step - loss: 0.0181 - accuracy: 0.9961 - val_loss: 0.2228 - val_accuracy: 0.9753\n",
      "Epoch 21/100\n",
      "1500/1500 [==============================] - 16s 11ms/step - loss: 0.0151 - accuracy: 0.9964 - val_loss: 0.1756 - val_accuracy: 0.9798\n",
      "Epoch 22/100\n",
      "1500/1500 [==============================] - 16s 11ms/step - loss: 0.0164 - accuracy: 0.9966 - val_loss: 0.2239 - val_accuracy: 0.9766\n",
      "Epoch 23/100\n",
      "1500/1500 [==============================] - 16s 11ms/step - loss: 0.0153 - accuracy: 0.9967 - val_loss: 0.1855 - val_accuracy: 0.9788\n",
      "Epoch 24/100\n",
      "1500/1500 [==============================] - 17s 11ms/step - loss: 0.0140 - accuracy: 0.9972 - val_loss: 0.2021 - val_accuracy: 0.9803\n",
      "Epoch 25/100\n",
      "1500/1500 [==============================] - 16s 11ms/step - loss: 0.0130 - accuracy: 0.9969 - val_loss: 0.2557 - val_accuracy: 0.9789\n",
      "Epoch 26/100\n",
      "1500/1500 [==============================] - 16s 10ms/step - loss: 0.0093 - accuracy: 0.9977 - val_loss: 0.2410 - val_accuracy: 0.9783\n",
      "Epoch 27/100\n",
      "1500/1500 [==============================] - 16s 10ms/step - loss: 0.0147 - accuracy: 0.9969 - val_loss: 0.2388 - val_accuracy: 0.9790\n",
      "Epoch 28/100\n",
      "1500/1500 [==============================] - 16s 11ms/step - loss: 0.0127 - accuracy: 0.9971 - val_loss: 0.2319 - val_accuracy: 0.9779\n",
      "Epoch 29/100\n",
      "1500/1500 [==============================] - 16s 11ms/step - loss: 0.0123 - accuracy: 0.9977 - val_loss: 0.2354 - val_accuracy: 0.9790\n"
     ]
    }
   ],
   "source": [
    "# The default monitor is \"val_loss\"\n",
    "early_stopping_cb = keras.callbacks.EarlyStopping(monitor='val_accuracy', patience=10)\n",
    "checkpoint_cb = keras.callbacks.ModelCheckpoint(\"my_mnist_model.h5\", save_best_only=True)\n",
    "\n",
    "history2 = model2.fit(X_train, y_train, epochs=100,\n",
    "                    validation_split=0.2,\n",
    "                    callbacks=[checkpoint_cb, early_stopping_cb])\n"
   ]
  },
  {
   "cell_type": "code",
   "execution_count": 55,
   "metadata": {},
   "outputs": [
    {
     "name": "stdout",
     "output_type": "stream",
     "text": [
      "Test loss: 0.19073520600795746\n",
      "Test accuracy: 0.9810000061988831\n"
     ]
    }
   ],
   "source": [
    "loss, accuracy = model2.evaluate(X_test, y_test, verbose=0)\n",
    "print('Test loss:', loss)\n",
    "print('Test accuracy:', accuracy)"
   ]
  },
  {
   "cell_type": "markdown",
   "metadata": {},
   "source": [
    "### Q: What accuracy did you obtain? Are you satisfied?"
   ]
  },
  {
   "cell_type": "code",
   "execution_count": null,
   "metadata": {},
   "outputs": [],
   "source": [
    "\n",
    "\n"
   ]
  },
  {
   "cell_type": "markdown",
   "metadata": {},
   "source": [
    "### We can also take advantage of HiPerGator's A100 GPUs! You need to ask for a GPU when you open a session."
   ]
  },
  {
   "cell_type": "code",
   "execution_count": 1,
   "metadata": {},
   "outputs": [
    {
     "name": "stdout",
     "output_type": "stream",
     "text": [
      "Num GPUs Available:  0\n"
     ]
    },
    {
     "name": "stderr",
     "output_type": "stream",
     "text": [
      "2021-11-18 10:22:44.754732: W tensorflow/stream_executor/platform/default/dso_loader.cc:64] Could not load dynamic library 'libcuda.so.1'; dlerror: libcuda.so.1: cannot open shared object file: No such file or directory; LD_LIBRARY_PATH: /opt/slurm/lib64:/opt/slurm/lib64::\n",
      "2021-11-18 10:22:44.754777: W tensorflow/stream_executor/cuda/cuda_driver.cc:269] failed call to cuInit: UNKNOWN ERROR (303)\n",
      "2021-11-18 10:22:44.754803: I tensorflow/stream_executor/cuda/cuda_diagnostics.cc:156] kernel driver does not appear to be running on this host (c0704a-s3.ufhpc): /proc/driver/nvidia/version does not exist\n"
     ]
    }
   ],
   "source": [
    "import tensorflow as tf\n",
    "print(\"Num GPUs Available: \", len(tf.config.list_physical_devices('GPU')))"
   ]
  },
  {
   "cell_type": "markdown",
   "metadata": {},
   "source": [
    "### TODO: Repeat the above training using the full MNIST dataset and see how long (or short) it takes."
   ]
  },
  {
   "cell_type": "code",
   "execution_count": null,
   "metadata": {},
   "outputs": [],
   "source": [
    "\n"
   ]
  },
  {
   "cell_type": "markdown",
   "metadata": {},
   "source": [
    "### For fun, let's have a look at what some of the most widely-used neural networks look like. Here, we will check out the 101-layer residual network implemented into Keras."
   ]
  },
  {
   "cell_type": "code",
   "execution_count": 189,
   "metadata": {},
   "outputs": [
    {
     "name": "stdout",
     "output_type": "stream",
     "text": [
      "Downloading data from https://storage.googleapis.com/tensorflow/keras-applications/resnet/resnet101v2_weights_tf_dim_ordering_tf_kernels.h5\n",
      "179519488/179518384 [==============================] - 2s 0us/step\n",
      "179527680/179518384 [==============================] - 2s 0us/step\n"
     ]
    }
   ],
   "source": [
    "model = keras.applications.ResNet101V2(\n",
    "    include_top=True, weights='imagenet', input_tensor=None,\n",
    "    input_shape=None, pooling=None, classes=1000\n",
    ")\n"
   ]
  },
  {
   "cell_type": "code",
   "execution_count": 190,
   "metadata": {
    "collapsed": true,
    "jupyter": {
     "outputs_hidden": true
    },
    "tags": []
   },
   "outputs": [
    {
     "name": "stdout",
     "output_type": "stream",
     "text": [
      "Model: \"resnet101v2\"\n",
      "__________________________________________________________________________________________________\n",
      "Layer (type)                    Output Shape         Param #     Connected to                     \n",
      "==================================================================================================\n",
      "input_18 (InputLayer)           [(None, 224, 224, 3) 0                                            \n",
      "__________________________________________________________________________________________________\n",
      "conv1_pad (ZeroPadding2D)       (None, 230, 230, 3)  0           input_18[0][0]                   \n",
      "__________________________________________________________________________________________________\n",
      "conv1_conv (Conv2D)             (None, 112, 112, 64) 9472        conv1_pad[0][0]                  \n",
      "__________________________________________________________________________________________________\n",
      "pool1_pad (ZeroPadding2D)       (None, 114, 114, 64) 0           conv1_conv[0][0]                 \n",
      "__________________________________________________________________________________________________\n",
      "pool1_pool (MaxPooling2D)       (None, 56, 56, 64)   0           pool1_pad[0][0]                  \n",
      "__________________________________________________________________________________________________\n",
      "conv2_block1_preact_bn (BatchNo (None, 56, 56, 64)   256         pool1_pool[0][0]                 \n",
      "__________________________________________________________________________________________________\n",
      "conv2_block1_preact_relu (Activ (None, 56, 56, 64)   0           conv2_block1_preact_bn[0][0]     \n",
      "__________________________________________________________________________________________________\n",
      "conv2_block1_1_conv (Conv2D)    (None, 56, 56, 64)   4096        conv2_block1_preact_relu[0][0]   \n",
      "__________________________________________________________________________________________________\n",
      "conv2_block1_1_bn (BatchNormali (None, 56, 56, 64)   256         conv2_block1_1_conv[0][0]        \n",
      "__________________________________________________________________________________________________\n",
      "conv2_block1_1_relu (Activation (None, 56, 56, 64)   0           conv2_block1_1_bn[0][0]          \n",
      "__________________________________________________________________________________________________\n",
      "conv2_block1_2_pad (ZeroPadding (None, 58, 58, 64)   0           conv2_block1_1_relu[0][0]        \n",
      "__________________________________________________________________________________________________\n",
      "conv2_block1_2_conv (Conv2D)    (None, 56, 56, 64)   36864       conv2_block1_2_pad[0][0]         \n",
      "__________________________________________________________________________________________________\n",
      "conv2_block1_2_bn (BatchNormali (None, 56, 56, 64)   256         conv2_block1_2_conv[0][0]        \n",
      "__________________________________________________________________________________________________\n",
      "conv2_block1_2_relu (Activation (None, 56, 56, 64)   0           conv2_block1_2_bn[0][0]          \n",
      "__________________________________________________________________________________________________\n",
      "conv2_block1_0_conv (Conv2D)    (None, 56, 56, 256)  16640       conv2_block1_preact_relu[0][0]   \n",
      "__________________________________________________________________________________________________\n",
      "conv2_block1_3_conv (Conv2D)    (None, 56, 56, 256)  16640       conv2_block1_2_relu[0][0]        \n",
      "__________________________________________________________________________________________________\n",
      "conv2_block1_out (Add)          (None, 56, 56, 256)  0           conv2_block1_0_conv[0][0]        \n",
      "                                                                 conv2_block1_3_conv[0][0]        \n",
      "__________________________________________________________________________________________________\n",
      "conv2_block2_preact_bn (BatchNo (None, 56, 56, 256)  1024        conv2_block1_out[0][0]           \n",
      "__________________________________________________________________________________________________\n",
      "conv2_block2_preact_relu (Activ (None, 56, 56, 256)  0           conv2_block2_preact_bn[0][0]     \n",
      "__________________________________________________________________________________________________\n",
      "conv2_block2_1_conv (Conv2D)    (None, 56, 56, 64)   16384       conv2_block2_preact_relu[0][0]   \n",
      "__________________________________________________________________________________________________\n",
      "conv2_block2_1_bn (BatchNormali (None, 56, 56, 64)   256         conv2_block2_1_conv[0][0]        \n",
      "__________________________________________________________________________________________________\n",
      "conv2_block2_1_relu (Activation (None, 56, 56, 64)   0           conv2_block2_1_bn[0][0]          \n",
      "__________________________________________________________________________________________________\n",
      "conv2_block2_2_pad (ZeroPadding (None, 58, 58, 64)   0           conv2_block2_1_relu[0][0]        \n",
      "__________________________________________________________________________________________________\n",
      "conv2_block2_2_conv (Conv2D)    (None, 56, 56, 64)   36864       conv2_block2_2_pad[0][0]         \n",
      "__________________________________________________________________________________________________\n",
      "conv2_block2_2_bn (BatchNormali (None, 56, 56, 64)   256         conv2_block2_2_conv[0][0]        \n",
      "__________________________________________________________________________________________________\n",
      "conv2_block2_2_relu (Activation (None, 56, 56, 64)   0           conv2_block2_2_bn[0][0]          \n",
      "__________________________________________________________________________________________________\n",
      "conv2_block2_3_conv (Conv2D)    (None, 56, 56, 256)  16640       conv2_block2_2_relu[0][0]        \n",
      "__________________________________________________________________________________________________\n",
      "conv2_block2_out (Add)          (None, 56, 56, 256)  0           conv2_block1_out[0][0]           \n",
      "                                                                 conv2_block2_3_conv[0][0]        \n",
      "__________________________________________________________________________________________________\n",
      "conv2_block3_preact_bn (BatchNo (None, 56, 56, 256)  1024        conv2_block2_out[0][0]           \n",
      "__________________________________________________________________________________________________\n",
      "conv2_block3_preact_relu (Activ (None, 56, 56, 256)  0           conv2_block3_preact_bn[0][0]     \n",
      "__________________________________________________________________________________________________\n",
      "conv2_block3_1_conv (Conv2D)    (None, 56, 56, 64)   16384       conv2_block3_preact_relu[0][0]   \n",
      "__________________________________________________________________________________________________\n",
      "conv2_block3_1_bn (BatchNormali (None, 56, 56, 64)   256         conv2_block3_1_conv[0][0]        \n",
      "__________________________________________________________________________________________________\n",
      "conv2_block3_1_relu (Activation (None, 56, 56, 64)   0           conv2_block3_1_bn[0][0]          \n",
      "__________________________________________________________________________________________________\n",
      "conv2_block3_2_pad (ZeroPadding (None, 58, 58, 64)   0           conv2_block3_1_relu[0][0]        \n",
      "__________________________________________________________________________________________________\n",
      "conv2_block3_2_conv (Conv2D)    (None, 28, 28, 64)   36864       conv2_block3_2_pad[0][0]         \n",
      "__________________________________________________________________________________________________\n",
      "conv2_block3_2_bn (BatchNormali (None, 28, 28, 64)   256         conv2_block3_2_conv[0][0]        \n",
      "__________________________________________________________________________________________________\n",
      "conv2_block3_2_relu (Activation (None, 28, 28, 64)   0           conv2_block3_2_bn[0][0]          \n",
      "__________________________________________________________________________________________________\n",
      "max_pooling2d (MaxPooling2D)    (None, 28, 28, 256)  0           conv2_block2_out[0][0]           \n",
      "__________________________________________________________________________________________________\n",
      "conv2_block3_3_conv (Conv2D)    (None, 28, 28, 256)  16640       conv2_block3_2_relu[0][0]        \n",
      "__________________________________________________________________________________________________\n",
      "conv2_block3_out (Add)          (None, 28, 28, 256)  0           max_pooling2d[0][0]              \n",
      "                                                                 conv2_block3_3_conv[0][0]        \n",
      "__________________________________________________________________________________________________\n",
      "conv3_block1_preact_bn (BatchNo (None, 28, 28, 256)  1024        conv2_block3_out[0][0]           \n",
      "__________________________________________________________________________________________________\n",
      "conv3_block1_preact_relu (Activ (None, 28, 28, 256)  0           conv3_block1_preact_bn[0][0]     \n",
      "__________________________________________________________________________________________________\n",
      "conv3_block1_1_conv (Conv2D)    (None, 28, 28, 128)  32768       conv3_block1_preact_relu[0][0]   \n",
      "__________________________________________________________________________________________________\n",
      "conv3_block1_1_bn (BatchNormali (None, 28, 28, 128)  512         conv3_block1_1_conv[0][0]        \n",
      "__________________________________________________________________________________________________\n",
      "conv3_block1_1_relu (Activation (None, 28, 28, 128)  0           conv3_block1_1_bn[0][0]          \n",
      "__________________________________________________________________________________________________\n",
      "conv3_block1_2_pad (ZeroPadding (None, 30, 30, 128)  0           conv3_block1_1_relu[0][0]        \n",
      "__________________________________________________________________________________________________\n",
      "conv3_block1_2_conv (Conv2D)    (None, 28, 28, 128)  147456      conv3_block1_2_pad[0][0]         \n",
      "__________________________________________________________________________________________________\n",
      "conv3_block1_2_bn (BatchNormali (None, 28, 28, 128)  512         conv3_block1_2_conv[0][0]        \n",
      "__________________________________________________________________________________________________\n",
      "conv3_block1_2_relu (Activation (None, 28, 28, 128)  0           conv3_block1_2_bn[0][0]          \n",
      "__________________________________________________________________________________________________\n",
      "conv3_block1_0_conv (Conv2D)    (None, 28, 28, 512)  131584      conv3_block1_preact_relu[0][0]   \n",
      "__________________________________________________________________________________________________\n",
      "conv3_block1_3_conv (Conv2D)    (None, 28, 28, 512)  66048       conv3_block1_2_relu[0][0]        \n",
      "__________________________________________________________________________________________________\n",
      "conv3_block1_out (Add)          (None, 28, 28, 512)  0           conv3_block1_0_conv[0][0]        \n",
      "                                                                 conv3_block1_3_conv[0][0]        \n",
      "__________________________________________________________________________________________________\n",
      "conv3_block2_preact_bn (BatchNo (None, 28, 28, 512)  2048        conv3_block1_out[0][0]           \n",
      "__________________________________________________________________________________________________\n",
      "conv3_block2_preact_relu (Activ (None, 28, 28, 512)  0           conv3_block2_preact_bn[0][0]     \n",
      "__________________________________________________________________________________________________\n",
      "conv3_block2_1_conv (Conv2D)    (None, 28, 28, 128)  65536       conv3_block2_preact_relu[0][0]   \n",
      "__________________________________________________________________________________________________\n",
      "conv3_block2_1_bn (BatchNormali (None, 28, 28, 128)  512         conv3_block2_1_conv[0][0]        \n",
      "__________________________________________________________________________________________________\n",
      "conv3_block2_1_relu (Activation (None, 28, 28, 128)  0           conv3_block2_1_bn[0][0]          \n",
      "__________________________________________________________________________________________________\n",
      "conv3_block2_2_pad (ZeroPadding (None, 30, 30, 128)  0           conv3_block2_1_relu[0][0]        \n",
      "__________________________________________________________________________________________________\n",
      "conv3_block2_2_conv (Conv2D)    (None, 28, 28, 128)  147456      conv3_block2_2_pad[0][0]         \n",
      "__________________________________________________________________________________________________\n",
      "conv3_block2_2_bn (BatchNormali (None, 28, 28, 128)  512         conv3_block2_2_conv[0][0]        \n",
      "__________________________________________________________________________________________________\n",
      "conv3_block2_2_relu (Activation (None, 28, 28, 128)  0           conv3_block2_2_bn[0][0]          \n",
      "__________________________________________________________________________________________________\n",
      "conv3_block2_3_conv (Conv2D)    (None, 28, 28, 512)  66048       conv3_block2_2_relu[0][0]        \n",
      "__________________________________________________________________________________________________\n",
      "conv3_block2_out (Add)          (None, 28, 28, 512)  0           conv3_block1_out[0][0]           \n",
      "                                                                 conv3_block2_3_conv[0][0]        \n",
      "__________________________________________________________________________________________________\n",
      "conv3_block3_preact_bn (BatchNo (None, 28, 28, 512)  2048        conv3_block2_out[0][0]           \n",
      "__________________________________________________________________________________________________\n",
      "conv3_block3_preact_relu (Activ (None, 28, 28, 512)  0           conv3_block3_preact_bn[0][0]     \n",
      "__________________________________________________________________________________________________\n",
      "conv3_block3_1_conv (Conv2D)    (None, 28, 28, 128)  65536       conv3_block3_preact_relu[0][0]   \n",
      "__________________________________________________________________________________________________\n",
      "conv3_block3_1_bn (BatchNormali (None, 28, 28, 128)  512         conv3_block3_1_conv[0][0]        \n",
      "__________________________________________________________________________________________________\n",
      "conv3_block3_1_relu (Activation (None, 28, 28, 128)  0           conv3_block3_1_bn[0][0]          \n",
      "__________________________________________________________________________________________________\n",
      "conv3_block3_2_pad (ZeroPadding (None, 30, 30, 128)  0           conv3_block3_1_relu[0][0]        \n",
      "__________________________________________________________________________________________________\n",
      "conv3_block3_2_conv (Conv2D)    (None, 28, 28, 128)  147456      conv3_block3_2_pad[0][0]         \n",
      "__________________________________________________________________________________________________\n",
      "conv3_block3_2_bn (BatchNormali (None, 28, 28, 128)  512         conv3_block3_2_conv[0][0]        \n",
      "__________________________________________________________________________________________________\n",
      "conv3_block3_2_relu (Activation (None, 28, 28, 128)  0           conv3_block3_2_bn[0][0]          \n",
      "__________________________________________________________________________________________________\n",
      "conv3_block3_3_conv (Conv2D)    (None, 28, 28, 512)  66048       conv3_block3_2_relu[0][0]        \n",
      "__________________________________________________________________________________________________\n",
      "conv3_block3_out (Add)          (None, 28, 28, 512)  0           conv3_block2_out[0][0]           \n",
      "                                                                 conv3_block3_3_conv[0][0]        \n",
      "__________________________________________________________________________________________________\n",
      "conv3_block4_preact_bn (BatchNo (None, 28, 28, 512)  2048        conv3_block3_out[0][0]           \n",
      "__________________________________________________________________________________________________\n",
      "conv3_block4_preact_relu (Activ (None, 28, 28, 512)  0           conv3_block4_preact_bn[0][0]     \n",
      "__________________________________________________________________________________________________\n",
      "conv3_block4_1_conv (Conv2D)    (None, 28, 28, 128)  65536       conv3_block4_preact_relu[0][0]   \n",
      "__________________________________________________________________________________________________\n",
      "conv3_block4_1_bn (BatchNormali (None, 28, 28, 128)  512         conv3_block4_1_conv[0][0]        \n",
      "__________________________________________________________________________________________________\n",
      "conv3_block4_1_relu (Activation (None, 28, 28, 128)  0           conv3_block4_1_bn[0][0]          \n",
      "__________________________________________________________________________________________________\n",
      "conv3_block4_2_pad (ZeroPadding (None, 30, 30, 128)  0           conv3_block4_1_relu[0][0]        \n",
      "__________________________________________________________________________________________________\n",
      "conv3_block4_2_conv (Conv2D)    (None, 14, 14, 128)  147456      conv3_block4_2_pad[0][0]         \n",
      "__________________________________________________________________________________________________\n",
      "conv3_block4_2_bn (BatchNormali (None, 14, 14, 128)  512         conv3_block4_2_conv[0][0]        \n",
      "__________________________________________________________________________________________________\n",
      "conv3_block4_2_relu (Activation (None, 14, 14, 128)  0           conv3_block4_2_bn[0][0]          \n",
      "__________________________________________________________________________________________________\n",
      "max_pooling2d_1 (MaxPooling2D)  (None, 14, 14, 512)  0           conv3_block3_out[0][0]           \n",
      "__________________________________________________________________________________________________\n",
      "conv3_block4_3_conv (Conv2D)    (None, 14, 14, 512)  66048       conv3_block4_2_relu[0][0]        \n",
      "__________________________________________________________________________________________________\n",
      "conv3_block4_out (Add)          (None, 14, 14, 512)  0           max_pooling2d_1[0][0]            \n",
      "                                                                 conv3_block4_3_conv[0][0]        \n",
      "__________________________________________________________________________________________________\n",
      "conv4_block1_preact_bn (BatchNo (None, 14, 14, 512)  2048        conv3_block4_out[0][0]           \n",
      "__________________________________________________________________________________________________\n",
      "conv4_block1_preact_relu (Activ (None, 14, 14, 512)  0           conv4_block1_preact_bn[0][0]     \n",
      "__________________________________________________________________________________________________\n",
      "conv4_block1_1_conv (Conv2D)    (None, 14, 14, 256)  131072      conv4_block1_preact_relu[0][0]   \n",
      "__________________________________________________________________________________________________\n",
      "conv4_block1_1_bn (BatchNormali (None, 14, 14, 256)  1024        conv4_block1_1_conv[0][0]        \n",
      "__________________________________________________________________________________________________\n",
      "conv4_block1_1_relu (Activation (None, 14, 14, 256)  0           conv4_block1_1_bn[0][0]          \n",
      "__________________________________________________________________________________________________\n",
      "conv4_block1_2_pad (ZeroPadding (None, 16, 16, 256)  0           conv4_block1_1_relu[0][0]        \n",
      "__________________________________________________________________________________________________\n",
      "conv4_block1_2_conv (Conv2D)    (None, 14, 14, 256)  589824      conv4_block1_2_pad[0][0]         \n",
      "__________________________________________________________________________________________________\n",
      "conv4_block1_2_bn (BatchNormali (None, 14, 14, 256)  1024        conv4_block1_2_conv[0][0]        \n",
      "__________________________________________________________________________________________________\n",
      "conv4_block1_2_relu (Activation (None, 14, 14, 256)  0           conv4_block1_2_bn[0][0]          \n",
      "__________________________________________________________________________________________________\n",
      "conv4_block1_0_conv (Conv2D)    (None, 14, 14, 1024) 525312      conv4_block1_preact_relu[0][0]   \n",
      "__________________________________________________________________________________________________\n",
      "conv4_block1_3_conv (Conv2D)    (None, 14, 14, 1024) 263168      conv4_block1_2_relu[0][0]        \n",
      "__________________________________________________________________________________________________\n",
      "conv4_block1_out (Add)          (None, 14, 14, 1024) 0           conv4_block1_0_conv[0][0]        \n",
      "                                                                 conv4_block1_3_conv[0][0]        \n",
      "__________________________________________________________________________________________________\n",
      "conv4_block2_preact_bn (BatchNo (None, 14, 14, 1024) 4096        conv4_block1_out[0][0]           \n",
      "__________________________________________________________________________________________________\n",
      "conv4_block2_preact_relu (Activ (None, 14, 14, 1024) 0           conv4_block2_preact_bn[0][0]     \n",
      "__________________________________________________________________________________________________\n",
      "conv4_block2_1_conv (Conv2D)    (None, 14, 14, 256)  262144      conv4_block2_preact_relu[0][0]   \n",
      "__________________________________________________________________________________________________\n",
      "conv4_block2_1_bn (BatchNormali (None, 14, 14, 256)  1024        conv4_block2_1_conv[0][0]        \n",
      "__________________________________________________________________________________________________\n",
      "conv4_block2_1_relu (Activation (None, 14, 14, 256)  0           conv4_block2_1_bn[0][0]          \n",
      "__________________________________________________________________________________________________\n",
      "conv4_block2_2_pad (ZeroPadding (None, 16, 16, 256)  0           conv4_block2_1_relu[0][0]        \n",
      "__________________________________________________________________________________________________\n",
      "conv4_block2_2_conv (Conv2D)    (None, 14, 14, 256)  589824      conv4_block2_2_pad[0][0]         \n",
      "__________________________________________________________________________________________________\n",
      "conv4_block2_2_bn (BatchNormali (None, 14, 14, 256)  1024        conv4_block2_2_conv[0][0]        \n",
      "__________________________________________________________________________________________________\n",
      "conv4_block2_2_relu (Activation (None, 14, 14, 256)  0           conv4_block2_2_bn[0][0]          \n",
      "__________________________________________________________________________________________________\n",
      "conv4_block2_3_conv (Conv2D)    (None, 14, 14, 1024) 263168      conv4_block2_2_relu[0][0]        \n",
      "__________________________________________________________________________________________________\n",
      "conv4_block2_out (Add)          (None, 14, 14, 1024) 0           conv4_block1_out[0][0]           \n",
      "                                                                 conv4_block2_3_conv[0][0]        \n",
      "__________________________________________________________________________________________________\n",
      "conv4_block3_preact_bn (BatchNo (None, 14, 14, 1024) 4096        conv4_block2_out[0][0]           \n",
      "__________________________________________________________________________________________________\n",
      "conv4_block3_preact_relu (Activ (None, 14, 14, 1024) 0           conv4_block3_preact_bn[0][0]     \n",
      "__________________________________________________________________________________________________\n",
      "conv4_block3_1_conv (Conv2D)    (None, 14, 14, 256)  262144      conv4_block3_preact_relu[0][0]   \n",
      "__________________________________________________________________________________________________\n",
      "conv4_block3_1_bn (BatchNormali (None, 14, 14, 256)  1024        conv4_block3_1_conv[0][0]        \n",
      "__________________________________________________________________________________________________\n",
      "conv4_block3_1_relu (Activation (None, 14, 14, 256)  0           conv4_block3_1_bn[0][0]          \n",
      "__________________________________________________________________________________________________\n",
      "conv4_block3_2_pad (ZeroPadding (None, 16, 16, 256)  0           conv4_block3_1_relu[0][0]        \n",
      "__________________________________________________________________________________________________\n",
      "conv4_block3_2_conv (Conv2D)    (None, 14, 14, 256)  589824      conv4_block3_2_pad[0][0]         \n",
      "__________________________________________________________________________________________________\n",
      "conv4_block3_2_bn (BatchNormali (None, 14, 14, 256)  1024        conv4_block3_2_conv[0][0]        \n",
      "__________________________________________________________________________________________________\n",
      "conv4_block3_2_relu (Activation (None, 14, 14, 256)  0           conv4_block3_2_bn[0][0]          \n",
      "__________________________________________________________________________________________________\n",
      "conv4_block3_3_conv (Conv2D)    (None, 14, 14, 1024) 263168      conv4_block3_2_relu[0][0]        \n",
      "__________________________________________________________________________________________________\n",
      "conv4_block3_out (Add)          (None, 14, 14, 1024) 0           conv4_block2_out[0][0]           \n",
      "                                                                 conv4_block3_3_conv[0][0]        \n",
      "__________________________________________________________________________________________________\n",
      "conv4_block4_preact_bn (BatchNo (None, 14, 14, 1024) 4096        conv4_block3_out[0][0]           \n",
      "__________________________________________________________________________________________________\n",
      "conv4_block4_preact_relu (Activ (None, 14, 14, 1024) 0           conv4_block4_preact_bn[0][0]     \n",
      "__________________________________________________________________________________________________\n",
      "conv4_block4_1_conv (Conv2D)    (None, 14, 14, 256)  262144      conv4_block4_preact_relu[0][0]   \n",
      "__________________________________________________________________________________________________\n",
      "conv4_block4_1_bn (BatchNormali (None, 14, 14, 256)  1024        conv4_block4_1_conv[0][0]        \n",
      "__________________________________________________________________________________________________\n",
      "conv4_block4_1_relu (Activation (None, 14, 14, 256)  0           conv4_block4_1_bn[0][0]          \n",
      "__________________________________________________________________________________________________\n",
      "conv4_block4_2_pad (ZeroPadding (None, 16, 16, 256)  0           conv4_block4_1_relu[0][0]        \n",
      "__________________________________________________________________________________________________\n",
      "conv4_block4_2_conv (Conv2D)    (None, 14, 14, 256)  589824      conv4_block4_2_pad[0][0]         \n",
      "__________________________________________________________________________________________________\n",
      "conv4_block4_2_bn (BatchNormali (None, 14, 14, 256)  1024        conv4_block4_2_conv[0][0]        \n",
      "__________________________________________________________________________________________________\n",
      "conv4_block4_2_relu (Activation (None, 14, 14, 256)  0           conv4_block4_2_bn[0][0]          \n",
      "__________________________________________________________________________________________________\n",
      "conv4_block4_3_conv (Conv2D)    (None, 14, 14, 1024) 263168      conv4_block4_2_relu[0][0]        \n",
      "__________________________________________________________________________________________________\n",
      "conv4_block4_out (Add)          (None, 14, 14, 1024) 0           conv4_block3_out[0][0]           \n",
      "                                                                 conv4_block4_3_conv[0][0]        \n",
      "__________________________________________________________________________________________________\n",
      "conv4_block5_preact_bn (BatchNo (None, 14, 14, 1024) 4096        conv4_block4_out[0][0]           \n",
      "__________________________________________________________________________________________________\n",
      "conv4_block5_preact_relu (Activ (None, 14, 14, 1024) 0           conv4_block5_preact_bn[0][0]     \n",
      "__________________________________________________________________________________________________\n",
      "conv4_block5_1_conv (Conv2D)    (None, 14, 14, 256)  262144      conv4_block5_preact_relu[0][0]   \n",
      "__________________________________________________________________________________________________\n",
      "conv4_block5_1_bn (BatchNormali (None, 14, 14, 256)  1024        conv4_block5_1_conv[0][0]        \n",
      "__________________________________________________________________________________________________\n",
      "conv4_block5_1_relu (Activation (None, 14, 14, 256)  0           conv4_block5_1_bn[0][0]          \n",
      "__________________________________________________________________________________________________\n",
      "conv4_block5_2_pad (ZeroPadding (None, 16, 16, 256)  0           conv4_block5_1_relu[0][0]        \n",
      "__________________________________________________________________________________________________\n",
      "conv4_block5_2_conv (Conv2D)    (None, 14, 14, 256)  589824      conv4_block5_2_pad[0][0]         \n",
      "__________________________________________________________________________________________________\n",
      "conv4_block5_2_bn (BatchNormali (None, 14, 14, 256)  1024        conv4_block5_2_conv[0][0]        \n",
      "__________________________________________________________________________________________________\n",
      "conv4_block5_2_relu (Activation (None, 14, 14, 256)  0           conv4_block5_2_bn[0][0]          \n",
      "__________________________________________________________________________________________________\n",
      "conv4_block5_3_conv (Conv2D)    (None, 14, 14, 1024) 263168      conv4_block5_2_relu[0][0]        \n",
      "__________________________________________________________________________________________________\n",
      "conv4_block5_out (Add)          (None, 14, 14, 1024) 0           conv4_block4_out[0][0]           \n",
      "                                                                 conv4_block5_3_conv[0][0]        \n",
      "__________________________________________________________________________________________________\n",
      "conv4_block6_preact_bn (BatchNo (None, 14, 14, 1024) 4096        conv4_block5_out[0][0]           \n",
      "__________________________________________________________________________________________________\n",
      "conv4_block6_preact_relu (Activ (None, 14, 14, 1024) 0           conv4_block6_preact_bn[0][0]     \n",
      "__________________________________________________________________________________________________\n",
      "conv4_block6_1_conv (Conv2D)    (None, 14, 14, 256)  262144      conv4_block6_preact_relu[0][0]   \n",
      "__________________________________________________________________________________________________\n",
      "conv4_block6_1_bn (BatchNormali (None, 14, 14, 256)  1024        conv4_block6_1_conv[0][0]        \n",
      "__________________________________________________________________________________________________\n",
      "conv4_block6_1_relu (Activation (None, 14, 14, 256)  0           conv4_block6_1_bn[0][0]          \n",
      "__________________________________________________________________________________________________\n",
      "conv4_block6_2_pad (ZeroPadding (None, 16, 16, 256)  0           conv4_block6_1_relu[0][0]        \n",
      "__________________________________________________________________________________________________\n",
      "conv4_block6_2_conv (Conv2D)    (None, 14, 14, 256)  589824      conv4_block6_2_pad[0][0]         \n",
      "__________________________________________________________________________________________________\n",
      "conv4_block6_2_bn (BatchNormali (None, 14, 14, 256)  1024        conv4_block6_2_conv[0][0]        \n",
      "__________________________________________________________________________________________________\n",
      "conv4_block6_2_relu (Activation (None, 14, 14, 256)  0           conv4_block6_2_bn[0][0]          \n",
      "__________________________________________________________________________________________________\n",
      "conv4_block6_3_conv (Conv2D)    (None, 14, 14, 1024) 263168      conv4_block6_2_relu[0][0]        \n",
      "__________________________________________________________________________________________________\n",
      "conv4_block6_out (Add)          (None, 14, 14, 1024) 0           conv4_block5_out[0][0]           \n",
      "                                                                 conv4_block6_3_conv[0][0]        \n",
      "__________________________________________________________________________________________________\n",
      "conv4_block7_preact_bn (BatchNo (None, 14, 14, 1024) 4096        conv4_block6_out[0][0]           \n",
      "__________________________________________________________________________________________________\n",
      "conv4_block7_preact_relu (Activ (None, 14, 14, 1024) 0           conv4_block7_preact_bn[0][0]     \n",
      "__________________________________________________________________________________________________\n",
      "conv4_block7_1_conv (Conv2D)    (None, 14, 14, 256)  262144      conv4_block7_preact_relu[0][0]   \n",
      "__________________________________________________________________________________________________\n",
      "conv4_block7_1_bn (BatchNormali (None, 14, 14, 256)  1024        conv4_block7_1_conv[0][0]        \n",
      "__________________________________________________________________________________________________\n",
      "conv4_block7_1_relu (Activation (None, 14, 14, 256)  0           conv4_block7_1_bn[0][0]          \n",
      "__________________________________________________________________________________________________\n",
      "conv4_block7_2_pad (ZeroPadding (None, 16, 16, 256)  0           conv4_block7_1_relu[0][0]        \n",
      "__________________________________________________________________________________________________\n",
      "conv4_block7_2_conv (Conv2D)    (None, 14, 14, 256)  589824      conv4_block7_2_pad[0][0]         \n",
      "__________________________________________________________________________________________________\n",
      "conv4_block7_2_bn (BatchNormali (None, 14, 14, 256)  1024        conv4_block7_2_conv[0][0]        \n",
      "__________________________________________________________________________________________________\n",
      "conv4_block7_2_relu (Activation (None, 14, 14, 256)  0           conv4_block7_2_bn[0][0]          \n",
      "__________________________________________________________________________________________________\n",
      "conv4_block7_3_conv (Conv2D)    (None, 14, 14, 1024) 263168      conv4_block7_2_relu[0][0]        \n",
      "__________________________________________________________________________________________________\n",
      "conv4_block7_out (Add)          (None, 14, 14, 1024) 0           conv4_block6_out[0][0]           \n",
      "                                                                 conv4_block7_3_conv[0][0]        \n",
      "__________________________________________________________________________________________________\n",
      "conv4_block8_preact_bn (BatchNo (None, 14, 14, 1024) 4096        conv4_block7_out[0][0]           \n",
      "__________________________________________________________________________________________________\n",
      "conv4_block8_preact_relu (Activ (None, 14, 14, 1024) 0           conv4_block8_preact_bn[0][0]     \n",
      "__________________________________________________________________________________________________\n",
      "conv4_block8_1_conv (Conv2D)    (None, 14, 14, 256)  262144      conv4_block8_preact_relu[0][0]   \n",
      "__________________________________________________________________________________________________\n",
      "conv4_block8_1_bn (BatchNormali (None, 14, 14, 256)  1024        conv4_block8_1_conv[0][0]        \n",
      "__________________________________________________________________________________________________\n",
      "conv4_block8_1_relu (Activation (None, 14, 14, 256)  0           conv4_block8_1_bn[0][0]          \n",
      "__________________________________________________________________________________________________\n",
      "conv4_block8_2_pad (ZeroPadding (None, 16, 16, 256)  0           conv4_block8_1_relu[0][0]        \n",
      "__________________________________________________________________________________________________\n",
      "conv4_block8_2_conv (Conv2D)    (None, 14, 14, 256)  589824      conv4_block8_2_pad[0][0]         \n",
      "__________________________________________________________________________________________________\n",
      "conv4_block8_2_bn (BatchNormali (None, 14, 14, 256)  1024        conv4_block8_2_conv[0][0]        \n",
      "__________________________________________________________________________________________________\n",
      "conv4_block8_2_relu (Activation (None, 14, 14, 256)  0           conv4_block8_2_bn[0][0]          \n",
      "__________________________________________________________________________________________________\n",
      "conv4_block8_3_conv (Conv2D)    (None, 14, 14, 1024) 263168      conv4_block8_2_relu[0][0]        \n",
      "__________________________________________________________________________________________________\n",
      "conv4_block8_out (Add)          (None, 14, 14, 1024) 0           conv4_block7_out[0][0]           \n",
      "                                                                 conv4_block8_3_conv[0][0]        \n",
      "__________________________________________________________________________________________________\n",
      "conv4_block9_preact_bn (BatchNo (None, 14, 14, 1024) 4096        conv4_block8_out[0][0]           \n",
      "__________________________________________________________________________________________________\n",
      "conv4_block9_preact_relu (Activ (None, 14, 14, 1024) 0           conv4_block9_preact_bn[0][0]     \n",
      "__________________________________________________________________________________________________\n",
      "conv4_block9_1_conv (Conv2D)    (None, 14, 14, 256)  262144      conv4_block9_preact_relu[0][0]   \n",
      "__________________________________________________________________________________________________\n",
      "conv4_block9_1_bn (BatchNormali (None, 14, 14, 256)  1024        conv4_block9_1_conv[0][0]        \n",
      "__________________________________________________________________________________________________\n",
      "conv4_block9_1_relu (Activation (None, 14, 14, 256)  0           conv4_block9_1_bn[0][0]          \n",
      "__________________________________________________________________________________________________\n",
      "conv4_block9_2_pad (ZeroPadding (None, 16, 16, 256)  0           conv4_block9_1_relu[0][0]        \n",
      "__________________________________________________________________________________________________\n",
      "conv4_block9_2_conv (Conv2D)    (None, 14, 14, 256)  589824      conv4_block9_2_pad[0][0]         \n",
      "__________________________________________________________________________________________________\n",
      "conv4_block9_2_bn (BatchNormali (None, 14, 14, 256)  1024        conv4_block9_2_conv[0][0]        \n",
      "__________________________________________________________________________________________________\n",
      "conv4_block9_2_relu (Activation (None, 14, 14, 256)  0           conv4_block9_2_bn[0][0]          \n",
      "__________________________________________________________________________________________________\n",
      "conv4_block9_3_conv (Conv2D)    (None, 14, 14, 1024) 263168      conv4_block9_2_relu[0][0]        \n",
      "__________________________________________________________________________________________________\n",
      "conv4_block9_out (Add)          (None, 14, 14, 1024) 0           conv4_block8_out[0][0]           \n",
      "                                                                 conv4_block9_3_conv[0][0]        \n",
      "__________________________________________________________________________________________________\n",
      "conv4_block10_preact_bn (BatchN (None, 14, 14, 1024) 4096        conv4_block9_out[0][0]           \n",
      "__________________________________________________________________________________________________\n",
      "conv4_block10_preact_relu (Acti (None, 14, 14, 1024) 0           conv4_block10_preact_bn[0][0]    \n",
      "__________________________________________________________________________________________________\n",
      "conv4_block10_1_conv (Conv2D)   (None, 14, 14, 256)  262144      conv4_block10_preact_relu[0][0]  \n",
      "__________________________________________________________________________________________________\n",
      "conv4_block10_1_bn (BatchNormal (None, 14, 14, 256)  1024        conv4_block10_1_conv[0][0]       \n",
      "__________________________________________________________________________________________________\n",
      "conv4_block10_1_relu (Activatio (None, 14, 14, 256)  0           conv4_block10_1_bn[0][0]         \n",
      "__________________________________________________________________________________________________\n",
      "conv4_block10_2_pad (ZeroPaddin (None, 16, 16, 256)  0           conv4_block10_1_relu[0][0]       \n",
      "__________________________________________________________________________________________________\n",
      "conv4_block10_2_conv (Conv2D)   (None, 14, 14, 256)  589824      conv4_block10_2_pad[0][0]        \n",
      "__________________________________________________________________________________________________\n",
      "conv4_block10_2_bn (BatchNormal (None, 14, 14, 256)  1024        conv4_block10_2_conv[0][0]       \n",
      "__________________________________________________________________________________________________\n",
      "conv4_block10_2_relu (Activatio (None, 14, 14, 256)  0           conv4_block10_2_bn[0][0]         \n",
      "__________________________________________________________________________________________________\n",
      "conv4_block10_3_conv (Conv2D)   (None, 14, 14, 1024) 263168      conv4_block10_2_relu[0][0]       \n",
      "__________________________________________________________________________________________________\n",
      "conv4_block10_out (Add)         (None, 14, 14, 1024) 0           conv4_block9_out[0][0]           \n",
      "                                                                 conv4_block10_3_conv[0][0]       \n",
      "__________________________________________________________________________________________________\n",
      "conv4_block11_preact_bn (BatchN (None, 14, 14, 1024) 4096        conv4_block10_out[0][0]          \n",
      "__________________________________________________________________________________________________\n",
      "conv4_block11_preact_relu (Acti (None, 14, 14, 1024) 0           conv4_block11_preact_bn[0][0]    \n",
      "__________________________________________________________________________________________________\n",
      "conv4_block11_1_conv (Conv2D)   (None, 14, 14, 256)  262144      conv4_block11_preact_relu[0][0]  \n",
      "__________________________________________________________________________________________________\n",
      "conv4_block11_1_bn (BatchNormal (None, 14, 14, 256)  1024        conv4_block11_1_conv[0][0]       \n",
      "__________________________________________________________________________________________________\n",
      "conv4_block11_1_relu (Activatio (None, 14, 14, 256)  0           conv4_block11_1_bn[0][0]         \n",
      "__________________________________________________________________________________________________\n",
      "conv4_block11_2_pad (ZeroPaddin (None, 16, 16, 256)  0           conv4_block11_1_relu[0][0]       \n",
      "__________________________________________________________________________________________________\n",
      "conv4_block11_2_conv (Conv2D)   (None, 14, 14, 256)  589824      conv4_block11_2_pad[0][0]        \n",
      "__________________________________________________________________________________________________\n",
      "conv4_block11_2_bn (BatchNormal (None, 14, 14, 256)  1024        conv4_block11_2_conv[0][0]       \n",
      "__________________________________________________________________________________________________\n",
      "conv4_block11_2_relu (Activatio (None, 14, 14, 256)  0           conv4_block11_2_bn[0][0]         \n",
      "__________________________________________________________________________________________________\n",
      "conv4_block11_3_conv (Conv2D)   (None, 14, 14, 1024) 263168      conv4_block11_2_relu[0][0]       \n",
      "__________________________________________________________________________________________________\n",
      "conv4_block11_out (Add)         (None, 14, 14, 1024) 0           conv4_block10_out[0][0]          \n",
      "                                                                 conv4_block11_3_conv[0][0]       \n",
      "__________________________________________________________________________________________________\n",
      "conv4_block12_preact_bn (BatchN (None, 14, 14, 1024) 4096        conv4_block11_out[0][0]          \n",
      "__________________________________________________________________________________________________\n",
      "conv4_block12_preact_relu (Acti (None, 14, 14, 1024) 0           conv4_block12_preact_bn[0][0]    \n",
      "__________________________________________________________________________________________________\n",
      "conv4_block12_1_conv (Conv2D)   (None, 14, 14, 256)  262144      conv4_block12_preact_relu[0][0]  \n",
      "__________________________________________________________________________________________________\n",
      "conv4_block12_1_bn (BatchNormal (None, 14, 14, 256)  1024        conv4_block12_1_conv[0][0]       \n",
      "__________________________________________________________________________________________________\n",
      "conv4_block12_1_relu (Activatio (None, 14, 14, 256)  0           conv4_block12_1_bn[0][0]         \n",
      "__________________________________________________________________________________________________\n",
      "conv4_block12_2_pad (ZeroPaddin (None, 16, 16, 256)  0           conv4_block12_1_relu[0][0]       \n",
      "__________________________________________________________________________________________________\n",
      "conv4_block12_2_conv (Conv2D)   (None, 14, 14, 256)  589824      conv4_block12_2_pad[0][0]        \n",
      "__________________________________________________________________________________________________\n",
      "conv4_block12_2_bn (BatchNormal (None, 14, 14, 256)  1024        conv4_block12_2_conv[0][0]       \n",
      "__________________________________________________________________________________________________\n",
      "conv4_block12_2_relu (Activatio (None, 14, 14, 256)  0           conv4_block12_2_bn[0][0]         \n",
      "__________________________________________________________________________________________________\n",
      "conv4_block12_3_conv (Conv2D)   (None, 14, 14, 1024) 263168      conv4_block12_2_relu[0][0]       \n",
      "__________________________________________________________________________________________________\n",
      "conv4_block12_out (Add)         (None, 14, 14, 1024) 0           conv4_block11_out[0][0]          \n",
      "                                                                 conv4_block12_3_conv[0][0]       \n",
      "__________________________________________________________________________________________________\n",
      "conv4_block13_preact_bn (BatchN (None, 14, 14, 1024) 4096        conv4_block12_out[0][0]          \n",
      "__________________________________________________________________________________________________\n",
      "conv4_block13_preact_relu (Acti (None, 14, 14, 1024) 0           conv4_block13_preact_bn[0][0]    \n",
      "__________________________________________________________________________________________________\n",
      "conv4_block13_1_conv (Conv2D)   (None, 14, 14, 256)  262144      conv4_block13_preact_relu[0][0]  \n",
      "__________________________________________________________________________________________________\n",
      "conv4_block13_1_bn (BatchNormal (None, 14, 14, 256)  1024        conv4_block13_1_conv[0][0]       \n",
      "__________________________________________________________________________________________________\n",
      "conv4_block13_1_relu (Activatio (None, 14, 14, 256)  0           conv4_block13_1_bn[0][0]         \n",
      "__________________________________________________________________________________________________\n",
      "conv4_block13_2_pad (ZeroPaddin (None, 16, 16, 256)  0           conv4_block13_1_relu[0][0]       \n",
      "__________________________________________________________________________________________________\n",
      "conv4_block13_2_conv (Conv2D)   (None, 14, 14, 256)  589824      conv4_block13_2_pad[0][0]        \n",
      "__________________________________________________________________________________________________\n",
      "conv4_block13_2_bn (BatchNormal (None, 14, 14, 256)  1024        conv4_block13_2_conv[0][0]       \n",
      "__________________________________________________________________________________________________\n",
      "conv4_block13_2_relu (Activatio (None, 14, 14, 256)  0           conv4_block13_2_bn[0][0]         \n",
      "__________________________________________________________________________________________________\n",
      "conv4_block13_3_conv (Conv2D)   (None, 14, 14, 1024) 263168      conv4_block13_2_relu[0][0]       \n",
      "__________________________________________________________________________________________________\n",
      "conv4_block13_out (Add)         (None, 14, 14, 1024) 0           conv4_block12_out[0][0]          \n",
      "                                                                 conv4_block13_3_conv[0][0]       \n",
      "__________________________________________________________________________________________________\n",
      "conv4_block14_preact_bn (BatchN (None, 14, 14, 1024) 4096        conv4_block13_out[0][0]          \n",
      "__________________________________________________________________________________________________\n",
      "conv4_block14_preact_relu (Acti (None, 14, 14, 1024) 0           conv4_block14_preact_bn[0][0]    \n",
      "__________________________________________________________________________________________________\n",
      "conv4_block14_1_conv (Conv2D)   (None, 14, 14, 256)  262144      conv4_block14_preact_relu[0][0]  \n",
      "__________________________________________________________________________________________________\n",
      "conv4_block14_1_bn (BatchNormal (None, 14, 14, 256)  1024        conv4_block14_1_conv[0][0]       \n",
      "__________________________________________________________________________________________________\n",
      "conv4_block14_1_relu (Activatio (None, 14, 14, 256)  0           conv4_block14_1_bn[0][0]         \n",
      "__________________________________________________________________________________________________\n",
      "conv4_block14_2_pad (ZeroPaddin (None, 16, 16, 256)  0           conv4_block14_1_relu[0][0]       \n",
      "__________________________________________________________________________________________________\n",
      "conv4_block14_2_conv (Conv2D)   (None, 14, 14, 256)  589824      conv4_block14_2_pad[0][0]        \n",
      "__________________________________________________________________________________________________\n",
      "conv4_block14_2_bn (BatchNormal (None, 14, 14, 256)  1024        conv4_block14_2_conv[0][0]       \n",
      "__________________________________________________________________________________________________\n",
      "conv4_block14_2_relu (Activatio (None, 14, 14, 256)  0           conv4_block14_2_bn[0][0]         \n",
      "__________________________________________________________________________________________________\n",
      "conv4_block14_3_conv (Conv2D)   (None, 14, 14, 1024) 263168      conv4_block14_2_relu[0][0]       \n",
      "__________________________________________________________________________________________________\n",
      "conv4_block14_out (Add)         (None, 14, 14, 1024) 0           conv4_block13_out[0][0]          \n",
      "                                                                 conv4_block14_3_conv[0][0]       \n",
      "__________________________________________________________________________________________________\n",
      "conv4_block15_preact_bn (BatchN (None, 14, 14, 1024) 4096        conv4_block14_out[0][0]          \n",
      "__________________________________________________________________________________________________\n",
      "conv4_block15_preact_relu (Acti (None, 14, 14, 1024) 0           conv4_block15_preact_bn[0][0]    \n",
      "__________________________________________________________________________________________________\n",
      "conv4_block15_1_conv (Conv2D)   (None, 14, 14, 256)  262144      conv4_block15_preact_relu[0][0]  \n",
      "__________________________________________________________________________________________________\n",
      "conv4_block15_1_bn (BatchNormal (None, 14, 14, 256)  1024        conv4_block15_1_conv[0][0]       \n",
      "__________________________________________________________________________________________________\n",
      "conv4_block15_1_relu (Activatio (None, 14, 14, 256)  0           conv4_block15_1_bn[0][0]         \n",
      "__________________________________________________________________________________________________\n",
      "conv4_block15_2_pad (ZeroPaddin (None, 16, 16, 256)  0           conv4_block15_1_relu[0][0]       \n",
      "__________________________________________________________________________________________________\n",
      "conv4_block15_2_conv (Conv2D)   (None, 14, 14, 256)  589824      conv4_block15_2_pad[0][0]        \n",
      "__________________________________________________________________________________________________\n",
      "conv4_block15_2_bn (BatchNormal (None, 14, 14, 256)  1024        conv4_block15_2_conv[0][0]       \n",
      "__________________________________________________________________________________________________\n",
      "conv4_block15_2_relu (Activatio (None, 14, 14, 256)  0           conv4_block15_2_bn[0][0]         \n",
      "__________________________________________________________________________________________________\n",
      "conv4_block15_3_conv (Conv2D)   (None, 14, 14, 1024) 263168      conv4_block15_2_relu[0][0]       \n",
      "__________________________________________________________________________________________________\n",
      "conv4_block15_out (Add)         (None, 14, 14, 1024) 0           conv4_block14_out[0][0]          \n",
      "                                                                 conv4_block15_3_conv[0][0]       \n",
      "__________________________________________________________________________________________________\n",
      "conv4_block16_preact_bn (BatchN (None, 14, 14, 1024) 4096        conv4_block15_out[0][0]          \n",
      "__________________________________________________________________________________________________\n",
      "conv4_block16_preact_relu (Acti (None, 14, 14, 1024) 0           conv4_block16_preact_bn[0][0]    \n",
      "__________________________________________________________________________________________________\n",
      "conv4_block16_1_conv (Conv2D)   (None, 14, 14, 256)  262144      conv4_block16_preact_relu[0][0]  \n",
      "__________________________________________________________________________________________________\n",
      "conv4_block16_1_bn (BatchNormal (None, 14, 14, 256)  1024        conv4_block16_1_conv[0][0]       \n",
      "__________________________________________________________________________________________________\n",
      "conv4_block16_1_relu (Activatio (None, 14, 14, 256)  0           conv4_block16_1_bn[0][0]         \n",
      "__________________________________________________________________________________________________\n",
      "conv4_block16_2_pad (ZeroPaddin (None, 16, 16, 256)  0           conv4_block16_1_relu[0][0]       \n",
      "__________________________________________________________________________________________________\n",
      "conv4_block16_2_conv (Conv2D)   (None, 14, 14, 256)  589824      conv4_block16_2_pad[0][0]        \n",
      "__________________________________________________________________________________________________\n",
      "conv4_block16_2_bn (BatchNormal (None, 14, 14, 256)  1024        conv4_block16_2_conv[0][0]       \n",
      "__________________________________________________________________________________________________\n",
      "conv4_block16_2_relu (Activatio (None, 14, 14, 256)  0           conv4_block16_2_bn[0][0]         \n",
      "__________________________________________________________________________________________________\n",
      "conv4_block16_3_conv (Conv2D)   (None, 14, 14, 1024) 263168      conv4_block16_2_relu[0][0]       \n",
      "__________________________________________________________________________________________________\n",
      "conv4_block16_out (Add)         (None, 14, 14, 1024) 0           conv4_block15_out[0][0]          \n",
      "                                                                 conv4_block16_3_conv[0][0]       \n",
      "__________________________________________________________________________________________________\n",
      "conv4_block17_preact_bn (BatchN (None, 14, 14, 1024) 4096        conv4_block16_out[0][0]          \n",
      "__________________________________________________________________________________________________\n",
      "conv4_block17_preact_relu (Acti (None, 14, 14, 1024) 0           conv4_block17_preact_bn[0][0]    \n",
      "__________________________________________________________________________________________________\n",
      "conv4_block17_1_conv (Conv2D)   (None, 14, 14, 256)  262144      conv4_block17_preact_relu[0][0]  \n",
      "__________________________________________________________________________________________________\n",
      "conv4_block17_1_bn (BatchNormal (None, 14, 14, 256)  1024        conv4_block17_1_conv[0][0]       \n",
      "__________________________________________________________________________________________________\n",
      "conv4_block17_1_relu (Activatio (None, 14, 14, 256)  0           conv4_block17_1_bn[0][0]         \n",
      "__________________________________________________________________________________________________\n",
      "conv4_block17_2_pad (ZeroPaddin (None, 16, 16, 256)  0           conv4_block17_1_relu[0][0]       \n",
      "__________________________________________________________________________________________________\n",
      "conv4_block17_2_conv (Conv2D)   (None, 14, 14, 256)  589824      conv4_block17_2_pad[0][0]        \n",
      "__________________________________________________________________________________________________\n",
      "conv4_block17_2_bn (BatchNormal (None, 14, 14, 256)  1024        conv4_block17_2_conv[0][0]       \n",
      "__________________________________________________________________________________________________\n",
      "conv4_block17_2_relu (Activatio (None, 14, 14, 256)  0           conv4_block17_2_bn[0][0]         \n",
      "__________________________________________________________________________________________________\n",
      "conv4_block17_3_conv (Conv2D)   (None, 14, 14, 1024) 263168      conv4_block17_2_relu[0][0]       \n",
      "__________________________________________________________________________________________________\n",
      "conv4_block17_out (Add)         (None, 14, 14, 1024) 0           conv4_block16_out[0][0]          \n",
      "                                                                 conv4_block17_3_conv[0][0]       \n",
      "__________________________________________________________________________________________________\n",
      "conv4_block18_preact_bn (BatchN (None, 14, 14, 1024) 4096        conv4_block17_out[0][0]          \n",
      "__________________________________________________________________________________________________\n",
      "conv4_block18_preact_relu (Acti (None, 14, 14, 1024) 0           conv4_block18_preact_bn[0][0]    \n",
      "__________________________________________________________________________________________________\n",
      "conv4_block18_1_conv (Conv2D)   (None, 14, 14, 256)  262144      conv4_block18_preact_relu[0][0]  \n",
      "__________________________________________________________________________________________________\n",
      "conv4_block18_1_bn (BatchNormal (None, 14, 14, 256)  1024        conv4_block18_1_conv[0][0]       \n",
      "__________________________________________________________________________________________________\n",
      "conv4_block18_1_relu (Activatio (None, 14, 14, 256)  0           conv4_block18_1_bn[0][0]         \n",
      "__________________________________________________________________________________________________\n",
      "conv4_block18_2_pad (ZeroPaddin (None, 16, 16, 256)  0           conv4_block18_1_relu[0][0]       \n",
      "__________________________________________________________________________________________________\n",
      "conv4_block18_2_conv (Conv2D)   (None, 14, 14, 256)  589824      conv4_block18_2_pad[0][0]        \n",
      "__________________________________________________________________________________________________\n",
      "conv4_block18_2_bn (BatchNormal (None, 14, 14, 256)  1024        conv4_block18_2_conv[0][0]       \n",
      "__________________________________________________________________________________________________\n",
      "conv4_block18_2_relu (Activatio (None, 14, 14, 256)  0           conv4_block18_2_bn[0][0]         \n",
      "__________________________________________________________________________________________________\n",
      "conv4_block18_3_conv (Conv2D)   (None, 14, 14, 1024) 263168      conv4_block18_2_relu[0][0]       \n",
      "__________________________________________________________________________________________________\n",
      "conv4_block18_out (Add)         (None, 14, 14, 1024) 0           conv4_block17_out[0][0]          \n",
      "                                                                 conv4_block18_3_conv[0][0]       \n",
      "__________________________________________________________________________________________________\n",
      "conv4_block19_preact_bn (BatchN (None, 14, 14, 1024) 4096        conv4_block18_out[0][0]          \n",
      "__________________________________________________________________________________________________\n",
      "conv4_block19_preact_relu (Acti (None, 14, 14, 1024) 0           conv4_block19_preact_bn[0][0]    \n",
      "__________________________________________________________________________________________________\n",
      "conv4_block19_1_conv (Conv2D)   (None, 14, 14, 256)  262144      conv4_block19_preact_relu[0][0]  \n",
      "__________________________________________________________________________________________________\n",
      "conv4_block19_1_bn (BatchNormal (None, 14, 14, 256)  1024        conv4_block19_1_conv[0][0]       \n",
      "__________________________________________________________________________________________________\n",
      "conv4_block19_1_relu (Activatio (None, 14, 14, 256)  0           conv4_block19_1_bn[0][0]         \n",
      "__________________________________________________________________________________________________\n",
      "conv4_block19_2_pad (ZeroPaddin (None, 16, 16, 256)  0           conv4_block19_1_relu[0][0]       \n",
      "__________________________________________________________________________________________________\n",
      "conv4_block19_2_conv (Conv2D)   (None, 14, 14, 256)  589824      conv4_block19_2_pad[0][0]        \n",
      "__________________________________________________________________________________________________\n",
      "conv4_block19_2_bn (BatchNormal (None, 14, 14, 256)  1024        conv4_block19_2_conv[0][0]       \n",
      "__________________________________________________________________________________________________\n",
      "conv4_block19_2_relu (Activatio (None, 14, 14, 256)  0           conv4_block19_2_bn[0][0]         \n",
      "__________________________________________________________________________________________________\n",
      "conv4_block19_3_conv (Conv2D)   (None, 14, 14, 1024) 263168      conv4_block19_2_relu[0][0]       \n",
      "__________________________________________________________________________________________________\n",
      "conv4_block19_out (Add)         (None, 14, 14, 1024) 0           conv4_block18_out[0][0]          \n",
      "                                                                 conv4_block19_3_conv[0][0]       \n",
      "__________________________________________________________________________________________________\n",
      "conv4_block20_preact_bn (BatchN (None, 14, 14, 1024) 4096        conv4_block19_out[0][0]          \n",
      "__________________________________________________________________________________________________\n",
      "conv4_block20_preact_relu (Acti (None, 14, 14, 1024) 0           conv4_block20_preact_bn[0][0]    \n",
      "__________________________________________________________________________________________________\n",
      "conv4_block20_1_conv (Conv2D)   (None, 14, 14, 256)  262144      conv4_block20_preact_relu[0][0]  \n",
      "__________________________________________________________________________________________________\n",
      "conv4_block20_1_bn (BatchNormal (None, 14, 14, 256)  1024        conv4_block20_1_conv[0][0]       \n",
      "__________________________________________________________________________________________________\n",
      "conv4_block20_1_relu (Activatio (None, 14, 14, 256)  0           conv4_block20_1_bn[0][0]         \n",
      "__________________________________________________________________________________________________\n",
      "conv4_block20_2_pad (ZeroPaddin (None, 16, 16, 256)  0           conv4_block20_1_relu[0][0]       \n",
      "__________________________________________________________________________________________________\n",
      "conv4_block20_2_conv (Conv2D)   (None, 14, 14, 256)  589824      conv4_block20_2_pad[0][0]        \n",
      "__________________________________________________________________________________________________\n",
      "conv4_block20_2_bn (BatchNormal (None, 14, 14, 256)  1024        conv4_block20_2_conv[0][0]       \n",
      "__________________________________________________________________________________________________\n",
      "conv4_block20_2_relu (Activatio (None, 14, 14, 256)  0           conv4_block20_2_bn[0][0]         \n",
      "__________________________________________________________________________________________________\n",
      "conv4_block20_3_conv (Conv2D)   (None, 14, 14, 1024) 263168      conv4_block20_2_relu[0][0]       \n",
      "__________________________________________________________________________________________________\n",
      "conv4_block20_out (Add)         (None, 14, 14, 1024) 0           conv4_block19_out[0][0]          \n",
      "                                                                 conv4_block20_3_conv[0][0]       \n",
      "__________________________________________________________________________________________________\n",
      "conv4_block21_preact_bn (BatchN (None, 14, 14, 1024) 4096        conv4_block20_out[0][0]          \n",
      "__________________________________________________________________________________________________\n",
      "conv4_block21_preact_relu (Acti (None, 14, 14, 1024) 0           conv4_block21_preact_bn[0][0]    \n",
      "__________________________________________________________________________________________________\n",
      "conv4_block21_1_conv (Conv2D)   (None, 14, 14, 256)  262144      conv4_block21_preact_relu[0][0]  \n",
      "__________________________________________________________________________________________________\n",
      "conv4_block21_1_bn (BatchNormal (None, 14, 14, 256)  1024        conv4_block21_1_conv[0][0]       \n",
      "__________________________________________________________________________________________________\n",
      "conv4_block21_1_relu (Activatio (None, 14, 14, 256)  0           conv4_block21_1_bn[0][0]         \n",
      "__________________________________________________________________________________________________\n",
      "conv4_block21_2_pad (ZeroPaddin (None, 16, 16, 256)  0           conv4_block21_1_relu[0][0]       \n",
      "__________________________________________________________________________________________________\n",
      "conv4_block21_2_conv (Conv2D)   (None, 14, 14, 256)  589824      conv4_block21_2_pad[0][0]        \n",
      "__________________________________________________________________________________________________\n",
      "conv4_block21_2_bn (BatchNormal (None, 14, 14, 256)  1024        conv4_block21_2_conv[0][0]       \n",
      "__________________________________________________________________________________________________\n",
      "conv4_block21_2_relu (Activatio (None, 14, 14, 256)  0           conv4_block21_2_bn[0][0]         \n",
      "__________________________________________________________________________________________________\n",
      "conv4_block21_3_conv (Conv2D)   (None, 14, 14, 1024) 263168      conv4_block21_2_relu[0][0]       \n",
      "__________________________________________________________________________________________________\n",
      "conv4_block21_out (Add)         (None, 14, 14, 1024) 0           conv4_block20_out[0][0]          \n",
      "                                                                 conv4_block21_3_conv[0][0]       \n",
      "__________________________________________________________________________________________________\n",
      "conv4_block22_preact_bn (BatchN (None, 14, 14, 1024) 4096        conv4_block21_out[0][0]          \n",
      "__________________________________________________________________________________________________\n",
      "conv4_block22_preact_relu (Acti (None, 14, 14, 1024) 0           conv4_block22_preact_bn[0][0]    \n",
      "__________________________________________________________________________________________________\n",
      "conv4_block22_1_conv (Conv2D)   (None, 14, 14, 256)  262144      conv4_block22_preact_relu[0][0]  \n",
      "__________________________________________________________________________________________________\n",
      "conv4_block22_1_bn (BatchNormal (None, 14, 14, 256)  1024        conv4_block22_1_conv[0][0]       \n",
      "__________________________________________________________________________________________________\n",
      "conv4_block22_1_relu (Activatio (None, 14, 14, 256)  0           conv4_block22_1_bn[0][0]         \n",
      "__________________________________________________________________________________________________\n",
      "conv4_block22_2_pad (ZeroPaddin (None, 16, 16, 256)  0           conv4_block22_1_relu[0][0]       \n",
      "__________________________________________________________________________________________________\n",
      "conv4_block22_2_conv (Conv2D)   (None, 14, 14, 256)  589824      conv4_block22_2_pad[0][0]        \n",
      "__________________________________________________________________________________________________\n",
      "conv4_block22_2_bn (BatchNormal (None, 14, 14, 256)  1024        conv4_block22_2_conv[0][0]       \n",
      "__________________________________________________________________________________________________\n",
      "conv4_block22_2_relu (Activatio (None, 14, 14, 256)  0           conv4_block22_2_bn[0][0]         \n",
      "__________________________________________________________________________________________________\n",
      "conv4_block22_3_conv (Conv2D)   (None, 14, 14, 1024) 263168      conv4_block22_2_relu[0][0]       \n",
      "__________________________________________________________________________________________________\n",
      "conv4_block22_out (Add)         (None, 14, 14, 1024) 0           conv4_block21_out[0][0]          \n",
      "                                                                 conv4_block22_3_conv[0][0]       \n",
      "__________________________________________________________________________________________________\n",
      "conv4_block23_preact_bn (BatchN (None, 14, 14, 1024) 4096        conv4_block22_out[0][0]          \n",
      "__________________________________________________________________________________________________\n",
      "conv4_block23_preact_relu (Acti (None, 14, 14, 1024) 0           conv4_block23_preact_bn[0][0]    \n",
      "__________________________________________________________________________________________________\n",
      "conv4_block23_1_conv (Conv2D)   (None, 14, 14, 256)  262144      conv4_block23_preact_relu[0][0]  \n",
      "__________________________________________________________________________________________________\n",
      "conv4_block23_1_bn (BatchNormal (None, 14, 14, 256)  1024        conv4_block23_1_conv[0][0]       \n",
      "__________________________________________________________________________________________________\n",
      "conv4_block23_1_relu (Activatio (None, 14, 14, 256)  0           conv4_block23_1_bn[0][0]         \n",
      "__________________________________________________________________________________________________\n",
      "conv4_block23_2_pad (ZeroPaddin (None, 16, 16, 256)  0           conv4_block23_1_relu[0][0]       \n",
      "__________________________________________________________________________________________________\n",
      "conv4_block23_2_conv (Conv2D)   (None, 7, 7, 256)    589824      conv4_block23_2_pad[0][0]        \n",
      "__________________________________________________________________________________________________\n",
      "conv4_block23_2_bn (BatchNormal (None, 7, 7, 256)    1024        conv4_block23_2_conv[0][0]       \n",
      "__________________________________________________________________________________________________\n",
      "conv4_block23_2_relu (Activatio (None, 7, 7, 256)    0           conv4_block23_2_bn[0][0]         \n",
      "__________________________________________________________________________________________________\n",
      "max_pooling2d_2 (MaxPooling2D)  (None, 7, 7, 1024)   0           conv4_block22_out[0][0]          \n",
      "__________________________________________________________________________________________________\n",
      "conv4_block23_3_conv (Conv2D)   (None, 7, 7, 1024)   263168      conv4_block23_2_relu[0][0]       \n",
      "__________________________________________________________________________________________________\n",
      "conv4_block23_out (Add)         (None, 7, 7, 1024)   0           max_pooling2d_2[0][0]            \n",
      "                                                                 conv4_block23_3_conv[0][0]       \n",
      "__________________________________________________________________________________________________\n",
      "conv5_block1_preact_bn (BatchNo (None, 7, 7, 1024)   4096        conv4_block23_out[0][0]          \n",
      "__________________________________________________________________________________________________\n",
      "conv5_block1_preact_relu (Activ (None, 7, 7, 1024)   0           conv5_block1_preact_bn[0][0]     \n",
      "__________________________________________________________________________________________________\n",
      "conv5_block1_1_conv (Conv2D)    (None, 7, 7, 512)    524288      conv5_block1_preact_relu[0][0]   \n",
      "__________________________________________________________________________________________________\n",
      "conv5_block1_1_bn (BatchNormali (None, 7, 7, 512)    2048        conv5_block1_1_conv[0][0]        \n",
      "__________________________________________________________________________________________________\n",
      "conv5_block1_1_relu (Activation (None, 7, 7, 512)    0           conv5_block1_1_bn[0][0]          \n",
      "__________________________________________________________________________________________________\n",
      "conv5_block1_2_pad (ZeroPadding (None, 9, 9, 512)    0           conv5_block1_1_relu[0][0]        \n",
      "__________________________________________________________________________________________________\n",
      "conv5_block1_2_conv (Conv2D)    (None, 7, 7, 512)    2359296     conv5_block1_2_pad[0][0]         \n",
      "__________________________________________________________________________________________________\n",
      "conv5_block1_2_bn (BatchNormali (None, 7, 7, 512)    2048        conv5_block1_2_conv[0][0]        \n",
      "__________________________________________________________________________________________________\n",
      "conv5_block1_2_relu (Activation (None, 7, 7, 512)    0           conv5_block1_2_bn[0][0]          \n",
      "__________________________________________________________________________________________________\n",
      "conv5_block1_0_conv (Conv2D)    (None, 7, 7, 2048)   2099200     conv5_block1_preact_relu[0][0]   \n",
      "__________________________________________________________________________________________________\n",
      "conv5_block1_3_conv (Conv2D)    (None, 7, 7, 2048)   1050624     conv5_block1_2_relu[0][0]        \n",
      "__________________________________________________________________________________________________\n",
      "conv5_block1_out (Add)          (None, 7, 7, 2048)   0           conv5_block1_0_conv[0][0]        \n",
      "                                                                 conv5_block1_3_conv[0][0]        \n",
      "__________________________________________________________________________________________________\n",
      "conv5_block2_preact_bn (BatchNo (None, 7, 7, 2048)   8192        conv5_block1_out[0][0]           \n",
      "__________________________________________________________________________________________________\n",
      "conv5_block2_preact_relu (Activ (None, 7, 7, 2048)   0           conv5_block2_preact_bn[0][0]     \n",
      "__________________________________________________________________________________________________\n",
      "conv5_block2_1_conv (Conv2D)    (None, 7, 7, 512)    1048576     conv5_block2_preact_relu[0][0]   \n",
      "__________________________________________________________________________________________________\n",
      "conv5_block2_1_bn (BatchNormali (None, 7, 7, 512)    2048        conv5_block2_1_conv[0][0]        \n",
      "__________________________________________________________________________________________________\n",
      "conv5_block2_1_relu (Activation (None, 7, 7, 512)    0           conv5_block2_1_bn[0][0]          \n",
      "__________________________________________________________________________________________________\n",
      "conv5_block2_2_pad (ZeroPadding (None, 9, 9, 512)    0           conv5_block2_1_relu[0][0]        \n",
      "__________________________________________________________________________________________________\n",
      "conv5_block2_2_conv (Conv2D)    (None, 7, 7, 512)    2359296     conv5_block2_2_pad[0][0]         \n",
      "__________________________________________________________________________________________________\n",
      "conv5_block2_2_bn (BatchNormali (None, 7, 7, 512)    2048        conv5_block2_2_conv[0][0]        \n",
      "__________________________________________________________________________________________________\n",
      "conv5_block2_2_relu (Activation (None, 7, 7, 512)    0           conv5_block2_2_bn[0][0]          \n",
      "__________________________________________________________________________________________________\n",
      "conv5_block2_3_conv (Conv2D)    (None, 7, 7, 2048)   1050624     conv5_block2_2_relu[0][0]        \n",
      "__________________________________________________________________________________________________\n",
      "conv5_block2_out (Add)          (None, 7, 7, 2048)   0           conv5_block1_out[0][0]           \n",
      "                                                                 conv5_block2_3_conv[0][0]        \n",
      "__________________________________________________________________________________________________\n",
      "conv5_block3_preact_bn (BatchNo (None, 7, 7, 2048)   8192        conv5_block2_out[0][0]           \n",
      "__________________________________________________________________________________________________\n",
      "conv5_block3_preact_relu (Activ (None, 7, 7, 2048)   0           conv5_block3_preact_bn[0][0]     \n",
      "__________________________________________________________________________________________________\n",
      "conv5_block3_1_conv (Conv2D)    (None, 7, 7, 512)    1048576     conv5_block3_preact_relu[0][0]   \n",
      "__________________________________________________________________________________________________\n",
      "conv5_block3_1_bn (BatchNormali (None, 7, 7, 512)    2048        conv5_block3_1_conv[0][0]        \n",
      "__________________________________________________________________________________________________\n",
      "conv5_block3_1_relu (Activation (None, 7, 7, 512)    0           conv5_block3_1_bn[0][0]          \n",
      "__________________________________________________________________________________________________\n",
      "conv5_block3_2_pad (ZeroPadding (None, 9, 9, 512)    0           conv5_block3_1_relu[0][0]        \n",
      "__________________________________________________________________________________________________\n",
      "conv5_block3_2_conv (Conv2D)    (None, 7, 7, 512)    2359296     conv5_block3_2_pad[0][0]         \n",
      "__________________________________________________________________________________________________\n",
      "conv5_block3_2_bn (BatchNormali (None, 7, 7, 512)    2048        conv5_block3_2_conv[0][0]        \n",
      "__________________________________________________________________________________________________\n",
      "conv5_block3_2_relu (Activation (None, 7, 7, 512)    0           conv5_block3_2_bn[0][0]          \n",
      "__________________________________________________________________________________________________\n",
      "conv5_block3_3_conv (Conv2D)    (None, 7, 7, 2048)   1050624     conv5_block3_2_relu[0][0]        \n",
      "__________________________________________________________________________________________________\n",
      "conv5_block3_out (Add)          (None, 7, 7, 2048)   0           conv5_block2_out[0][0]           \n",
      "                                                                 conv5_block3_3_conv[0][0]        \n",
      "__________________________________________________________________________________________________\n",
      "post_bn (BatchNormalization)    (None, 7, 7, 2048)   8192        conv5_block3_out[0][0]           \n",
      "__________________________________________________________________________________________________\n",
      "post_relu (Activation)          (None, 7, 7, 2048)   0           post_bn[0][0]                    \n",
      "__________________________________________________________________________________________________\n",
      "avg_pool (GlobalAveragePooling2 (None, 2048)         0           post_relu[0][0]                  \n",
      "__________________________________________________________________________________________________\n",
      "predictions (Dense)             (None, 1000)         2049000     avg_pool[0][0]                   \n",
      "==================================================================================================\n",
      "Total params: 44,675,560\n",
      "Trainable params: 44,577,896\n",
      "Non-trainable params: 97,664\n",
      "__________________________________________________________________________________________________\n"
     ]
    }
   ],
   "source": [
    "model.summary()"
   ]
  },
  {
   "cell_type": "code",
   "execution_count": null,
   "metadata": {},
   "outputs": [],
   "source": []
  }
 ],
 "metadata": {
  "kernelspec": {
   "display_name": "Python 3 (ipykernel)",
   "language": "python",
   "name": "python3"
  },
  "language_info": {
   "codemirror_mode": {
    "name": "ipython",
    "version": 3
   },
   "file_extension": ".py",
   "mimetype": "text/x-python",
   "name": "python",
   "nbconvert_exporter": "python",
   "pygments_lexer": "ipython3",
   "version": "3.8.1"
  }
 },
 "nbformat": 4,
 "nbformat_minor": 4
}
