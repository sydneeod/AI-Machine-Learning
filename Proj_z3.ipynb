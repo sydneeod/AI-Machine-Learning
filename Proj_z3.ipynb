{
 "cells": [
  {
   "cell_type": "code",
   "execution_count": null,
   "id": "f2246f04-8732-4092-8d52-b1699db7fbb2",
   "metadata": {},
   "outputs": [],
   "source": [
    "import numpy as np\n",
    "import matplotlib.pyplot as plt\n",
    "import pandas as pd\n",
    "import multiprocessing \n",
    "import time\n",
    "import h5py\n",
    "import time\n",
    "\n",
    "import requests\n",
    "\n",
    "baseUrl = 'http://www.tng-project.org/api/'\n",
    "headers = {\"api-key\":\"f3c97208f4981e63b57bb02c7135912b\"}\n",
    "\n",
    "def get(path, params=None):\n",
    "    # make HTTP GET request to path\n",
    "    r = requests.get(path, params=params, headers=headers)\n",
    "\n",
    "    # raise exception if response code is not HTTP SUCCESS (200)\n",
    "    r.raise_for_status()\n",
    "\n",
    "    if r.headers['content-type'] == 'application/json':\n",
    "        return r.json() # parse json responses automatically\n",
    "    return r\n",
    "\n",
    "r = get(baseUrl)"
   ]
  },
  {
   "cell_type": "code",
   "execution_count": null,
   "id": "35e2711c-0361-4904-9a9c-b5ce70a21d0b",
   "metadata": {},
   "outputs": [],
   "source": [
    "tstart = time.time()\n",
    "\n",
    "url_z3 = \"http://www.tng-project.org/api/TNG100-1/snapshots/25/subhalos/?limit=10000&offset=0\"\n",
    "subhalos_z3 = get(url_z3)\n",
    "print(\"Elapsed Time: {:.2f}s\".format(time.time() - tstart))"
   ]
  },
  {
   "cell_type": "code",
   "execution_count": null,
   "id": "43d0ef52-7a38-46e1-8863-8e8939b3c3ba",
   "metadata": {
    "tags": []
   },
   "outputs": [],
   "source": [
    "sub_z3 = [] ## array that contains subhalo information \n",
    "tstart = time.time()\n",
    "\n",
    "len_sub = 10000\n",
    "\n",
    "def func(sub):\n",
    "    for i in range(len_sub):\n",
    "        sub.append(get(subhalos_z3['results'][i]['url']))\n",
    "        print(i)\n",
    "    return (sub)\n",
    "\n",
    "func(sub_z3)\n",
    "print(\"Elapsed Time: {:.2f}s\".format(time.time() - tstart))"
   ]
  },
  {
   "cell_type": "code",
   "execution_count": null,
   "id": "bfabfaac-2fde-4bc6-ac0c-4d95fd6590b0",
   "metadata": {},
   "outputs": [],
   "source": [
    "pd.set_option('display.max_columns', None)\n",
    "data_z3 = pd.DataFrame(sub_z3)\n",
    "data_z3 = data_z3.drop(['id','snap','bhmdot','cm_x', 'cm_y','cm_z','pos_x','pos_y','pos_z','sfrinhalfrad','sfrinmaxrad', 'sfrinrad',\n",
    "                  'spin_x','spin_y', 'spin_z', 'prog_snap', 'windmass', 'prog_snap', 'prog_sfid', 'desc_snap','desc_sfid','parent','grnr','primary_flag', \n",
    "                 'related','cutouts','trees','supplementary_data','vis','meta', 'massinhalfrad','massinhalfrad_gas','massinhalfrad_dm','massinhalfrad_stars',\n",
    "                'massinhalfrad_bhs','massinmaxrad','massinmaxrad_gas','massinmaxrad_dm','massinmaxrad_stars','massinmaxrad_bhs','massinrad','gasmetallicitysfr',\n",
    "                'gasmetallicitysfrweighted','gasmetallicityhalfrad','gasmetallicitymaxrad','massinrad_gas','massinrad_dm','massinrad_stars','massinrad_bhs',\n",
    "                'starmetallicityhalfrad','starmetallicitymaxrad', 'stellarphotometricsrad', 'vel_x','vel_y','vel_z'],axis = 1)\n",
    "data_z3"
   ]
  },
  {
   "cell_type": "code",
   "execution_count": null,
   "id": "e85efc3a-c9b3-48ad-aaa8-be57ac9a3589",
   "metadata": {},
   "outputs": [],
   "source": [
    "Mlog = data_z3['mass_log_msun'] ## log of total mass in solar units\n",
    "Mtot = data_z3['mass'] ## total mass solar units\n",
    "\n",
    "## all in units of magnitude\n",
    "V = data_z3['stellarphotometrics_v']\n",
    "G = data_z3['stellarphotometrics_g']\n",
    "U = data_z3['stellarphotometrics_u']\n",
    "I = data_z3['stellarphotometrics_i']\n",
    "B = data_z3['stellarphotometrics_b']\n",
    "R = data_z3['stellarphotometrics_r']\n",
    "Z = data_z3['stellarphotometrics_z']\n",
    "\n",
    "vel = data_z3['vmax'] ## km/s\n",
    "vel = np.log10(vel)\n",
    "\n",
    "ug = U-G\n",
    "gr = G - R\n",
    "ri = R - I\n",
    "iz = I - Z"
   ]
  },
  {
   "cell_type": "code",
   "execution_count": null,
   "id": "e6f54718-96b8-42e8-949b-f353fc8caf84",
   "metadata": {},
   "outputs": [],
   "source": [
    "fig, (ax4) = plt.subplots(ncols=1, figsize=(16, 4))\n",
    "\n",
    "ax4.plot(vel, Mlog, '.', ms=4, c='b', label='vel vs Mlog', alpha=0.4)\n",
    "ax4.legend(loc=2)\n",
    "ax4.set_xlabel('$Velocity (km/s)$')\n",
    "ax4.set_ylabel('$Mass (log Msun$')"
   ]
  },
  {
   "cell_type": "code",
   "execution_count": null,
   "id": "cf323d82-134e-4af2-a898-f779ea474c1b",
   "metadata": {},
   "outputs": [],
   "source": [
    "fig, (ax0) = plt.subplots(ncols=1)\n",
    "\n",
    "ax0.plot(vel, Mlog, '.')\n",
    "ax0.set_ylabel('$Magnitude (mag)$')\n",
    "ax0.set_xlabel('$Velocity (km/s)$')"
   ]
  },
  {
   "cell_type": "code",
   "execution_count": null,
   "id": "accd8a38-75cd-47ad-a5a6-1f7db7e7d283",
   "metadata": {},
   "outputs": [],
   "source": [
    "sfr_bool = []\n",
    "\n",
    "## using for loop to iterate over data and calculate if SFR or not\n",
    "for i in range(10000):\n",
    "    if (data_z3['sfr'][i]) > 0:\n",
    "        sfr_bool += [1]\n",
    "    else:\n",
    "        sfr_bool += [0]"
   ]
  },
  {
   "cell_type": "code",
   "execution_count": null,
   "id": "973f2ee1-cdc8-4393-9163-fbf792bb3510",
   "metadata": {},
   "outputs": [],
   "source": [
    "data_z3 = data_z3.drop('sfr',1)"
   ]
  },
  {
   "cell_type": "code",
   "execution_count": null,
   "id": "43d67d5a-f5b5-4911-b904-59656a3a2402",
   "metadata": {},
   "outputs": [],
   "source": [
    "from sklearn.model_selection import train_test_split\n",
    "\n",
    "X = data_z3\n",
    "y = sfr_bool\n",
    "\n",
    "X_train, X_test, y_train, y_test = train_test_split(X, y, random_state=0)"
   ]
  },
  {
   "cell_type": "code",
   "execution_count": null,
   "id": "fa4c555a-1ac8-4591-b748-40f2b0a836fe",
   "metadata": {},
   "outputs": [],
   "source": [
    "import matplotlib.pyplot as plt\n",
    "from sklearn.inspection import permutation_importance\n",
    "\n",
    "## feature importance plot\n",
    "def plot_feature_importances(model):\n",
    "    n_features = X_test.shape[1]\n",
    "    plt.barh(np.arange(n_features), model.feature_importances_, align='center')\n",
    "    plt.yticks(np.arange(n_features), (data_z3.head()))\n",
    "    plt.xlabel(\"Feature importance\")\n",
    "    plt.ylabel(\"Feature\")\n",
    "    plt.ylim(-1, n_features)\n",
    "    plt.gcf().set_size_inches(15, 10)\n",
    "    \n",
    "plot_feature_importances(model)"
   ]
  }
 ],
 "metadata": {
  "kernelspec": {
   "display_name": "Python 3 (ipykernel)",
   "language": "python",
   "name": "python3"
  },
  "language_info": {
   "codemirror_mode": {
    "name": "ipython",
    "version": 3
   },
   "file_extension": ".py",
   "mimetype": "text/x-python",
   "name": "python",
   "nbconvert_exporter": "python",
   "pygments_lexer": "ipython3",
   "version": "3.8.1"
  }
 },
 "nbformat": 4,
 "nbformat_minor": 5
}
