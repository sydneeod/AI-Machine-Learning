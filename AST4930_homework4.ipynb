{
 "cells": [
  {
   "cell_type": "markdown",
   "metadata": {
    "slideshow": {
     "slide_type": "slide"
    }
   },
   "source": [
    "# AST4930 Homework Assignment #4 (20 pts)"
   ]
  },
  {
   "cell_type": "markdown",
   "metadata": {},
   "source": [
    "### Instruction:\n",
    "\n",
    "In this homework, we will build Random Forests to classify Super-Earth and Sub-Neptune (brief introduction to this problem in Week 8 slides). Now that we have learned how to inspect data, how to make figures, and how to implement different machine learning algorithms, in this homework we will try to do something more \"real research\" like problem solving.\n",
    "\n",
    "\n",
    "Below you will find instruction to this homework assignment.\n",
    "\n",
    "1. I learned that when I download your .ipynb file from Canvas, it automatically adds your name to the file name. So you don't have to put your last name manually.\n",
    "\n",
    "2. As you will see, the Notebook is partially filled. Fill in the empty cells. \n",
    "\n",
    "3. Note that there are questions you will have to answer. They will start with \"Q: ...\" The answers will be graded so make sure you answer all the questions.\n",
    "\n",
    "4. It's fine you work on somewhere else than HiPerGator. But when I grade your homework, I will run your Jupyter Notebook on HiPerGator. So before you submit your homework, make sure you test it on HiPerGator and see if you get any error messages. For this particular homework assignment, we are concerned about the computing time so I'd like you all to use the HiPerGator resources for a fair comparison. \n",
    "\n",
    "5. It's fine if you use someone else's code you found on Internet, but make sure you write down the source. You don't have to cite me when you use anything from AST4930 Notebook. But as we learned from Homework Assignment #2, I do make mistakes. So please double-check before you copy and paste my script!\n",
    "\n",
    "6. It's a common sense but just to make sure... when you make a figure, make sure they are readable/understandable. If you cannot see the title, labels, data points, or if you don't understand the point of the figure, I won't probably be able to see/understand them either!\n",
    "\n",
    "6. Submit your final .ipynb file via Canvas before the due date."
   ]
  },
  {
   "cell_type": "markdown",
   "metadata": {},
   "source": [
    "### Here I generously collected the data from Van Eylen et al. (2018) for you :)\n",
    " https://ui.adsabs.harvard.edu/abs/2018MNRAS.479.4786V/abstract"
   ]
  },
  {
   "cell_type": "code",
   "execution_count": 1,
   "metadata": {},
   "outputs": [],
   "source": [
    "import numpy as np\n",
    "import pandas as pd\n",
    "\n",
    "X = np.loadtxt('/blue/ast4930/share/VanEylen.txt', \n",
    "               dtype={'names': ('name', 'Rp', 'Period', 'Mstar', 'Rstar'),\n",
    "                     'formats': ('|U15',float,float,float,float)}\n",
    "              )\n",
    "X = pd.DataFrame(X)"
   ]
  },
  {
   "cell_type": "code",
   "execution_count": 2,
   "metadata": {},
   "outputs": [
    {
     "data": {
      "text/html": [
       "<div>\n",
       "<style scoped>\n",
       "    .dataframe tbody tr th:only-of-type {\n",
       "        vertical-align: middle;\n",
       "    }\n",
       "\n",
       "    .dataframe tbody tr th {\n",
       "        vertical-align: top;\n",
       "    }\n",
       "\n",
       "    .dataframe thead th {\n",
       "        text-align: right;\n",
       "    }\n",
       "</style>\n",
       "<table border=\"1\" class=\"dataframe\">\n",
       "  <thead>\n",
       "    <tr style=\"text-align: right;\">\n",
       "      <th></th>\n",
       "      <th>name</th>\n",
       "      <th>Rp</th>\n",
       "      <th>Period</th>\n",
       "      <th>Mstar</th>\n",
       "      <th>Rstar</th>\n",
       "    </tr>\n",
       "  </thead>\n",
       "  <tbody>\n",
       "    <tr>\n",
       "      <th>0</th>\n",
       "      <td>Kepler-10b</td>\n",
       "      <td>1.473</td>\n",
       "      <td>0.837</td>\n",
       "      <td>0.920</td>\n",
       "      <td>1.0662</td>\n",
       "    </tr>\n",
       "    <tr>\n",
       "      <th>1</th>\n",
       "      <td>Kepler-10c</td>\n",
       "      <td>2.323</td>\n",
       "      <td>45.294</td>\n",
       "      <td>0.920</td>\n",
       "      <td>1.0662</td>\n",
       "    </tr>\n",
       "    <tr>\n",
       "      <th>2</th>\n",
       "      <td>Kepler-23b</td>\n",
       "      <td>1.694</td>\n",
       "      <td>7.107</td>\n",
       "      <td>1.078</td>\n",
       "      <td>1.5480</td>\n",
       "    </tr>\n",
       "    <tr>\n",
       "      <th>3</th>\n",
       "      <td>Kepler-23c</td>\n",
       "      <td>3.120</td>\n",
       "      <td>10.742</td>\n",
       "      <td>1.078</td>\n",
       "      <td>1.5480</td>\n",
       "    </tr>\n",
       "    <tr>\n",
       "      <th>4</th>\n",
       "      <td>Kepler-23d</td>\n",
       "      <td>2.235</td>\n",
       "      <td>15.274</td>\n",
       "      <td>1.078</td>\n",
       "      <td>1.5480</td>\n",
       "    </tr>\n",
       "    <tr>\n",
       "      <th>...</th>\n",
       "      <td>...</td>\n",
       "      <td>...</td>\n",
       "      <td>...</td>\n",
       "      <td>...</td>\n",
       "      <td>...</td>\n",
       "    </tr>\n",
       "    <tr>\n",
       "      <th>112</th>\n",
       "      <td>K02706.01</td>\n",
       "      <td>1.797</td>\n",
       "      <td>3.098</td>\n",
       "      <td>1.260</td>\n",
       "      <td>1.8600</td>\n",
       "    </tr>\n",
       "    <tr>\n",
       "      <th>113</th>\n",
       "      <td>Kepler-1392</td>\n",
       "      <td>0.684</td>\n",
       "      <td>2.128</td>\n",
       "      <td>0.990</td>\n",
       "      <td>1.3000</td>\n",
       "    </tr>\n",
       "    <tr>\n",
       "      <th>114</th>\n",
       "      <td>K02801.01</td>\n",
       "      <td>0.870</td>\n",
       "      <td>6.992</td>\n",
       "      <td>1.120</td>\n",
       "      <td>1.4500</td>\n",
       "    </tr>\n",
       "    <tr>\n",
       "      <th>115</th>\n",
       "      <td>Kepler-1394</td>\n",
       "      <td>1.040</td>\n",
       "      <td>3.938</td>\n",
       "      <td>1.510</td>\n",
       "      <td>1.9800</td>\n",
       "    </tr>\n",
       "    <tr>\n",
       "      <th>116</th>\n",
       "      <td>K03168.01</td>\n",
       "      <td>0.988</td>\n",
       "      <td>56.382</td>\n",
       "      <td>1.030</td>\n",
       "      <td>1.5500</td>\n",
       "    </tr>\n",
       "  </tbody>\n",
       "</table>\n",
       "<p>117 rows × 5 columns</p>\n",
       "</div>"
      ],
      "text/plain": [
       "            name     Rp  Period  Mstar   Rstar\n",
       "0     Kepler-10b  1.473   0.837  0.920  1.0662\n",
       "1     Kepler-10c  2.323  45.294  0.920  1.0662\n",
       "2     Kepler-23b  1.694   7.107  1.078  1.5480\n",
       "3     Kepler-23c  3.120  10.742  1.078  1.5480\n",
       "4     Kepler-23d  2.235  15.274  1.078  1.5480\n",
       "..           ...    ...     ...    ...     ...\n",
       "112    K02706.01  1.797   3.098  1.260  1.8600\n",
       "113  Kepler-1392  0.684   2.128  0.990  1.3000\n",
       "114    K02801.01  0.870   6.992  1.120  1.4500\n",
       "115  Kepler-1394  1.040   3.938  1.510  1.9800\n",
       "116    K03168.01  0.988  56.382  1.030  1.5500\n",
       "\n",
       "[117 rows x 5 columns]"
      ]
     },
     "execution_count": 2,
     "metadata": {},
     "output_type": "execute_result"
    }
   ],
   "source": [
    "X"
   ]
  },
  {
   "cell_type": "markdown",
   "metadata": {},
   "source": [
    "### To be filled: We don't have the label (i.e., SE vs. SN). Let's make label.\n",
    "We will use the fit from Van Eylen et al. (2018). That is, if a planet's radius and orbital periods satisfy ${\\rm log}_{10} R_p > m{\\rm log}_{10} P + a$, where $m=-0.09$ and $a=0.37$, then we will label them as SN. Otherwise, we will label them as SE."
   ]
  },
  {
   "cell_type": "code",
   "execution_count": 16,
   "metadata": {},
   "outputs": [],
   "source": [
    "import numpy as np\n",
    "import pandas as pd\n",
    "import matplotlib.pyplot as plt\n",
    "\n",
    "m = -0.09\n",
    "a = 0.37\n",
    "\n",
    "X['SN'] = pd.DataFrame( (np.log10(X['Rp']) > (m*(np.log10(X['Period']) + a))) )\n",
    "#https://stackoverflow.com/questions/26886653/pandas-create-new-column-based-on-values-from-other-columns-apply-a-function-o\n",
    "\n",
    "#X_mapping = ['SN' if (np.log10(i) > (m*(np.log10(P) + a))) else 'M' if (np.log10(i) < (m*(np.log10(P) + a))) else 'S' for i in X['Rp'] for P in X['Period']]\n",
    "#X_mapping = ['SN' if (np.log(X['Rp']) > (m*(np.log(X['Period']) + a))) else 'M' if (np.log(X['Rp']) < (m*(np.log(X['Period']) + a))) else 'S' for i in X]\n",
    "##https://stackoverflow.com/questions/54787257/python-assign-labels-to-values-in-an-array/54787657\n",
    "        \n",
    "#X_mapping = pd.DataFrame(X_mapping)"
   ]
  },
  {
   "cell_type": "code",
   "execution_count": 17,
   "metadata": {
    "tags": []
   },
   "outputs": [
    {
     "data": {
      "text/plain": [
       "0       True\n",
       "1       True\n",
       "2       True\n",
       "3       True\n",
       "4       True\n",
       "       ...  \n",
       "112     True\n",
       "113    False\n",
       "114     True\n",
       "115     True\n",
       "116     True\n",
       "Name: SN, Length: 117, dtype: bool"
      ]
     },
     "execution_count": 17,
     "metadata": {},
     "output_type": "execute_result"
    }
   ],
   "source": [
    "X['SN']"
   ]
  },
  {
   "cell_type": "code",
   "execution_count": 18,
   "metadata": {},
   "outputs": [
    {
     "data": {
      "text/html": [
       "<div>\n",
       "<style scoped>\n",
       "    .dataframe tbody tr th:only-of-type {\n",
       "        vertical-align: middle;\n",
       "    }\n",
       "\n",
       "    .dataframe tbody tr th {\n",
       "        vertical-align: top;\n",
       "    }\n",
       "\n",
       "    .dataframe thead th {\n",
       "        text-align: right;\n",
       "    }\n",
       "</style>\n",
       "<table border=\"1\" class=\"dataframe\">\n",
       "  <thead>\n",
       "    <tr style=\"text-align: right;\">\n",
       "      <th></th>\n",
       "      <th>name</th>\n",
       "      <th>Rp</th>\n",
       "      <th>Period</th>\n",
       "      <th>Mstar</th>\n",
       "      <th>Rstar</th>\n",
       "      <th>SN</th>\n",
       "      <th>SE</th>\n",
       "    </tr>\n",
       "  </thead>\n",
       "  <tbody>\n",
       "    <tr>\n",
       "      <th>0</th>\n",
       "      <td>Kepler-10b</td>\n",
       "      <td>1.473</td>\n",
       "      <td>0.837</td>\n",
       "      <td>0.920</td>\n",
       "      <td>1.0662</td>\n",
       "      <td>True</td>\n",
       "      <td>False</td>\n",
       "    </tr>\n",
       "    <tr>\n",
       "      <th>1</th>\n",
       "      <td>Kepler-10c</td>\n",
       "      <td>2.323</td>\n",
       "      <td>45.294</td>\n",
       "      <td>0.920</td>\n",
       "      <td>1.0662</td>\n",
       "      <td>True</td>\n",
       "      <td>False</td>\n",
       "    </tr>\n",
       "    <tr>\n",
       "      <th>2</th>\n",
       "      <td>Kepler-23b</td>\n",
       "      <td>1.694</td>\n",
       "      <td>7.107</td>\n",
       "      <td>1.078</td>\n",
       "      <td>1.5480</td>\n",
       "      <td>True</td>\n",
       "      <td>False</td>\n",
       "    </tr>\n",
       "    <tr>\n",
       "      <th>3</th>\n",
       "      <td>Kepler-23c</td>\n",
       "      <td>3.120</td>\n",
       "      <td>10.742</td>\n",
       "      <td>1.078</td>\n",
       "      <td>1.5480</td>\n",
       "      <td>True</td>\n",
       "      <td>False</td>\n",
       "    </tr>\n",
       "    <tr>\n",
       "      <th>4</th>\n",
       "      <td>Kepler-23d</td>\n",
       "      <td>2.235</td>\n",
       "      <td>15.274</td>\n",
       "      <td>1.078</td>\n",
       "      <td>1.5480</td>\n",
       "      <td>True</td>\n",
       "      <td>False</td>\n",
       "    </tr>\n",
       "    <tr>\n",
       "      <th>...</th>\n",
       "      <td>...</td>\n",
       "      <td>...</td>\n",
       "      <td>...</td>\n",
       "      <td>...</td>\n",
       "      <td>...</td>\n",
       "      <td>...</td>\n",
       "      <td>...</td>\n",
       "    </tr>\n",
       "    <tr>\n",
       "      <th>112</th>\n",
       "      <td>K02706.01</td>\n",
       "      <td>1.797</td>\n",
       "      <td>3.098</td>\n",
       "      <td>1.260</td>\n",
       "      <td>1.8600</td>\n",
       "      <td>True</td>\n",
       "      <td>False</td>\n",
       "    </tr>\n",
       "    <tr>\n",
       "      <th>113</th>\n",
       "      <td>Kepler-1392</td>\n",
       "      <td>0.684</td>\n",
       "      <td>2.128</td>\n",
       "      <td>0.990</td>\n",
       "      <td>1.3000</td>\n",
       "      <td>False</td>\n",
       "      <td>True</td>\n",
       "    </tr>\n",
       "    <tr>\n",
       "      <th>114</th>\n",
       "      <td>K02801.01</td>\n",
       "      <td>0.870</td>\n",
       "      <td>6.992</td>\n",
       "      <td>1.120</td>\n",
       "      <td>1.4500</td>\n",
       "      <td>True</td>\n",
       "      <td>False</td>\n",
       "    </tr>\n",
       "    <tr>\n",
       "      <th>115</th>\n",
       "      <td>Kepler-1394</td>\n",
       "      <td>1.040</td>\n",
       "      <td>3.938</td>\n",
       "      <td>1.510</td>\n",
       "      <td>1.9800</td>\n",
       "      <td>True</td>\n",
       "      <td>False</td>\n",
       "    </tr>\n",
       "    <tr>\n",
       "      <th>116</th>\n",
       "      <td>K03168.01</td>\n",
       "      <td>0.988</td>\n",
       "      <td>56.382</td>\n",
       "      <td>1.030</td>\n",
       "      <td>1.5500</td>\n",
       "      <td>True</td>\n",
       "      <td>False</td>\n",
       "    </tr>\n",
       "  </tbody>\n",
       "</table>\n",
       "<p>117 rows × 7 columns</p>\n",
       "</div>"
      ],
      "text/plain": [
       "            name     Rp  Period  Mstar   Rstar     SN     SE\n",
       "0     Kepler-10b  1.473   0.837  0.920  1.0662   True  False\n",
       "1     Kepler-10c  2.323  45.294  0.920  1.0662   True  False\n",
       "2     Kepler-23b  1.694   7.107  1.078  1.5480   True  False\n",
       "3     Kepler-23c  3.120  10.742  1.078  1.5480   True  False\n",
       "4     Kepler-23d  2.235  15.274  1.078  1.5480   True  False\n",
       "..           ...    ...     ...    ...     ...    ...    ...\n",
       "112    K02706.01  1.797   3.098  1.260  1.8600   True  False\n",
       "113  Kepler-1392  0.684   2.128  0.990  1.3000  False   True\n",
       "114    K02801.01  0.870   6.992  1.120  1.4500   True  False\n",
       "115  Kepler-1394  1.040   3.938  1.510  1.9800   True  False\n",
       "116    K03168.01  0.988  56.382  1.030  1.5500   True  False\n",
       "\n",
       "[117 rows x 7 columns]"
      ]
     },
     "execution_count": 18,
     "metadata": {},
     "output_type": "execute_result"
    }
   ],
   "source": [
    "X"
   ]
  },
  {
   "cell_type": "code",
   "execution_count": 5,
   "metadata": {},
   "outputs": [
    {
     "data": {
      "text/plain": [
       "<AxesSubplot:>"
      ]
     },
     "execution_count": 5,
     "metadata": {},
     "output_type": "execute_result"
    },
    {
     "data": {
      "image/png": "[encoded data removed]",
      "text/plain": [
       "<Figure size 1800x1440 with 2 Axes>"
      ]
     },
     "metadata": {
      "needs_background": "light"
     },
     "output_type": "display_data"
    }
   ],
   "source": [
    "import seaborn as sns\n",
    "import matplotlib.pyplot as plt\n",
    "\n",
    "fig = plt.figure(figsize=(25, 20))\n",
    "sns.heatmap(X.corr(), annot=True)"
   ]
  },
  {
   "cell_type": "markdown",
   "metadata": {
    "slideshow": {
     "slide_type": "slide"
    }
   },
   "source": [
    "### To be filled: Make a orbital period - radius plot showing the Van Eylen sample with their class color-coded.\n",
    "The resulting figure should look similar to Figure 2 of Van Eylen et al. (2018). Do you see the radius valley?"
   ]
  },
  {
   "cell_type": "code",
   "execution_count": 13,
   "metadata": {
    "slideshow": {
     "slide_type": "fragment"
    }
   },
   "outputs": [
    {
     "data": {
      "text/plain": [
       "[<matplotlib.lines.Line2D at 0x2b312aef4250>]"
      ]
     },
     "execution_count": 13,
     "metadata": {},
     "output_type": "execute_result"
    },
    {
     "data": {
      "image/png": "[encoded data removed]",
      "text/plain": [
       "<Figure size 432x288 with 1 Axes>"
      ]
     },
     "metadata": {
      "needs_background": "light"
     },
     "output_type": "display_data"
    }
   ],
   "source": [
    "fig, ax = plt.subplots(figsize=(6, 4))\n",
    "\n",
    "Period = (X['Period'])\n",
    "Radius = (X['Rstar'])\n",
    "\n",
    "plt.plot(Period, Radius, 'o')\n",
    "\n"
   ]
  },
  {
   "cell_type": "markdown",
   "metadata": {},
   "source": [
    "### To be filled: Now, let's make a RF model. \n",
    "Tip: You may want to use logarithmic values of planet radius and period since the radius valley is better seen in the log space.<br>\n",
    "Try to find a good \"n_estimators\". You can use the \"oob score\"."
   ]
  },
  {
   "cell_type": "code",
   "execution_count": null,
   "metadata": {
    "slideshow": {
     "slide_type": "fragment"
    }
   },
   "outputs": [],
   "source": [
    "\n",
    "\n",
    "\n",
    "\n"
   ]
  },
  {
   "cell_type": "markdown",
   "metadata": {},
   "source": [
    "### Q: What is the accuracy of your best model?"
   ]
  },
  {
   "cell_type": "code",
   "execution_count": null,
   "metadata": {},
   "outputs": [],
   "source": []
  },
  {
   "cell_type": "markdown",
   "metadata": {},
   "source": [
    "### To be filled: Let's check out which features are the most important.\n",
    "Tip: RF comes with free feature importance."
   ]
  },
  {
   "cell_type": "code",
   "execution_count": null,
   "metadata": {},
   "outputs": [],
   "source": [
    "\n",
    "\n",
    "\n",
    "\n"
   ]
  },
  {
   "cell_type": "markdown",
   "metadata": {},
   "source": [
    "### Q: Which feature(s) is important?"
   ]
  },
  {
   "cell_type": "code",
   "execution_count": null,
   "metadata": {},
   "outputs": [],
   "source": []
  },
  {
   "cell_type": "markdown",
   "metadata": {},
   "source": [
    "### To be filled: Now let's read in a noisier dataset.\n",
    "We will collect stellar and planet parameters from the following two papers.<br>\n",
    "Stellar parameters: https://cdsarc.cds.unistra.fr/viz-bin/cat/J/AJ/159/280#/browse<br>\n",
    "Planet parameters: https://cdsarc.cds.unistra.fr/viz-bin/cat/J/AJ/160/108#/browse<br>\n",
    "\n",
    "From stellar parameters Table 2 is what we need. For planet parameters, we need Table 1. Check out the ReadMe files to see what's in the files. Save them on your local machine and then upload the files to your working directory on HiPerGator (e.g., /blue/ast4930/jbae/homework4/).\n"
   ]
  },
  {
   "cell_type": "markdown",
   "metadata": {},
   "source": [
    "### To be filled: Now let's read in the stellar and planet parameters.\n",
    "You can use a similar syntax that I used to load the Van Eylen data above."
   ]
  },
  {
   "cell_type": "markdown",
   "metadata": {},
   "source": [
    "### If you read in the stellar parameter file correctly you should see something like the following."
   ]
  },
  {
   "cell_type": "code",
   "execution_count": 11,
   "metadata": {},
   "outputs": [
    {
     "data": {
      "text/html": [
       "<div>\n",
       "<style scoped>\n",
       "    .dataframe tbody tr th:only-of-type {\n",
       "        vertical-align: middle;\n",
       "    }\n",
       "\n",
       "    .dataframe tbody tr th {\n",
       "        vertical-align: top;\n",
       "    }\n",
       "\n",
       "    .dataframe thead th {\n",
       "        text-align: right;\n",
       "    }\n",
       "</style>\n",
       "<table border=\"1\" class=\"dataframe\">\n",
       "  <thead>\n",
       "    <tr style=\"text-align: right;\">\n",
       "      <th></th>\n",
       "      <th>KIC</th>\n",
       "      <th>Mstar</th>\n",
       "      <th>Tstar</th>\n",
       "      <th>gstar</th>\n",
       "      <th>Zstar</th>\n",
       "      <th>Rstar</th>\n",
       "      <th>rhostar</th>\n",
       "      <th>Lstar</th>\n",
       "      <th>Astar</th>\n",
       "      <th>dstar</th>\n",
       "    </tr>\n",
       "  </thead>\n",
       "  <tbody>\n",
       "    <tr>\n",
       "      <th>0</th>\n",
       "      <td>757076</td>\n",
       "      <td>1.396</td>\n",
       "      <td>5052.2</td>\n",
       "      <td>3.373</td>\n",
       "      <td>-0.143</td>\n",
       "      <td>4.003</td>\n",
       "      <td>-1.672</td>\n",
       "      <td>0.976</td>\n",
       "      <td>2.47</td>\n",
       "      <td>22.6</td>\n",
       "    </tr>\n",
       "    <tr>\n",
       "      <th>1</th>\n",
       "      <td>757099</td>\n",
       "      <td>0.873</td>\n",
       "      <td>5364.9</td>\n",
       "      <td>4.318</td>\n",
       "      <td>0.078</td>\n",
       "      <td>1.068</td>\n",
       "      <td>-0.149</td>\n",
       "      <td>-0.066</td>\n",
       "      <td>15.20</td>\n",
       "      <td>7.1</td>\n",
       "    </tr>\n",
       "    <tr>\n",
       "      <th>2</th>\n",
       "      <td>757137</td>\n",
       "      <td>1.669</td>\n",
       "      <td>4628.7</td>\n",
       "      <td>2.388</td>\n",
       "      <td>-0.113</td>\n",
       "      <td>13.591</td>\n",
       "      <td>-3.187</td>\n",
       "      <td>1.884</td>\n",
       "      <td>1.51</td>\n",
       "      <td>12.2</td>\n",
       "    </tr>\n",
       "    <tr>\n",
       "      <th>3</th>\n",
       "      <td>757280</td>\n",
       "      <td>1.715</td>\n",
       "      <td>6856.8</td>\n",
       "      <td>3.834</td>\n",
       "      <td>-0.030</td>\n",
       "      <td>2.610</td>\n",
       "      <td>-1.022</td>\n",
       "      <td>1.135</td>\n",
       "      <td>1.24</td>\n",
       "      <td>19.4</td>\n",
       "    </tr>\n",
       "    <tr>\n",
       "      <th>4</th>\n",
       "      <td>757450</td>\n",
       "      <td>0.914</td>\n",
       "      <td>5301.2</td>\n",
       "      <td>4.432</td>\n",
       "      <td>0.242</td>\n",
       "      <td>0.957</td>\n",
       "      <td>0.010</td>\n",
       "      <td>-0.182</td>\n",
       "      <td>9.46</td>\n",
       "      <td>24.0</td>\n",
       "    </tr>\n",
       "    <tr>\n",
       "      <th>...</th>\n",
       "      <td>...</td>\n",
       "      <td>...</td>\n",
       "      <td>...</td>\n",
       "      <td>...</td>\n",
       "      <td>...</td>\n",
       "      <td>...</td>\n",
       "      <td>...</td>\n",
       "      <td>...</td>\n",
       "      <td>...</td>\n",
       "      <td>...</td>\n",
       "    </tr>\n",
       "    <tr>\n",
       "      <th>186296</th>\n",
       "      <td>12984214</td>\n",
       "      <td>0.933</td>\n",
       "      <td>5305.6</td>\n",
       "      <td>4.215</td>\n",
       "      <td>0.203</td>\n",
       "      <td>1.153</td>\n",
       "      <td>-0.321</td>\n",
       "      <td>-0.003</td>\n",
       "      <td>10.66</td>\n",
       "      <td>414.8</td>\n",
       "    </tr>\n",
       "    <tr>\n",
       "      <th>186297</th>\n",
       "      <td>12984227</td>\n",
       "      <td>1.073</td>\n",
       "      <td>3455.0</td>\n",
       "      <td>0.632</td>\n",
       "      <td>0.080</td>\n",
       "      <td>82.730</td>\n",
       "      <td>-5.733</td>\n",
       "      <td>2.950</td>\n",
       "      <td>7.97</td>\n",
       "      <td>499.8</td>\n",
       "    </tr>\n",
       "    <tr>\n",
       "      <th>186298</th>\n",
       "      <td>12984307</td>\n",
       "      <td>1.156</td>\n",
       "      <td>5892.6</td>\n",
       "      <td>4.123</td>\n",
       "      <td>0.083</td>\n",
       "      <td>1.542</td>\n",
       "      <td>-0.506</td>\n",
       "      <td>0.415</td>\n",
       "      <td>5.33</td>\n",
       "      <td>11.8</td>\n",
       "    </tr>\n",
       "    <tr>\n",
       "      <th>186299</th>\n",
       "      <td>12984404</td>\n",
       "      <td>1.564</td>\n",
       "      <td>4612.4</td>\n",
       "      <td>2.501</td>\n",
       "      <td>0.220</td>\n",
       "      <td>11.444</td>\n",
       "      <td>-3.002</td>\n",
       "      <td>1.731</td>\n",
       "      <td>2.32</td>\n",
       "      <td>42.2</td>\n",
       "    </tr>\n",
       "    <tr>\n",
       "      <th>186300</th>\n",
       "      <td>12984422</td>\n",
       "      <td>0.905</td>\n",
       "      <td>5187.0</td>\n",
       "      <td>4.466</td>\n",
       "      <td>0.313</td>\n",
       "      <td>0.916</td>\n",
       "      <td>0.063</td>\n",
       "      <td>-0.261</td>\n",
       "      <td>8.62</td>\n",
       "      <td>43.9</td>\n",
       "    </tr>\n",
       "  </tbody>\n",
       "</table>\n",
       "<p>186301 rows × 10 columns</p>\n",
       "</div>"
      ],
      "text/plain": [
       "             KIC  Mstar   Tstar  gstar  Zstar   Rstar  rhostar  Lstar  Astar  \\\n",
       "0         757076  1.396  5052.2  3.373 -0.143   4.003   -1.672  0.976   2.47   \n",
       "1         757099  0.873  5364.9  4.318  0.078   1.068   -0.149 -0.066  15.20   \n",
       "2         757137  1.669  4628.7  2.388 -0.113  13.591   -3.187  1.884   1.51   \n",
       "3         757280  1.715  6856.8  3.834 -0.030   2.610   -1.022  1.135   1.24   \n",
       "4         757450  0.914  5301.2  4.432  0.242   0.957    0.010 -0.182   9.46   \n",
       "...          ...    ...     ...    ...    ...     ...      ...    ...    ...   \n",
       "186296  12984214  0.933  5305.6  4.215  0.203   1.153   -0.321 -0.003  10.66   \n",
       "186297  12984227  1.073  3455.0  0.632  0.080  82.730   -5.733  2.950   7.97   \n",
       "186298  12984307  1.156  5892.6  4.123  0.083   1.542   -0.506  0.415   5.33   \n",
       "186299  12984404  1.564  4612.4  2.501  0.220  11.444   -3.002  1.731   2.32   \n",
       "186300  12984422  0.905  5187.0  4.466  0.313   0.916    0.063 -0.261   8.62   \n",
       "\n",
       "        dstar  \n",
       "0        22.6  \n",
       "1         7.1  \n",
       "2        12.2  \n",
       "3        19.4  \n",
       "4        24.0  \n",
       "...       ...  \n",
       "186296  414.8  \n",
       "186297  499.8  \n",
       "186298   11.8  \n",
       "186299   42.2  \n",
       "186300   43.9  \n",
       "\n",
       "[186301 rows x 10 columns]"
      ]
     },
     "execution_count": 11,
     "metadata": {},
     "output_type": "execute_result"
    }
   ],
   "source": []
  },
  {
   "cell_type": "markdown",
   "metadata": {},
   "source": [
    "### If you read in the planet parameter file correctly you should see something like the following."
   ]
  },
  {
   "cell_type": "code",
   "execution_count": 14,
   "metadata": {},
   "outputs": [
    {
     "data": {
      "text/html": [
       "<div>\n",
       "<style scoped>\n",
       "    .dataframe tbody tr th:only-of-type {\n",
       "        vertical-align: middle;\n",
       "    }\n",
       "\n",
       "    .dataframe tbody tr th {\n",
       "        vertical-align: top;\n",
       "    }\n",
       "\n",
       "    .dataframe thead th {\n",
       "        text-align: right;\n",
       "    }\n",
       "</style>\n",
       "<table border=\"1\" class=\"dataframe\">\n",
       "  <thead>\n",
       "    <tr style=\"text-align: right;\">\n",
       "      <th></th>\n",
       "      <th>KIC</th>\n",
       "      <th>KOI</th>\n",
       "      <th>status</th>\n",
       "      <th>Rp</th>\n",
       "      <th>distance</th>\n",
       "      <th>flux</th>\n",
       "      <th>zamsflux</th>\n",
       "    </tr>\n",
       "  </thead>\n",
       "  <tbody>\n",
       "    <tr>\n",
       "      <th>0</th>\n",
       "      <td>11446443</td>\n",
       "      <td>1.01</td>\n",
       "      <td>CONFIRMED</td>\n",
       "      <td>14.21</td>\n",
       "      <td>0.0355</td>\n",
       "      <td>854.78</td>\n",
       "      <td>524.75</td>\n",
       "    </tr>\n",
       "    <tr>\n",
       "      <th>1</th>\n",
       "      <td>10666592</td>\n",
       "      <td>2.01</td>\n",
       "      <td>CONFIRMED</td>\n",
       "      <td>16.45</td>\n",
       "      <td>0.0381</td>\n",
       "      <td>4285.95</td>\n",
       "      <td>2394.68</td>\n",
       "    </tr>\n",
       "    <tr>\n",
       "      <th>2</th>\n",
       "      <td>10748390</td>\n",
       "      <td>3.01</td>\n",
       "      <td>CONFIRMED</td>\n",
       "      <td>4.88</td>\n",
       "      <td>0.0516</td>\n",
       "      <td>86.58</td>\n",
       "      <td>58.22</td>\n",
       "    </tr>\n",
       "    <tr>\n",
       "      <th>3</th>\n",
       "      <td>3861595</td>\n",
       "      <td>4.01</td>\n",
       "      <td>CONFIRMED</td>\n",
       "      <td>13.18</td>\n",
       "      <td>0.0583</td>\n",
       "      <td>5244.42</td>\n",
       "      <td>3647.63</td>\n",
       "    </tr>\n",
       "    <tr>\n",
       "      <th>4</th>\n",
       "      <td>11853905</td>\n",
       "      <td>7.01</td>\n",
       "      <td>CONFIRMED</td>\n",
       "      <td>4.01</td>\n",
       "      <td>0.0455</td>\n",
       "      <td>1247.17</td>\n",
       "      <td>719.80</td>\n",
       "    </tr>\n",
       "    <tr>\n",
       "      <th>...</th>\n",
       "      <td>...</td>\n",
       "      <td>...</td>\n",
       "      <td>...</td>\n",
       "      <td>...</td>\n",
       "      <td>...</td>\n",
       "      <td>...</td>\n",
       "      <td>...</td>\n",
       "    </tr>\n",
       "    <tr>\n",
       "      <th>3882</th>\n",
       "      <td>8329346</td>\n",
       "      <td>8275.01</td>\n",
       "      <td>CANDIDATE</td>\n",
       "      <td>4.06</td>\n",
       "      <td>0.9959</td>\n",
       "      <td>0.55</td>\n",
       "      <td>0.41</td>\n",
       "    </tr>\n",
       "    <tr>\n",
       "      <th>3883</th>\n",
       "      <td>8637903</td>\n",
       "      <td>8276.01</td>\n",
       "      <td>CANDIDATE</td>\n",
       "      <td>3.48</td>\n",
       "      <td>1.1260</td>\n",
       "      <td>2.29</td>\n",
       "      <td>1.86</td>\n",
       "    </tr>\n",
       "    <tr>\n",
       "      <th>3884</th>\n",
       "      <td>9011955</td>\n",
       "      <td>8279.01</td>\n",
       "      <td>CANDIDATE</td>\n",
       "      <td>55.22</td>\n",
       "      <td>1.0602</td>\n",
       "      <td>2.96</td>\n",
       "      <td>1.32</td>\n",
       "    </tr>\n",
       "    <tr>\n",
       "      <th>3885</th>\n",
       "      <td>9159288</td>\n",
       "      <td>8280.01</td>\n",
       "      <td>CANDIDATE</td>\n",
       "      <td>3.01</td>\n",
       "      <td>0.3458</td>\n",
       "      <td>22.92</td>\n",
       "      <td>16.13</td>\n",
       "    </tr>\n",
       "    <tr>\n",
       "      <th>3886</th>\n",
       "      <td>12168280</td>\n",
       "      <td>8297.01</td>\n",
       "      <td>CANDIDATE</td>\n",
       "      <td>56.74</td>\n",
       "      <td>0.8720</td>\n",
       "      <td>14.75</td>\n",
       "      <td>10.36</td>\n",
       "    </tr>\n",
       "  </tbody>\n",
       "</table>\n",
       "<p>3887 rows × 7 columns</p>\n",
       "</div>"
      ],
      "text/plain": [
       "           KIC      KOI     status     Rp  distance     flux  zamsflux\n",
       "0     11446443     1.01  CONFIRMED  14.21    0.0355   854.78    524.75\n",
       "1     10666592     2.01  CONFIRMED  16.45    0.0381  4285.95   2394.68\n",
       "2     10748390     3.01  CONFIRMED   4.88    0.0516    86.58     58.22\n",
       "3      3861595     4.01  CONFIRMED  13.18    0.0583  5244.42   3647.63\n",
       "4     11853905     7.01  CONFIRMED   4.01    0.0455  1247.17    719.80\n",
       "...        ...      ...        ...    ...       ...      ...       ...\n",
       "3882   8329346  8275.01  CANDIDATE   4.06    0.9959     0.55      0.41\n",
       "3883   8637903  8276.01  CANDIDATE   3.48    1.1260     2.29      1.86\n",
       "3884   9011955  8279.01  CANDIDATE  55.22    1.0602     2.96      1.32\n",
       "3885   9159288  8280.01  CANDIDATE   3.01    0.3458    22.92     16.13\n",
       "3886  12168280  8297.01  CANDIDATE  56.74    0.8720    14.75     10.36\n",
       "\n",
       "[3887 rows x 7 columns]"
      ]
     },
     "execution_count": 14,
     "metadata": {},
     "output_type": "execute_result"
    }
   ],
   "source": []
  },
  {
   "cell_type": "markdown",
   "metadata": {},
   "source": [
    "### To be filled: What we need are the radius and orbital period of the \"confirmed\" planets (let's remove the candidates) and their host stars' mass and radius -- these are the ones in the Van Eylen data. Make a single dataframe containing these information.\n",
    "Tip: We have two separate datasets and we need \"crossmatch\" the data! Remember what Kim et al. (2014) did for their variable star classification? Here, we can use the KIC (Kepler Input Catalog ID #).\n",
    "Tip #2: In the planet parameter, you will see that we have orbital distance in astronomical units instead of the orbital period. So we need to create a new feature. How can we relate the orbital distance and orbital period? We can use the Kepler's third law to do this."
   ]
  },
  {
   "cell_type": "code",
   "execution_count": null,
   "metadata": {},
   "outputs": [],
   "source": [
    "\n",
    "\n",
    "\n",
    "\n"
   ]
  },
  {
   "cell_type": "markdown",
   "metadata": {},
   "source": [
    "### To be filled: Make predictions using your RF model.\n",
    "Tip: If you used log values (which I suggest), you need to use log values for the evaluation data."
   ]
  },
  {
   "cell_type": "code",
   "execution_count": null,
   "metadata": {},
   "outputs": [],
   "source": [
    "\n",
    "\n",
    "\n",
    "\n"
   ]
  },
  {
   "cell_type": "markdown",
   "metadata": {},
   "source": [
    "### To be filled: Make a plot showing the planet radius vs. orbital period with your prediction color-coded. This should look similar to what you've done with Van Eylen data (but a lot more data points). \n"
   ]
  },
  {
   "cell_type": "code",
   "execution_count": null,
   "metadata": {},
   "outputs": [],
   "source": [
    "\n",
    "\n",
    "\n",
    "\n"
   ]
  },
  {
   "cell_type": "markdown",
   "metadata": {},
   "source": [
    "### Q: How does the classification look like? Did it work well?"
   ]
  },
  {
   "cell_type": "code",
   "execution_count": null,
   "metadata": {},
   "outputs": [],
   "source": [
    "\n",
    "\n",
    "\n",
    "\n"
   ]
  },
  {
   "cell_type": "markdown",
   "metadata": {},
   "source": [
    "### Q: What are your thoughts on more research-like problem solving? Did you enjoy?"
   ]
  },
  {
   "cell_type": "code",
   "execution_count": null,
   "metadata": {},
   "outputs": [],
   "source": [
    "\n",
    "\n",
    "\n",
    "\n"
   ]
  }
 ],
 "metadata": {
  "kernelspec": {
   "display_name": "PyTorch-1.8.1",
   "language": "python",
   "name": "pytorch-1.8.1"
  },
  "language_info": {
   "codemirror_mode": {
    "name": "ipython",
    "version": 3
   },
   "file_extension": ".py",
   "mimetype": "text/x-python",
   "name": "python",
   "nbconvert_exporter": "python",
   "pygments_lexer": "ipython3",
   "version": "3.9.5"
  }
 },
 "nbformat": 4,
 "nbformat_minor": 4
}
