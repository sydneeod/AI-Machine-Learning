{
 "cells": [
  {
   "cell_type": "code",
   "execution_count": 1,
   "metadata": {},
   "outputs": [
    {
     "ename": "ModuleNotFoundError",
     "evalue": "No module named 'util'",
     "output_type": "error",
     "traceback": [
      "\u001b[0;31m---------------------------------------------------------------------------\u001b[0m",
      "\u001b[0;31mModuleNotFoundError\u001b[0m                       Traceback (most recent call last)",
      "\u001b[0;32m/scratch/local/10030393/ipykernel_44306/1335638525.py\u001b[0m in \u001b[0;36m<module>\u001b[0;34m\u001b[0m\n\u001b[1;32m      9\u001b[0m \u001b[0;34m\u001b[0m\u001b[0m\n\u001b[1;32m     10\u001b[0m \u001b[0;34m\u001b[0m\u001b[0m\n\u001b[0;32m---> 11\u001b[0;31m \u001b[0;32mimport\u001b[0m \u001b[0mutil\u001b[0m\u001b[0;34m.\u001b[0m\u001b[0mhdf5lib_param\u001b[0m\u001b[0;34m\u001b[0m\u001b[0;34m\u001b[0m\u001b[0m\n\u001b[0m\u001b[1;32m     12\u001b[0m \u001b[0;32mimport\u001b[0m \u001b[0mutil\u001b[0m\u001b[0;34m.\u001b[0m\u001b[0mhdf5lib\u001b[0m\u001b[0;34m\u001b[0m\u001b[0;34m\u001b[0m\u001b[0m\n\u001b[1;32m     13\u001b[0m \u001b[0;32mimport\u001b[0m \u001b[0mutil\u001b[0m\u001b[0;34m.\u001b[0m\u001b[0mdir\u001b[0m\u001b[0;34m\u001b[0m\u001b[0;34m\u001b[0m\u001b[0m\n",
      "\u001b[0;31mModuleNotFoundError\u001b[0m: No module named 'util'"
     ]
    }
   ],
   "source": [
    "__author__ = \"Paul Torrey\"\n",
    "__copyright__ = \"Copyright 2014, The Authors\"\n",
    "__credits__ = [\"Paul Torrey\"]\n",
    "__license__ = \"GPL\"\n",
    "__version__ = \"1.0\"\n",
    "__maintainer__ = \"Paul Torrey\"\n",
    "__email__ = \"ptorrey@mit.harvard.edu\"\n",
    "__status__ = \"Beta -- forever.\"\n",
    "\n",
    "\n",
    "import util.hdf5lib_param  \n",
    "import util.hdf5lib \n",
    "import util.dir\n"
   ]
  },
  {
   "cell_type": "code",
   "execution_count": 2,
   "metadata": {},
   "outputs": [
    {
     "name": "stdout",
     "output_type": "stream",
     "text": [
      "Defaulting to user installation because normal site-packages is not writeable\n",
      "\u001b[31mERROR: Could not find a version that satisfies the requirement util (from versions: none)\u001b[0m\n",
      "\u001b[31mERROR: No matching distribution found for util\u001b[0m\n"
     ]
    }
   ],
   "source": [
    "!pip install util"
   ]
  },
  {
   "cell_type": "code",
   "execution_count": 3,
   "metadata": {},
   "outputs": [
    {
     "ename": "ModuleNotFoundError",
     "evalue": "No module named 'plotting'",
     "output_type": "error",
     "traceback": [
      "\u001b[0;31m---------------------------------------------------------------------------\u001b[0m",
      "\u001b[0;31mModuleNotFoundError\u001b[0m                       Traceback (most recent call last)",
      "\u001b[0;32m/scratch/local/10030393/ipykernel_44306/2524681435.py\u001b[0m in \u001b[0;36m<module>\u001b[0;34m\u001b[0m\n\u001b[0;32m----> 1\u001b[0;31m \u001b[0;32mimport\u001b[0m \u001b[0mplotting\u001b[0m\u001b[0;34m.\u001b[0m\u001b[0mimages\u001b[0m\u001b[0;34m.\u001b[0m\u001b[0mcontour_makepic\u001b[0m\u001b[0;34m\u001b[0m\u001b[0;34m\u001b[0m\u001b[0m\n\u001b[0m",
      "\u001b[0;31mModuleNotFoundError\u001b[0m: No module named 'plotting'"
     ]
    }
   ],
   "source": [
    "import plotting.images.contour_makepic"
   ]
  },
  {
   "cell_type": "code",
   "execution_count": 5,
   "metadata": {},
   "outputs": [
    {
     "name": "stdout",
     "output_type": "stream",
     "text": [
      "Defaulting to user installation because normal site-packages is not writeable\n",
      "\u001b[31mERROR: Could not find a version that satisfies the requirement simread (from versions: none)\u001b[0m\n",
      "\u001b[31mERROR: No matching distribution found for simread\u001b[0m\n"
     ]
    }
   ],
   "source": [
    "!pip install simread\n"
   ]
  },
  {
   "cell_type": "code",
   "execution_count": 6,
   "metadata": {},
   "outputs": [
    {
     "ename": "ModuleNotFoundError",
     "evalue": "No module named 'simread'",
     "output_type": "error",
     "traceback": [
      "\u001b[0;31m---------------------------------------------------------------------------\u001b[0m",
      "\u001b[0;31mModuleNotFoundError\u001b[0m                       Traceback (most recent call last)",
      "\u001b[0;32m/scratch/local/10030393/ipykernel_44306/4240502131.py\u001b[0m in \u001b[0;36m<module>\u001b[0;34m\u001b[0m\n\u001b[0;32m----> 1\u001b[0;31m \u001b[0;32mimport\u001b[0m \u001b[0msimread\u001b[0m\u001b[0;34m.\u001b[0m\u001b[0mreadhaloHDF5\u001b[0m\u001b[0;34m\u001b[0m\u001b[0;34m\u001b[0m\u001b[0m\n\u001b[0m\u001b[1;32m      2\u001b[0m \u001b[0;32mimport\u001b[0m \u001b[0msimread\u001b[0m\u001b[0;34m.\u001b[0m\u001b[0mreadidsHDF5\u001b[0m\u001b[0;34m\u001b[0m\u001b[0;34m\u001b[0m\u001b[0m\n\u001b[1;32m      3\u001b[0m \u001b[0;32mimport\u001b[0m \u001b[0msimread\u001b[0m\u001b[0;34m.\u001b[0m\u001b[0mreadsnapHDF5\u001b[0m\u001b[0;34m\u001b[0m\u001b[0;34m\u001b[0m\u001b[0m\n\u001b[1;32m      4\u001b[0m \u001b[0;32mimport\u001b[0m \u001b[0msimread\u001b[0m\u001b[0;34m.\u001b[0m\u001b[0mreadtreeHDF5\u001b[0m\u001b[0;34m\u001b[0m\u001b[0;34m\u001b[0m\u001b[0m\n\u001b[1;32m      5\u001b[0m \u001b[0;32mimport\u001b[0m \u001b[0msimread\u001b[0m\u001b[0;34m.\u001b[0m\u001b[0mreadsubfHDF5\u001b[0m\u001b[0;34m\u001b[0m\u001b[0;34m\u001b[0m\u001b[0m\n",
      "\u001b[0;31mModuleNotFoundError\u001b[0m: No module named 'simread'"
     ]
    }
   ],
   "source": [
    "import simread.readhaloHDF5\n",
    "import simread.readidsHDF5\n",
    "import simread.readsnapHDF5\n",
    "import simread.readtreeHDF5\n",
    "import simread.readsubfHDF5\n"
   ]
  },
  {
   "cell_type": "code",
   "execution_count": 7,
   "metadata": {},
   "outputs": [
    {
     "ename": "ModuleNotFoundError",
     "evalue": "No module named 'util'",
     "output_type": "error",
     "traceback": [
      "\u001b[0;31m---------------------------------------------------------------------------\u001b[0m",
      "\u001b[0;31mModuleNotFoundError\u001b[0m                       Traceback (most recent call last)",
      "\u001b[0;32m/scratch/local/10030393/ipykernel_44306/1129861415.py\u001b[0m in \u001b[0;36m<module>\u001b[0;34m\u001b[0m\n\u001b[0;32m----> 1\u001b[0;31m \u001b[0;32mimport\u001b[0m \u001b[0mutil\u001b[0m\u001b[0;34m\u001b[0m\u001b[0;34m\u001b[0m\u001b[0m\n\u001b[0m\u001b[1;32m      2\u001b[0m \u001b[0;32mimport\u001b[0m \u001b[0mutil\u001b[0m\u001b[0;34m.\u001b[0m\u001b[0mcast\u001b[0m\u001b[0;34m\u001b[0m\u001b[0;34m\u001b[0m\u001b[0m\n\u001b[1;32m      3\u001b[0m \u001b[0;32mimport\u001b[0m \u001b[0mnumpy\u001b[0m \u001b[0;32mas\u001b[0m \u001b[0mnp\u001b[0m\u001b[0;34m\u001b[0m\u001b[0;34m\u001b[0m\u001b[0m\n\u001b[1;32m      4\u001b[0m \u001b[0;32mimport\u001b[0m \u001b[0mctypes\u001b[0m\u001b[0;34m\u001b[0m\u001b[0;34m\u001b[0m\u001b[0m\n\u001b[1;32m      5\u001b[0m \u001b[0;34m\u001b[0m\u001b[0m\n",
      "\u001b[0;31mModuleNotFoundError\u001b[0m: No module named 'util'"
     ]
    }
   ],
   "source": [
    "import util\n",
    "import util.cast\n",
    "import numpy as np\n",
    "import ctypes\n",
    "\n",
    "\n",
    "def get_particle_hsml( x, y, z, DesNgb=32, Hmax=0. , **kwargs ):\n",
    "    x=util.cast.fcor(x); y=util.cast.fcor(y); z=util.cast.fcor(z); N=util.cast.checklen(x);\n",
    "    ok=(util.cast.ok_scan(x) & util.cast.ok_scan(y) & util.cast.ok_scan(z)); x=x[ok]; y=y[ok]; z=z[ok];\n",
    "    if(Hmax==0.):\n",
    "        dx=np.max(x)-np.min(x); dy=np.max(y)-np.min(y); dz=np.max(z)-np.min(z); ddx=np.max([dx,dy,dz]);\n",
    "        Hmax=5.*ddx*(np.float(N)**(-1./3.)); ## mean inter-particle spacing\n",
    "    \n",
    "    ## load the routine we need\n",
    "    exec_call=util.dir.c_routines_dir()+'/StellarHsml/starhsml.so'\n",
    "    h_routine=ctypes.cdll[exec_call];\n",
    "\n",
    "    h_out_cast=ctypes.c_float*N; H_OUT=h_out_cast();\n",
    "    ## main call to the hsml-finding routine\n",
    "    h_routine.stellarhsml( ctypes.c_int(N),\n",
    "                          util.cast.vfloat(x),\n",
    "                          util.cast.vfloat(y),\n",
    "                          util.cast.vfloat(z),\n",
    "                          ctypes.c_int(DesNgb),\n",
    "                          ctypes.c_float(Hmax),\n",
    "                          ctypes.byref(H_OUT) )\n",
    "        \n",
    "    ## now put the output arrays into a useful format\n",
    "    h = np.ctypeslib.as_array(H_OUT);\n",
    "    return h;\n",
    "\n",
    "\n",
    "def get_gas_density_around_stars( x_gas, y_gas, z_gas, m_gas, x_star, y_star, z_star, DesNgb=32, Hmax=0. , **kwargs ):\n",
    "    \n",
    "    x_gas=util.cast.fcor(x_gas); y_gas=util.cast.fcor(y_gas); z_gas=util.cast.fcor(z_gas);\n",
    "    m_gas=util.cast.fcor(m_gas);\n",
    "    \n",
    "    x_star=util.cast.fcor(x_star); y_star=util.cast.fcor(y_star); z_star=util.cast.fcor(z_star);\n",
    "    N_star=util.cast.checklen(x_star);\n",
    "    \n",
    "    ok=(util.cast.ok_scan(x_gas) & util.cast.ok_scan(y_gas) & util.cast.ok_scan(z_gas) & util.cast.ok_scan(m_gas));\n",
    "    x_gas=x_gas[ok]; y_gas=y_gas[ok]; z_gas=z_gas[ok]; m_gas=m_gas[ok];\n",
    "    N_gas=util.cast.checklen(x_gas);\n",
    "    \n",
    "    \n",
    "    if(Hmax==0.):\n",
    "        dx=np.max(x_gas)-np.min(x_gas); dy=np.max(y_gas)-np.min(y_gas); dz=np.max(z_gas)-np.min(z_gas); ddx=np.max([dx,dy,dz]);\n",
    "        Hmax=5.*ddx*(np.float(N_gas)**(-1./3.)); ## mean inter-particle spacing\n",
    "    \n",
    "    ## load the routine we need\n",
    "    exec_call=util.dir.c_routines_dir()+'/StellarGasDensity/stargasdensity.so'\n",
    "    h_routine=ctypes.cdll[exec_call];\n",
    "\n",
    "    h_out_cast=ctypes.c_float*N_star; H_OUT=h_out_cast();\n",
    "    ## main call to the hsml-finding routine\n",
    "    h_routine.stellargasdensity( ctypes.c_int(N_gas), ctypes.c_int(N_star),\n",
    "                          util.cast.vfloat(x_gas),  util.cast.vfloat(y_gas),    util.cast.vfloat(z_gas), util.cast.vfloat(m_gas),\n",
    "                          util.cast.vfloat(x_star),  util.cast.vfloat(y_star),    util.cast.vfloat(z_star),\n",
    "                          ctypes.c_int(DesNgb),\n",
    "                          ctypes.c_float(Hmax),\n",
    "                          ctypes.byref(H_OUT) )\n",
    "        \n",
    "                          ## now put the output arrays into a useful format\n",
    "    h = np.ctypeslib.as_array(H_OUT);\n",
    "    return h;\n",
    "\n",
    "\n",
    "def get_gas_temperature_around_stars( x_gas, y_gas, z_gas, m_gas, rho_gas, u_gas, x_star, y_star, z_star, DesNgb=32, Hmax=0. , **kwargs ):\n",
    "\n",
    "    x_gas=util.cast.fcor(x_gas); y_gas=util.cast.fcor(y_gas); z_gas=util.cast.fcor(z_gas);\n",
    "    m_gas=util.cast.fcor(m_gas);\n",
    "    rho_gas=util.cast.fcor(rho_gas);\n",
    "    u_gas=util.cast.fcor(u_gas);\n",
    "\n",
    "    x_star=util.cast.fcor(x_star); y_star=util.cast.fcor(y_star); z_star=util.cast.fcor(z_star);\n",
    "    N_star=util.cast.checklen(x_star);\n",
    "\n",
    "    ok=(util.cast.ok_scan(x_gas) & util.cast.ok_scan(y_gas) & util.cast.ok_scan(z_gas) & util.cast.ok_scan(m_gas));\n",
    "    x_gas=x_gas[ok]; y_gas=y_gas[ok]; z_gas=z_gas[ok]; m_gas=m_gas[ok]; rho_gas=rho_gas[ok]; u_gas=u_gas[ok]\n",
    "    N_gas=util.cast.checklen(x_gas);\n",
    "\n",
    "\n",
    "    if(Hmax==0.):\n",
    "        dx=np.max(x_gas)-np.min(x_gas); dy=np.max(y_gas)-np.min(y_gas); dz=np.max(z_gas)-np.min(z_gas); ddx=np.max([dx,dy,dz]);\n",
    "        Hmax=5.*ddx*(np.float(N_gas)**(-1./3.)); ## mean inter-particle spacing\n",
    "\n",
    "    ## load the routine we need\n",
    "    exec_call=util.dir.c_routines_dir()+'/StellarGasTemperature/stargasavg.so'\n",
    "    h_routine=ctypes.cdll[exec_call];\n",
    "\n",
    "    h_out_cast=ctypes.c_float*N_star; H_OUT=h_out_cast();\n",
    "    ## main call to the hsml-finding routine\n",
    "    h_routine.stellargastemperature( ctypes.c_int(N_gas), ctypes.c_int(N_star),\n",
    "                          util.cast.vfloat(x_gas),  util.cast.vfloat(y_gas),    util.cast.vfloat(z_gas), util.cast.vfloat(m_gas), util.cast.vfloat(rho_gas), util.cast.vfloat(u_gas),\n",
    "                          util.cast.vfloat(x_star),  util.cast.vfloat(y_star),    util.cast.vfloat(z_star),\n",
    "                          ctypes.c_int(DesNgb),\n",
    "                          ctypes.c_float(Hmax),\n",
    "                          ctypes.byref(H_OUT) )\n",
    "\n",
    "                          ## now put the output arrays into a useful format\n",
    "    h = np.ctypeslib.as_array(H_OUT);\n",
    "    return h;"
   ]
  },
  {
   "cell_type": "code",
   "execution_count": null,
   "metadata": {},
   "outputs": [],
   "source": []
  }
 ],
 "metadata": {
  "kernelspec": {
   "display_name": "Python 3 (ipykernel)",
   "language": "python",
   "name": "python3"
  },
  "language_info": {
   "codemirror_mode": {
    "name": "ipython",
    "version": 3
   },
   "file_extension": ".py",
   "mimetype": "text/x-python",
   "name": "python",
   "nbconvert_exporter": "python",
   "pygments_lexer": "ipython3",
   "version": "3.8.1"
  }
 },
 "nbformat": 4,
 "nbformat_minor": 4
}
