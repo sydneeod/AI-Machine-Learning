{
 "cells": [
  {
   "cell_type": "code",
   "execution_count": 1,
   "id": "f52b8b93-64c1-46e9-bdea-1c6e8e12656e",
   "metadata": {},
   "outputs": [],
   "source": [
    "import numpy as np\n",
    "import matplotlib.pyplot as plt\n",
    "import pandas as pd\n",
    "import multiprocessing \n",
    "import time\n",
    "import h5py\n",
    "import time\n",
    "from joblib import Parallel, delayed\n",
    "import requests\n",
    "\n",
    "baseUrl = 'http://www.tng-project.org/api/'\n",
    "headers = {\"api-key\":\"f3c97208f4981e63b57bb02c7135912b\"}\n",
    "\n",
    "def get(path, params=None):\n",
    "    # make HTTP GET request to path\n",
    "    r = requests.get(path, params=params, headers=headers)\n",
    "\n",
    "    # raise exception if response code is not HTTP SUCCESS (200)\n",
    "    r.raise_for_status()\n",
    "\n",
    "    if r.headers['content-type'] == 'application/json':\n",
    "        return r.json() # parse json responses automatically\n",
    "    return r\n",
    "\n",
    "r = get(baseUrl)"
   ]
  },
  {
   "cell_type": "code",
   "execution_count": 2,
   "id": "9dc598e0-69dd-4a9f-aae8-768139e6f134",
   "metadata": {},
   "outputs": [],
   "source": [
    "url_z0 = \"http://www.tng-project.org/api/TNG100-1/snapshots/99/subhalos/?limit=10000&offset=0\"\n",
    "subhalos_z0 = get(url_z0)"
   ]
  },
  {
   "cell_type": "code",
   "execution_count": 3,
   "id": "cfb50fdf-2099-4d07-a38f-5d67add9ee9f",
   "metadata": {},
   "outputs": [
    {
     "data": {
      "text/plain": [
       "'http://www.tng-project.org/api/TNG100-1/snapshots/99/subhalos/1/'"
      ]
     },
     "execution_count": 3,
     "metadata": {},
     "output_type": "execute_result"
    }
   ],
   "source": [
    "subhalos_z0['results'][1]['url']"
   ]
  },
  {
   "cell_type": "code",
   "execution_count": 4,
   "id": "4463ae79-9def-40fa-929e-9145b0cf2f0d",
   "metadata": {},
   "outputs": [],
   "source": [
    "#pd.set_option('display.max_columns', None)\n",
    "#data_z0 = pd.DataFrame(sub_z0)\n",
    "#data_z0 = data_z0.drop(['id','snap','bhmdot','cm_x', 'cm_y','cm_z','pos_x','pos_y','pos_z','sfrinhalfrad','sfrinmaxrad', 'sfrinrad',\n",
    "#                  'spin_x','spin_y', 'spin_z', 'prog_snap', 'windmass', 'prog_snap', 'prog_sfid', 'desc_snap','desc_sfid','parent','grnr','primary_flag', \n",
    "#                 'related','cutouts','trees','supplementary_data','vis','meta', 'massinhalfrad','massinhalfrad_gas','massinhalfrad_dm','massinhalfrad_stars',\n",
    "#                'massinhalfrad_bhs','massinmaxrad','massinmaxrad_gas','massinmaxrad_dm','massinmaxrad_stars','massinmaxrad_bhs','massinrad','gasmetallicitysfr',\n",
    "#                'gasmetallicitysfrweighted','gasmetallicityhalfrad','gasmetallicitymaxrad','massinrad_gas','massinrad_dm','massinrad_stars','massinrad_bhs',\n",
    "#                'starmetallicityhalfrad','starmetallicitymaxrad', 'stellarphotometricsrad', 'vel_x','vel_y','vel_z'],axis = 1)\n",
    "#data_z0"
   ]
  },
  {
   "cell_type": "code",
   "execution_count": 8,
   "id": "057cea12-7a60-4637-ae4f-86278a8ea339",
   "metadata": {
    "scrolled": true,
    "tags": []
   },
   "outputs": [],
   "source": [
    "#import math\n",
    "#\n",
    "#sub_z0 = []\n",
    "#tstart = time.time()\n",
    "#\n",
    "#len_sub = 10000\n",
    "#\n",
    "#def func(sub):\n",
    "#    sub.append(get(subhalos_z0['results']))\n",
    "#    return(sub)\n",
    "#\n",
    "#Parallel(n_jobs=2)(delayed(func)(sub_z0) for i in range(len_sub))\n",
    "#print(\"Elapsed Time: {:.2f}s\".format(time.time() - tstart))"
   ]
  },
  {
   "cell_type": "code",
   "execution_count": 23,
   "id": "e76900aa-c2fe-4103-b8da-23e2099e5144",
   "metadata": {
    "collapsed": true,
    "jupyter": {
     "outputs_hidden": true
    },
    "tags": []
   },
   "outputs": [
    {
     "name": "stdout",
     "output_type": "stream",
     "text": [
      "0\n",
      "1\n",
      "2\n",
      "3\n",
      "4\n",
      "5\n",
      "6\n",
      "7\n",
      "8\n",
      "9\n",
      "Elapsed Time: 8.43s\n"
     ]
    }
   ],
   "source": [
    "sub_z0 = [] ## array that contains subhalo information \n",
    "tstart = time.time()\n",
    "\n",
    "len_sub = 10\n",
    "\n",
    "def func(sub):\n",
    "    for i in range(len_sub):\n",
    "        sub.append(get(subhalos_z0['results'][i]['url']))\n",
    "        print(i)\n",
    "    return (sub)\n",
    "\n",
    "func(sub_z0)\n",
    "print(\"Elapsed Time: {:.2f}s\".format(time.time() - tstart))"
   ]
  },
  {
   "cell_type": "code",
   "execution_count": 25,
   "id": "8b9e426c-2b75-48ae-bdb2-1d1ead711f7d",
   "metadata": {},
   "outputs": [
    {
     "ename": "SyntaxError",
     "evalue": "invalid syntax (1628536725.py, line 12)",
     "output_type": "error",
     "traceback": [
      "\u001b[0;36m  File \u001b[0;32m\"/scratch/local/13469618/ipykernel_109057/1628536725.py\"\u001b[0;36m, line \u001b[0;32m12\u001b[0m\n\u001b[0;31m    Parallel((n_jobs=5)func(sub_z0))\u001b[0m\n\u001b[0m                    ^\u001b[0m\n\u001b[0;31mSyntaxError\u001b[0m\u001b[0;31m:\u001b[0m invalid syntax\n"
     ]
    }
   ],
   "source": []
  },
  {
   "cell_type": "code",
   "execution_count": null,
   "id": "f96ab54d-1858-4397-99c5-16cacfc8c7e4",
   "metadata": {},
   "outputs": [],
   "source": []
  }
 ],
 "metadata": {
  "kernelspec": {
   "display_name": "Python 3 (ipykernel)",
   "language": "python",
   "name": "python3"
  },
  "language_info": {
   "codemirror_mode": {
    "name": "ipython",
    "version": 3
   },
   "file_extension": ".py",
   "mimetype": "text/x-python",
   "name": "python",
   "nbconvert_exporter": "python",
   "pygments_lexer": "ipython3",
   "version": "3.8.1"
  }
 },
 "nbformat": 4,
 "nbformat_minor": 5
}
